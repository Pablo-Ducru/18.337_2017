{
 "cells": [
  {
   "cell_type": "markdown",
   "metadata": {},
   "source": [
    "# Julia is fast\n",
    "\n",
    "Very often, benchmarks are used to compare languages.  These benchmarks can lead to long discussions, first as to exactly what is being benchmarked and secondly what explains the differences.  These simple questions can sometimes get more complicated than you at first might imagine.\n",
    "\n",
    "The purpose of this notebook is for you to see a simple benchmark for yourself.  One can read the notebook and see what happened on the author's Macbook Pro with a 4-core Intel Core I7, or run the notebook yourself.\n",
    "\n",
    "(This material began life as a wonderful lecture by Steven Johnson at MIT: https://github.com/stevengj/18S096-iap17/blob/master/lecture1/Boxes-and-registers.ipynb.)"
   ]
  },
  {
   "cell_type": "markdown",
   "metadata": {},
   "source": [
    "# `sum`: An easy enough function to understand"
   ]
  },
  {
   "cell_type": "markdown",
   "metadata": {},
   "source": [
    "Consider the  **sum** function `sum(a)`, which computes\n",
    "$$\n",
    "\\mathrm{sum}(a) = \\sum_{i=1}^n a_i,\n",
    "$$\n",
    "where $n$ is the length of `a`."
   ]
  },
  {
   "cell_type": "code",
   "execution_count": 1,
   "metadata": {
    "scrolled": false
   },
   "outputs": [
    {
     "data": {
      "text/plain": [
       "10000000-element Array{Float64,1}:\n",
       " 0.163297 \n",
       " 0.164901 \n",
       " 0.532111 \n",
       " 0.501901 \n",
       " 0.0376145\n",
       " 0.0488199\n",
       " 0.542558 \n",
       " 0.192136 \n",
       " 0.879948 \n",
       " 0.986637 \n",
       " 0.180139 \n",
       " 0.830658 \n",
       " 0.191671 \n",
       " ⋮        \n",
       " 0.499127 \n",
       " 0.581069 \n",
       " 0.799562 \n",
       " 0.118247 \n",
       " 0.823342 \n",
       " 0.54661  \n",
       " 0.356779 \n",
       " 0.71062  \n",
       " 0.927918 \n",
       " 0.696941 \n",
       " 0.925042 \n",
       " 0.356295 "
      ]
     },
     "execution_count": 1,
     "metadata": {},
     "output_type": "execute_result"
    }
   ],
   "source": [
    "a = rand(10^7) # 1D vector of random numbers, uniform on [0,1)"
   ]
  },
  {
   "cell_type": "code",
   "execution_count": 2,
   "metadata": {},
   "outputs": [
    {
     "name": "stdout",
     "output_type": "stream",
     "text": [
      "  0.042413 seconds (9.81 k allocations: 557.658 KiB)\n",
      "  0.007059 seconds (5 allocations: 176 bytes)\n",
      "  0.008914 seconds (5 allocations: 176 bytes)\n"
     ]
    },
    {
     "data": {
      "text/plain": [
       "5.001651836916013e6"
      ]
     },
     "execution_count": 2,
     "metadata": {},
     "output_type": "execute_result"
    }
   ],
   "source": [
    "@time sum(a)\n",
    "\n",
    "@time sum(a)\n",
    "\n",
    "@time sum(a)\n"
   ]
  },
  {
   "cell_type": "markdown",
   "metadata": {},
   "source": [
    "The expected result is 0.5 * 10^7, since the mean of each entry is 0.5"
   ]
  },
  {
   "cell_type": "markdown",
   "metadata": {},
   "source": [
    "# Benchmarking a few ways in a few languages"
   ]
  },
  {
   "cell_type": "markdown",
   "metadata": {},
   "source": [
    "Julia has a `BenchmarkTools.jl` package for easy and accurate benchmarking:"
   ]
  },
  {
   "cell_type": "code",
   "execution_count": 4,
   "metadata": {
    "collapsed": true,
    "scrolled": true
   },
   "outputs": [],
   "source": [
    "#Pkg.add(\"BenchmarkTools\")"
   ]
  },
  {
   "cell_type": "code",
   "execution_count": 5,
   "metadata": {
    "scrolled": false
   },
   "outputs": [
    {
     "name": "stderr",
     "output_type": "stream",
     "text": [
      "\u001b[1m\u001b[36mINFO: \u001b[39m\u001b[22m\u001b[36mRecompiling stale cache file /Users/alanedelman/.julia/lib/v0.6/JLD.ji for module JLD.\n",
      "\u001b[39m"
     ]
    }
   ],
   "source": [
    "using BenchmarkTools  "
   ]
  },
  {
   "cell_type": "markdown",
   "metadata": {},
   "source": [
    "#  1. The C language\n",
    "\n",
    "C is often considered the gold standard: difficult on the human, nice for the machine. Getting within a factor of 2 of C is often satisfying. Nonetheless, even within C, there are many kinds of optimizations possible that a naive C writer may or may not get the advantage of.\n",
    "\n",
    "The current author does not speak C, so he does not read the cell below, but is happy to know that you can put C code in a Julia session, compile it, and run it. Note that the `\"\"\"` wrap a multi-line string."
   ]
  },
  {
   "cell_type": "code",
   "execution_count": 6,
   "metadata": {
    "scrolled": false
   },
   "outputs": [
    {
     "data": {
      "text/plain": [
       "c_sum (generic function with 1 method)"
      ]
     },
     "execution_count": 6,
     "metadata": {},
     "output_type": "execute_result"
    }
   ],
   "source": [
    "C_code = \"\"\"\n",
    "#include <stddef.h>\n",
    "double c_sum(size_t n, double *X) {\n",
    "    double s = 0.0;\n",
    "    for (size_t i = 0; i < n; ++i) {\n",
    "        s += X[i];\n",
    "    }\n",
    "    return s;\n",
    "}\n",
    "\"\"\"\n",
    "\n",
    "const Clib = tempname()   # make a temporary file\n",
    "\n",
    "\n",
    "# compile to a shared library by piping C_code to gcc\n",
    "# (works only if you have gcc installed):\n",
    "\n",
    "open(`gcc -fPIC -O3 -msse3 -xc -shared -o $(Clib * \".\" * Libdl.dlext) -`, \"w\") do f\n",
    "    print(f, C_code) \n",
    "end\n",
    "\n",
    "# define a Julia function that calls the C function:\n",
    "c_sum(X::Array{Float64}) = ccall((\"c_sum\", Clib), Float64, (Csize_t, Ptr{Float64}), length(X), X)"
   ]
  },
  {
   "cell_type": "code",
   "execution_count": 7,
   "metadata": {
    "scrolled": false
   },
   "outputs": [
    {
     "data": {
      "text/plain": [
       "5.00165183691499e6"
      ]
     },
     "execution_count": 7,
     "metadata": {},
     "output_type": "execute_result"
    }
   ],
   "source": [
    "c_sum(a)"
   ]
  },
  {
   "cell_type": "code",
   "execution_count": 8,
   "metadata": {},
   "outputs": [
    {
     "data": {
      "text/plain": [
       "π = 3.1415926535897..."
      ]
     },
     "execution_count": 8,
     "metadata": {},
     "output_type": "execute_result"
    }
   ],
   "source": [
    "π"
   ]
  },
  {
   "cell_type": "code",
   "execution_count": 9,
   "metadata": {
    "scrolled": false
   },
   "outputs": [
    {
     "data": {
      "text/plain": [
       "true"
      ]
     },
     "execution_count": 9,
     "metadata": {},
     "output_type": "execute_result"
    }
   ],
   "source": [
    "\n",
    "c_sum(a) ≈ sum(a) # type \\approx and then <TAB> to get the ≈ symbolb"
   ]
  },
  {
   "cell_type": "code",
   "execution_count": 10,
   "metadata": {},
   "outputs": [
    {
     "data": {
      "text/plain": [
       "-1.0225921869277954e-6"
      ]
     },
     "execution_count": 10,
     "metadata": {},
     "output_type": "execute_result"
    }
   ],
   "source": [
    "c_sum(a) - sum(a)"
   ]
  },
  {
   "cell_type": "code",
   "execution_count": 11,
   "metadata": {
    "scrolled": true
   },
   "outputs": [
    {
     "data": {
      "text/plain": [
       "isapprox (generic function with 3 methods)"
      ]
     },
     "execution_count": 11,
     "metadata": {},
     "output_type": "execute_result"
    }
   ],
   "source": [
    "≈  # alias for the `isapprox` function"
   ]
  },
  {
   "cell_type": "code",
   "execution_count": 12,
   "metadata": {
    "scrolled": true
   },
   "outputs": [
    {
     "name": "stdout",
     "output_type": "stream",
     "text": [
      "search: \u001b[1mi\u001b[22m\u001b[1ms\u001b[22m\u001b[1ma\u001b[22m\u001b[1mp\u001b[22m\u001b[1mp\u001b[22m\u001b[1mr\u001b[22m\u001b[1mo\u001b[22m\u001b[1mx\u001b[22m\n",
      "\n"
     ]
    },
    {
     "data": {
      "text/markdown": [
       "```\n",
       "isapprox(x, y; rtol::Real=sqrt(eps), atol::Real=0, nans::Bool=false, norm::Function)\n",
       "```\n",
       "\n",
       "Inexact equality comparison: `true` if `norm(x-y) <= atol + rtol*max(norm(x), norm(y))`. The default `atol` is zero and the default `rtol` depends on the types of `x` and `y`. The keyword argument `nans` determines whether or not NaN values are considered equal (defaults to false).\n",
       "\n",
       "For real or complex floating-point values, `rtol` defaults to `sqrt(eps(typeof(real(x-y))))`. This corresponds to requiring equality of about half of the significand digits. For other types, `rtol` defaults to zero.\n",
       "\n",
       "`x` and `y` may also be arrays of numbers, in which case `norm` defaults to `vecnorm` but may be changed by passing a `norm::Function` keyword argument. (For numbers, `norm` is the same thing as `abs`.) When `x` and `y` are arrays, if `norm(x-y)` is not finite (i.e. `±Inf` or `NaN`), the comparison falls back to checking whether all elements of `x` and `y` are approximately equal component-wise.\n",
       "\n",
       "The binary operator `≈` is equivalent to `isapprox` with the default arguments, and `x ≉ y` is equivalent to `!isapprox(x,y)`.\n",
       "\n",
       "```jldoctest\n",
       "julia> 0.1 ≈ (0.1 - 1e-10)\n",
       "true\n",
       "\n",
       "julia> isapprox(10, 11; atol = 2)\n",
       "true\n",
       "\n",
       "julia> isapprox([10.0^9, 1.0], [10.0^9, 2.0])\n",
       "true\n",
       "```\n"
      ],
      "text/plain": [
       "```\n",
       "isapprox(x, y; rtol::Real=sqrt(eps), atol::Real=0, nans::Bool=false, norm::Function)\n",
       "```\n",
       "\n",
       "Inexact equality comparison: `true` if `norm(x-y) <= atol + rtol*max(norm(x), norm(y))`. The default `atol` is zero and the default `rtol` depends on the types of `x` and `y`. The keyword argument `nans` determines whether or not NaN values are considered equal (defaults to false).\n",
       "\n",
       "For real or complex floating-point values, `rtol` defaults to `sqrt(eps(typeof(real(x-y))))`. This corresponds to requiring equality of about half of the significand digits. For other types, `rtol` defaults to zero.\n",
       "\n",
       "`x` and `y` may also be arrays of numbers, in which case `norm` defaults to `vecnorm` but may be changed by passing a `norm::Function` keyword argument. (For numbers, `norm` is the same thing as `abs`.) When `x` and `y` are arrays, if `norm(x-y)` is not finite (i.e. `±Inf` or `NaN`), the comparison falls back to checking whether all elements of `x` and `y` are approximately equal component-wise.\n",
       "\n",
       "The binary operator `≈` is equivalent to `isapprox` with the default arguments, and `x ≉ y` is equivalent to `!isapprox(x,y)`.\n",
       "\n",
       "```jldoctest\n",
       "julia> 0.1 ≈ (0.1 - 1e-10)\n",
       "true\n",
       "\n",
       "julia> isapprox(10, 11; atol = 2)\n",
       "true\n",
       "\n",
       "julia> isapprox([10.0^9, 1.0], [10.0^9, 2.0])\n",
       "true\n",
       "```\n"
      ]
     },
     "execution_count": 12,
     "metadata": {},
     "output_type": "execute_result"
    }
   ],
   "source": [
    "?isapprox"
   ]
  },
  {
   "cell_type": "markdown",
   "metadata": {},
   "source": [
    "We can now benchmark the C code directly from Julia:"
   ]
  },
  {
   "cell_type": "code",
   "execution_count": 13,
   "metadata": {
    "scrolled": false
   },
   "outputs": [
    {
     "data": {
      "text/plain": [
       "BenchmarkTools.Trial: \n",
       "  memory estimate:  0 bytes\n",
       "  allocs estimate:  0\n",
       "  --------------\n",
       "  minimum time:     8.311 ms (0.00% GC)\n",
       "  median time:      9.039 ms (0.00% GC)\n",
       "  mean time:        9.591 ms (0.00% GC)\n",
       "  maximum time:     13.860 ms (0.00% GC)\n",
       "  --------------\n",
       "  samples:          521\n",
       "  evals/sample:     1"
      ]
     },
     "execution_count": 13,
     "metadata": {},
     "output_type": "execute_result"
    }
   ],
   "source": [
    "c_bench = @benchmark c_sum($a) "
   ]
  },
  {
   "cell_type": "code",
   "execution_count": 14,
   "metadata": {
    "scrolled": false
   },
   "outputs": [
    {
     "name": "stdout",
     "output_type": "stream",
     "text": [
      "C: Fastest time was 8.311182 msec\n"
     ]
    }
   ],
   "source": [
    "println(\"C: Fastest time was $(minimum(c_bench.times) / 1e6) msec\")"
   ]
  },
  {
   "cell_type": "code",
   "execution_count": 15,
   "metadata": {
    "scrolled": true
   },
   "outputs": [
    {
     "data": {
      "text/plain": [
       "Dict{Any,Any} with 1 entry:\n",
       "  \"C\" => 8.31118"
      ]
     },
     "execution_count": 15,
     "metadata": {},
     "output_type": "execute_result"
    }
   ],
   "source": [
    "d = Dict()  # a \"dictionary\", i.e. an associative array\n",
    "d[\"C\"] = minimum(c_bench.times) / 1e6  # in milliseconds\n",
    "d"
   ]
  },
  {
   "cell_type": "code",
   "execution_count": 16,
   "metadata": {
    "scrolled": true
   },
   "outputs": [
    {
     "name": "stderr",
     "output_type": "stream",
     "text": [
      "\u001b[1m\u001b[36mINFO: \u001b[39m\u001b[22m\u001b[36mRecompiling stale cache file /Users/alanedelman/.julia/lib/v0.6/GR.ji for module GR.\n",
      "\u001b[39m"
     ]
    },
    {
     "data": {
      "text/plain": [
       "Plots.GRBackend()"
      ]
     },
     "execution_count": 16,
     "metadata": {},
     "output_type": "execute_result"
    }
   ],
   "source": [
    "using Plots\n",
    "gr()"
   ]
  },
  {
   "cell_type": "code",
   "execution_count": 17,
   "metadata": {
    "scrolled": true
   },
   "outputs": [
    {
     "data": {
      "text/html": [
       "<?xml version=\"1.0\" encoding=\"utf-8\"?>\n",
       "<svg xmlns=\"http://www.w3.org/2000/svg\" xmlns:xlink=\"http://www.w3.org/1999/xlink\" width=\"600\" height=\"400\" viewBox=\"0 0 600 400\">\n",
       "<defs>\n",
       "  <clipPath id=\"clip00\">\n",
       "    <rect x=\"0\" y=\"0\" width=\"600\" height=\"400\"/>\n",
       "  </clipPath>\n",
       "</defs>\n",
       "<polygon clip-path=\"url(#clip00)\" points=\"\n",
       "0,400 600,400 600,0 0,0 \n",
       "  \" fill=\"#ffffff\" fill-opacity=\"1\"/>\n",
       "<defs>\n",
       "  <clipPath id=\"clip01\">\n",
       "    <rect x=\"120\" y=\"0\" width=\"421\" height=\"400\"/>\n",
       "  </clipPath>\n",
       "</defs>\n",
       "<polygon clip-path=\"url(#clip00)\" points=\"\n",
       "44.6753,360.065 580.315,360.065 580.315,11.811 44.6753,11.811 \n",
       "  \" fill=\"#ffffff\" fill-opacity=\"1\"/>\n",
       "<defs>\n",
       "  <clipPath id=\"clip02\">\n",
       "    <rect x=\"44\" y=\"11\" width=\"537\" height=\"349\"/>\n",
       "  </clipPath>\n",
       "</defs>\n",
       "<polyline clip-path=\"url(#clip02)\" style=\"stroke:#000000; stroke-width:0.5; stroke-opacity:0.1; fill:none\" points=\"\n",
       "  135.09,354.842 135.09,17.0348 \n",
       "  \"/>\n",
       "<polyline clip-path=\"url(#clip02)\" style=\"stroke:#000000; stroke-width:0.5; stroke-opacity:0.1; fill:none\" points=\"\n",
       "  362.471,354.842 362.471,17.0348 \n",
       "  \"/>\n",
       "<polyline clip-path=\"url(#clip02)\" style=\"stroke:#000000; stroke-width:0.5; stroke-opacity:0.1; fill:none\" points=\"\n",
       "  52.7099,360.065 572.28,360.065 \n",
       "  \"/>\n",
       "<polyline clip-path=\"url(#clip02)\" style=\"stroke:#000000; stroke-width:0.5; stroke-opacity:0.1; fill:none\" points=\"\n",
       "  52.7099,251.236 572.28,251.236 \n",
       "  \"/>\n",
       "<polyline clip-path=\"url(#clip02)\" style=\"stroke:#000000; stroke-width:0.5; stroke-opacity:0.1; fill:none\" points=\"\n",
       "  52.7099,142.406 572.28,142.406 \n",
       "  \"/>\n",
       "<polyline clip-path=\"url(#clip02)\" style=\"stroke:#000000; stroke-width:0.5; stroke-opacity:0.1; fill:none\" points=\"\n",
       "  52.7099,33.5769 572.28,33.5769 \n",
       "  \"/>\n",
       "<polyline clip-path=\"url(#clip00)\" style=\"stroke:#000000; stroke-width:1; stroke-opacity:1; fill:none\" points=\"\n",
       "  44.6753,360.065 580.315,360.065 \n",
       "  \"/>\n",
       "<polyline clip-path=\"url(#clip00)\" style=\"stroke:#000000; stroke-width:1; stroke-opacity:1; fill:none\" points=\"\n",
       "  135.09,360.065 135.09,354.842 \n",
       "  \"/>\n",
       "<polyline clip-path=\"url(#clip00)\" style=\"stroke:#000000; stroke-width:1; stroke-opacity:1; fill:none\" points=\"\n",
       "  362.471,360.065 362.471,354.842 \n",
       "  \"/>\n",
       "<polyline clip-path=\"url(#clip00)\" style=\"stroke:#000000; stroke-width:1; stroke-opacity:1; fill:none\" points=\"\n",
       "  44.6753,360.065 44.6753,11.811 \n",
       "  \"/>\n",
       "<polyline clip-path=\"url(#clip00)\" style=\"stroke:#000000; stroke-width:1; stroke-opacity:1; fill:none\" points=\"\n",
       "  44.6753,360.065 52.7099,360.065 \n",
       "  \"/>\n",
       "<polyline clip-path=\"url(#clip00)\" style=\"stroke:#000000; stroke-width:1; stroke-opacity:1; fill:none\" points=\"\n",
       "  44.6753,251.236 52.7099,251.236 \n",
       "  \"/>\n",
       "<polyline clip-path=\"url(#clip00)\" style=\"stroke:#000000; stroke-width:1; stroke-opacity:1; fill:none\" points=\"\n",
       "  44.6753,142.406 52.7099,142.406 \n",
       "  \"/>\n",
       "<polyline clip-path=\"url(#clip00)\" style=\"stroke:#000000; stroke-width:1; stroke-opacity:1; fill:none\" points=\"\n",
       "  44.6753,33.5769 52.7099,33.5769 \n",
       "  \"/>\n",
       "<g clip-path=\"url(#clip00)\">\n",
       "<text style=\"fill:#000000; fill-opacity:1; font-family:Arial,Helvetica Neue,Helvetica,sans-serif; font-size:12; text-anchor:middle;\" transform=\"rotate(0, 135.09, 373.865)\" x=\"135.09\" y=\"373.865\">8.5</text>\n",
       "</g>\n",
       "<g clip-path=\"url(#clip00)\">\n",
       "<text style=\"fill:#000000; fill-opacity:1; font-family:Arial,Helvetica Neue,Helvetica,sans-serif; font-size:12; text-anchor:middle;\" transform=\"rotate(0, 362.471, 373.865)\" x=\"362.471\" y=\"373.865\">9.0</text>\n",
       "</g>\n",
       "<g clip-path=\"url(#clip00)\">\n",
       "<text style=\"fill:#000000; fill-opacity:1; font-family:Arial,Helvetica Neue,Helvetica,sans-serif; font-size:12; text-anchor:end;\" transform=\"rotate(0, 38.6753, 364.565)\" x=\"38.6753\" y=\"364.565\">0</text>\n",
       "</g>\n",
       "<g clip-path=\"url(#clip00)\">\n",
       "<text style=\"fill:#000000; fill-opacity:1; font-family:Arial,Helvetica Neue,Helvetica,sans-serif; font-size:12; text-anchor:end;\" transform=\"rotate(0, 38.6753, 255.736)\" x=\"38.6753\" y=\"255.736\">5</text>\n",
       "</g>\n",
       "<g clip-path=\"url(#clip00)\">\n",
       "<text style=\"fill:#000000; fill-opacity:1; font-family:Arial,Helvetica Neue,Helvetica,sans-serif; font-size:12; text-anchor:end;\" transform=\"rotate(0, 38.6753, 146.906)\" x=\"38.6753\" y=\"146.906\">10</text>\n",
       "</g>\n",
       "<g clip-path=\"url(#clip00)\">\n",
       "<text style=\"fill:#000000; fill-opacity:1; font-family:Arial,Helvetica Neue,Helvetica,sans-serif; font-size:12; text-anchor:end;\" transform=\"rotate(0, 38.6753, 38.0769)\" x=\"38.6753\" y=\"38.0769\">15</text>\n",
       "</g>\n",
       "<g clip-path=\"url(#clip00)\">\n",
       "<text style=\"fill:#000000; fill-opacity:1; font-family:Arial,Helvetica Neue,Helvetica,sans-serif; font-size:16; text-anchor:middle;\" transform=\"rotate(0, 312.495, 397.6)\" x=\"312.495\" y=\"397.6\">milliseconds</text>\n",
       "</g>\n",
       "<g clip-path=\"url(#clip00)\">\n",
       "<text style=\"fill:#000000; fill-opacity:1; font-family:Arial,Helvetica Neue,Helvetica,sans-serif; font-size:16; text-anchor:middle;\" transform=\"rotate(-90, 14.4, 185.938)\" x=\"14.4\" y=\"185.938\">count</text>\n",
       "</g>\n",
       "<polygon clip-path=\"url(#clip02)\" points=\"\n",
       "44.1378,338.3 44.1378,360.065 53.233,360.065 53.233,338.3 44.1378,338.3 44.1378,338.3 \n",
       "  \" fill=\"#009af9\" fill-opacity=\"1\"/>\n",
       "<polyline clip-path=\"url(#clip02)\" style=\"stroke:#000000; stroke-width:1; stroke-opacity:1; fill:none\" points=\"\n",
       "  44.1378,338.3 44.1378,360.065 53.233,360.065 53.233,338.3 44.1378,338.3 \n",
       "  \"/>\n",
       "<polygon clip-path=\"url(#clip02)\" points=\"\n",
       "53.233,360.065 53.233,360.065 62.3283,360.065 62.3283,360.065 53.233,360.065 53.233,360.065 \n",
       "  \" fill=\"#009af9\" fill-opacity=\"1\"/>\n",
       "<polyline clip-path=\"url(#clip02)\" style=\"stroke:#000000; stroke-width:1; stroke-opacity:1; fill:none\" points=\"\n",
       "  53.233,360.065 53.233,360.065 62.3283,360.065 53.233,360.065 \n",
       "  \"/>\n",
       "<polygon clip-path=\"url(#clip02)\" points=\"\n",
       "62.3283,360.065 62.3283,360.065 71.4235,360.065 71.4235,360.065 62.3283,360.065 62.3283,360.065 \n",
       "  \" fill=\"#009af9\" fill-opacity=\"1\"/>\n",
       "<polyline clip-path=\"url(#clip02)\" style=\"stroke:#000000; stroke-width:1; stroke-opacity:1; fill:none\" points=\"\n",
       "  62.3283,360.065 62.3283,360.065 71.4235,360.065 62.3283,360.065 \n",
       "  \"/>\n",
       "<polygon clip-path=\"url(#clip02)\" points=\"\n",
       "71.4235,360.065 71.4235,360.065 80.5187,360.065 80.5187,360.065 71.4235,360.065 71.4235,360.065 \n",
       "  \" fill=\"#009af9\" fill-opacity=\"1\"/>\n",
       "<polyline clip-path=\"url(#clip02)\" style=\"stroke:#000000; stroke-width:1; stroke-opacity:1; fill:none\" points=\"\n",
       "  71.4235,360.065 71.4235,360.065 80.5187,360.065 71.4235,360.065 \n",
       "  \"/>\n",
       "<polygon clip-path=\"url(#clip02)\" points=\"\n",
       "80.5187,316.534 80.5187,360.065 89.6139,360.065 89.6139,316.534 80.5187,316.534 80.5187,316.534 \n",
       "  \" fill=\"#009af9\" fill-opacity=\"1\"/>\n",
       "<polyline clip-path=\"url(#clip02)\" style=\"stroke:#000000; stroke-width:1; stroke-opacity:1; fill:none\" points=\"\n",
       "  80.5187,316.534 80.5187,360.065 89.6139,360.065 89.6139,316.534 80.5187,316.534 \n",
       "  \"/>\n",
       "<polygon clip-path=\"url(#clip02)\" points=\"\n",
       "89.6139,294.768 89.6139,360.065 98.7092,360.065 98.7092,294.768 89.6139,294.768 89.6139,294.768 \n",
       "  \" fill=\"#009af9\" fill-opacity=\"1\"/>\n",
       "<polyline clip-path=\"url(#clip02)\" style=\"stroke:#000000; stroke-width:1; stroke-opacity:1; fill:none\" points=\"\n",
       "  89.6139,294.768 89.6139,360.065 98.7092,360.065 98.7092,294.768 89.6139,294.768 \n",
       "  \"/>\n",
       "<polygon clip-path=\"url(#clip02)\" points=\"\n",
       "98.7092,316.534 98.7092,360.065 107.804,360.065 107.804,316.534 98.7092,316.534 98.7092,316.534 \n",
       "  \" fill=\"#009af9\" fill-opacity=\"1\"/>\n",
       "<polyline clip-path=\"url(#clip02)\" style=\"stroke:#000000; stroke-width:1; stroke-opacity:1; fill:none\" points=\"\n",
       "  98.7092,316.534 98.7092,360.065 107.804,360.065 107.804,316.534 98.7092,316.534 \n",
       "  \"/>\n",
       "<polygon clip-path=\"url(#clip02)\" points=\"\n",
       "107.804,273.002 107.804,360.065 116.9,360.065 116.9,273.002 107.804,273.002 107.804,273.002 \n",
       "  \" fill=\"#009af9\" fill-opacity=\"1\"/>\n",
       "<polyline clip-path=\"url(#clip02)\" style=\"stroke:#000000; stroke-width:1; stroke-opacity:1; fill:none\" points=\"\n",
       "  107.804,273.002 107.804,360.065 116.9,360.065 116.9,273.002 107.804,273.002 \n",
       "  \"/>\n",
       "<polygon clip-path=\"url(#clip02)\" points=\"\n",
       "116.9,294.768 116.9,360.065 125.995,360.065 125.995,294.768 116.9,294.768 116.9,294.768 \n",
       "  \" fill=\"#009af9\" fill-opacity=\"1\"/>\n",
       "<polyline clip-path=\"url(#clip02)\" style=\"stroke:#000000; stroke-width:1; stroke-opacity:1; fill:none\" points=\"\n",
       "  116.9,294.768 116.9,360.065 125.995,360.065 125.995,294.768 116.9,294.768 \n",
       "  \"/>\n",
       "<polygon clip-path=\"url(#clip02)\" points=\"\n",
       "125.995,338.3 125.995,360.065 135.09,360.065 135.09,338.3 125.995,338.3 125.995,338.3 \n",
       "  \" fill=\"#009af9\" fill-opacity=\"1\"/>\n",
       "<polyline clip-path=\"url(#clip02)\" style=\"stroke:#000000; stroke-width:1; stroke-opacity:1; fill:none\" points=\"\n",
       "  125.995,338.3 125.995,360.065 135.09,360.065 135.09,338.3 125.995,338.3 \n",
       "  \"/>\n",
       "<polygon clip-path=\"url(#clip02)\" points=\"\n",
       "135.09,273.002 135.09,360.065 144.185,360.065 144.185,273.002 135.09,273.002 135.09,273.002 \n",
       "  \" fill=\"#009af9\" fill-opacity=\"1\"/>\n",
       "<polyline clip-path=\"url(#clip02)\" style=\"stroke:#000000; stroke-width:1; stroke-opacity:1; fill:none\" points=\"\n",
       "  135.09,273.002 135.09,360.065 144.185,360.065 144.185,273.002 135.09,273.002 \n",
       "  \"/>\n",
       "<polygon clip-path=\"url(#clip02)\" points=\"\n",
       "144.185,251.236 144.185,360.065 153.281,360.065 153.281,251.236 144.185,251.236 144.185,251.236 \n",
       "  \" fill=\"#009af9\" fill-opacity=\"1\"/>\n",
       "<polyline clip-path=\"url(#clip02)\" style=\"stroke:#000000; stroke-width:1; stroke-opacity:1; fill:none\" points=\"\n",
       "  144.185,251.236 144.185,360.065 153.281,360.065 153.281,251.236 144.185,251.236 \n",
       "  \"/>\n",
       "<polygon clip-path=\"url(#clip02)\" points=\"\n",
       "153.281,142.406 153.281,360.065 162.376,360.065 162.376,142.406 153.281,142.406 153.281,142.406 \n",
       "  \" fill=\"#009af9\" fill-opacity=\"1\"/>\n",
       "<polyline clip-path=\"url(#clip02)\" style=\"stroke:#000000; stroke-width:1; stroke-opacity:1; fill:none\" points=\"\n",
       "  153.281,142.406 153.281,360.065 162.376,360.065 162.376,142.406 153.281,142.406 \n",
       "  \"/>\n",
       "<polygon clip-path=\"url(#clip02)\" points=\"\n",
       "162.376,33.5769 162.376,360.065 171.471,360.065 171.471,33.5769 162.376,33.5769 162.376,33.5769 \n",
       "  \" fill=\"#009af9\" fill-opacity=\"1\"/>\n",
       "<polyline clip-path=\"url(#clip02)\" style=\"stroke:#000000; stroke-width:1; stroke-opacity:1; fill:none\" points=\"\n",
       "  162.376,33.5769 162.376,360.065 171.471,360.065 171.471,33.5769 162.376,33.5769 \n",
       "  \"/>\n",
       "<polygon clip-path=\"url(#clip02)\" points=\"\n",
       "171.471,207.704 171.471,360.065 180.566,360.065 180.566,207.704 171.471,207.704 171.471,207.704 \n",
       "  \" fill=\"#009af9\" fill-opacity=\"1\"/>\n",
       "<polyline clip-path=\"url(#clip02)\" style=\"stroke:#000000; stroke-width:1; stroke-opacity:1; fill:none\" points=\"\n",
       "  171.471,207.704 171.471,360.065 180.566,360.065 180.566,207.704 171.471,207.704 \n",
       "  \"/>\n",
       "<polygon clip-path=\"url(#clip02)\" points=\"\n",
       "180.566,120.641 180.566,360.065 189.661,360.065 189.661,120.641 180.566,120.641 180.566,120.641 \n",
       "  \" fill=\"#009af9\" fill-opacity=\"1\"/>\n",
       "<polyline clip-path=\"url(#clip02)\" style=\"stroke:#000000; stroke-width:1; stroke-opacity:1; fill:none\" points=\"\n",
       "  180.566,120.641 180.566,360.065 189.661,360.065 189.661,120.641 180.566,120.641 \n",
       "  \"/>\n",
       "<polygon clip-path=\"url(#clip02)\" points=\"\n",
       "189.661,207.704 189.661,360.065 198.757,360.065 198.757,207.704 189.661,207.704 189.661,207.704 \n",
       "  \" fill=\"#009af9\" fill-opacity=\"1\"/>\n",
       "<polyline clip-path=\"url(#clip02)\" style=\"stroke:#000000; stroke-width:1; stroke-opacity:1; fill:none\" points=\"\n",
       "  189.661,207.704 189.661,360.065 198.757,360.065 198.757,207.704 189.661,207.704 \n",
       "  \"/>\n",
       "<polygon clip-path=\"url(#clip02)\" points=\"\n",
       "198.757,98.8746 198.757,360.065 207.852,360.065 207.852,98.8746 198.757,98.8746 198.757,98.8746 \n",
       "  \" fill=\"#009af9\" fill-opacity=\"1\"/>\n",
       "<polyline clip-path=\"url(#clip02)\" style=\"stroke:#000000; stroke-width:1; stroke-opacity:1; fill:none\" points=\"\n",
       "  198.757,98.8746 198.757,360.065 207.852,360.065 207.852,98.8746 198.757,98.8746 \n",
       "  \"/>\n",
       "<polygon clip-path=\"url(#clip02)\" points=\"\n",
       "207.852,77.1087 207.852,360.065 216.947,360.065 216.947,77.1087 207.852,77.1087 207.852,77.1087 \n",
       "  \" fill=\"#009af9\" fill-opacity=\"1\"/>\n",
       "<polyline clip-path=\"url(#clip02)\" style=\"stroke:#000000; stroke-width:1; stroke-opacity:1; fill:none\" points=\"\n",
       "  207.852,77.1087 207.852,360.065 216.947,360.065 216.947,77.1087 207.852,77.1087 \n",
       "  \"/>\n",
       "<polygon clip-path=\"url(#clip02)\" points=\"\n",
       "216.947,33.5769 216.947,360.065 226.042,360.065 226.042,33.5769 216.947,33.5769 216.947,33.5769 \n",
       "  \" fill=\"#009af9\" fill-opacity=\"1\"/>\n",
       "<polyline clip-path=\"url(#clip02)\" style=\"stroke:#000000; stroke-width:1; stroke-opacity:1; fill:none\" points=\"\n",
       "  216.947,33.5769 216.947,360.065 226.042,360.065 226.042,33.5769 216.947,33.5769 \n",
       "  \"/>\n",
       "<polygon clip-path=\"url(#clip02)\" points=\"\n",
       "226.042,251.236 226.042,360.065 235.138,360.065 235.138,251.236 226.042,251.236 226.042,251.236 \n",
       "  \" fill=\"#009af9\" fill-opacity=\"1\"/>\n",
       "<polyline clip-path=\"url(#clip02)\" style=\"stroke:#000000; stroke-width:1; stroke-opacity:1; fill:none\" points=\"\n",
       "  226.042,251.236 226.042,360.065 235.138,360.065 235.138,251.236 226.042,251.236 \n",
       "  \"/>\n",
       "<polygon clip-path=\"url(#clip02)\" points=\"\n",
       "235.138,33.5769 235.138,360.065 244.233,360.065 244.233,33.5769 235.138,33.5769 235.138,33.5769 \n",
       "  \" fill=\"#009af9\" fill-opacity=\"1\"/>\n",
       "<polyline clip-path=\"url(#clip02)\" style=\"stroke:#000000; stroke-width:1; stroke-opacity:1; fill:none\" points=\"\n",
       "  235.138,33.5769 235.138,360.065 244.233,360.065 244.233,33.5769 235.138,33.5769 \n",
       "  \"/>\n",
       "<polygon clip-path=\"url(#clip02)\" points=\"\n",
       "244.233,11.811 244.233,360.065 253.328,360.065 253.328,11.811 244.233,11.811 244.233,11.811 \n",
       "  \" fill=\"#009af9\" fill-opacity=\"1\"/>\n",
       "<polyline clip-path=\"url(#clip02)\" style=\"stroke:#000000; stroke-width:1; stroke-opacity:1; fill:none\" points=\"\n",
       "  244.233,11.811 244.233,360.065 253.328,360.065 253.328,11.811 244.233,11.811 \n",
       "  \"/>\n",
       "<polygon clip-path=\"url(#clip02)\" points=\"\n",
       "253.328,120.641 253.328,360.065 262.423,360.065 262.423,120.641 253.328,120.641 253.328,120.641 \n",
       "  \" fill=\"#009af9\" fill-opacity=\"1\"/>\n",
       "<polyline clip-path=\"url(#clip02)\" style=\"stroke:#000000; stroke-width:1; stroke-opacity:1; fill:none\" points=\"\n",
       "  253.328,120.641 253.328,360.065 262.423,360.065 262.423,120.641 253.328,120.641 \n",
       "  \"/>\n",
       "<polygon clip-path=\"url(#clip02)\" points=\"\n",
       "262.423,164.172 262.423,360.065 271.518,360.065 271.518,164.172 262.423,164.172 262.423,164.172 \n",
       "  \" fill=\"#009af9\" fill-opacity=\"1\"/>\n",
       "<polyline clip-path=\"url(#clip02)\" style=\"stroke:#000000; stroke-width:1; stroke-opacity:1; fill:none\" points=\"\n",
       "  262.423,164.172 262.423,360.065 271.518,360.065 271.518,164.172 262.423,164.172 \n",
       "  \"/>\n",
       "<polygon clip-path=\"url(#clip02)\" points=\"\n",
       "271.518,142.406 271.518,360.065 280.614,360.065 280.614,142.406 271.518,142.406 271.518,142.406 \n",
       "  \" fill=\"#009af9\" fill-opacity=\"1\"/>\n",
       "<polyline clip-path=\"url(#clip02)\" style=\"stroke:#000000; stroke-width:1; stroke-opacity:1; fill:none\" points=\"\n",
       "  271.518,142.406 271.518,360.065 280.614,360.065 280.614,142.406 271.518,142.406 \n",
       "  \"/>\n",
       "<polygon clip-path=\"url(#clip02)\" points=\"\n",
       "280.614,164.172 280.614,360.065 289.709,360.065 289.709,164.172 280.614,164.172 280.614,164.172 \n",
       "  \" fill=\"#009af9\" fill-opacity=\"1\"/>\n",
       "<polyline clip-path=\"url(#clip02)\" style=\"stroke:#000000; stroke-width:1; stroke-opacity:1; fill:none\" points=\"\n",
       "  280.614,164.172 280.614,360.065 289.709,360.065 289.709,164.172 280.614,164.172 \n",
       "  \"/>\n",
       "<polygon clip-path=\"url(#clip02)\" points=\"\n",
       "289.709,294.768 289.709,360.065 298.804,360.065 298.804,294.768 289.709,294.768 289.709,294.768 \n",
       "  \" fill=\"#009af9\" fill-opacity=\"1\"/>\n",
       "<polyline clip-path=\"url(#clip02)\" style=\"stroke:#000000; stroke-width:1; stroke-opacity:1; fill:none\" points=\"\n",
       "  289.709,294.768 289.709,360.065 298.804,360.065 298.804,294.768 289.709,294.768 \n",
       "  \"/>\n",
       "<polygon clip-path=\"url(#clip02)\" points=\"\n",
       "298.804,207.704 298.804,360.065 307.899,360.065 307.899,207.704 298.804,207.704 298.804,207.704 \n",
       "  \" fill=\"#009af9\" fill-opacity=\"1\"/>\n",
       "<polyline clip-path=\"url(#clip02)\" style=\"stroke:#000000; stroke-width:1; stroke-opacity:1; fill:none\" points=\"\n",
       "  298.804,207.704 298.804,360.065 307.899,360.065 307.899,207.704 298.804,207.704 \n",
       "  \"/>\n",
       "<polygon clip-path=\"url(#clip02)\" points=\"\n",
       "307.899,98.8746 307.899,360.065 316.995,360.065 316.995,98.8746 307.899,98.8746 307.899,98.8746 \n",
       "  \" fill=\"#009af9\" fill-opacity=\"1\"/>\n",
       "<polyline clip-path=\"url(#clip02)\" style=\"stroke:#000000; stroke-width:1; stroke-opacity:1; fill:none\" points=\"\n",
       "  307.899,98.8746 307.899,360.065 316.995,360.065 316.995,98.8746 307.899,98.8746 \n",
       "  \"/>\n",
       "<polygon clip-path=\"url(#clip02)\" points=\"\n",
       "316.995,142.406 316.995,360.065 326.09,360.065 326.09,142.406 316.995,142.406 316.995,142.406 \n",
       "  \" fill=\"#009af9\" fill-opacity=\"1\"/>\n",
       "<polyline clip-path=\"url(#clip02)\" style=\"stroke:#000000; stroke-width:1; stroke-opacity:1; fill:none\" points=\"\n",
       "  316.995,142.406 316.995,360.065 326.09,360.065 326.09,142.406 316.995,142.406 \n",
       "  \"/>\n",
       "<polygon clip-path=\"url(#clip02)\" points=\"\n",
       "326.09,273.002 326.09,360.065 335.185,360.065 335.185,273.002 326.09,273.002 326.09,273.002 \n",
       "  \" fill=\"#009af9\" fill-opacity=\"1\"/>\n",
       "<polyline clip-path=\"url(#clip02)\" style=\"stroke:#000000; stroke-width:1; stroke-opacity:1; fill:none\" points=\"\n",
       "  326.09,273.002 326.09,360.065 335.185,360.065 335.185,273.002 326.09,273.002 \n",
       "  \"/>\n",
       "<polygon clip-path=\"url(#clip02)\" points=\"\n",
       "335.185,142.406 335.185,360.065 344.28,360.065 344.28,142.406 335.185,142.406 335.185,142.406 \n",
       "  \" fill=\"#009af9\" fill-opacity=\"1\"/>\n",
       "<polyline clip-path=\"url(#clip02)\" style=\"stroke:#000000; stroke-width:1; stroke-opacity:1; fill:none\" points=\"\n",
       "  335.185,142.406 335.185,360.065 344.28,360.065 344.28,142.406 335.185,142.406 \n",
       "  \"/>\n",
       "<polygon clip-path=\"url(#clip02)\" points=\"\n",
       "344.28,185.938 344.28,360.065 353.376,360.065 353.376,185.938 344.28,185.938 344.28,185.938 \n",
       "  \" fill=\"#009af9\" fill-opacity=\"1\"/>\n",
       "<polyline clip-path=\"url(#clip02)\" style=\"stroke:#000000; stroke-width:1; stroke-opacity:1; fill:none\" points=\"\n",
       "  344.28,185.938 344.28,360.065 353.376,360.065 353.376,185.938 344.28,185.938 \n",
       "  \"/>\n",
       "<polygon clip-path=\"url(#clip02)\" points=\"\n",
       "353.376,207.704 353.376,360.065 362.471,360.065 362.471,207.704 353.376,207.704 353.376,207.704 \n",
       "  \" fill=\"#009af9\" fill-opacity=\"1\"/>\n",
       "<polyline clip-path=\"url(#clip02)\" style=\"stroke:#000000; stroke-width:1; stroke-opacity:1; fill:none\" points=\"\n",
       "  353.376,207.704 353.376,360.065 362.471,360.065 362.471,207.704 353.376,207.704 \n",
       "  \"/>\n",
       "<polygon clip-path=\"url(#clip02)\" points=\"\n",
       "362.471,229.47 362.471,360.065 371.566,360.065 371.566,229.47 362.471,229.47 362.471,229.47 \n",
       "  \" fill=\"#009af9\" fill-opacity=\"1\"/>\n",
       "<polyline clip-path=\"url(#clip02)\" style=\"stroke:#000000; stroke-width:1; stroke-opacity:1; fill:none\" points=\"\n",
       "  362.471,229.47 362.471,360.065 371.566,360.065 371.566,229.47 362.471,229.47 \n",
       "  \"/>\n",
       "<polygon clip-path=\"url(#clip02)\" points=\"\n",
       "371.566,273.002 371.566,360.065 380.661,360.065 380.661,273.002 371.566,273.002 371.566,273.002 \n",
       "  \" fill=\"#009af9\" fill-opacity=\"1\"/>\n",
       "<polyline clip-path=\"url(#clip02)\" style=\"stroke:#000000; stroke-width:1; stroke-opacity:1; fill:none\" points=\"\n",
       "  371.566,273.002 371.566,360.065 380.661,360.065 380.661,273.002 371.566,273.002 \n",
       "  \"/>\n",
       "<polygon clip-path=\"url(#clip02)\" points=\"\n",
       "380.661,294.768 380.661,360.065 389.756,360.065 389.756,294.768 380.661,294.768 380.661,294.768 \n",
       "  \" fill=\"#009af9\" fill-opacity=\"1\"/>\n",
       "<polyline clip-path=\"url(#clip02)\" style=\"stroke:#000000; stroke-width:1; stroke-opacity:1; fill:none\" points=\"\n",
       "  380.661,294.768 380.661,360.065 389.756,360.065 389.756,294.768 380.661,294.768 \n",
       "  \"/>\n",
       "<polygon clip-path=\"url(#clip02)\" points=\"\n",
       "389.756,207.704 389.756,360.065 398.852,360.065 398.852,207.704 389.756,207.704 389.756,207.704 \n",
       "  \" fill=\"#009af9\" fill-opacity=\"1\"/>\n",
       "<polyline clip-path=\"url(#clip02)\" style=\"stroke:#000000; stroke-width:1; stroke-opacity:1; fill:none\" points=\"\n",
       "  389.756,207.704 389.756,360.065 398.852,360.065 398.852,207.704 389.756,207.704 \n",
       "  \"/>\n",
       "<polygon clip-path=\"url(#clip02)\" points=\"\n",
       "398.852,164.172 398.852,360.065 407.947,360.065 407.947,164.172 398.852,164.172 398.852,164.172 \n",
       "  \" fill=\"#009af9\" fill-opacity=\"1\"/>\n",
       "<polyline clip-path=\"url(#clip02)\" style=\"stroke:#000000; stroke-width:1; stroke-opacity:1; fill:none\" points=\"\n",
       "  398.852,164.172 398.852,360.065 407.947,360.065 407.947,164.172 398.852,164.172 \n",
       "  \"/>\n",
       "<polygon clip-path=\"url(#clip02)\" points=\"\n",
       "407.947,316.534 407.947,360.065 417.042,360.065 417.042,316.534 407.947,316.534 407.947,316.534 \n",
       "  \" fill=\"#009af9\" fill-opacity=\"1\"/>\n",
       "<polyline clip-path=\"url(#clip02)\" style=\"stroke:#000000; stroke-width:1; stroke-opacity:1; fill:none\" points=\"\n",
       "  407.947,316.534 407.947,360.065 417.042,360.065 417.042,316.534 407.947,316.534 \n",
       "  \"/>\n",
       "<polygon clip-path=\"url(#clip02)\" points=\"\n",
       "417.042,273.002 417.042,360.065 426.137,360.065 426.137,273.002 417.042,273.002 417.042,273.002 \n",
       "  \" fill=\"#009af9\" fill-opacity=\"1\"/>\n",
       "<polyline clip-path=\"url(#clip02)\" style=\"stroke:#000000; stroke-width:1; stroke-opacity:1; fill:none\" points=\"\n",
       "  417.042,273.002 417.042,360.065 426.137,360.065 426.137,273.002 417.042,273.002 \n",
       "  \"/>\n",
       "<polygon clip-path=\"url(#clip02)\" points=\"\n",
       "426.137,251.236 426.137,360.065 435.233,360.065 435.233,251.236 426.137,251.236 426.137,251.236 \n",
       "  \" fill=\"#009af9\" fill-opacity=\"1\"/>\n",
       "<polyline clip-path=\"url(#clip02)\" style=\"stroke:#000000; stroke-width:1; stroke-opacity:1; fill:none\" points=\"\n",
       "  426.137,251.236 426.137,360.065 435.233,360.065 435.233,251.236 426.137,251.236 \n",
       "  \"/>\n",
       "<polygon clip-path=\"url(#clip02)\" points=\"\n",
       "435.233,316.534 435.233,360.065 444.328,360.065 444.328,316.534 435.233,316.534 435.233,316.534 \n",
       "  \" fill=\"#009af9\" fill-opacity=\"1\"/>\n",
       "<polyline clip-path=\"url(#clip02)\" style=\"stroke:#000000; stroke-width:1; stroke-opacity:1; fill:none\" points=\"\n",
       "  435.233,316.534 435.233,360.065 444.328,360.065 444.328,316.534 435.233,316.534 \n",
       "  \"/>\n",
       "<polygon clip-path=\"url(#clip02)\" points=\"\n",
       "444.328,338.3 444.328,360.065 453.423,360.065 453.423,338.3 444.328,338.3 444.328,338.3 \n",
       "  \" fill=\"#009af9\" fill-opacity=\"1\"/>\n",
       "<polyline clip-path=\"url(#clip02)\" style=\"stroke:#000000; stroke-width:1; stroke-opacity:1; fill:none\" points=\"\n",
       "  444.328,338.3 444.328,360.065 453.423,360.065 453.423,338.3 444.328,338.3 \n",
       "  \"/>\n",
       "<polygon clip-path=\"url(#clip02)\" points=\"\n",
       "453.423,207.704 453.423,360.065 462.518,360.065 462.518,207.704 453.423,207.704 453.423,207.704 \n",
       "  \" fill=\"#009af9\" fill-opacity=\"1\"/>\n",
       "<polyline clip-path=\"url(#clip02)\" style=\"stroke:#000000; stroke-width:1; stroke-opacity:1; fill:none\" points=\"\n",
       "  453.423,207.704 453.423,360.065 462.518,360.065 462.518,207.704 453.423,207.704 \n",
       "  \"/>\n",
       "<polygon clip-path=\"url(#clip02)\" points=\"\n",
       "462.518,273.002 462.518,360.065 471.614,360.065 471.614,273.002 462.518,273.002 462.518,273.002 \n",
       "  \" fill=\"#009af9\" fill-opacity=\"1\"/>\n",
       "<polyline clip-path=\"url(#clip02)\" style=\"stroke:#000000; stroke-width:1; stroke-opacity:1; fill:none\" points=\"\n",
       "  462.518,273.002 462.518,360.065 471.614,360.065 471.614,273.002 462.518,273.002 \n",
       "  \"/>\n",
       "<polygon clip-path=\"url(#clip02)\" points=\"\n",
       "471.614,229.47 471.614,360.065 480.709,360.065 480.709,229.47 471.614,229.47 471.614,229.47 \n",
       "  \" fill=\"#009af9\" fill-opacity=\"1\"/>\n",
       "<polyline clip-path=\"url(#clip02)\" style=\"stroke:#000000; stroke-width:1; stroke-opacity:1; fill:none\" points=\"\n",
       "  471.614,229.47 471.614,360.065 480.709,360.065 480.709,229.47 471.614,229.47 \n",
       "  \"/>\n",
       "<polygon clip-path=\"url(#clip02)\" points=\"\n",
       "480.709,294.768 480.709,360.065 489.804,360.065 489.804,294.768 480.709,294.768 480.709,294.768 \n",
       "  \" fill=\"#009af9\" fill-opacity=\"1\"/>\n",
       "<polyline clip-path=\"url(#clip02)\" style=\"stroke:#000000; stroke-width:1; stroke-opacity:1; fill:none\" points=\"\n",
       "  480.709,294.768 480.709,360.065 489.804,360.065 489.804,294.768 480.709,294.768 \n",
       "  \"/>\n",
       "<polygon clip-path=\"url(#clip02)\" points=\"\n",
       "489.804,316.534 489.804,360.065 498.899,360.065 498.899,316.534 489.804,316.534 489.804,316.534 \n",
       "  \" fill=\"#009af9\" fill-opacity=\"1\"/>\n",
       "<polyline clip-path=\"url(#clip02)\" style=\"stroke:#000000; stroke-width:1; stroke-opacity:1; fill:none\" points=\"\n",
       "  489.804,316.534 489.804,360.065 498.899,360.065 498.899,316.534 489.804,316.534 \n",
       "  \"/>\n",
       "<polygon clip-path=\"url(#clip02)\" points=\"\n",
       "498.899,338.3 498.899,360.065 507.994,360.065 507.994,338.3 498.899,338.3 498.899,338.3 \n",
       "  \" fill=\"#009af9\" fill-opacity=\"1\"/>\n",
       "<polyline clip-path=\"url(#clip02)\" style=\"stroke:#000000; stroke-width:1; stroke-opacity:1; fill:none\" points=\"\n",
       "  498.899,338.3 498.899,360.065 507.994,360.065 507.994,338.3 498.899,338.3 \n",
       "  \"/>\n",
       "<polygon clip-path=\"url(#clip02)\" points=\"\n",
       "507.994,294.768 507.994,360.065 517.09,360.065 517.09,294.768 507.994,294.768 507.994,294.768 \n",
       "  \" fill=\"#009af9\" fill-opacity=\"1\"/>\n",
       "<polyline clip-path=\"url(#clip02)\" style=\"stroke:#000000; stroke-width:1; stroke-opacity:1; fill:none\" points=\"\n",
       "  507.994,294.768 507.994,360.065 517.09,360.065 517.09,294.768 507.994,294.768 \n",
       "  \"/>\n",
       "<polygon clip-path=\"url(#clip02)\" points=\"\n",
       "517.09,316.534 517.09,360.065 526.185,360.065 526.185,316.534 517.09,316.534 517.09,316.534 \n",
       "  \" fill=\"#009af9\" fill-opacity=\"1\"/>\n",
       "<polyline clip-path=\"url(#clip02)\" style=\"stroke:#000000; stroke-width:1; stroke-opacity:1; fill:none\" points=\"\n",
       "  517.09,316.534 517.09,360.065 526.185,360.065 526.185,316.534 517.09,316.534 \n",
       "  \"/>\n",
       "<polygon clip-path=\"url(#clip02)\" points=\"\n",
       "526.185,360.065 526.185,360.065 535.28,360.065 535.28,360.065 526.185,360.065 526.185,360.065 \n",
       "  \" fill=\"#009af9\" fill-opacity=\"1\"/>\n",
       "<polyline clip-path=\"url(#clip02)\" style=\"stroke:#000000; stroke-width:1; stroke-opacity:1; fill:none\" points=\"\n",
       "  526.185,360.065 526.185,360.065 535.28,360.065 526.185,360.065 \n",
       "  \"/>\n",
       "<polygon clip-path=\"url(#clip02)\" points=\"\n",
       "535.28,294.768 535.28,360.065 544.375,360.065 544.375,294.768 535.28,294.768 535.28,294.768 \n",
       "  \" fill=\"#009af9\" fill-opacity=\"1\"/>\n",
       "<polyline clip-path=\"url(#clip02)\" style=\"stroke:#000000; stroke-width:1; stroke-opacity:1; fill:none\" points=\"\n",
       "  535.28,294.768 535.28,360.065 544.375,360.065 544.375,294.768 535.28,294.768 \n",
       "  \"/>\n",
       "<polygon clip-path=\"url(#clip02)\" points=\"\n",
       "544.375,251.236 544.375,360.065 553.471,360.065 553.471,251.236 544.375,251.236 544.375,251.236 \n",
       "  \" fill=\"#009af9\" fill-opacity=\"1\"/>\n",
       "<polyline clip-path=\"url(#clip02)\" style=\"stroke:#000000; stroke-width:1; stroke-opacity:1; fill:none\" points=\"\n",
       "  544.375,251.236 544.375,360.065 553.471,360.065 553.471,251.236 544.375,251.236 \n",
       "  \"/>\n",
       "<polygon clip-path=\"url(#clip02)\" points=\"\n",
       "553.471,338.3 553.471,360.065 562.566,360.065 562.566,338.3 553.471,338.3 553.471,338.3 \n",
       "  \" fill=\"#009af9\" fill-opacity=\"1\"/>\n",
       "<polyline clip-path=\"url(#clip02)\" style=\"stroke:#000000; stroke-width:1; stroke-opacity:1; fill:none\" points=\"\n",
       "  553.471,338.3 553.471,360.065 562.566,360.065 562.566,338.3 553.471,338.3 \n",
       "  \"/>\n",
       "<polygon clip-path=\"url(#clip02)\" points=\"\n",
       "562.566,338.3 562.566,360.065 571.661,360.065 571.661,338.3 562.566,338.3 562.566,338.3 \n",
       "  \" fill=\"#009af9\" fill-opacity=\"1\"/>\n",
       "<polyline clip-path=\"url(#clip02)\" style=\"stroke:#000000; stroke-width:1; stroke-opacity:1; fill:none\" points=\"\n",
       "  562.566,338.3 562.566,360.065 571.661,360.065 571.661,338.3 562.566,338.3 \n",
       "  \"/>\n",
       "<polygon clip-path=\"url(#clip02)\" points=\"\n",
       "571.661,316.534 571.661,360.065 580.756,360.065 580.756,316.534 571.661,316.534 571.661,316.534 \n",
       "  \" fill=\"#009af9\" fill-opacity=\"1\"/>\n",
       "<polyline clip-path=\"url(#clip02)\" style=\"stroke:#000000; stroke-width:1; stroke-opacity:1; fill:none\" points=\"\n",
       "  571.661,316.534 571.661,360.065 580.756,360.065 580.756,316.534 571.661,316.534 \n",
       "  \"/>\n",
       "<polygon clip-path=\"url(#clip02)\" points=\"\n",
       "580.756,273.002 580.756,360.065 589.851,360.065 589.851,273.002 580.756,273.002 580.756,273.002 \n",
       "  \" fill=\"#009af9\" fill-opacity=\"1\"/>\n",
       "<polyline clip-path=\"url(#clip02)\" style=\"stroke:#000000; stroke-width:1; stroke-opacity:1; fill:none\" points=\"\n",
       "  580.756,273.002 580.756,360.065 589.851,360.065 589.851,273.002 580.756,273.002 \n",
       "  \"/>\n",
       "<polygon clip-path=\"url(#clip02)\" points=\"\n",
       "589.851,360.065 589.851,360.065 598.947,360.065 598.947,360.065 589.851,360.065 589.851,360.065 \n",
       "  \" fill=\"#009af9\" fill-opacity=\"1\"/>\n",
       "<polyline clip-path=\"url(#clip02)\" style=\"stroke:#000000; stroke-width:1; stroke-opacity:1; fill:none\" points=\"\n",
       "  589.851,360.065 589.851,360.065 598.947,360.065 589.851,360.065 \n",
       "  \"/>\n",
       "<polygon clip-path=\"url(#clip02)\" points=\"\n",
       "598.947,338.3 598.947,360.065 608.042,360.065 608.042,338.3 598.947,338.3 598.947,338.3 \n",
       "  \" fill=\"#009af9\" fill-opacity=\"1\"/>\n",
       "<polyline clip-path=\"url(#clip02)\" style=\"stroke:#000000; stroke-width:1; stroke-opacity:1; fill:none\" points=\"\n",
       "  598.947,338.3 598.947,360.065 608.042,360.065 608.042,338.3 598.947,338.3 \n",
       "  \"/>\n",
       "<polygon clip-path=\"url(#clip02)\" points=\"\n",
       "608.042,360.065 608.042,360.065 617.137,360.065 617.137,360.065 608.042,360.065 608.042,360.065 \n",
       "  \" fill=\"#009af9\" fill-opacity=\"1\"/>\n",
       "<polyline clip-path=\"url(#clip02)\" style=\"stroke:#000000; stroke-width:1; stroke-opacity:1; fill:none\" points=\"\n",
       "  608.042,360.065 608.042,360.065 617.137,360.065 608.042,360.065 \n",
       "  \"/>\n",
       "<polygon clip-path=\"url(#clip02)\" points=\"\n",
       "617.137,338.3 617.137,360.065 626.232,360.065 626.232,338.3 617.137,338.3 617.137,338.3 \n",
       "  \" fill=\"#009af9\" fill-opacity=\"1\"/>\n",
       "<polyline clip-path=\"url(#clip02)\" style=\"stroke:#000000; stroke-width:1; stroke-opacity:1; fill:none\" points=\"\n",
       "  617.137,338.3 617.137,360.065 626.232,360.065 626.232,338.3 617.137,338.3 \n",
       "  \"/>\n",
       "<polygon clip-path=\"url(#clip02)\" points=\"\n",
       "626.232,294.768 626.232,360.065 635.328,360.065 635.328,294.768 626.232,294.768 626.232,294.768 \n",
       "  \" fill=\"#009af9\" fill-opacity=\"1\"/>\n",
       "<polyline clip-path=\"url(#clip02)\" style=\"stroke:#000000; stroke-width:1; stroke-opacity:1; fill:none\" points=\"\n",
       "  626.232,294.768 626.232,360.065 635.328,360.065 635.328,294.768 626.232,294.768 \n",
       "  \"/>\n",
       "<polygon clip-path=\"url(#clip02)\" points=\"\n",
       "635.328,360.065 635.328,360.065 644.423,360.065 644.423,360.065 635.328,360.065 635.328,360.065 \n",
       "  \" fill=\"#009af9\" fill-opacity=\"1\"/>\n",
       "<polyline clip-path=\"url(#clip02)\" style=\"stroke:#000000; stroke-width:1; stroke-opacity:1; fill:none\" points=\"\n",
       "  635.328,360.065 635.328,360.065 644.423,360.065 635.328,360.065 \n",
       "  \"/>\n",
       "<polygon clip-path=\"url(#clip02)\" points=\"\n",
       "644.423,338.3 644.423,360.065 653.518,360.065 653.518,338.3 644.423,338.3 644.423,338.3 \n",
       "  \" fill=\"#009af9\" fill-opacity=\"1\"/>\n",
       "<polyline clip-path=\"url(#clip02)\" style=\"stroke:#000000; stroke-width:1; stroke-opacity:1; fill:none\" points=\"\n",
       "  644.423,338.3 644.423,360.065 653.518,360.065 653.518,338.3 644.423,338.3 \n",
       "  \"/>\n",
       "<polygon clip-path=\"url(#clip02)\" points=\"\n",
       "653.518,316.534 653.518,360.065 662.613,360.065 662.613,316.534 653.518,316.534 653.518,316.534 \n",
       "  \" fill=\"#009af9\" fill-opacity=\"1\"/>\n",
       "<polyline clip-path=\"url(#clip02)\" style=\"stroke:#000000; stroke-width:1; stroke-opacity:1; fill:none\" points=\"\n",
       "  653.518,316.534 653.518,360.065 662.613,360.065 662.613,316.534 653.518,316.534 \n",
       "  \"/>\n",
       "<polygon clip-path=\"url(#clip02)\" points=\"\n",
       "662.613,273.002 662.613,360.065 671.709,360.065 671.709,273.002 662.613,273.002 662.613,273.002 \n",
       "  \" fill=\"#009af9\" fill-opacity=\"1\"/>\n",
       "<polyline clip-path=\"url(#clip02)\" style=\"stroke:#000000; stroke-width:1; stroke-opacity:1; fill:none\" points=\"\n",
       "  662.613,273.002 662.613,360.065 671.709,360.065 671.709,273.002 662.613,273.002 \n",
       "  \"/>\n",
       "<polygon clip-path=\"url(#clip02)\" points=\"\n",
       "671.709,316.534 671.709,360.065 680.804,360.065 680.804,316.534 671.709,316.534 671.709,316.534 \n",
       "  \" fill=\"#009af9\" fill-opacity=\"1\"/>\n",
       "<polyline clip-path=\"url(#clip02)\" style=\"stroke:#000000; stroke-width:1; stroke-opacity:1; fill:none\" points=\"\n",
       "  671.709,316.534 671.709,360.065 680.804,360.065 680.804,316.534 671.709,316.534 \n",
       "  \"/>\n",
       "<polygon clip-path=\"url(#clip02)\" points=\"\n",
       "680.804,338.3 680.804,360.065 689.899,360.065 689.899,338.3 680.804,338.3 680.804,338.3 \n",
       "  \" fill=\"#009af9\" fill-opacity=\"1\"/>\n",
       "<polyline clip-path=\"url(#clip02)\" style=\"stroke:#000000; stroke-width:1; stroke-opacity:1; fill:none\" points=\"\n",
       "  680.804,338.3 680.804,360.065 689.899,360.065 689.899,338.3 680.804,338.3 \n",
       "  \"/>\n",
       "<polygon clip-path=\"url(#clip02)\" points=\"\n",
       "689.899,273.002 689.899,360.065 698.994,360.065 698.994,273.002 689.899,273.002 689.899,273.002 \n",
       "  \" fill=\"#009af9\" fill-opacity=\"1\"/>\n",
       "<polyline clip-path=\"url(#clip02)\" style=\"stroke:#000000; stroke-width:1; stroke-opacity:1; fill:none\" points=\"\n",
       "  689.899,273.002 689.899,360.065 698.994,360.065 698.994,273.002 689.899,273.002 \n",
       "  \"/>\n",
       "<polygon clip-path=\"url(#clip02)\" points=\"\n",
       "698.994,338.3 698.994,360.065 708.089,360.065 708.089,338.3 698.994,338.3 698.994,338.3 \n",
       "  \" fill=\"#009af9\" fill-opacity=\"1\"/>\n",
       "<polyline clip-path=\"url(#clip02)\" style=\"stroke:#000000; stroke-width:1; stroke-opacity:1; fill:none\" points=\"\n",
       "  698.994,338.3 698.994,360.065 708.089,360.065 708.089,338.3 698.994,338.3 \n",
       "  \"/>\n",
       "<polygon clip-path=\"url(#clip02)\" points=\"\n",
       "708.089,360.065 708.089,360.065 717.185,360.065 717.185,360.065 708.089,360.065 708.089,360.065 \n",
       "  \" fill=\"#009af9\" fill-opacity=\"1\"/>\n",
       "<polyline clip-path=\"url(#clip02)\" style=\"stroke:#000000; stroke-width:1; stroke-opacity:1; fill:none\" points=\"\n",
       "  708.089,360.065 708.089,360.065 717.185,360.065 708.089,360.065 \n",
       "  \"/>\n",
       "<polygon clip-path=\"url(#clip02)\" points=\"\n",
       "717.185,338.3 717.185,360.065 726.28,360.065 726.28,338.3 717.185,338.3 717.185,338.3 \n",
       "  \" fill=\"#009af9\" fill-opacity=\"1\"/>\n",
       "<polyline clip-path=\"url(#clip02)\" style=\"stroke:#000000; stroke-width:1; stroke-opacity:1; fill:none\" points=\"\n",
       "  717.185,338.3 717.185,360.065 726.28,360.065 726.28,338.3 717.185,338.3 \n",
       "  \"/>\n",
       "<polygon clip-path=\"url(#clip02)\" points=\"\n",
       "726.28,316.534 726.28,360.065 735.375,360.065 735.375,316.534 726.28,316.534 726.28,316.534 \n",
       "  \" fill=\"#009af9\" fill-opacity=\"1\"/>\n",
       "<polyline clip-path=\"url(#clip02)\" style=\"stroke:#000000; stroke-width:1; stroke-opacity:1; fill:none\" points=\"\n",
       "  726.28,316.534 726.28,360.065 735.375,360.065 735.375,316.534 726.28,316.534 \n",
       "  \"/>\n",
       "<polygon clip-path=\"url(#clip02)\" points=\"\n",
       "735.375,316.534 735.375,360.065 744.47,360.065 744.47,316.534 735.375,316.534 735.375,316.534 \n",
       "  \" fill=\"#009af9\" fill-opacity=\"1\"/>\n",
       "<polyline clip-path=\"url(#clip02)\" style=\"stroke:#000000; stroke-width:1; stroke-opacity:1; fill:none\" points=\"\n",
       "  735.375,316.534 735.375,360.065 744.47,360.065 744.47,316.534 735.375,316.534 \n",
       "  \"/>\n",
       "<polygon clip-path=\"url(#clip02)\" points=\"\n",
       "744.47,316.534 744.47,360.065 753.566,360.065 753.566,316.534 744.47,316.534 744.47,316.534 \n",
       "  \" fill=\"#009af9\" fill-opacity=\"1\"/>\n",
       "<polyline clip-path=\"url(#clip02)\" style=\"stroke:#000000; stroke-width:1; stroke-opacity:1; fill:none\" points=\"\n",
       "  744.47,316.534 744.47,360.065 753.566,360.065 753.566,316.534 744.47,316.534 \n",
       "  \"/>\n",
       "<polygon clip-path=\"url(#clip02)\" points=\"\n",
       "753.566,316.534 753.566,360.065 762.661,360.065 762.661,316.534 753.566,316.534 753.566,316.534 \n",
       "  \" fill=\"#009af9\" fill-opacity=\"1\"/>\n",
       "<polyline clip-path=\"url(#clip02)\" style=\"stroke:#000000; stroke-width:1; stroke-opacity:1; fill:none\" points=\"\n",
       "  753.566,316.534 753.566,360.065 762.661,360.065 762.661,316.534 753.566,316.534 \n",
       "  \"/>\n",
       "<polygon clip-path=\"url(#clip02)\" points=\"\n",
       "762.661,360.065 762.661,360.065 771.756,360.065 771.756,360.065 762.661,360.065 762.661,360.065 \n",
       "  \" fill=\"#009af9\" fill-opacity=\"1\"/>\n",
       "<polyline clip-path=\"url(#clip02)\" style=\"stroke:#000000; stroke-width:1; stroke-opacity:1; fill:none\" points=\"\n",
       "  762.661,360.065 762.661,360.065 771.756,360.065 762.661,360.065 \n",
       "  \"/>\n",
       "<polygon clip-path=\"url(#clip02)\" points=\"\n",
       "771.756,360.065 771.756,360.065 780.851,360.065 780.851,360.065 771.756,360.065 771.756,360.065 \n",
       "  \" fill=\"#009af9\" fill-opacity=\"1\"/>\n",
       "<polyline clip-path=\"url(#clip02)\" style=\"stroke:#000000; stroke-width:1; stroke-opacity:1; fill:none\" points=\"\n",
       "  771.756,360.065 771.756,360.065 780.851,360.065 771.756,360.065 \n",
       "  \"/>\n",
       "<polygon clip-path=\"url(#clip02)\" points=\"\n",
       "780.851,316.534 780.851,360.065 789.947,360.065 789.947,316.534 780.851,316.534 780.851,316.534 \n",
       "  \" fill=\"#009af9\" fill-opacity=\"1\"/>\n",
       "<polyline clip-path=\"url(#clip02)\" style=\"stroke:#000000; stroke-width:1; stroke-opacity:1; fill:none\" points=\"\n",
       "  780.851,316.534 780.851,360.065 789.947,360.065 789.947,316.534 780.851,316.534 \n",
       "  \"/>\n",
       "<polygon clip-path=\"url(#clip02)\" points=\"\n",
       "789.947,360.065 789.947,360.065 799.042,360.065 799.042,360.065 789.947,360.065 789.947,360.065 \n",
       "  \" fill=\"#009af9\" fill-opacity=\"1\"/>\n",
       "<polyline clip-path=\"url(#clip02)\" style=\"stroke:#000000; stroke-width:1; stroke-opacity:1; fill:none\" points=\"\n",
       "  789.947,360.065 789.947,360.065 799.042,360.065 789.947,360.065 \n",
       "  \"/>\n",
       "<polygon clip-path=\"url(#clip02)\" points=\"\n",
       "799.042,338.3 799.042,360.065 808.137,360.065 808.137,338.3 799.042,338.3 799.042,338.3 \n",
       "  \" fill=\"#009af9\" fill-opacity=\"1\"/>\n",
       "<polyline clip-path=\"url(#clip02)\" style=\"stroke:#000000; stroke-width:1; stroke-opacity:1; fill:none\" points=\"\n",
       "  799.042,338.3 799.042,360.065 808.137,360.065 808.137,338.3 799.042,338.3 \n",
       "  \"/>\n",
       "<polygon clip-path=\"url(#clip02)\" points=\"\n",
       "808.137,360.065 808.137,360.065 817.232,360.065 817.232,360.065 808.137,360.065 808.137,360.065 \n",
       "  \" fill=\"#009af9\" fill-opacity=\"1\"/>\n",
       "<polyline clip-path=\"url(#clip02)\" style=\"stroke:#000000; stroke-width:1; stroke-opacity:1; fill:none\" points=\"\n",
       "  808.137,360.065 808.137,360.065 817.232,360.065 808.137,360.065 \n",
       "  \"/>\n",
       "<polygon clip-path=\"url(#clip02)\" points=\"\n",
       "817.232,338.3 817.232,360.065 826.327,360.065 826.327,338.3 817.232,338.3 817.232,338.3 \n",
       "  \" fill=\"#009af9\" fill-opacity=\"1\"/>\n",
       "<polyline clip-path=\"url(#clip02)\" style=\"stroke:#000000; stroke-width:1; stroke-opacity:1; fill:none\" points=\"\n",
       "  817.232,338.3 817.232,360.065 826.327,360.065 826.327,338.3 817.232,338.3 \n",
       "  \"/>\n",
       "<polygon clip-path=\"url(#clip02)\" points=\"\n",
       "826.327,316.534 826.327,360.065 835.423,360.065 835.423,316.534 826.327,316.534 826.327,316.534 \n",
       "  \" fill=\"#009af9\" fill-opacity=\"1\"/>\n",
       "<polyline clip-path=\"url(#clip02)\" style=\"stroke:#000000; stroke-width:1; stroke-opacity:1; fill:none\" points=\"\n",
       "  826.327,316.534 826.327,360.065 835.423,360.065 835.423,316.534 826.327,316.534 \n",
       "  \"/>\n",
       "<polygon clip-path=\"url(#clip02)\" points=\"\n",
       "835.423,360.065 835.423,360.065 844.518,360.065 844.518,360.065 835.423,360.065 835.423,360.065 \n",
       "  \" fill=\"#009af9\" fill-opacity=\"1\"/>\n",
       "<polyline clip-path=\"url(#clip02)\" style=\"stroke:#000000; stroke-width:1; stroke-opacity:1; fill:none\" points=\"\n",
       "  835.423,360.065 835.423,360.065 844.518,360.065 835.423,360.065 \n",
       "  \"/>\n",
       "<polygon clip-path=\"url(#clip02)\" points=\"\n",
       "844.518,360.065 844.518,360.065 853.613,360.065 853.613,360.065 844.518,360.065 844.518,360.065 \n",
       "  \" fill=\"#009af9\" fill-opacity=\"1\"/>\n",
       "<polyline clip-path=\"url(#clip02)\" style=\"stroke:#000000; stroke-width:1; stroke-opacity:1; fill:none\" points=\"\n",
       "  844.518,360.065 844.518,360.065 853.613,360.065 844.518,360.065 \n",
       "  \"/>\n",
       "<polygon clip-path=\"url(#clip02)\" points=\"\n",
       "853.613,294.768 853.613,360.065 862.708,360.065 862.708,294.768 853.613,294.768 853.613,294.768 \n",
       "  \" fill=\"#009af9\" fill-opacity=\"1\"/>\n",
       "<polyline clip-path=\"url(#clip02)\" style=\"stroke:#000000; stroke-width:1; stroke-opacity:1; fill:none\" points=\"\n",
       "  853.613,294.768 853.613,360.065 862.708,360.065 862.708,294.768 853.613,294.768 \n",
       "  \"/>\n",
       "<polygon clip-path=\"url(#clip02)\" points=\"\n",
       "862.708,360.065 862.708,360.065 871.804,360.065 871.804,360.065 862.708,360.065 862.708,360.065 \n",
       "  \" fill=\"#009af9\" fill-opacity=\"1\"/>\n",
       "<polyline clip-path=\"url(#clip02)\" style=\"stroke:#000000; stroke-width:1; stroke-opacity:1; fill:none\" points=\"\n",
       "  862.708,360.065 862.708,360.065 871.804,360.065 862.708,360.065 \n",
       "  \"/>\n",
       "<polygon clip-path=\"url(#clip02)\" points=\"\n",
       "871.804,316.534 871.804,360.065 880.899,360.065 880.899,316.534 871.804,316.534 871.804,316.534 \n",
       "  \" fill=\"#009af9\" fill-opacity=\"1\"/>\n",
       "<polyline clip-path=\"url(#clip02)\" style=\"stroke:#000000; stroke-width:1; stroke-opacity:1; fill:none\" points=\"\n",
       "  871.804,316.534 871.804,360.065 880.899,360.065 880.899,316.534 871.804,316.534 \n",
       "  \"/>\n",
       "<polygon clip-path=\"url(#clip02)\" points=\"\n",
       "880.899,294.768 880.899,360.065 889.994,360.065 889.994,294.768 880.899,294.768 880.899,294.768 \n",
       "  \" fill=\"#009af9\" fill-opacity=\"1\"/>\n",
       "<polyline clip-path=\"url(#clip02)\" style=\"stroke:#000000; stroke-width:1; stroke-opacity:1; fill:none\" points=\"\n",
       "  880.899,294.768 880.899,360.065 889.994,360.065 889.994,294.768 880.899,294.768 \n",
       "  \"/>\n",
       "<polygon clip-path=\"url(#clip02)\" points=\"\n",
       "889.994,360.065 889.994,360.065 899.089,360.065 899.089,360.065 889.994,360.065 889.994,360.065 \n",
       "  \" fill=\"#009af9\" fill-opacity=\"1\"/>\n",
       "<polyline clip-path=\"url(#clip02)\" style=\"stroke:#000000; stroke-width:1; stroke-opacity:1; fill:none\" points=\"\n",
       "  889.994,360.065 889.994,360.065 899.089,360.065 889.994,360.065 \n",
       "  \"/>\n",
       "<polygon clip-path=\"url(#clip02)\" points=\"\n",
       "899.089,360.065 899.089,360.065 908.184,360.065 908.184,360.065 899.089,360.065 899.089,360.065 \n",
       "  \" fill=\"#009af9\" fill-opacity=\"1\"/>\n",
       "<polyline clip-path=\"url(#clip02)\" style=\"stroke:#000000; stroke-width:1; stroke-opacity:1; fill:none\" points=\"\n",
       "  899.089,360.065 899.089,360.065 908.184,360.065 899.089,360.065 \n",
       "  \"/>\n",
       "<polygon clip-path=\"url(#clip02)\" points=\"\n",
       "908.184,316.534 908.184,360.065 917.28,360.065 917.28,316.534 908.184,316.534 908.184,316.534 \n",
       "  \" fill=\"#009af9\" fill-opacity=\"1\"/>\n",
       "<polyline clip-path=\"url(#clip02)\" style=\"stroke:#000000; stroke-width:1; stroke-opacity:1; fill:none\" points=\"\n",
       "  908.184,316.534 908.184,360.065 917.28,360.065 917.28,316.534 908.184,316.534 \n",
       "  \"/>\n",
       "<polygon clip-path=\"url(#clip02)\" points=\"\n",
       "917.28,316.534 917.28,360.065 926.375,360.065 926.375,316.534 917.28,316.534 917.28,316.534 \n",
       "  \" fill=\"#009af9\" fill-opacity=\"1\"/>\n",
       "<polyline clip-path=\"url(#clip02)\" style=\"stroke:#000000; stroke-width:1; stroke-opacity:1; fill:none\" points=\"\n",
       "  917.28,316.534 917.28,360.065 926.375,360.065 926.375,316.534 917.28,316.534 \n",
       "  \"/>\n",
       "<polygon clip-path=\"url(#clip02)\" points=\"\n",
       "926.375,338.3 926.375,360.065 935.47,360.065 935.47,338.3 926.375,338.3 926.375,338.3 \n",
       "  \" fill=\"#009af9\" fill-opacity=\"1\"/>\n",
       "<polyline clip-path=\"url(#clip02)\" style=\"stroke:#000000; stroke-width:1; stroke-opacity:1; fill:none\" points=\"\n",
       "  926.375,338.3 926.375,360.065 935.47,360.065 935.47,338.3 926.375,338.3 \n",
       "  \"/>\n",
       "<polygon clip-path=\"url(#clip02)\" points=\"\n",
       "935.47,316.534 935.47,360.065 944.565,360.065 944.565,316.534 935.47,316.534 935.47,316.534 \n",
       "  \" fill=\"#009af9\" fill-opacity=\"1\"/>\n",
       "<polyline clip-path=\"url(#clip02)\" style=\"stroke:#000000; stroke-width:1; stroke-opacity:1; fill:none\" points=\"\n",
       "  935.47,316.534 935.47,360.065 944.565,360.065 944.565,316.534 935.47,316.534 \n",
       "  \"/>\n",
       "<polygon clip-path=\"url(#clip02)\" points=\"\n",
       "944.565,316.534 944.565,360.065 953.661,360.065 953.661,316.534 944.565,316.534 944.565,316.534 \n",
       "  \" fill=\"#009af9\" fill-opacity=\"1\"/>\n",
       "<polyline clip-path=\"url(#clip02)\" style=\"stroke:#000000; stroke-width:1; stroke-opacity:1; fill:none\" points=\"\n",
       "  944.565,316.534 944.565,360.065 953.661,360.065 953.661,316.534 944.565,316.534 \n",
       "  \"/>\n",
       "<polygon clip-path=\"url(#clip02)\" points=\"\n",
       "953.661,360.065 953.661,360.065 962.756,360.065 962.756,360.065 953.661,360.065 953.661,360.065 \n",
       "  \" fill=\"#009af9\" fill-opacity=\"1\"/>\n",
       "<polyline clip-path=\"url(#clip02)\" style=\"stroke:#000000; stroke-width:1; stroke-opacity:1; fill:none\" points=\"\n",
       "  953.661,360.065 953.661,360.065 962.756,360.065 953.661,360.065 \n",
       "  \"/>\n",
       "<polygon clip-path=\"url(#clip02)\" points=\"\n",
       "962.756,338.3 962.756,360.065 971.851,360.065 971.851,338.3 962.756,338.3 962.756,338.3 \n",
       "  \" fill=\"#009af9\" fill-opacity=\"1\"/>\n",
       "<polyline clip-path=\"url(#clip02)\" style=\"stroke:#000000; stroke-width:1; stroke-opacity:1; fill:none\" points=\"\n",
       "  962.756,338.3 962.756,360.065 971.851,360.065 971.851,338.3 962.756,338.3 \n",
       "  \"/>\n",
       "<polygon clip-path=\"url(#clip02)\" points=\"\n",
       "971.851,338.3 971.851,360.065 980.946,360.065 980.946,338.3 971.851,338.3 971.851,338.3 \n",
       "  \" fill=\"#009af9\" fill-opacity=\"1\"/>\n",
       "<polyline clip-path=\"url(#clip02)\" style=\"stroke:#000000; stroke-width:1; stroke-opacity:1; fill:none\" points=\"\n",
       "  971.851,338.3 971.851,360.065 980.946,360.065 980.946,338.3 971.851,338.3 \n",
       "  \"/>\n",
       "<polygon clip-path=\"url(#clip02)\" points=\"\n",
       "980.946,360.065 980.946,360.065 990.042,360.065 990.042,360.065 980.946,360.065 980.946,360.065 \n",
       "  \" fill=\"#009af9\" fill-opacity=\"1\"/>\n",
       "<polyline clip-path=\"url(#clip02)\" style=\"stroke:#000000; stroke-width:1; stroke-opacity:1; fill:none\" points=\"\n",
       "  980.946,360.065 980.946,360.065 990.042,360.065 980.946,360.065 \n",
       "  \"/>\n",
       "<polygon clip-path=\"url(#clip02)\" points=\"\n",
       "990.042,316.534 990.042,360.065 999.137,360.065 999.137,316.534 990.042,316.534 990.042,316.534 \n",
       "  \" fill=\"#009af9\" fill-opacity=\"1\"/>\n",
       "<polyline clip-path=\"url(#clip02)\" style=\"stroke:#000000; stroke-width:1; stroke-opacity:1; fill:none\" points=\"\n",
       "  990.042,316.534 990.042,360.065 999.137,360.065 999.137,316.534 990.042,316.534 \n",
       "  \"/>\n",
       "<polygon clip-path=\"url(#clip02)\" points=\"\n",
       "999.137,338.3 999.137,360.065 1008.23,360.065 1008.23,338.3 999.137,338.3 999.137,338.3 \n",
       "  \" fill=\"#009af9\" fill-opacity=\"1\"/>\n",
       "<polyline clip-path=\"url(#clip02)\" style=\"stroke:#000000; stroke-width:1; stroke-opacity:1; fill:none\" points=\"\n",
       "  999.137,338.3 999.137,360.065 1008.23,360.065 1008.23,338.3 999.137,338.3 \n",
       "  \"/>\n",
       "<polygon clip-path=\"url(#clip02)\" points=\"\n",
       "1008.23,338.3 1008.23,360.065 1017.33,360.065 1017.33,338.3 1008.23,338.3 1008.23,338.3 \n",
       "  \" fill=\"#009af9\" fill-opacity=\"1\"/>\n",
       "<polyline clip-path=\"url(#clip02)\" style=\"stroke:#000000; stroke-width:1; stroke-opacity:1; fill:none\" points=\"\n",
       "  1008.23,338.3 1008.23,360.065 1017.33,360.065 1017.33,338.3 1008.23,338.3 \n",
       "  \"/>\n",
       "<polygon clip-path=\"url(#clip02)\" points=\"\n",
       "1017.33,316.534 1017.33,360.065 1026.42,360.065 1026.42,316.534 1017.33,316.534 1017.33,316.534 \n",
       "  \" fill=\"#009af9\" fill-opacity=\"1\"/>\n",
       "<polyline clip-path=\"url(#clip02)\" style=\"stroke:#000000; stroke-width:1; stroke-opacity:1; fill:none\" points=\"\n",
       "  1017.33,316.534 1017.33,360.065 1026.42,360.065 1026.42,316.534 1017.33,316.534 \n",
       "  \"/>\n",
       "<polygon clip-path=\"url(#clip02)\" points=\"\n",
       "1026.42,294.768 1026.42,360.065 1035.52,360.065 1035.52,294.768 1026.42,294.768 1026.42,294.768 \n",
       "  \" fill=\"#009af9\" fill-opacity=\"1\"/>\n",
       "<polyline clip-path=\"url(#clip02)\" style=\"stroke:#000000; stroke-width:1; stroke-opacity:1; fill:none\" points=\"\n",
       "  1026.42,294.768 1026.42,360.065 1035.52,360.065 1035.52,294.768 1026.42,294.768 \n",
       "  \"/>\n",
       "<polygon clip-path=\"url(#clip02)\" points=\"\n",
       "1035.52,360.065 1035.52,360.065 1044.61,360.065 1044.61,360.065 1035.52,360.065 1035.52,360.065 \n",
       "  \" fill=\"#009af9\" fill-opacity=\"1\"/>\n",
       "<polyline clip-path=\"url(#clip02)\" style=\"stroke:#000000; stroke-width:1; stroke-opacity:1; fill:none\" points=\"\n",
       "  1035.52,360.065 1035.52,360.065 1044.61,360.065 1035.52,360.065 \n",
       "  \"/>\n",
       "<polygon clip-path=\"url(#clip02)\" points=\"\n",
       "1044.61,338.3 1044.61,360.065 1053.71,360.065 1053.71,338.3 1044.61,338.3 1044.61,338.3 \n",
       "  \" fill=\"#009af9\" fill-opacity=\"1\"/>\n",
       "<polyline clip-path=\"url(#clip02)\" style=\"stroke:#000000; stroke-width:1; stroke-opacity:1; fill:none\" points=\"\n",
       "  1044.61,338.3 1044.61,360.065 1053.71,360.065 1053.71,338.3 1044.61,338.3 \n",
       "  \"/>\n",
       "<polygon clip-path=\"url(#clip02)\" points=\"\n",
       "1053.71,273.002 1053.71,360.065 1062.8,360.065 1062.8,273.002 1053.71,273.002 1053.71,273.002 \n",
       "  \" fill=\"#009af9\" fill-opacity=\"1\"/>\n",
       "<polyline clip-path=\"url(#clip02)\" style=\"stroke:#000000; stroke-width:1; stroke-opacity:1; fill:none\" points=\"\n",
       "  1053.71,273.002 1053.71,360.065 1062.8,360.065 1062.8,273.002 1053.71,273.002 \n",
       "  \"/>\n",
       "<polygon clip-path=\"url(#clip02)\" points=\"\n",
       "1062.8,338.3 1062.8,360.065 1071.9,360.065 1071.9,338.3 1062.8,338.3 1062.8,338.3 \n",
       "  \" fill=\"#009af9\" fill-opacity=\"1\"/>\n",
       "<polyline clip-path=\"url(#clip02)\" style=\"stroke:#000000; stroke-width:1; stroke-opacity:1; fill:none\" points=\"\n",
       "  1062.8,338.3 1062.8,360.065 1071.9,360.065 1071.9,338.3 1062.8,338.3 \n",
       "  \"/>\n",
       "<polygon clip-path=\"url(#clip02)\" points=\"\n",
       "1071.9,294.768 1071.9,360.065 1080.99,360.065 1080.99,294.768 1071.9,294.768 1071.9,294.768 \n",
       "  \" fill=\"#009af9\" fill-opacity=\"1\"/>\n",
       "<polyline clip-path=\"url(#clip02)\" style=\"stroke:#000000; stroke-width:1; stroke-opacity:1; fill:none\" points=\"\n",
       "  1071.9,294.768 1071.9,360.065 1080.99,360.065 1080.99,294.768 1071.9,294.768 \n",
       "  \"/>\n",
       "<polygon clip-path=\"url(#clip02)\" points=\"\n",
       "1080.99,316.534 1080.99,360.065 1090.09,360.065 1090.09,316.534 1080.99,316.534 1080.99,316.534 \n",
       "  \" fill=\"#009af9\" fill-opacity=\"1\"/>\n",
       "<polyline clip-path=\"url(#clip02)\" style=\"stroke:#000000; stroke-width:1; stroke-opacity:1; fill:none\" points=\"\n",
       "  1080.99,316.534 1080.99,360.065 1090.09,360.065 1090.09,316.534 1080.99,316.534 \n",
       "  \"/>\n",
       "<polygon clip-path=\"url(#clip02)\" points=\"\n",
       "1090.09,338.3 1090.09,360.065 1099.18,360.065 1099.18,338.3 1090.09,338.3 1090.09,338.3 \n",
       "  \" fill=\"#009af9\" fill-opacity=\"1\"/>\n",
       "<polyline clip-path=\"url(#clip02)\" style=\"stroke:#000000; stroke-width:1; stroke-opacity:1; fill:none\" points=\"\n",
       "  1090.09,338.3 1090.09,360.065 1099.18,360.065 1099.18,338.3 1090.09,338.3 \n",
       "  \"/>\n",
       "<polygon clip-path=\"url(#clip02)\" points=\"\n",
       "1099.18,316.534 1099.18,360.065 1108.28,360.065 1108.28,316.534 1099.18,316.534 1099.18,316.534 \n",
       "  \" fill=\"#009af9\" fill-opacity=\"1\"/>\n",
       "<polyline clip-path=\"url(#clip02)\" style=\"stroke:#000000; stroke-width:1; stroke-opacity:1; fill:none\" points=\"\n",
       "  1099.18,316.534 1099.18,360.065 1108.28,360.065 1108.28,316.534 1099.18,316.534 \n",
       "  \"/>\n",
       "<polygon clip-path=\"url(#clip02)\" points=\"\n",
       "1108.28,338.3 1108.28,360.065 1117.37,360.065 1117.37,338.3 1108.28,338.3 1108.28,338.3 \n",
       "  \" fill=\"#009af9\" fill-opacity=\"1\"/>\n",
       "<polyline clip-path=\"url(#clip02)\" style=\"stroke:#000000; stroke-width:1; stroke-opacity:1; fill:none\" points=\"\n",
       "  1108.28,338.3 1108.28,360.065 1117.37,360.065 1117.37,338.3 1108.28,338.3 \n",
       "  \"/>\n",
       "<polygon clip-path=\"url(#clip02)\" points=\"\n",
       "1117.37,316.534 1117.37,360.065 1126.47,360.065 1126.47,316.534 1117.37,316.534 1117.37,316.534 \n",
       "  \" fill=\"#009af9\" fill-opacity=\"1\"/>\n",
       "<polyline clip-path=\"url(#clip02)\" style=\"stroke:#000000; stroke-width:1; stroke-opacity:1; fill:none\" points=\"\n",
       "  1117.37,316.534 1117.37,360.065 1126.47,360.065 1126.47,316.534 1117.37,316.534 \n",
       "  \"/>\n",
       "<polygon clip-path=\"url(#clip02)\" points=\"\n",
       "1126.47,316.534 1126.47,360.065 1135.57,360.065 1135.57,316.534 1126.47,316.534 1126.47,316.534 \n",
       "  \" fill=\"#009af9\" fill-opacity=\"1\"/>\n",
       "<polyline clip-path=\"url(#clip02)\" style=\"stroke:#000000; stroke-width:1; stroke-opacity:1; fill:none\" points=\"\n",
       "  1126.47,316.534 1126.47,360.065 1135.57,360.065 1135.57,316.534 1126.47,316.534 \n",
       "  \"/>\n",
       "<polygon clip-path=\"url(#clip02)\" points=\"\n",
       "1135.57,316.534 1135.57,360.065 1144.66,360.065 1144.66,316.534 1135.57,316.534 1135.57,316.534 \n",
       "  \" fill=\"#009af9\" fill-opacity=\"1\"/>\n",
       "<polyline clip-path=\"url(#clip02)\" style=\"stroke:#000000; stroke-width:1; stroke-opacity:1; fill:none\" points=\"\n",
       "  1135.57,316.534 1135.57,360.065 1144.66,360.065 1144.66,316.534 1135.57,316.534 \n",
       "  \"/>\n",
       "<polygon clip-path=\"url(#clip02)\" points=\"\n",
       "1144.66,360.065 1144.66,360.065 1153.76,360.065 1153.76,360.065 1144.66,360.065 1144.66,360.065 \n",
       "  \" fill=\"#009af9\" fill-opacity=\"1\"/>\n",
       "<polyline clip-path=\"url(#clip02)\" style=\"stroke:#000000; stroke-width:1; stroke-opacity:1; fill:none\" points=\"\n",
       "  1144.66,360.065 1144.66,360.065 1153.76,360.065 1144.66,360.065 \n",
       "  \"/>\n",
       "<polygon clip-path=\"url(#clip02)\" points=\"\n",
       "1153.76,316.534 1153.76,360.065 1162.85,360.065 1162.85,316.534 1153.76,316.534 1153.76,316.534 \n",
       "  \" fill=\"#009af9\" fill-opacity=\"1\"/>\n",
       "<polyline clip-path=\"url(#clip02)\" style=\"stroke:#000000; stroke-width:1; stroke-opacity:1; fill:none\" points=\"\n",
       "  1153.76,316.534 1153.76,360.065 1162.85,360.065 1162.85,316.534 1153.76,316.534 \n",
       "  \"/>\n",
       "<polygon clip-path=\"url(#clip02)\" points=\"\n",
       "1162.85,316.534 1162.85,360.065 1171.95,360.065 1171.95,316.534 1162.85,316.534 1162.85,316.534 \n",
       "  \" fill=\"#009af9\" fill-opacity=\"1\"/>\n",
       "<polyline clip-path=\"url(#clip02)\" style=\"stroke:#000000; stroke-width:1; stroke-opacity:1; fill:none\" points=\"\n",
       "  1162.85,316.534 1162.85,360.065 1171.95,360.065 1171.95,316.534 1162.85,316.534 \n",
       "  \"/>\n",
       "<polygon clip-path=\"url(#clip02)\" points=\"\n",
       "1171.95,360.065 1171.95,360.065 1181.04,360.065 1181.04,360.065 1171.95,360.065 1171.95,360.065 \n",
       "  \" fill=\"#009af9\" fill-opacity=\"1\"/>\n",
       "<polyline clip-path=\"url(#clip02)\" style=\"stroke:#000000; stroke-width:1; stroke-opacity:1; fill:none\" points=\"\n",
       "  1171.95,360.065 1171.95,360.065 1181.04,360.065 1171.95,360.065 \n",
       "  \"/>\n",
       "<polygon clip-path=\"url(#clip02)\" points=\"\n",
       "1181.04,360.065 1181.04,360.065 1190.14,360.065 1190.14,360.065 1181.04,360.065 1181.04,360.065 \n",
       "  \" fill=\"#009af9\" fill-opacity=\"1\"/>\n",
       "<polyline clip-path=\"url(#clip02)\" style=\"stroke:#000000; stroke-width:1; stroke-opacity:1; fill:none\" points=\"\n",
       "  1181.04,360.065 1181.04,360.065 1190.14,360.065 1181.04,360.065 \n",
       "  \"/>\n",
       "<polygon clip-path=\"url(#clip02)\" points=\"\n",
       "1190.14,338.3 1190.14,360.065 1199.23,360.065 1199.23,338.3 1190.14,338.3 1190.14,338.3 \n",
       "  \" fill=\"#009af9\" fill-opacity=\"1\"/>\n",
       "<polyline clip-path=\"url(#clip02)\" style=\"stroke:#000000; stroke-width:1; stroke-opacity:1; fill:none\" points=\"\n",
       "  1190.14,338.3 1190.14,360.065 1199.23,360.065 1199.23,338.3 1190.14,338.3 \n",
       "  \"/>\n",
       "<polygon clip-path=\"url(#clip02)\" points=\"\n",
       "1199.23,360.065 1199.23,360.065 1208.33,360.065 1208.33,360.065 1199.23,360.065 1199.23,360.065 \n",
       "  \" fill=\"#009af9\" fill-opacity=\"1\"/>\n",
       "<polyline clip-path=\"url(#clip02)\" style=\"stroke:#000000; stroke-width:1; stroke-opacity:1; fill:none\" points=\"\n",
       "  1199.23,360.065 1199.23,360.065 1208.33,360.065 1199.23,360.065 \n",
       "  \"/>\n",
       "<polygon clip-path=\"url(#clip02)\" points=\"\n",
       "1208.33,338.3 1208.33,360.065 1217.42,360.065 1217.42,338.3 1208.33,338.3 1208.33,338.3 \n",
       "  \" fill=\"#009af9\" fill-opacity=\"1\"/>\n",
       "<polyline clip-path=\"url(#clip02)\" style=\"stroke:#000000; stroke-width:1; stroke-opacity:1; fill:none\" points=\"\n",
       "  1208.33,338.3 1208.33,360.065 1217.42,360.065 1217.42,338.3 1208.33,338.3 \n",
       "  \"/>\n",
       "<polygon clip-path=\"url(#clip02)\" points=\"\n",
       "1217.42,316.534 1217.42,360.065 1226.52,360.065 1226.52,316.534 1217.42,316.534 1217.42,316.534 \n",
       "  \" fill=\"#009af9\" fill-opacity=\"1\"/>\n",
       "<polyline clip-path=\"url(#clip02)\" style=\"stroke:#000000; stroke-width:1; stroke-opacity:1; fill:none\" points=\"\n",
       "  1217.42,316.534 1217.42,360.065 1226.52,360.065 1226.52,316.534 1217.42,316.534 \n",
       "  \"/>\n",
       "<polygon clip-path=\"url(#clip02)\" points=\"\n",
       "1226.52,294.768 1226.52,360.065 1235.61,360.065 1235.61,294.768 1226.52,294.768 1226.52,294.768 \n",
       "  \" fill=\"#009af9\" fill-opacity=\"1\"/>\n",
       "<polyline clip-path=\"url(#clip02)\" style=\"stroke:#000000; stroke-width:1; stroke-opacity:1; fill:none\" points=\"\n",
       "  1226.52,294.768 1226.52,360.065 1235.61,360.065 1235.61,294.768 1226.52,294.768 \n",
       "  \"/>\n",
       "<polygon clip-path=\"url(#clip02)\" points=\"\n",
       "1235.61,360.065 1235.61,360.065 1244.71,360.065 1244.71,360.065 1235.61,360.065 1235.61,360.065 \n",
       "  \" fill=\"#009af9\" fill-opacity=\"1\"/>\n",
       "<polyline clip-path=\"url(#clip02)\" style=\"stroke:#000000; stroke-width:1; stroke-opacity:1; fill:none\" points=\"\n",
       "  1235.61,360.065 1235.61,360.065 1244.71,360.065 1235.61,360.065 \n",
       "  \"/>\n",
       "<polygon clip-path=\"url(#clip02)\" points=\"\n",
       "1244.71,316.534 1244.71,360.065 1253.8,360.065 1253.8,316.534 1244.71,316.534 1244.71,316.534 \n",
       "  \" fill=\"#009af9\" fill-opacity=\"1\"/>\n",
       "<polyline clip-path=\"url(#clip02)\" style=\"stroke:#000000; stroke-width:1; stroke-opacity:1; fill:none\" points=\"\n",
       "  1244.71,316.534 1244.71,360.065 1253.8,360.065 1253.8,316.534 1244.71,316.534 \n",
       "  \"/>\n",
       "<polygon clip-path=\"url(#clip02)\" points=\"\n",
       "1253.8,294.768 1253.8,360.065 1262.9,360.065 1262.9,294.768 1253.8,294.768 1253.8,294.768 \n",
       "  \" fill=\"#009af9\" fill-opacity=\"1\"/>\n",
       "<polyline clip-path=\"url(#clip02)\" style=\"stroke:#000000; stroke-width:1; stroke-opacity:1; fill:none\" points=\"\n",
       "  1253.8,294.768 1253.8,360.065 1262.9,360.065 1262.9,294.768 1253.8,294.768 \n",
       "  \"/>\n",
       "<polygon clip-path=\"url(#clip02)\" points=\"\n",
       "1262.9,316.534 1262.9,360.065 1271.99,360.065 1271.99,316.534 1262.9,316.534 1262.9,316.534 \n",
       "  \" fill=\"#009af9\" fill-opacity=\"1\"/>\n",
       "<polyline clip-path=\"url(#clip02)\" style=\"stroke:#000000; stroke-width:1; stroke-opacity:1; fill:none\" points=\"\n",
       "  1262.9,316.534 1262.9,360.065 1271.99,360.065 1271.99,316.534 1262.9,316.534 \n",
       "  \"/>\n",
       "<polygon clip-path=\"url(#clip02)\" points=\"\n",
       "1271.99,316.534 1271.99,360.065 1281.09,360.065 1281.09,316.534 1271.99,316.534 1271.99,316.534 \n",
       "  \" fill=\"#009af9\" fill-opacity=\"1\"/>\n",
       "<polyline clip-path=\"url(#clip02)\" style=\"stroke:#000000; stroke-width:1; stroke-opacity:1; fill:none\" points=\"\n",
       "  1271.99,316.534 1271.99,360.065 1281.09,360.065 1281.09,316.534 1271.99,316.534 \n",
       "  \"/>\n",
       "<polygon clip-path=\"url(#clip02)\" points=\"\n",
       "1281.09,316.534 1281.09,360.065 1290.18,360.065 1290.18,316.534 1281.09,316.534 1281.09,316.534 \n",
       "  \" fill=\"#009af9\" fill-opacity=\"1\"/>\n",
       "<polyline clip-path=\"url(#clip02)\" style=\"stroke:#000000; stroke-width:1; stroke-opacity:1; fill:none\" points=\"\n",
       "  1281.09,316.534 1281.09,360.065 1290.18,360.065 1290.18,316.534 1281.09,316.534 \n",
       "  \"/>\n",
       "<polygon clip-path=\"url(#clip02)\" points=\"\n",
       "1290.18,360.065 1290.18,360.065 1299.28,360.065 1299.28,360.065 1290.18,360.065 1290.18,360.065 \n",
       "  \" fill=\"#009af9\" fill-opacity=\"1\"/>\n",
       "<polyline clip-path=\"url(#clip02)\" style=\"stroke:#000000; stroke-width:1; stroke-opacity:1; fill:none\" points=\"\n",
       "  1290.18,360.065 1290.18,360.065 1299.28,360.065 1290.18,360.065 \n",
       "  \"/>\n",
       "<polygon clip-path=\"url(#clip02)\" points=\"\n",
       "1299.28,316.534 1299.28,360.065 1308.37,360.065 1308.37,316.534 1299.28,316.534 1299.28,316.534 \n",
       "  \" fill=\"#009af9\" fill-opacity=\"1\"/>\n",
       "<polyline clip-path=\"url(#clip02)\" style=\"stroke:#000000; stroke-width:1; stroke-opacity:1; fill:none\" points=\"\n",
       "  1299.28,316.534 1299.28,360.065 1308.37,360.065 1308.37,316.534 1299.28,316.534 \n",
       "  \"/>\n",
       "<polygon clip-path=\"url(#clip02)\" points=\"\n",
       "1308.37,338.3 1308.37,360.065 1317.47,360.065 1317.47,338.3 1308.37,338.3 1308.37,338.3 \n",
       "  \" fill=\"#009af9\" fill-opacity=\"1\"/>\n",
       "<polyline clip-path=\"url(#clip02)\" style=\"stroke:#000000; stroke-width:1; stroke-opacity:1; fill:none\" points=\"\n",
       "  1308.37,338.3 1308.37,360.065 1317.47,360.065 1317.47,338.3 1308.37,338.3 \n",
       "  \"/>\n",
       "<polygon clip-path=\"url(#clip02)\" points=\"\n",
       "1317.47,294.768 1317.47,360.065 1326.56,360.065 1326.56,294.768 1317.47,294.768 1317.47,294.768 \n",
       "  \" fill=\"#009af9\" fill-opacity=\"1\"/>\n",
       "<polyline clip-path=\"url(#clip02)\" style=\"stroke:#000000; stroke-width:1; stroke-opacity:1; fill:none\" points=\"\n",
       "  1317.47,294.768 1317.47,360.065 1326.56,360.065 1326.56,294.768 1317.47,294.768 \n",
       "  \"/>\n",
       "<polygon clip-path=\"url(#clip02)\" points=\"\n",
       "1326.56,338.3 1326.56,360.065 1335.66,360.065 1335.66,338.3 1326.56,338.3 1326.56,338.3 \n",
       "  \" fill=\"#009af9\" fill-opacity=\"1\"/>\n",
       "<polyline clip-path=\"url(#clip02)\" style=\"stroke:#000000; stroke-width:1; stroke-opacity:1; fill:none\" points=\"\n",
       "  1326.56,338.3 1326.56,360.065 1335.66,360.065 1335.66,338.3 1326.56,338.3 \n",
       "  \"/>\n",
       "<polygon clip-path=\"url(#clip02)\" points=\"\n",
       "1335.66,338.3 1335.66,360.065 1344.76,360.065 1344.76,338.3 1335.66,338.3 1335.66,338.3 \n",
       "  \" fill=\"#009af9\" fill-opacity=\"1\"/>\n",
       "<polyline clip-path=\"url(#clip02)\" style=\"stroke:#000000; stroke-width:1; stroke-opacity:1; fill:none\" points=\"\n",
       "  1335.66,338.3 1335.66,360.065 1344.76,360.065 1344.76,338.3 1335.66,338.3 \n",
       "  \"/>\n",
       "<polygon clip-path=\"url(#clip02)\" points=\"\n",
       "1344.76,294.768 1344.76,360.065 1353.85,360.065 1353.85,294.768 1344.76,294.768 1344.76,294.768 \n",
       "  \" fill=\"#009af9\" fill-opacity=\"1\"/>\n",
       "<polyline clip-path=\"url(#clip02)\" style=\"stroke:#000000; stroke-width:1; stroke-opacity:1; fill:none\" points=\"\n",
       "  1344.76,294.768 1344.76,360.065 1353.85,360.065 1353.85,294.768 1344.76,294.768 \n",
       "  \"/>\n",
       "<polygon clip-path=\"url(#clip02)\" points=\"\n",
       "1353.85,316.534 1353.85,360.065 1362.95,360.065 1362.95,316.534 1353.85,316.534 1353.85,316.534 \n",
       "  \" fill=\"#009af9\" fill-opacity=\"1\"/>\n",
       "<polyline clip-path=\"url(#clip02)\" style=\"stroke:#000000; stroke-width:1; stroke-opacity:1; fill:none\" points=\"\n",
       "  1353.85,316.534 1353.85,360.065 1362.95,360.065 1362.95,316.534 1353.85,316.534 \n",
       "  \"/>\n",
       "<polygon clip-path=\"url(#clip02)\" points=\"\n",
       "1362.95,360.065 1362.95,360.065 1372.04,360.065 1372.04,360.065 1362.95,360.065 1362.95,360.065 \n",
       "  \" fill=\"#009af9\" fill-opacity=\"1\"/>\n",
       "<polyline clip-path=\"url(#clip02)\" style=\"stroke:#000000; stroke-width:1; stroke-opacity:1; fill:none\" points=\"\n",
       "  1362.95,360.065 1362.95,360.065 1372.04,360.065 1362.95,360.065 \n",
       "  \"/>\n",
       "<polygon clip-path=\"url(#clip02)\" points=\"\n",
       "1372.04,360.065 1372.04,360.065 1381.14,360.065 1381.14,360.065 1372.04,360.065 1372.04,360.065 \n",
       "  \" fill=\"#009af9\" fill-opacity=\"1\"/>\n",
       "<polyline clip-path=\"url(#clip02)\" style=\"stroke:#000000; stroke-width:1; stroke-opacity:1; fill:none\" points=\"\n",
       "  1372.04,360.065 1372.04,360.065 1381.14,360.065 1372.04,360.065 \n",
       "  \"/>\n",
       "<polygon clip-path=\"url(#clip02)\" points=\"\n",
       "1381.14,338.3 1381.14,360.065 1390.23,360.065 1390.23,338.3 1381.14,338.3 1381.14,338.3 \n",
       "  \" fill=\"#009af9\" fill-opacity=\"1\"/>\n",
       "<polyline clip-path=\"url(#clip02)\" style=\"stroke:#000000; stroke-width:1; stroke-opacity:1; fill:none\" points=\"\n",
       "  1381.14,338.3 1381.14,360.065 1390.23,360.065 1390.23,338.3 1381.14,338.3 \n",
       "  \"/>\n",
       "<polygon clip-path=\"url(#clip02)\" points=\"\n",
       "1390.23,360.065 1390.23,360.065 1399.33,360.065 1399.33,360.065 1390.23,360.065 1390.23,360.065 \n",
       "  \" fill=\"#009af9\" fill-opacity=\"1\"/>\n",
       "<polyline clip-path=\"url(#clip02)\" style=\"stroke:#000000; stroke-width:1; stroke-opacity:1; fill:none\" points=\"\n",
       "  1390.23,360.065 1390.23,360.065 1399.33,360.065 1390.23,360.065 \n",
       "  \"/>\n",
       "<polygon clip-path=\"url(#clip02)\" points=\"\n",
       "1399.33,338.3 1399.33,360.065 1408.42,360.065 1408.42,338.3 1399.33,338.3 1399.33,338.3 \n",
       "  \" fill=\"#009af9\" fill-opacity=\"1\"/>\n",
       "<polyline clip-path=\"url(#clip02)\" style=\"stroke:#000000; stroke-width:1; stroke-opacity:1; fill:none\" points=\"\n",
       "  1399.33,338.3 1399.33,360.065 1408.42,360.065 1408.42,338.3 1399.33,338.3 \n",
       "  \"/>\n",
       "<polygon clip-path=\"url(#clip02)\" points=\"\n",
       "1408.42,338.3 1408.42,360.065 1417.52,360.065 1417.52,338.3 1408.42,338.3 1408.42,338.3 \n",
       "  \" fill=\"#009af9\" fill-opacity=\"1\"/>\n",
       "<polyline clip-path=\"url(#clip02)\" style=\"stroke:#000000; stroke-width:1; stroke-opacity:1; fill:none\" points=\"\n",
       "  1408.42,338.3 1408.42,360.065 1417.52,360.065 1417.52,338.3 1408.42,338.3 \n",
       "  \"/>\n",
       "<polygon clip-path=\"url(#clip02)\" points=\"\n",
       "1417.52,360.065 1417.52,360.065 1426.61,360.065 1426.61,360.065 1417.52,360.065 1417.52,360.065 \n",
       "  \" fill=\"#009af9\" fill-opacity=\"1\"/>\n",
       "<polyline clip-path=\"url(#clip02)\" style=\"stroke:#000000; stroke-width:1; stroke-opacity:1; fill:none\" points=\"\n",
       "  1417.52,360.065 1417.52,360.065 1426.61,360.065 1417.52,360.065 \n",
       "  \"/>\n",
       "<polygon clip-path=\"url(#clip02)\" points=\"\n",
       "1426.61,316.534 1426.61,360.065 1435.71,360.065 1435.71,316.534 1426.61,316.534 1426.61,316.534 \n",
       "  \" fill=\"#009af9\" fill-opacity=\"1\"/>\n",
       "<polyline clip-path=\"url(#clip02)\" style=\"stroke:#000000; stroke-width:1; stroke-opacity:1; fill:none\" points=\"\n",
       "  1426.61,316.534 1426.61,360.065 1435.71,360.065 1435.71,316.534 1426.61,316.534 \n",
       "  \"/>\n",
       "<polygon clip-path=\"url(#clip02)\" points=\"\n",
       "1435.71,294.768 1435.71,360.065 1444.8,360.065 1444.8,294.768 1435.71,294.768 1435.71,294.768 \n",
       "  \" fill=\"#009af9\" fill-opacity=\"1\"/>\n",
       "<polyline clip-path=\"url(#clip02)\" style=\"stroke:#000000; stroke-width:1; stroke-opacity:1; fill:none\" points=\"\n",
       "  1435.71,294.768 1435.71,360.065 1444.8,360.065 1444.8,294.768 1435.71,294.768 \n",
       "  \"/>\n",
       "<polygon clip-path=\"url(#clip02)\" points=\"\n",
       "1444.8,360.065 1444.8,360.065 1453.9,360.065 1453.9,360.065 1444.8,360.065 1444.8,360.065 \n",
       "  \" fill=\"#009af9\" fill-opacity=\"1\"/>\n",
       "<polyline clip-path=\"url(#clip02)\" style=\"stroke:#000000; stroke-width:1; stroke-opacity:1; fill:none\" points=\"\n",
       "  1444.8,360.065 1444.8,360.065 1453.9,360.065 1444.8,360.065 \n",
       "  \"/>\n",
       "<polygon clip-path=\"url(#clip02)\" points=\"\n",
       "1453.9,338.3 1453.9,360.065 1462.99,360.065 1462.99,338.3 1453.9,338.3 1453.9,338.3 \n",
       "  \" fill=\"#009af9\" fill-opacity=\"1\"/>\n",
       "<polyline clip-path=\"url(#clip02)\" style=\"stroke:#000000; stroke-width:1; stroke-opacity:1; fill:none\" points=\"\n",
       "  1453.9,338.3 1453.9,360.065 1462.99,360.065 1462.99,338.3 1453.9,338.3 \n",
       "  \"/>\n",
       "<polygon clip-path=\"url(#clip02)\" points=\"\n",
       "1462.99,360.065 1462.99,360.065 1472.09,360.065 1472.09,360.065 1462.99,360.065 1462.99,360.065 \n",
       "  \" fill=\"#009af9\" fill-opacity=\"1\"/>\n",
       "<polyline clip-path=\"url(#clip02)\" style=\"stroke:#000000; stroke-width:1; stroke-opacity:1; fill:none\" points=\"\n",
       "  1462.99,360.065 1462.99,360.065 1472.09,360.065 1462.99,360.065 \n",
       "  \"/>\n",
       "<polygon clip-path=\"url(#clip02)\" points=\"\n",
       "1472.09,360.065 1472.09,360.065 1481.18,360.065 1481.18,360.065 1472.09,360.065 1472.09,360.065 \n",
       "  \" fill=\"#009af9\" fill-opacity=\"1\"/>\n",
       "<polyline clip-path=\"url(#clip02)\" style=\"stroke:#000000; stroke-width:1; stroke-opacity:1; fill:none\" points=\"\n",
       "  1472.09,360.065 1472.09,360.065 1481.18,360.065 1472.09,360.065 \n",
       "  \"/>\n",
       "<polygon clip-path=\"url(#clip02)\" points=\"\n",
       "1481.18,360.065 1481.18,360.065 1490.28,360.065 1490.28,360.065 1481.18,360.065 1481.18,360.065 \n",
       "  \" fill=\"#009af9\" fill-opacity=\"1\"/>\n",
       "<polyline clip-path=\"url(#clip02)\" style=\"stroke:#000000; stroke-width:1; stroke-opacity:1; fill:none\" points=\"\n",
       "  1481.18,360.065 1481.18,360.065 1490.28,360.065 1481.18,360.065 \n",
       "  \"/>\n",
       "<polygon clip-path=\"url(#clip02)\" points=\"\n",
       "1490.28,360.065 1490.28,360.065 1499.37,360.065 1499.37,360.065 1490.28,360.065 1490.28,360.065 \n",
       "  \" fill=\"#009af9\" fill-opacity=\"1\"/>\n",
       "<polyline clip-path=\"url(#clip02)\" style=\"stroke:#000000; stroke-width:1; stroke-opacity:1; fill:none\" points=\"\n",
       "  1490.28,360.065 1490.28,360.065 1499.37,360.065 1490.28,360.065 \n",
       "  \"/>\n",
       "<polygon clip-path=\"url(#clip02)\" points=\"\n",
       "1499.37,360.065 1499.37,360.065 1508.47,360.065 1508.47,360.065 1499.37,360.065 1499.37,360.065 \n",
       "  \" fill=\"#009af9\" fill-opacity=\"1\"/>\n",
       "<polyline clip-path=\"url(#clip02)\" style=\"stroke:#000000; stroke-width:1; stroke-opacity:1; fill:none\" points=\"\n",
       "  1499.37,360.065 1499.37,360.065 1508.47,360.065 1499.37,360.065 \n",
       "  \"/>\n",
       "<polygon clip-path=\"url(#clip02)\" points=\"\n",
       "1508.47,338.3 1508.47,360.065 1517.56,360.065 1517.56,338.3 1508.47,338.3 1508.47,338.3 \n",
       "  \" fill=\"#009af9\" fill-opacity=\"1\"/>\n",
       "<polyline clip-path=\"url(#clip02)\" style=\"stroke:#000000; stroke-width:1; stroke-opacity:1; fill:none\" points=\"\n",
       "  1508.47,338.3 1508.47,360.065 1517.56,360.065 1517.56,338.3 1508.47,338.3 \n",
       "  \"/>\n",
       "<polygon clip-path=\"url(#clip02)\" points=\"\n",
       "1517.56,360.065 1517.56,360.065 1526.66,360.065 1526.66,360.065 1517.56,360.065 1517.56,360.065 \n",
       "  \" fill=\"#009af9\" fill-opacity=\"1\"/>\n",
       "<polyline clip-path=\"url(#clip02)\" style=\"stroke:#000000; stroke-width:1; stroke-opacity:1; fill:none\" points=\"\n",
       "  1517.56,360.065 1517.56,360.065 1526.66,360.065 1517.56,360.065 \n",
       "  \"/>\n",
       "<polygon clip-path=\"url(#clip02)\" points=\"\n",
       "1526.66,316.534 1526.66,360.065 1535.76,360.065 1535.76,316.534 1526.66,316.534 1526.66,316.534 \n",
       "  \" fill=\"#009af9\" fill-opacity=\"1\"/>\n",
       "<polyline clip-path=\"url(#clip02)\" style=\"stroke:#000000; stroke-width:1; stroke-opacity:1; fill:none\" points=\"\n",
       "  1526.66,316.534 1526.66,360.065 1535.76,360.065 1535.76,316.534 1526.66,316.534 \n",
       "  \"/>\n",
       "<polygon clip-path=\"url(#clip02)\" points=\"\n",
       "1535.76,338.3 1535.76,360.065 1544.85,360.065 1544.85,338.3 1535.76,338.3 1535.76,338.3 \n",
       "  \" fill=\"#009af9\" fill-opacity=\"1\"/>\n",
       "<polyline clip-path=\"url(#clip02)\" style=\"stroke:#000000; stroke-width:1; stroke-opacity:1; fill:none\" points=\"\n",
       "  1535.76,338.3 1535.76,360.065 1544.85,360.065 1544.85,338.3 1535.76,338.3 \n",
       "  \"/>\n",
       "<polygon clip-path=\"url(#clip02)\" points=\"\n",
       "1544.85,338.3 1544.85,360.065 1553.95,360.065 1553.95,338.3 1544.85,338.3 1544.85,338.3 \n",
       "  \" fill=\"#009af9\" fill-opacity=\"1\"/>\n",
       "<polyline clip-path=\"url(#clip02)\" style=\"stroke:#000000; stroke-width:1; stroke-opacity:1; fill:none\" points=\"\n",
       "  1544.85,338.3 1544.85,360.065 1553.95,360.065 1553.95,338.3 1544.85,338.3 \n",
       "  \"/>\n",
       "<polygon clip-path=\"url(#clip02)\" points=\"\n",
       "1553.95,360.065 1553.95,360.065 1563.04,360.065 1563.04,360.065 1553.95,360.065 1553.95,360.065 \n",
       "  \" fill=\"#009af9\" fill-opacity=\"1\"/>\n",
       "<polyline clip-path=\"url(#clip02)\" style=\"stroke:#000000; stroke-width:1; stroke-opacity:1; fill:none\" points=\"\n",
       "  1553.95,360.065 1553.95,360.065 1563.04,360.065 1553.95,360.065 \n",
       "  \"/>\n",
       "<polygon clip-path=\"url(#clip02)\" points=\"\n",
       "1563.04,360.065 1563.04,360.065 1572.14,360.065 1572.14,360.065 1563.04,360.065 1563.04,360.065 \n",
       "  \" fill=\"#009af9\" fill-opacity=\"1\"/>\n",
       "<polyline clip-path=\"url(#clip02)\" style=\"stroke:#000000; stroke-width:1; stroke-opacity:1; fill:none\" points=\"\n",
       "  1563.04,360.065 1563.04,360.065 1572.14,360.065 1563.04,360.065 \n",
       "  \"/>\n",
       "<polygon clip-path=\"url(#clip02)\" points=\"\n",
       "1572.14,294.768 1572.14,360.065 1581.23,360.065 1581.23,294.768 1572.14,294.768 1572.14,294.768 \n",
       "  \" fill=\"#009af9\" fill-opacity=\"1\"/>\n",
       "<polyline clip-path=\"url(#clip02)\" style=\"stroke:#000000; stroke-width:1; stroke-opacity:1; fill:none\" points=\"\n",
       "  1572.14,294.768 1572.14,360.065 1581.23,360.065 1581.23,294.768 1572.14,294.768 \n",
       "  \"/>\n",
       "<polygon clip-path=\"url(#clip02)\" points=\"\n",
       "1581.23,294.768 1581.23,360.065 1590.33,360.065 1590.33,294.768 1581.23,294.768 1581.23,294.768 \n",
       "  \" fill=\"#009af9\" fill-opacity=\"1\"/>\n",
       "<polyline clip-path=\"url(#clip02)\" style=\"stroke:#000000; stroke-width:1; stroke-opacity:1; fill:none\" points=\"\n",
       "  1581.23,294.768 1581.23,360.065 1590.33,360.065 1590.33,294.768 1581.23,294.768 \n",
       "  \"/>\n",
       "<polygon clip-path=\"url(#clip02)\" points=\"\n",
       "1590.33,316.534 1590.33,360.065 1599.42,360.065 1599.42,316.534 1590.33,316.534 1590.33,316.534 \n",
       "  \" fill=\"#009af9\" fill-opacity=\"1\"/>\n",
       "<polyline clip-path=\"url(#clip02)\" style=\"stroke:#000000; stroke-width:1; stroke-opacity:1; fill:none\" points=\"\n",
       "  1590.33,316.534 1590.33,360.065 1599.42,360.065 1599.42,316.534 1590.33,316.534 \n",
       "  \"/>\n",
       "<polygon clip-path=\"url(#clip02)\" points=\"\n",
       "1599.42,360.065 1599.42,360.065 1608.52,360.065 1608.52,360.065 1599.42,360.065 1599.42,360.065 \n",
       "  \" fill=\"#009af9\" fill-opacity=\"1\"/>\n",
       "<polyline clip-path=\"url(#clip02)\" style=\"stroke:#000000; stroke-width:1; stroke-opacity:1; fill:none\" points=\"\n",
       "  1599.42,360.065 1599.42,360.065 1608.52,360.065 1599.42,360.065 \n",
       "  \"/>\n",
       "<polygon clip-path=\"url(#clip02)\" points=\"\n",
       "1608.52,316.534 1608.52,360.065 1617.61,360.065 1617.61,316.534 1608.52,316.534 1608.52,316.534 \n",
       "  \" fill=\"#009af9\" fill-opacity=\"1\"/>\n",
       "<polyline clip-path=\"url(#clip02)\" style=\"stroke:#000000; stroke-width:1; stroke-opacity:1; fill:none\" points=\"\n",
       "  1608.52,316.534 1608.52,360.065 1617.61,360.065 1617.61,316.534 1608.52,316.534 \n",
       "  \"/>\n",
       "<polygon clip-path=\"url(#clip02)\" points=\"\n",
       "1617.61,360.065 1617.61,360.065 1626.71,360.065 1626.71,360.065 1617.61,360.065 1617.61,360.065 \n",
       "  \" fill=\"#009af9\" fill-opacity=\"1\"/>\n",
       "<polyline clip-path=\"url(#clip02)\" style=\"stroke:#000000; stroke-width:1; stroke-opacity:1; fill:none\" points=\"\n",
       "  1617.61,360.065 1617.61,360.065 1626.71,360.065 1617.61,360.065 \n",
       "  \"/>\n",
       "<polygon clip-path=\"url(#clip02)\" points=\"\n",
       "1626.71,360.065 1626.71,360.065 1635.8,360.065 1635.8,360.065 1626.71,360.065 1626.71,360.065 \n",
       "  \" fill=\"#009af9\" fill-opacity=\"1\"/>\n",
       "<polyline clip-path=\"url(#clip02)\" style=\"stroke:#000000; stroke-width:1; stroke-opacity:1; fill:none\" points=\"\n",
       "  1626.71,360.065 1626.71,360.065 1635.8,360.065 1626.71,360.065 \n",
       "  \"/>\n",
       "<polygon clip-path=\"url(#clip02)\" points=\"\n",
       "1635.8,338.3 1635.8,360.065 1644.9,360.065 1644.9,338.3 1635.8,338.3 1635.8,338.3 \n",
       "  \" fill=\"#009af9\" fill-opacity=\"1\"/>\n",
       "<polyline clip-path=\"url(#clip02)\" style=\"stroke:#000000; stroke-width:1; stroke-opacity:1; fill:none\" points=\"\n",
       "  1635.8,338.3 1635.8,360.065 1644.9,360.065 1644.9,338.3 1635.8,338.3 \n",
       "  \"/>\n",
       "<polygon clip-path=\"url(#clip02)\" points=\"\n",
       "1644.9,316.534 1644.9,360.065 1653.99,360.065 1653.99,316.534 1644.9,316.534 1644.9,316.534 \n",
       "  \" fill=\"#009af9\" fill-opacity=\"1\"/>\n",
       "<polyline clip-path=\"url(#clip02)\" style=\"stroke:#000000; stroke-width:1; stroke-opacity:1; fill:none\" points=\"\n",
       "  1644.9,316.534 1644.9,360.065 1653.99,360.065 1653.99,316.534 1644.9,316.534 \n",
       "  \"/>\n",
       "<polygon clip-path=\"url(#clip02)\" points=\"\n",
       "1653.99,316.534 1653.99,360.065 1663.09,360.065 1663.09,316.534 1653.99,316.534 1653.99,316.534 \n",
       "  \" fill=\"#009af9\" fill-opacity=\"1\"/>\n",
       "<polyline clip-path=\"url(#clip02)\" style=\"stroke:#000000; stroke-width:1; stroke-opacity:1; fill:none\" points=\"\n",
       "  1653.99,316.534 1653.99,360.065 1663.09,360.065 1663.09,316.534 1653.99,316.534 \n",
       "  \"/>\n",
       "<polygon clip-path=\"url(#clip02)\" points=\"\n",
       "1663.09,360.065 1663.09,360.065 1672.18,360.065 1672.18,360.065 1663.09,360.065 1663.09,360.065 \n",
       "  \" fill=\"#009af9\" fill-opacity=\"1\"/>\n",
       "<polyline clip-path=\"url(#clip02)\" style=\"stroke:#000000; stroke-width:1; stroke-opacity:1; fill:none\" points=\"\n",
       "  1663.09,360.065 1663.09,360.065 1672.18,360.065 1663.09,360.065 \n",
       "  \"/>\n",
       "<polygon clip-path=\"url(#clip02)\" points=\"\n",
       "1672.18,338.3 1672.18,360.065 1681.28,360.065 1681.28,338.3 1672.18,338.3 1672.18,338.3 \n",
       "  \" fill=\"#009af9\" fill-opacity=\"1\"/>\n",
       "<polyline clip-path=\"url(#clip02)\" style=\"stroke:#000000; stroke-width:1; stroke-opacity:1; fill:none\" points=\"\n",
       "  1672.18,338.3 1672.18,360.065 1681.28,360.065 1681.28,338.3 1672.18,338.3 \n",
       "  \"/>\n",
       "<polygon clip-path=\"url(#clip02)\" points=\"\n",
       "1681.28,360.065 1681.28,360.065 1690.37,360.065 1690.37,360.065 1681.28,360.065 1681.28,360.065 \n",
       "  \" fill=\"#009af9\" fill-opacity=\"1\"/>\n",
       "<polyline clip-path=\"url(#clip02)\" style=\"stroke:#000000; stroke-width:1; stroke-opacity:1; fill:none\" points=\"\n",
       "  1681.28,360.065 1681.28,360.065 1690.37,360.065 1681.28,360.065 \n",
       "  \"/>\n",
       "<polygon clip-path=\"url(#clip02)\" points=\"\n",
       "1690.37,316.534 1690.37,360.065 1699.47,360.065 1699.47,316.534 1690.37,316.534 1690.37,316.534 \n",
       "  \" fill=\"#009af9\" fill-opacity=\"1\"/>\n",
       "<polyline clip-path=\"url(#clip02)\" style=\"stroke:#000000; stroke-width:1; stroke-opacity:1; fill:none\" points=\"\n",
       "  1690.37,316.534 1690.37,360.065 1699.47,360.065 1699.47,316.534 1690.37,316.534 \n",
       "  \"/>\n",
       "<polygon clip-path=\"url(#clip02)\" points=\"\n",
       "1699.47,338.3 1699.47,360.065 1708.56,360.065 1708.56,338.3 1699.47,338.3 1699.47,338.3 \n",
       "  \" fill=\"#009af9\" fill-opacity=\"1\"/>\n",
       "<polyline clip-path=\"url(#clip02)\" style=\"stroke:#000000; stroke-width:1; stroke-opacity:1; fill:none\" points=\"\n",
       "  1699.47,338.3 1699.47,360.065 1708.56,360.065 1708.56,338.3 1699.47,338.3 \n",
       "  \"/>\n",
       "<polygon clip-path=\"url(#clip02)\" points=\"\n",
       "1708.56,360.065 1708.56,360.065 1717.66,360.065 1717.66,360.065 1708.56,360.065 1708.56,360.065 \n",
       "  \" fill=\"#009af9\" fill-opacity=\"1\"/>\n",
       "<polyline clip-path=\"url(#clip02)\" style=\"stroke:#000000; stroke-width:1; stroke-opacity:1; fill:none\" points=\"\n",
       "  1708.56,360.065 1708.56,360.065 1717.66,360.065 1708.56,360.065 \n",
       "  \"/>\n",
       "<polygon clip-path=\"url(#clip02)\" points=\"\n",
       "1717.66,338.3 1717.66,360.065 1726.76,360.065 1726.76,338.3 1717.66,338.3 1717.66,338.3 \n",
       "  \" fill=\"#009af9\" fill-opacity=\"1\"/>\n",
       "<polyline clip-path=\"url(#clip02)\" style=\"stroke:#000000; stroke-width:1; stroke-opacity:1; fill:none\" points=\"\n",
       "  1717.66,338.3 1717.66,360.065 1726.76,360.065 1726.76,338.3 1717.66,338.3 \n",
       "  \"/>\n",
       "<polygon clip-path=\"url(#clip02)\" points=\"\n",
       "1726.76,316.534 1726.76,360.065 1735.85,360.065 1735.85,316.534 1726.76,316.534 1726.76,316.534 \n",
       "  \" fill=\"#009af9\" fill-opacity=\"1\"/>\n",
       "<polyline clip-path=\"url(#clip02)\" style=\"stroke:#000000; stroke-width:1; stroke-opacity:1; fill:none\" points=\"\n",
       "  1726.76,316.534 1726.76,360.065 1735.85,360.065 1735.85,316.534 1726.76,316.534 \n",
       "  \"/>\n",
       "<polygon clip-path=\"url(#clip02)\" points=\"\n",
       "1735.85,360.065 1735.85,360.065 1744.95,360.065 1744.95,360.065 1735.85,360.065 1735.85,360.065 \n",
       "  \" fill=\"#009af9\" fill-opacity=\"1\"/>\n",
       "<polyline clip-path=\"url(#clip02)\" style=\"stroke:#000000; stroke-width:1; stroke-opacity:1; fill:none\" points=\"\n",
       "  1735.85,360.065 1735.85,360.065 1744.95,360.065 1735.85,360.065 \n",
       "  \"/>\n",
       "<polygon clip-path=\"url(#clip02)\" points=\"\n",
       "1744.95,360.065 1744.95,360.065 1754.04,360.065 1754.04,360.065 1744.95,360.065 1744.95,360.065 \n",
       "  \" fill=\"#009af9\" fill-opacity=\"1\"/>\n",
       "<polyline clip-path=\"url(#clip02)\" style=\"stroke:#000000; stroke-width:1; stroke-opacity:1; fill:none\" points=\"\n",
       "  1744.95,360.065 1744.95,360.065 1754.04,360.065 1744.95,360.065 \n",
       "  \"/>\n",
       "<polygon clip-path=\"url(#clip02)\" points=\"\n",
       "1754.04,360.065 1754.04,360.065 1763.14,360.065 1763.14,360.065 1754.04,360.065 1754.04,360.065 \n",
       "  \" fill=\"#009af9\" fill-opacity=\"1\"/>\n",
       "<polyline clip-path=\"url(#clip02)\" style=\"stroke:#000000; stroke-width:1; stroke-opacity:1; fill:none\" points=\"\n",
       "  1754.04,360.065 1754.04,360.065 1763.14,360.065 1754.04,360.065 \n",
       "  \"/>\n",
       "<polygon clip-path=\"url(#clip02)\" points=\"\n",
       "1763.14,338.3 1763.14,360.065 1772.23,360.065 1772.23,338.3 1763.14,338.3 1763.14,338.3 \n",
       "  \" fill=\"#009af9\" fill-opacity=\"1\"/>\n",
       "<polyline clip-path=\"url(#clip02)\" style=\"stroke:#000000; stroke-width:1; stroke-opacity:1; fill:none\" points=\"\n",
       "  1763.14,338.3 1763.14,360.065 1772.23,360.065 1772.23,338.3 1763.14,338.3 \n",
       "  \"/>\n",
       "<polygon clip-path=\"url(#clip02)\" points=\"\n",
       "1772.23,360.065 1772.23,360.065 1781.33,360.065 1781.33,360.065 1772.23,360.065 1772.23,360.065 \n",
       "  \" fill=\"#009af9\" fill-opacity=\"1\"/>\n",
       "<polyline clip-path=\"url(#clip02)\" style=\"stroke:#000000; stroke-width:1; stroke-opacity:1; fill:none\" points=\"\n",
       "  1772.23,360.065 1772.23,360.065 1781.33,360.065 1772.23,360.065 \n",
       "  \"/>\n",
       "<polygon clip-path=\"url(#clip02)\" points=\"\n",
       "1781.33,338.3 1781.33,360.065 1790.42,360.065 1790.42,338.3 1781.33,338.3 1781.33,338.3 \n",
       "  \" fill=\"#009af9\" fill-opacity=\"1\"/>\n",
       "<polyline clip-path=\"url(#clip02)\" style=\"stroke:#000000; stroke-width:1; stroke-opacity:1; fill:none\" points=\"\n",
       "  1781.33,338.3 1781.33,360.065 1790.42,360.065 1790.42,338.3 1781.33,338.3 \n",
       "  \"/>\n",
       "<polygon clip-path=\"url(#clip02)\" points=\"\n",
       "1790.42,360.065 1790.42,360.065 1799.52,360.065 1799.52,360.065 1790.42,360.065 1790.42,360.065 \n",
       "  \" fill=\"#009af9\" fill-opacity=\"1\"/>\n",
       "<polyline clip-path=\"url(#clip02)\" style=\"stroke:#000000; stroke-width:1; stroke-opacity:1; fill:none\" points=\"\n",
       "  1790.42,360.065 1790.42,360.065 1799.52,360.065 1790.42,360.065 \n",
       "  \"/>\n",
       "<polygon clip-path=\"url(#clip02)\" points=\"\n",
       "1799.52,360.065 1799.52,360.065 1808.61,360.065 1808.61,360.065 1799.52,360.065 1799.52,360.065 \n",
       "  \" fill=\"#009af9\" fill-opacity=\"1\"/>\n",
       "<polyline clip-path=\"url(#clip02)\" style=\"stroke:#000000; stroke-width:1; stroke-opacity:1; fill:none\" points=\"\n",
       "  1799.52,360.065 1799.52,360.065 1808.61,360.065 1799.52,360.065 \n",
       "  \"/>\n",
       "<polygon clip-path=\"url(#clip02)\" points=\"\n",
       "1808.61,360.065 1808.61,360.065 1817.71,360.065 1817.71,360.065 1808.61,360.065 1808.61,360.065 \n",
       "  \" fill=\"#009af9\" fill-opacity=\"1\"/>\n",
       "<polyline clip-path=\"url(#clip02)\" style=\"stroke:#000000; stroke-width:1; stroke-opacity:1; fill:none\" points=\"\n",
       "  1808.61,360.065 1808.61,360.065 1817.71,360.065 1808.61,360.065 \n",
       "  \"/>\n",
       "<polygon clip-path=\"url(#clip02)\" points=\"\n",
       "1817.71,338.3 1817.71,360.065 1826.8,360.065 1826.8,338.3 1817.71,338.3 1817.71,338.3 \n",
       "  \" fill=\"#009af9\" fill-opacity=\"1\"/>\n",
       "<polyline clip-path=\"url(#clip02)\" style=\"stroke:#000000; stroke-width:1; stroke-opacity:1; fill:none\" points=\"\n",
       "  1817.71,338.3 1817.71,360.065 1826.8,360.065 1826.8,338.3 1817.71,338.3 \n",
       "  \"/>\n",
       "<polygon clip-path=\"url(#clip02)\" points=\"\n",
       "1826.8,273.002 1826.8,360.065 1835.9,360.065 1835.9,273.002 1826.8,273.002 1826.8,273.002 \n",
       "  \" fill=\"#009af9\" fill-opacity=\"1\"/>\n",
       "<polyline clip-path=\"url(#clip02)\" style=\"stroke:#000000; stroke-width:1; stroke-opacity:1; fill:none\" points=\"\n",
       "  1826.8,273.002 1826.8,360.065 1835.9,360.065 1835.9,273.002 1826.8,273.002 \n",
       "  \"/>\n",
       "<polygon clip-path=\"url(#clip02)\" points=\"\n",
       "1835.9,360.065 1835.9,360.065 1844.99,360.065 1844.99,360.065 1835.9,360.065 1835.9,360.065 \n",
       "  \" fill=\"#009af9\" fill-opacity=\"1\"/>\n",
       "<polyline clip-path=\"url(#clip02)\" style=\"stroke:#000000; stroke-width:1; stroke-opacity:1; fill:none\" points=\"\n",
       "  1835.9,360.065 1835.9,360.065 1844.99,360.065 1835.9,360.065 \n",
       "  \"/>\n",
       "<polygon clip-path=\"url(#clip02)\" points=\"\n",
       "1844.99,338.3 1844.99,360.065 1854.09,360.065 1854.09,338.3 1844.99,338.3 1844.99,338.3 \n",
       "  \" fill=\"#009af9\" fill-opacity=\"1\"/>\n",
       "<polyline clip-path=\"url(#clip02)\" style=\"stroke:#000000; stroke-width:1; stroke-opacity:1; fill:none\" points=\"\n",
       "  1844.99,338.3 1844.99,360.065 1854.09,360.065 1854.09,338.3 1844.99,338.3 \n",
       "  \"/>\n",
       "<polygon clip-path=\"url(#clip02)\" points=\"\n",
       "1854.09,338.3 1854.09,360.065 1863.18,360.065 1863.18,338.3 1854.09,338.3 1854.09,338.3 \n",
       "  \" fill=\"#009af9\" fill-opacity=\"1\"/>\n",
       "<polyline clip-path=\"url(#clip02)\" style=\"stroke:#000000; stroke-width:1; stroke-opacity:1; fill:none\" points=\"\n",
       "  1854.09,338.3 1854.09,360.065 1863.18,360.065 1863.18,338.3 1854.09,338.3 \n",
       "  \"/>\n",
       "<polygon clip-path=\"url(#clip02)\" points=\"\n",
       "1863.18,338.3 1863.18,360.065 1872.28,360.065 1872.28,338.3 1863.18,338.3 1863.18,338.3 \n",
       "  \" fill=\"#009af9\" fill-opacity=\"1\"/>\n",
       "<polyline clip-path=\"url(#clip02)\" style=\"stroke:#000000; stroke-width:1; stroke-opacity:1; fill:none\" points=\"\n",
       "  1863.18,338.3 1863.18,360.065 1872.28,360.065 1872.28,338.3 1863.18,338.3 \n",
       "  \"/>\n",
       "<polygon clip-path=\"url(#clip02)\" points=\"\n",
       "1872.28,316.534 1872.28,360.065 1881.37,360.065 1881.37,316.534 1872.28,316.534 1872.28,316.534 \n",
       "  \" fill=\"#009af9\" fill-opacity=\"1\"/>\n",
       "<polyline clip-path=\"url(#clip02)\" style=\"stroke:#000000; stroke-width:1; stroke-opacity:1; fill:none\" points=\"\n",
       "  1872.28,316.534 1872.28,360.065 1881.37,360.065 1881.37,316.534 1872.28,316.534 \n",
       "  \"/>\n",
       "<polygon clip-path=\"url(#clip02)\" points=\"\n",
       "1881.37,360.065 1881.37,360.065 1890.47,360.065 1890.47,360.065 1881.37,360.065 1881.37,360.065 \n",
       "  \" fill=\"#009af9\" fill-opacity=\"1\"/>\n",
       "<polyline clip-path=\"url(#clip02)\" style=\"stroke:#000000; stroke-width:1; stroke-opacity:1; fill:none\" points=\"\n",
       "  1881.37,360.065 1881.37,360.065 1890.47,360.065 1881.37,360.065 \n",
       "  \"/>\n",
       "<polygon clip-path=\"url(#clip02)\" points=\"\n",
       "1890.47,360.065 1890.47,360.065 1899.56,360.065 1899.56,360.065 1890.47,360.065 1890.47,360.065 \n",
       "  \" fill=\"#009af9\" fill-opacity=\"1\"/>\n",
       "<polyline clip-path=\"url(#clip02)\" style=\"stroke:#000000; stroke-width:1; stroke-opacity:1; fill:none\" points=\"\n",
       "  1890.47,360.065 1890.47,360.065 1899.56,360.065 1890.47,360.065 \n",
       "  \"/>\n",
       "<polygon clip-path=\"url(#clip02)\" points=\"\n",
       "1899.56,338.3 1899.56,360.065 1908.66,360.065 1908.66,338.3 1899.56,338.3 1899.56,338.3 \n",
       "  \" fill=\"#009af9\" fill-opacity=\"1\"/>\n",
       "<polyline clip-path=\"url(#clip02)\" style=\"stroke:#000000; stroke-width:1; stroke-opacity:1; fill:none\" points=\"\n",
       "  1899.56,338.3 1899.56,360.065 1908.66,360.065 1908.66,338.3 1899.56,338.3 \n",
       "  \"/>\n",
       "<polygon clip-path=\"url(#clip02)\" points=\"\n",
       "1908.66,360.065 1908.66,360.065 1917.75,360.065 1917.75,360.065 1908.66,360.065 1908.66,360.065 \n",
       "  \" fill=\"#009af9\" fill-opacity=\"1\"/>\n",
       "<polyline clip-path=\"url(#clip02)\" style=\"stroke:#000000; stroke-width:1; stroke-opacity:1; fill:none\" points=\"\n",
       "  1908.66,360.065 1908.66,360.065 1917.75,360.065 1908.66,360.065 \n",
       "  \"/>\n",
       "<polygon clip-path=\"url(#clip02)\" points=\"\n",
       "1917.75,338.3 1917.75,360.065 1926.85,360.065 1926.85,338.3 1917.75,338.3 1917.75,338.3 \n",
       "  \" fill=\"#009af9\" fill-opacity=\"1\"/>\n",
       "<polyline clip-path=\"url(#clip02)\" style=\"stroke:#000000; stroke-width:1; stroke-opacity:1; fill:none\" points=\"\n",
       "  1917.75,338.3 1917.75,360.065 1926.85,360.065 1926.85,338.3 1917.75,338.3 \n",
       "  \"/>\n",
       "<polygon clip-path=\"url(#clip02)\" points=\"\n",
       "1926.85,360.065 1926.85,360.065 1935.95,360.065 1935.95,360.065 1926.85,360.065 1926.85,360.065 \n",
       "  \" fill=\"#009af9\" fill-opacity=\"1\"/>\n",
       "<polyline clip-path=\"url(#clip02)\" style=\"stroke:#000000; stroke-width:1; stroke-opacity:1; fill:none\" points=\"\n",
       "  1926.85,360.065 1926.85,360.065 1935.95,360.065 1926.85,360.065 \n",
       "  \"/>\n",
       "<polygon clip-path=\"url(#clip02)\" points=\"\n",
       "1935.95,360.065 1935.95,360.065 1945.04,360.065 1945.04,360.065 1935.95,360.065 1935.95,360.065 \n",
       "  \" fill=\"#009af9\" fill-opacity=\"1\"/>\n",
       "<polyline clip-path=\"url(#clip02)\" style=\"stroke:#000000; stroke-width:1; stroke-opacity:1; fill:none\" points=\"\n",
       "  1935.95,360.065 1935.95,360.065 1945.04,360.065 1935.95,360.065 \n",
       "  \"/>\n",
       "<polygon clip-path=\"url(#clip02)\" points=\"\n",
       "1945.04,338.3 1945.04,360.065 1954.14,360.065 1954.14,338.3 1945.04,338.3 1945.04,338.3 \n",
       "  \" fill=\"#009af9\" fill-opacity=\"1\"/>\n",
       "<polyline clip-path=\"url(#clip02)\" style=\"stroke:#000000; stroke-width:1; stroke-opacity:1; fill:none\" points=\"\n",
       "  1945.04,338.3 1945.04,360.065 1954.14,360.065 1954.14,338.3 1945.04,338.3 \n",
       "  \"/>\n",
       "<polygon clip-path=\"url(#clip02)\" points=\"\n",
       "1954.14,338.3 1954.14,360.065 1963.23,360.065 1963.23,338.3 1954.14,338.3 1954.14,338.3 \n",
       "  \" fill=\"#009af9\" fill-opacity=\"1\"/>\n",
       "<polyline clip-path=\"url(#clip02)\" style=\"stroke:#000000; stroke-width:1; stroke-opacity:1; fill:none\" points=\"\n",
       "  1954.14,338.3 1954.14,360.065 1963.23,360.065 1963.23,338.3 1954.14,338.3 \n",
       "  \"/>\n",
       "<polygon clip-path=\"url(#clip02)\" points=\"\n",
       "1963.23,360.065 1963.23,360.065 1972.33,360.065 1972.33,360.065 1963.23,360.065 1963.23,360.065 \n",
       "  \" fill=\"#009af9\" fill-opacity=\"1\"/>\n",
       "<polyline clip-path=\"url(#clip02)\" style=\"stroke:#000000; stroke-width:1; stroke-opacity:1; fill:none\" points=\"\n",
       "  1963.23,360.065 1963.23,360.065 1972.33,360.065 1963.23,360.065 \n",
       "  \"/>\n",
       "<polygon clip-path=\"url(#clip02)\" points=\"\n",
       "1972.33,294.768 1972.33,360.065 1981.42,360.065 1981.42,294.768 1972.33,294.768 1972.33,294.768 \n",
       "  \" fill=\"#009af9\" fill-opacity=\"1\"/>\n",
       "<polyline clip-path=\"url(#clip02)\" style=\"stroke:#000000; stroke-width:1; stroke-opacity:1; fill:none\" points=\"\n",
       "  1972.33,294.768 1972.33,360.065 1981.42,360.065 1981.42,294.768 1972.33,294.768 \n",
       "  \"/>\n",
       "<polygon clip-path=\"url(#clip02)\" points=\"\n",
       "1981.42,338.3 1981.42,360.065 1990.52,360.065 1990.52,338.3 1981.42,338.3 1981.42,338.3 \n",
       "  \" fill=\"#009af9\" fill-opacity=\"1\"/>\n",
       "<polyline clip-path=\"url(#clip02)\" style=\"stroke:#000000; stroke-width:1; stroke-opacity:1; fill:none\" points=\"\n",
       "  1981.42,338.3 1981.42,360.065 1990.52,360.065 1990.52,338.3 1981.42,338.3 \n",
       "  \"/>\n",
       "<polygon clip-path=\"url(#clip02)\" points=\"\n",
       "1990.52,338.3 1990.52,360.065 1999.61,360.065 1999.61,338.3 1990.52,338.3 1990.52,338.3 \n",
       "  \" fill=\"#009af9\" fill-opacity=\"1\"/>\n",
       "<polyline clip-path=\"url(#clip02)\" style=\"stroke:#000000; stroke-width:1; stroke-opacity:1; fill:none\" points=\"\n",
       "  1990.52,338.3 1990.52,360.065 1999.61,360.065 1999.61,338.3 1990.52,338.3 \n",
       "  \"/>\n",
       "<polygon clip-path=\"url(#clip02)\" points=\"\n",
       "1999.61,316.534 1999.61,360.065 2008.71,360.065 2008.71,316.534 1999.61,316.534 1999.61,316.534 \n",
       "  \" fill=\"#009af9\" fill-opacity=\"1\"/>\n",
       "<polyline clip-path=\"url(#clip02)\" style=\"stroke:#000000; stroke-width:1; stroke-opacity:1; fill:none\" points=\"\n",
       "  1999.61,316.534 1999.61,360.065 2008.71,360.065 2008.71,316.534 1999.61,316.534 \n",
       "  \"/>\n",
       "<polygon clip-path=\"url(#clip02)\" points=\"\n",
       "2008.71,338.3 2008.71,360.065 2017.8,360.065 2017.8,338.3 2008.71,338.3 2008.71,338.3 \n",
       "  \" fill=\"#009af9\" fill-opacity=\"1\"/>\n",
       "<polyline clip-path=\"url(#clip02)\" style=\"stroke:#000000; stroke-width:1; stroke-opacity:1; fill:none\" points=\"\n",
       "  2008.71,338.3 2008.71,360.065 2017.8,360.065 2017.8,338.3 2008.71,338.3 \n",
       "  \"/>\n",
       "<polygon clip-path=\"url(#clip02)\" points=\"\n",
       "2017.8,360.065 2017.8,360.065 2026.9,360.065 2026.9,360.065 2017.8,360.065 2017.8,360.065 \n",
       "  \" fill=\"#009af9\" fill-opacity=\"1\"/>\n",
       "<polyline clip-path=\"url(#clip02)\" style=\"stroke:#000000; stroke-width:1; stroke-opacity:1; fill:none\" points=\"\n",
       "  2017.8,360.065 2017.8,360.065 2026.9,360.065 2017.8,360.065 \n",
       "  \"/>\n",
       "<polygon clip-path=\"url(#clip02)\" points=\"\n",
       "2026.9,338.3 2026.9,360.065 2035.99,360.065 2035.99,338.3 2026.9,338.3 2026.9,338.3 \n",
       "  \" fill=\"#009af9\" fill-opacity=\"1\"/>\n",
       "<polyline clip-path=\"url(#clip02)\" style=\"stroke:#000000; stroke-width:1; stroke-opacity:1; fill:none\" points=\"\n",
       "  2026.9,338.3 2026.9,360.065 2035.99,360.065 2035.99,338.3 2026.9,338.3 \n",
       "  \"/>\n",
       "<polygon clip-path=\"url(#clip02)\" points=\"\n",
       "2035.99,338.3 2035.99,360.065 2045.09,360.065 2045.09,338.3 2035.99,338.3 2035.99,338.3 \n",
       "  \" fill=\"#009af9\" fill-opacity=\"1\"/>\n",
       "<polyline clip-path=\"url(#clip02)\" style=\"stroke:#000000; stroke-width:1; stroke-opacity:1; fill:none\" points=\"\n",
       "  2035.99,338.3 2035.99,360.065 2045.09,360.065 2045.09,338.3 2035.99,338.3 \n",
       "  \"/>\n",
       "<polygon clip-path=\"url(#clip02)\" points=\"\n",
       "2045.09,360.065 2045.09,360.065 2054.18,360.065 2054.18,360.065 2045.09,360.065 2045.09,360.065 \n",
       "  \" fill=\"#009af9\" fill-opacity=\"1\"/>\n",
       "<polyline clip-path=\"url(#clip02)\" style=\"stroke:#000000; stroke-width:1; stroke-opacity:1; fill:none\" points=\"\n",
       "  2045.09,360.065 2045.09,360.065 2054.18,360.065 2045.09,360.065 \n",
       "  \"/>\n",
       "<polygon clip-path=\"url(#clip02)\" points=\"\n",
       "2054.18,360.065 2054.18,360.065 2063.28,360.065 2063.28,360.065 2054.18,360.065 2054.18,360.065 \n",
       "  \" fill=\"#009af9\" fill-opacity=\"1\"/>\n",
       "<polyline clip-path=\"url(#clip02)\" style=\"stroke:#000000; stroke-width:1; stroke-opacity:1; fill:none\" points=\"\n",
       "  2054.18,360.065 2054.18,360.065 2063.28,360.065 2054.18,360.065 \n",
       "  \"/>\n",
       "<polygon clip-path=\"url(#clip02)\" points=\"\n",
       "2063.28,360.065 2063.28,360.065 2072.37,360.065 2072.37,360.065 2063.28,360.065 2063.28,360.065 \n",
       "  \" fill=\"#009af9\" fill-opacity=\"1\"/>\n",
       "<polyline clip-path=\"url(#clip02)\" style=\"stroke:#000000; stroke-width:1; stroke-opacity:1; fill:none\" points=\"\n",
       "  2063.28,360.065 2063.28,360.065 2072.37,360.065 2063.28,360.065 \n",
       "  \"/>\n",
       "<polygon clip-path=\"url(#clip02)\" points=\"\n",
       "2072.37,360.065 2072.37,360.065 2081.47,360.065 2081.47,360.065 2072.37,360.065 2072.37,360.065 \n",
       "  \" fill=\"#009af9\" fill-opacity=\"1\"/>\n",
       "<polyline clip-path=\"url(#clip02)\" style=\"stroke:#000000; stroke-width:1; stroke-opacity:1; fill:none\" points=\"\n",
       "  2072.37,360.065 2072.37,360.065 2081.47,360.065 2072.37,360.065 \n",
       "  \"/>\n",
       "<polygon clip-path=\"url(#clip02)\" points=\"\n",
       "2081.47,360.065 2081.47,360.065 2090.56,360.065 2090.56,360.065 2081.47,360.065 2081.47,360.065 \n",
       "  \" fill=\"#009af9\" fill-opacity=\"1\"/>\n",
       "<polyline clip-path=\"url(#clip02)\" style=\"stroke:#000000; stroke-width:1; stroke-opacity:1; fill:none\" points=\"\n",
       "  2081.47,360.065 2081.47,360.065 2090.56,360.065 2081.47,360.065 \n",
       "  \"/>\n",
       "<polygon clip-path=\"url(#clip02)\" points=\"\n",
       "2090.56,360.065 2090.56,360.065 2099.66,360.065 2099.66,360.065 2090.56,360.065 2090.56,360.065 \n",
       "  \" fill=\"#009af9\" fill-opacity=\"1\"/>\n",
       "<polyline clip-path=\"url(#clip02)\" style=\"stroke:#000000; stroke-width:1; stroke-opacity:1; fill:none\" points=\"\n",
       "  2090.56,360.065 2090.56,360.065 2099.66,360.065 2090.56,360.065 \n",
       "  \"/>\n",
       "<polygon clip-path=\"url(#clip02)\" points=\"\n",
       "2099.66,360.065 2099.66,360.065 2108.75,360.065 2108.75,360.065 2099.66,360.065 2099.66,360.065 \n",
       "  \" fill=\"#009af9\" fill-opacity=\"1\"/>\n",
       "<polyline clip-path=\"url(#clip02)\" style=\"stroke:#000000; stroke-width:1; stroke-opacity:1; fill:none\" points=\"\n",
       "  2099.66,360.065 2099.66,360.065 2108.75,360.065 2099.66,360.065 \n",
       "  \"/>\n",
       "<polygon clip-path=\"url(#clip02)\" points=\"\n",
       "2108.75,360.065 2108.75,360.065 2117.85,360.065 2117.85,360.065 2108.75,360.065 2108.75,360.065 \n",
       "  \" fill=\"#009af9\" fill-opacity=\"1\"/>\n",
       "<polyline clip-path=\"url(#clip02)\" style=\"stroke:#000000; stroke-width:1; stroke-opacity:1; fill:none\" points=\"\n",
       "  2108.75,360.065 2108.75,360.065 2117.85,360.065 2108.75,360.065 \n",
       "  \"/>\n",
       "<polygon clip-path=\"url(#clip02)\" points=\"\n",
       "2117.85,360.065 2117.85,360.065 2126.95,360.065 2126.95,360.065 2117.85,360.065 2117.85,360.065 \n",
       "  \" fill=\"#009af9\" fill-opacity=\"1\"/>\n",
       "<polyline clip-path=\"url(#clip02)\" style=\"stroke:#000000; stroke-width:1; stroke-opacity:1; fill:none\" points=\"\n",
       "  2117.85,360.065 2117.85,360.065 2126.95,360.065 2117.85,360.065 \n",
       "  \"/>\n",
       "<polygon clip-path=\"url(#clip02)\" points=\"\n",
       "2126.95,360.065 2126.95,360.065 2136.04,360.065 2136.04,360.065 2126.95,360.065 2126.95,360.065 \n",
       "  \" fill=\"#009af9\" fill-opacity=\"1\"/>\n",
       "<polyline clip-path=\"url(#clip02)\" style=\"stroke:#000000; stroke-width:1; stroke-opacity:1; fill:none\" points=\"\n",
       "  2126.95,360.065 2126.95,360.065 2136.04,360.065 2126.95,360.065 \n",
       "  \"/>\n",
       "<polygon clip-path=\"url(#clip02)\" points=\"\n",
       "2136.04,338.3 2136.04,360.065 2145.14,360.065 2145.14,338.3 2136.04,338.3 2136.04,338.3 \n",
       "  \" fill=\"#009af9\" fill-opacity=\"1\"/>\n",
       "<polyline clip-path=\"url(#clip02)\" style=\"stroke:#000000; stroke-width:1; stroke-opacity:1; fill:none\" points=\"\n",
       "  2136.04,338.3 2136.04,360.065 2145.14,360.065 2145.14,338.3 2136.04,338.3 \n",
       "  \"/>\n",
       "<polygon clip-path=\"url(#clip02)\" points=\"\n",
       "2145.14,360.065 2145.14,360.065 2154.23,360.065 2154.23,360.065 2145.14,360.065 2145.14,360.065 \n",
       "  \" fill=\"#009af9\" fill-opacity=\"1\"/>\n",
       "<polyline clip-path=\"url(#clip02)\" style=\"stroke:#000000; stroke-width:1; stroke-opacity:1; fill:none\" points=\"\n",
       "  2145.14,360.065 2145.14,360.065 2154.23,360.065 2145.14,360.065 \n",
       "  \"/>\n",
       "<polygon clip-path=\"url(#clip02)\" points=\"\n",
       "2154.23,360.065 2154.23,360.065 2163.33,360.065 2163.33,360.065 2154.23,360.065 2154.23,360.065 \n",
       "  \" fill=\"#009af9\" fill-opacity=\"1\"/>\n",
       "<polyline clip-path=\"url(#clip02)\" style=\"stroke:#000000; stroke-width:1; stroke-opacity:1; fill:none\" points=\"\n",
       "  2154.23,360.065 2154.23,360.065 2163.33,360.065 2154.23,360.065 \n",
       "  \"/>\n",
       "<polygon clip-path=\"url(#clip02)\" points=\"\n",
       "2163.33,360.065 2163.33,360.065 2172.42,360.065 2172.42,360.065 2163.33,360.065 2163.33,360.065 \n",
       "  \" fill=\"#009af9\" fill-opacity=\"1\"/>\n",
       "<polyline clip-path=\"url(#clip02)\" style=\"stroke:#000000; stroke-width:1; stroke-opacity:1; fill:none\" points=\"\n",
       "  2163.33,360.065 2163.33,360.065 2172.42,360.065 2163.33,360.065 \n",
       "  \"/>\n",
       "<polygon clip-path=\"url(#clip02)\" points=\"\n",
       "2172.42,360.065 2172.42,360.065 2181.52,360.065 2181.52,360.065 2172.42,360.065 2172.42,360.065 \n",
       "  \" fill=\"#009af9\" fill-opacity=\"1\"/>\n",
       "<polyline clip-path=\"url(#clip02)\" style=\"stroke:#000000; stroke-width:1; stroke-opacity:1; fill:none\" points=\"\n",
       "  2172.42,360.065 2172.42,360.065 2181.52,360.065 2172.42,360.065 \n",
       "  \"/>\n",
       "<polygon clip-path=\"url(#clip02)\" points=\"\n",
       "2181.52,360.065 2181.52,360.065 2190.61,360.065 2190.61,360.065 2181.52,360.065 2181.52,360.065 \n",
       "  \" fill=\"#009af9\" fill-opacity=\"1\"/>\n",
       "<polyline clip-path=\"url(#clip02)\" style=\"stroke:#000000; stroke-width:1; stroke-opacity:1; fill:none\" points=\"\n",
       "  2181.52,360.065 2181.52,360.065 2190.61,360.065 2181.52,360.065 \n",
       "  \"/>\n",
       "<polygon clip-path=\"url(#clip02)\" points=\"\n",
       "2190.61,360.065 2190.61,360.065 2199.71,360.065 2199.71,360.065 2190.61,360.065 2190.61,360.065 \n",
       "  \" fill=\"#009af9\" fill-opacity=\"1\"/>\n",
       "<polyline clip-path=\"url(#clip02)\" style=\"stroke:#000000; stroke-width:1; stroke-opacity:1; fill:none\" points=\"\n",
       "  2190.61,360.065 2190.61,360.065 2199.71,360.065 2190.61,360.065 \n",
       "  \"/>\n",
       "<polygon clip-path=\"url(#clip02)\" points=\"\n",
       "2199.71,360.065 2199.71,360.065 2208.8,360.065 2208.8,360.065 2199.71,360.065 2199.71,360.065 \n",
       "  \" fill=\"#009af9\" fill-opacity=\"1\"/>\n",
       "<polyline clip-path=\"url(#clip02)\" style=\"stroke:#000000; stroke-width:1; stroke-opacity:1; fill:none\" points=\"\n",
       "  2199.71,360.065 2199.71,360.065 2208.8,360.065 2199.71,360.065 \n",
       "  \"/>\n",
       "<polygon clip-path=\"url(#clip02)\" points=\"\n",
       "2208.8,360.065 2208.8,360.065 2217.9,360.065 2217.9,360.065 2208.8,360.065 2208.8,360.065 \n",
       "  \" fill=\"#009af9\" fill-opacity=\"1\"/>\n",
       "<polyline clip-path=\"url(#clip02)\" style=\"stroke:#000000; stroke-width:1; stroke-opacity:1; fill:none\" points=\"\n",
       "  2208.8,360.065 2208.8,360.065 2217.9,360.065 2208.8,360.065 \n",
       "  \"/>\n",
       "<polygon clip-path=\"url(#clip02)\" points=\"\n",
       "2217.9,360.065 2217.9,360.065 2226.99,360.065 2226.99,360.065 2217.9,360.065 2217.9,360.065 \n",
       "  \" fill=\"#009af9\" fill-opacity=\"1\"/>\n",
       "<polyline clip-path=\"url(#clip02)\" style=\"stroke:#000000; stroke-width:1; stroke-opacity:1; fill:none\" points=\"\n",
       "  2217.9,360.065 2217.9,360.065 2226.99,360.065 2217.9,360.065 \n",
       "  \"/>\n",
       "<polygon clip-path=\"url(#clip02)\" points=\"\n",
       "2226.99,360.065 2226.99,360.065 2236.09,360.065 2236.09,360.065 2226.99,360.065 2226.99,360.065 \n",
       "  \" fill=\"#009af9\" fill-opacity=\"1\"/>\n",
       "<polyline clip-path=\"url(#clip02)\" style=\"stroke:#000000; stroke-width:1; stroke-opacity:1; fill:none\" points=\"\n",
       "  2226.99,360.065 2226.99,360.065 2236.09,360.065 2226.99,360.065 \n",
       "  \"/>\n",
       "<polygon clip-path=\"url(#clip02)\" points=\"\n",
       "2236.09,360.065 2236.09,360.065 2245.18,360.065 2245.18,360.065 2236.09,360.065 2236.09,360.065 \n",
       "  \" fill=\"#009af9\" fill-opacity=\"1\"/>\n",
       "<polyline clip-path=\"url(#clip02)\" style=\"stroke:#000000; stroke-width:1; stroke-opacity:1; fill:none\" points=\"\n",
       "  2236.09,360.065 2236.09,360.065 2245.18,360.065 2236.09,360.065 \n",
       "  \"/>\n",
       "<polygon clip-path=\"url(#clip02)\" points=\"\n",
       "2245.18,360.065 2245.18,360.065 2254.28,360.065 2254.28,360.065 2245.18,360.065 2245.18,360.065 \n",
       "  \" fill=\"#009af9\" fill-opacity=\"1\"/>\n",
       "<polyline clip-path=\"url(#clip02)\" style=\"stroke:#000000; stroke-width:1; stroke-opacity:1; fill:none\" points=\"\n",
       "  2245.18,360.065 2245.18,360.065 2254.28,360.065 2245.18,360.065 \n",
       "  \"/>\n",
       "<polygon clip-path=\"url(#clip02)\" points=\"\n",
       "2254.28,360.065 2254.28,360.065 2263.37,360.065 2263.37,360.065 2254.28,360.065 2254.28,360.065 \n",
       "  \" fill=\"#009af9\" fill-opacity=\"1\"/>\n",
       "<polyline clip-path=\"url(#clip02)\" style=\"stroke:#000000; stroke-width:1; stroke-opacity:1; fill:none\" points=\"\n",
       "  2254.28,360.065 2254.28,360.065 2263.37,360.065 2254.28,360.065 \n",
       "  \"/>\n",
       "<polygon clip-path=\"url(#clip02)\" points=\"\n",
       "2263.37,360.065 2263.37,360.065 2272.47,360.065 2272.47,360.065 2263.37,360.065 2263.37,360.065 \n",
       "  \" fill=\"#009af9\" fill-opacity=\"1\"/>\n",
       "<polyline clip-path=\"url(#clip02)\" style=\"stroke:#000000; stroke-width:1; stroke-opacity:1; fill:none\" points=\"\n",
       "  2263.37,360.065 2263.37,360.065 2272.47,360.065 2263.37,360.065 \n",
       "  \"/>\n",
       "<polygon clip-path=\"url(#clip02)\" points=\"\n",
       "2272.47,360.065 2272.47,360.065 2281.56,360.065 2281.56,360.065 2272.47,360.065 2272.47,360.065 \n",
       "  \" fill=\"#009af9\" fill-opacity=\"1\"/>\n",
       "<polyline clip-path=\"url(#clip02)\" style=\"stroke:#000000; stroke-width:1; stroke-opacity:1; fill:none\" points=\"\n",
       "  2272.47,360.065 2272.47,360.065 2281.56,360.065 2272.47,360.065 \n",
       "  \"/>\n",
       "<polygon clip-path=\"url(#clip02)\" points=\"\n",
       "2281.56,360.065 2281.56,360.065 2290.66,360.065 2290.66,360.065 2281.56,360.065 2281.56,360.065 \n",
       "  \" fill=\"#009af9\" fill-opacity=\"1\"/>\n",
       "<polyline clip-path=\"url(#clip02)\" style=\"stroke:#000000; stroke-width:1; stroke-opacity:1; fill:none\" points=\"\n",
       "  2281.56,360.065 2281.56,360.065 2290.66,360.065 2281.56,360.065 \n",
       "  \"/>\n",
       "<polygon clip-path=\"url(#clip02)\" points=\"\n",
       "2290.66,360.065 2290.66,360.065 2299.75,360.065 2299.75,360.065 2290.66,360.065 2290.66,360.065 \n",
       "  \" fill=\"#009af9\" fill-opacity=\"1\"/>\n",
       "<polyline clip-path=\"url(#clip02)\" style=\"stroke:#000000; stroke-width:1; stroke-opacity:1; fill:none\" points=\"\n",
       "  2290.66,360.065 2290.66,360.065 2299.75,360.065 2290.66,360.065 \n",
       "  \"/>\n",
       "<polygon clip-path=\"url(#clip02)\" points=\"\n",
       "2299.75,360.065 2299.75,360.065 2308.85,360.065 2308.85,360.065 2299.75,360.065 2299.75,360.065 \n",
       "  \" fill=\"#009af9\" fill-opacity=\"1\"/>\n",
       "<polyline clip-path=\"url(#clip02)\" style=\"stroke:#000000; stroke-width:1; stroke-opacity:1; fill:none\" points=\"\n",
       "  2299.75,360.065 2299.75,360.065 2308.85,360.065 2299.75,360.065 \n",
       "  \"/>\n",
       "<polygon clip-path=\"url(#clip02)\" points=\"\n",
       "2308.85,360.065 2308.85,360.065 2317.94,360.065 2317.94,360.065 2308.85,360.065 2308.85,360.065 \n",
       "  \" fill=\"#009af9\" fill-opacity=\"1\"/>\n",
       "<polyline clip-path=\"url(#clip02)\" style=\"stroke:#000000; stroke-width:1; stroke-opacity:1; fill:none\" points=\"\n",
       "  2308.85,360.065 2308.85,360.065 2317.94,360.065 2308.85,360.065 \n",
       "  \"/>\n",
       "<polygon clip-path=\"url(#clip02)\" points=\"\n",
       "2317.94,360.065 2317.94,360.065 2327.04,360.065 2327.04,360.065 2317.94,360.065 2317.94,360.065 \n",
       "  \" fill=\"#009af9\" fill-opacity=\"1\"/>\n",
       "<polyline clip-path=\"url(#clip02)\" style=\"stroke:#000000; stroke-width:1; stroke-opacity:1; fill:none\" points=\"\n",
       "  2317.94,360.065 2317.94,360.065 2327.04,360.065 2317.94,360.065 \n",
       "  \"/>\n",
       "<polygon clip-path=\"url(#clip02)\" points=\"\n",
       "2327.04,360.065 2327.04,360.065 2336.14,360.065 2336.14,360.065 2327.04,360.065 2327.04,360.065 \n",
       "  \" fill=\"#009af9\" fill-opacity=\"1\"/>\n",
       "<polyline clip-path=\"url(#clip02)\" style=\"stroke:#000000; stroke-width:1; stroke-opacity:1; fill:none\" points=\"\n",
       "  2327.04,360.065 2327.04,360.065 2336.14,360.065 2327.04,360.065 \n",
       "  \"/>\n",
       "<polygon clip-path=\"url(#clip02)\" points=\"\n",
       "2336.14,360.065 2336.14,360.065 2345.23,360.065 2345.23,360.065 2336.14,360.065 2336.14,360.065 \n",
       "  \" fill=\"#009af9\" fill-opacity=\"1\"/>\n",
       "<polyline clip-path=\"url(#clip02)\" style=\"stroke:#000000; stroke-width:1; stroke-opacity:1; fill:none\" points=\"\n",
       "  2336.14,360.065 2336.14,360.065 2345.23,360.065 2336.14,360.065 \n",
       "  \"/>\n",
       "<polygon clip-path=\"url(#clip02)\" points=\"\n",
       "2345.23,360.065 2345.23,360.065 2354.33,360.065 2354.33,360.065 2345.23,360.065 2345.23,360.065 \n",
       "  \" fill=\"#009af9\" fill-opacity=\"1\"/>\n",
       "<polyline clip-path=\"url(#clip02)\" style=\"stroke:#000000; stroke-width:1; stroke-opacity:1; fill:none\" points=\"\n",
       "  2345.23,360.065 2345.23,360.065 2354.33,360.065 2345.23,360.065 \n",
       "  \"/>\n",
       "<polygon clip-path=\"url(#clip02)\" points=\"\n",
       "2354.33,360.065 2354.33,360.065 2363.42,360.065 2363.42,360.065 2354.33,360.065 2354.33,360.065 \n",
       "  \" fill=\"#009af9\" fill-opacity=\"1\"/>\n",
       "<polyline clip-path=\"url(#clip02)\" style=\"stroke:#000000; stroke-width:1; stroke-opacity:1; fill:none\" points=\"\n",
       "  2354.33,360.065 2354.33,360.065 2363.42,360.065 2354.33,360.065 \n",
       "  \"/>\n",
       "<polygon clip-path=\"url(#clip02)\" points=\"\n",
       "2363.42,360.065 2363.42,360.065 2372.52,360.065 2372.52,360.065 2363.42,360.065 2363.42,360.065 \n",
       "  \" fill=\"#009af9\" fill-opacity=\"1\"/>\n",
       "<polyline clip-path=\"url(#clip02)\" style=\"stroke:#000000; stroke-width:1; stroke-opacity:1; fill:none\" points=\"\n",
       "  2363.42,360.065 2363.42,360.065 2372.52,360.065 2363.42,360.065 \n",
       "  \"/>\n",
       "<polygon clip-path=\"url(#clip02)\" points=\"\n",
       "2372.52,360.065 2372.52,360.065 2381.61,360.065 2381.61,360.065 2372.52,360.065 2372.52,360.065 \n",
       "  \" fill=\"#009af9\" fill-opacity=\"1\"/>\n",
       "<polyline clip-path=\"url(#clip02)\" style=\"stroke:#000000; stroke-width:1; stroke-opacity:1; fill:none\" points=\"\n",
       "  2372.52,360.065 2372.52,360.065 2381.61,360.065 2372.52,360.065 \n",
       "  \"/>\n",
       "<polygon clip-path=\"url(#clip02)\" points=\"\n",
       "2381.61,360.065 2381.61,360.065 2390.71,360.065 2390.71,360.065 2381.61,360.065 2381.61,360.065 \n",
       "  \" fill=\"#009af9\" fill-opacity=\"1\"/>\n",
       "<polyline clip-path=\"url(#clip02)\" style=\"stroke:#000000; stroke-width:1; stroke-opacity:1; fill:none\" points=\"\n",
       "  2381.61,360.065 2381.61,360.065 2390.71,360.065 2381.61,360.065 \n",
       "  \"/>\n",
       "<polygon clip-path=\"url(#clip02)\" points=\"\n",
       "2390.71,360.065 2390.71,360.065 2399.8,360.065 2399.8,360.065 2390.71,360.065 2390.71,360.065 \n",
       "  \" fill=\"#009af9\" fill-opacity=\"1\"/>\n",
       "<polyline clip-path=\"url(#clip02)\" style=\"stroke:#000000; stroke-width:1; stroke-opacity:1; fill:none\" points=\"\n",
       "  2390.71,360.065 2390.71,360.065 2399.8,360.065 2390.71,360.065 \n",
       "  \"/>\n",
       "<polygon clip-path=\"url(#clip02)\" points=\"\n",
       "2399.8,360.065 2399.8,360.065 2408.9,360.065 2408.9,360.065 2399.8,360.065 2399.8,360.065 \n",
       "  \" fill=\"#009af9\" fill-opacity=\"1\"/>\n",
       "<polyline clip-path=\"url(#clip02)\" style=\"stroke:#000000; stroke-width:1; stroke-opacity:1; fill:none\" points=\"\n",
       "  2399.8,360.065 2399.8,360.065 2408.9,360.065 2399.8,360.065 \n",
       "  \"/>\n",
       "<polygon clip-path=\"url(#clip02)\" points=\"\n",
       "2408.9,360.065 2408.9,360.065 2417.99,360.065 2417.99,360.065 2408.9,360.065 2408.9,360.065 \n",
       "  \" fill=\"#009af9\" fill-opacity=\"1\"/>\n",
       "<polyline clip-path=\"url(#clip02)\" style=\"stroke:#000000; stroke-width:1; stroke-opacity:1; fill:none\" points=\"\n",
       "  2408.9,360.065 2408.9,360.065 2417.99,360.065 2408.9,360.065 \n",
       "  \"/>\n",
       "<polygon clip-path=\"url(#clip02)\" points=\"\n",
       "2417.99,360.065 2417.99,360.065 2427.09,360.065 2427.09,360.065 2417.99,360.065 2417.99,360.065 \n",
       "  \" fill=\"#009af9\" fill-opacity=\"1\"/>\n",
       "<polyline clip-path=\"url(#clip02)\" style=\"stroke:#000000; stroke-width:1; stroke-opacity:1; fill:none\" points=\"\n",
       "  2417.99,360.065 2417.99,360.065 2427.09,360.065 2417.99,360.065 \n",
       "  \"/>\n",
       "<polygon clip-path=\"url(#clip02)\" points=\"\n",
       "2427.09,360.065 2427.09,360.065 2436.18,360.065 2436.18,360.065 2427.09,360.065 2427.09,360.065 \n",
       "  \" fill=\"#009af9\" fill-opacity=\"1\"/>\n",
       "<polyline clip-path=\"url(#clip02)\" style=\"stroke:#000000; stroke-width:1; stroke-opacity:1; fill:none\" points=\"\n",
       "  2427.09,360.065 2427.09,360.065 2436.18,360.065 2427.09,360.065 \n",
       "  \"/>\n",
       "<polygon clip-path=\"url(#clip02)\" points=\"\n",
       "2436.18,360.065 2436.18,360.065 2445.28,360.065 2445.28,360.065 2436.18,360.065 2436.18,360.065 \n",
       "  \" fill=\"#009af9\" fill-opacity=\"1\"/>\n",
       "<polyline clip-path=\"url(#clip02)\" style=\"stroke:#000000; stroke-width:1; stroke-opacity:1; fill:none\" points=\"\n",
       "  2436.18,360.065 2436.18,360.065 2445.28,360.065 2436.18,360.065 \n",
       "  \"/>\n",
       "<polygon clip-path=\"url(#clip02)\" points=\"\n",
       "2445.28,360.065 2445.28,360.065 2454.37,360.065 2454.37,360.065 2445.28,360.065 2445.28,360.065 \n",
       "  \" fill=\"#009af9\" fill-opacity=\"1\"/>\n",
       "<polyline clip-path=\"url(#clip02)\" style=\"stroke:#000000; stroke-width:1; stroke-opacity:1; fill:none\" points=\"\n",
       "  2445.28,360.065 2445.28,360.065 2454.37,360.065 2445.28,360.065 \n",
       "  \"/>\n",
       "<polygon clip-path=\"url(#clip02)\" points=\"\n",
       "2454.37,360.065 2454.37,360.065 2463.47,360.065 2463.47,360.065 2454.37,360.065 2454.37,360.065 \n",
       "  \" fill=\"#009af9\" fill-opacity=\"1\"/>\n",
       "<polyline clip-path=\"url(#clip02)\" style=\"stroke:#000000; stroke-width:1; stroke-opacity:1; fill:none\" points=\"\n",
       "  2454.37,360.065 2454.37,360.065 2463.47,360.065 2454.37,360.065 \n",
       "  \"/>\n",
       "<polygon clip-path=\"url(#clip02)\" points=\"\n",
       "2463.47,360.065 2463.47,360.065 2472.56,360.065 2472.56,360.065 2463.47,360.065 2463.47,360.065 \n",
       "  \" fill=\"#009af9\" fill-opacity=\"1\"/>\n",
       "<polyline clip-path=\"url(#clip02)\" style=\"stroke:#000000; stroke-width:1; stroke-opacity:1; fill:none\" points=\"\n",
       "  2463.47,360.065 2463.47,360.065 2472.56,360.065 2463.47,360.065 \n",
       "  \"/>\n",
       "<polygon clip-path=\"url(#clip02)\" points=\"\n",
       "2472.56,360.065 2472.56,360.065 2481.66,360.065 2481.66,360.065 2472.56,360.065 2472.56,360.065 \n",
       "  \" fill=\"#009af9\" fill-opacity=\"1\"/>\n",
       "<polyline clip-path=\"url(#clip02)\" style=\"stroke:#000000; stroke-width:1; stroke-opacity:1; fill:none\" points=\"\n",
       "  2472.56,360.065 2472.56,360.065 2481.66,360.065 2472.56,360.065 \n",
       "  \"/>\n",
       "<polygon clip-path=\"url(#clip02)\" points=\"\n",
       "2481.66,360.065 2481.66,360.065 2490.75,360.065 2490.75,360.065 2481.66,360.065 2481.66,360.065 \n",
       "  \" fill=\"#009af9\" fill-opacity=\"1\"/>\n",
       "<polyline clip-path=\"url(#clip02)\" style=\"stroke:#000000; stroke-width:1; stroke-opacity:1; fill:none\" points=\"\n",
       "  2481.66,360.065 2481.66,360.065 2490.75,360.065 2481.66,360.065 \n",
       "  \"/>\n",
       "<polygon clip-path=\"url(#clip02)\" points=\"\n",
       "2490.75,360.065 2490.75,360.065 2499.85,360.065 2499.85,360.065 2490.75,360.065 2490.75,360.065 \n",
       "  \" fill=\"#009af9\" fill-opacity=\"1\"/>\n",
       "<polyline clip-path=\"url(#clip02)\" style=\"stroke:#000000; stroke-width:1; stroke-opacity:1; fill:none\" points=\"\n",
       "  2490.75,360.065 2490.75,360.065 2499.85,360.065 2490.75,360.065 \n",
       "  \"/>\n",
       "<polygon clip-path=\"url(#clip02)\" points=\"\n",
       "2499.85,360.065 2499.85,360.065 2508.94,360.065 2508.94,360.065 2499.85,360.065 2499.85,360.065 \n",
       "  \" fill=\"#009af9\" fill-opacity=\"1\"/>\n",
       "<polyline clip-path=\"url(#clip02)\" style=\"stroke:#000000; stroke-width:1; stroke-opacity:1; fill:none\" points=\"\n",
       "  2499.85,360.065 2499.85,360.065 2508.94,360.065 2499.85,360.065 \n",
       "  \"/>\n",
       "<polygon clip-path=\"url(#clip02)\" points=\"\n",
       "2508.94,360.065 2508.94,360.065 2518.04,360.065 2518.04,360.065 2508.94,360.065 2508.94,360.065 \n",
       "  \" fill=\"#009af9\" fill-opacity=\"1\"/>\n",
       "<polyline clip-path=\"url(#clip02)\" style=\"stroke:#000000; stroke-width:1; stroke-opacity:1; fill:none\" points=\"\n",
       "  2508.94,360.065 2508.94,360.065 2518.04,360.065 2508.94,360.065 \n",
       "  \"/>\n",
       "<polygon clip-path=\"url(#clip02)\" points=\"\n",
       "2518.04,360.065 2518.04,360.065 2527.14,360.065 2527.14,360.065 2518.04,360.065 2518.04,360.065 \n",
       "  \" fill=\"#009af9\" fill-opacity=\"1\"/>\n",
       "<polyline clip-path=\"url(#clip02)\" style=\"stroke:#000000; stroke-width:1; stroke-opacity:1; fill:none\" points=\"\n",
       "  2518.04,360.065 2518.04,360.065 2527.14,360.065 2518.04,360.065 \n",
       "  \"/>\n",
       "<polygon clip-path=\"url(#clip02)\" points=\"\n",
       "2527.14,360.065 2527.14,360.065 2536.23,360.065 2536.23,360.065 2527.14,360.065 2527.14,360.065 \n",
       "  \" fill=\"#009af9\" fill-opacity=\"1\"/>\n",
       "<polyline clip-path=\"url(#clip02)\" style=\"stroke:#000000; stroke-width:1; stroke-opacity:1; fill:none\" points=\"\n",
       "  2527.14,360.065 2527.14,360.065 2536.23,360.065 2527.14,360.065 \n",
       "  \"/>\n",
       "<polygon clip-path=\"url(#clip02)\" points=\"\n",
       "2536.23,360.065 2536.23,360.065 2545.33,360.065 2545.33,360.065 2536.23,360.065 2536.23,360.065 \n",
       "  \" fill=\"#009af9\" fill-opacity=\"1\"/>\n",
       "<polyline clip-path=\"url(#clip02)\" style=\"stroke:#000000; stroke-width:1; stroke-opacity:1; fill:none\" points=\"\n",
       "  2536.23,360.065 2536.23,360.065 2545.33,360.065 2536.23,360.065 \n",
       "  \"/>\n",
       "<polygon clip-path=\"url(#clip02)\" points=\"\n",
       "2545.33,360.065 2545.33,360.065 2554.42,360.065 2554.42,360.065 2545.33,360.065 2545.33,360.065 \n",
       "  \" fill=\"#009af9\" fill-opacity=\"1\"/>\n",
       "<polyline clip-path=\"url(#clip02)\" style=\"stroke:#000000; stroke-width:1; stroke-opacity:1; fill:none\" points=\"\n",
       "  2545.33,360.065 2545.33,360.065 2554.42,360.065 2545.33,360.065 \n",
       "  \"/>\n",
       "<polygon clip-path=\"url(#clip02)\" points=\"\n",
       "2554.42,360.065 2554.42,360.065 2563.52,360.065 2563.52,360.065 2554.42,360.065 2554.42,360.065 \n",
       "  \" fill=\"#009af9\" fill-opacity=\"1\"/>\n",
       "<polyline clip-path=\"url(#clip02)\" style=\"stroke:#000000; stroke-width:1; stroke-opacity:1; fill:none\" points=\"\n",
       "  2554.42,360.065 2554.42,360.065 2563.52,360.065 2554.42,360.065 \n",
       "  \"/>\n",
       "<polygon clip-path=\"url(#clip02)\" points=\"\n",
       "2563.52,360.065 2563.52,360.065 2572.61,360.065 2572.61,360.065 2563.52,360.065 2563.52,360.065 \n",
       "  \" fill=\"#009af9\" fill-opacity=\"1\"/>\n",
       "<polyline clip-path=\"url(#clip02)\" style=\"stroke:#000000; stroke-width:1; stroke-opacity:1; fill:none\" points=\"\n",
       "  2563.52,360.065 2563.52,360.065 2572.61,360.065 2563.52,360.065 \n",
       "  \"/>\n",
       "<polygon clip-path=\"url(#clip02)\" points=\"\n",
       "2572.61,338.3 2572.61,360.065 2581.71,360.065 2581.71,338.3 2572.61,338.3 2572.61,338.3 \n",
       "  \" fill=\"#009af9\" fill-opacity=\"1\"/>\n",
       "<polyline clip-path=\"url(#clip02)\" style=\"stroke:#000000; stroke-width:1; stroke-opacity:1; fill:none\" points=\"\n",
       "  2572.61,338.3 2572.61,360.065 2581.71,360.065 2581.71,338.3 2572.61,338.3 \n",
       "  \"/>\n",
       "</svg>\n"
      ]
     },
     "execution_count": 17,
     "metadata": {},
     "output_type": "execute_result"
    }
   ],
   "source": [
    "t = c_bench.times / 1e6 # times in milliseconds\n",
    "m, σ = minimum(t), std(t)\n",
    "\n",
    "histogram(t, bins=500,\n",
    "    xlim=(m - 0.01, m + σ),\n",
    "    xlabel=\"milliseconds\", ylabel=\"count\", label=\"\")"
   ]
  },
  {
   "cell_type": "markdown",
   "metadata": {},
   "source": [
    "# 2. Python's built in `sum` "
   ]
  },
  {
   "cell_type": "markdown",
   "metadata": {},
   "source": [
    "The `PyCall` package provides a Julia interface to Python:"
   ]
  },
  {
   "cell_type": "code",
   "execution_count": 18,
   "metadata": {
    "collapsed": true,
    "scrolled": false
   },
   "outputs": [],
   "source": [
    "#Pkg.add(\"PyCall\")"
   ]
  },
  {
   "cell_type": "code",
   "execution_count": 19,
   "metadata": {
    "collapsed": true,
    "scrolled": true
   },
   "outputs": [],
   "source": [
    "using PyCall"
   ]
  },
  {
   "cell_type": "code",
   "execution_count": 20,
   "metadata": {
    "scrolled": false
   },
   "outputs": [
    {
     "data": {
      "text/plain": [
       "PyObject <built-in function sum>"
      ]
     },
     "execution_count": 20,
     "metadata": {},
     "output_type": "execute_result"
    }
   ],
   "source": [
    "# Call a low-level PyCall function to get a Python list, because\n",
    "# by default PyCall will convert to a NumPy array instead (we benchmark NumPy below):\n",
    "\n",
    "apy_list = PyCall.array2py(a, 1, 1)\n",
    "\n",
    "# get the Python built-in \"sum\" function:\n",
    "pysum = pybuiltin(\"sum\")"
   ]
  },
  {
   "cell_type": "code",
   "execution_count": 21,
   "metadata": {
    "scrolled": false
   },
   "outputs": [
    {
     "data": {
      "text/plain": [
       "5.00165183691499e6"
      ]
     },
     "execution_count": 21,
     "metadata": {},
     "output_type": "execute_result"
    }
   ],
   "source": [
    "pysum(a)"
   ]
  },
  {
   "cell_type": "code",
   "execution_count": 22,
   "metadata": {
    "scrolled": false
   },
   "outputs": [
    {
     "data": {
      "text/plain": [
       "true"
      ]
     },
     "execution_count": 22,
     "metadata": {},
     "output_type": "execute_result"
    }
   ],
   "source": [
    "pysum(a) ≈ sum(a)"
   ]
  },
  {
   "cell_type": "code",
   "execution_count": 23,
   "metadata": {
    "scrolled": false
   },
   "outputs": [
    {
     "data": {
      "text/plain": [
       "BenchmarkTools.Trial: \n",
       "  memory estimate:  512 bytes\n",
       "  allocs estimate:  17\n",
       "  --------------\n",
       "  minimum time:     74.187 ms (0.00% GC)\n",
       "  median time:      87.131 ms (0.00% GC)\n",
       "  mean time:        90.239 ms (0.00% GC)\n",
       "  maximum time:     139.743 ms (0.00% GC)\n",
       "  --------------\n",
       "  samples:          56\n",
       "  evals/sample:     1"
      ]
     },
     "execution_count": 23,
     "metadata": {},
     "output_type": "execute_result"
    }
   ],
   "source": [
    "py_list_bench = @benchmark $pysum($apy_list)"
   ]
  },
  {
   "cell_type": "code",
   "execution_count": 24,
   "metadata": {
    "scrolled": false
   },
   "outputs": [
    {
     "data": {
      "text/plain": [
       "Dict{Any,Any} with 2 entries:\n",
       "  \"C\"               => 8.31118\n",
       "  \"Python built-in\" => 74.1871"
      ]
     },
     "execution_count": 24,
     "metadata": {},
     "output_type": "execute_result"
    }
   ],
   "source": [
    "d[\"Python built-in\"] = minimum(py_list_bench.times) / 1e6\n",
    "d"
   ]
  },
  {
   "cell_type": "markdown",
   "metadata": {},
   "source": [
    "# 3. Python: `numpy` \n",
    "\n",
    "## Takes advantage of hardware \"SIMD\", but only works when it works.\n",
    "\n",
    "`numpy` is an optimized C library, callable from Python.\n",
    "It may be installed within Julia as follows:"
   ]
  },
  {
   "cell_type": "code",
   "execution_count": 25,
   "metadata": {
    "collapsed": true,
    "scrolled": false
   },
   "outputs": [],
   "source": [
    "using Conda \n",
    "#Conda.add(\"numpy\")"
   ]
  },
  {
   "cell_type": "code",
   "execution_count": 26,
   "metadata": {
    "scrolled": false
   },
   "outputs": [
    {
     "data": {
      "text/plain": [
       "BenchmarkTools.Trial: \n",
       "  memory estimate:  720 bytes\n",
       "  allocs estimate:  22\n",
       "  --------------\n",
       "  minimum time:     4.008 ms (0.00% GC)\n",
       "  median time:      4.885 ms (0.00% GC)\n",
       "  mean time:        5.735 ms (0.00% GC)\n",
       "  maximum time:     17.335 ms (0.00% GC)\n",
       "  --------------\n",
       "  samples:          870\n",
       "  evals/sample:     1"
      ]
     },
     "execution_count": 26,
     "metadata": {},
     "output_type": "execute_result"
    }
   ],
   "source": [
    "numpy_sum = pyimport(\"numpy\")[\"sum\"]\n",
    "apy_numpy = PyObject(a) # converts to a numpy array by default\n",
    "\n",
    "py_numpy_bench = @benchmark $numpy_sum($apy_numpy)"
   ]
  },
  {
   "cell_type": "code",
   "execution_count": 27,
   "metadata": {
    "scrolled": false
   },
   "outputs": [
    {
     "data": {
      "text/plain": [
       "5.001651836916007e6"
      ]
     },
     "execution_count": 27,
     "metadata": {},
     "output_type": "execute_result"
    }
   ],
   "source": [
    "numpy_sum(apy_list) # python thing"
   ]
  },
  {
   "cell_type": "code",
   "execution_count": 28,
   "metadata": {
    "scrolled": false
   },
   "outputs": [
    {
     "data": {
      "text/plain": [
       "true"
      ]
     },
     "execution_count": 28,
     "metadata": {},
     "output_type": "execute_result"
    }
   ],
   "source": [
    "numpy_sum(apy_list) ≈ sum(a)"
   ]
  },
  {
   "cell_type": "code",
   "execution_count": 29,
   "metadata": {
    "scrolled": true
   },
   "outputs": [
    {
     "data": {
      "text/plain": [
       "Dict{Any,Any} with 3 entries:\n",
       "  \"C\"               => 8.31118\n",
       "  \"Python numpy\"    => 4.00752\n",
       "  \"Python built-in\" => 74.1871"
      ]
     },
     "execution_count": 29,
     "metadata": {},
     "output_type": "execute_result"
    }
   ],
   "source": [
    "d[\"Python numpy\"] = minimum(py_numpy_bench.times) / 1e6\n",
    "d"
   ]
  },
  {
   "cell_type": "markdown",
   "metadata": {},
   "source": [
    "# 4. Python, hand-written "
   ]
  },
  {
   "cell_type": "code",
   "execution_count": 30,
   "metadata": {
    "scrolled": false
   },
   "outputs": [
    {
     "data": {
      "text/plain": [
       "PyObject <function py_sum at 0x14ae9ecf8>"
      ]
     },
     "execution_count": 30,
     "metadata": {},
     "output_type": "execute_result"
    }
   ],
   "source": [
    "py\"\"\"\n",
    "def py_sum(a):\n",
    "    s = 0.0\n",
    "    for x in a:\n",
    "        s = s + x\n",
    "    return s\n",
    "\"\"\"\n",
    "\n",
    "sum_py = py\"py_sum\""
   ]
  },
  {
   "cell_type": "code",
   "execution_count": null,
   "metadata": {
    "scrolled": false
   },
   "outputs": [],
   "source": [
    "py_hand = @benchmark $sum_py($apy_list)"
   ]
  },
  {
   "cell_type": "code",
   "execution_count": null,
   "metadata": {},
   "outputs": [],
   "source": [
    "@which sum([1.5])"
   ]
  },
  {
   "cell_type": "code",
   "execution_count": null,
   "metadata": {
    "collapsed": true
   },
   "outputs": [],
   "source": [
    "ccall(:sleep, Void, (Cint,), 3)"
   ]
  },
  {
   "cell_type": "code",
   "execution_count": null,
   "metadata": {},
   "outputs": [],
   "source": [
    "Cint, Csize_t"
   ]
  },
  {
   "cell_type": "code",
   "execution_count": 70,
   "metadata": {
    "scrolled": false
   },
   "outputs": [
    {
     "data": {
      "text/plain": [
       "4.999062801682042e6"
      ]
     },
     "execution_count": 70,
     "metadata": {},
     "output_type": "execute_result"
    }
   ],
   "source": [
    "sum_py(apy_list)"
   ]
  },
  {
   "cell_type": "code",
   "execution_count": 71,
   "metadata": {
    "scrolled": false
   },
   "outputs": [
    {
     "data": {
      "text/plain": [
       "true"
      ]
     },
     "execution_count": 71,
     "metadata": {},
     "output_type": "execute_result"
    }
   ],
   "source": [
    "sum_py(apy_list) ≈ sum(a)"
   ]
  },
  {
   "cell_type": "code",
   "execution_count": 72,
   "metadata": {
    "scrolled": true
   },
   "outputs": [
    {
     "data": {
      "text/plain": [
       "Dict{Any,Any} with 4 entries:\n",
       "  \"C\"                   => 8.13867\n",
       "  \"Python numpy\"        => 3.92877\n",
       "  \"Python hand-written\" => 442.219\n",
       "  \"Python built-in\"     => 69.4989"
      ]
     },
     "execution_count": 72,
     "metadata": {},
     "output_type": "execute_result"
    }
   ],
   "source": [
    "d[\"Python hand-written\"] = minimum(py_hand.times) / 1e6\n",
    "d"
   ]
  },
  {
   "cell_type": "markdown",
   "metadata": {},
   "source": [
    "# 5. Julia (built-in) \n",
    "\n",
    "## Written directly in Julia, not in C!"
   ]
  },
  {
   "cell_type": "code",
   "execution_count": 73,
   "metadata": {
    "scrolled": false
   },
   "outputs": [
    {
     "data": {
      "text/html": [
       "sum(a) at <a href=\"https://github.com/JuliaLang/julia/tree/903644385b91ed8d95e5e3a5716c089dd1f1b08a/base/reduce.jl#L359\" target=\"_blank\">reduce.jl:359</a>"
      ],
      "text/plain": [
       "sum(a) in Base at reduce.jl:359"
      ]
     },
     "execution_count": 73,
     "metadata": {},
     "output_type": "execute_result"
    }
   ],
   "source": [
    "@which sum(a)"
   ]
  },
  {
   "cell_type": "code",
   "execution_count": 76,
   "metadata": {
    "scrolled": false
   },
   "outputs": [
    {
     "data": {
      "text/plain": [
       "BenchmarkTools.Trial: \n",
       "  memory estimate:  0 bytes\n",
       "  allocs estimate:  0\n",
       "  --------------\n",
       "  minimum time:     3.738 ms (0.00% GC)\n",
       "  median time:      3.898 ms (0.00% GC)\n",
       "  mean time:        4.422 ms (0.00% GC)\n",
       "  maximum time:     19.699 ms (0.00% GC)\n",
       "  --------------\n",
       "  samples:          1129\n",
       "  evals/sample:     1"
      ]
     },
     "execution_count": 76,
     "metadata": {},
     "output_type": "execute_result"
    }
   ],
   "source": [
    "j_bench = @benchmark sum($a)"
   ]
  },
  {
   "cell_type": "code",
   "execution_count": 77,
   "metadata": {
    "scrolled": true
   },
   "outputs": [
    {
     "data": {
      "text/plain": [
       "Dict{Any,Any} with 5 entries:\n",
       "  \"C\"                   => 8.13867\n",
       "  \"Python numpy\"        => 3.92877\n",
       "  \"Python hand-written\" => 442.219\n",
       "  \"Python built-in\"     => 69.4989\n",
       "  \"Julia built-in\"      => 3.73791"
      ]
     },
     "execution_count": 77,
     "metadata": {},
     "output_type": "execute_result"
    }
   ],
   "source": [
    "d[\"Julia built-in\"] = minimum(j_bench.times) / 1e6\n",
    "d"
   ]
  },
  {
   "cell_type": "markdown",
   "metadata": {},
   "source": [
    "# 6. Julia (hand-written) "
   ]
  },
  {
   "cell_type": "code",
   "execution_count": 78,
   "metadata": {
    "scrolled": true
   },
   "outputs": [
    {
     "data": {
      "text/plain": [
       "mysum (generic function with 1 method)"
      ]
     },
     "execution_count": 78,
     "metadata": {},
     "output_type": "execute_result"
    }
   ],
   "source": [
    "function mysum(A)   \n",
    "    s = 0.0  # s = zero(eltype(A))\n",
    "    for a in A\n",
    "        s += a\n",
    "    end\n",
    "    s\n",
    "end"
   ]
  },
  {
   "cell_type": "code",
   "execution_count": 79,
   "metadata": {
    "scrolled": false
   },
   "outputs": [
    {
     "data": {
      "text/plain": [
       "BenchmarkTools.Trial: \n",
       "  memory estimate:  0 bytes\n",
       "  allocs estimate:  0\n",
       "  --------------\n",
       "  minimum time:     8.140 ms (0.00% GC)\n",
       "  median time:      8.475 ms (0.00% GC)\n",
       "  mean time:        8.940 ms (0.00% GC)\n",
       "  maximum time:     13.212 ms (0.00% GC)\n",
       "  --------------\n",
       "  samples:          559\n",
       "  evals/sample:     1"
      ]
     },
     "execution_count": 79,
     "metadata": {},
     "output_type": "execute_result"
    }
   ],
   "source": [
    "j_bench_hand = @benchmark mysum($a)"
   ]
  },
  {
   "cell_type": "code",
   "execution_count": null,
   "metadata": {
    "collapsed": true
   },
   "outputs": [],
   "source": []
  },
  {
   "cell_type": "code",
   "execution_count": 80,
   "metadata": {
    "scrolled": true
   },
   "outputs": [
    {
     "data": {
      "text/plain": [
       "Dict{Any,Any} with 6 entries:\n",
       "  \"C\"                   => 8.13867\n",
       "  \"Python numpy\"        => 3.92877\n",
       "  \"Julia hand-written\"  => 8.1395\n",
       "  \"Python hand-written\" => 442.219\n",
       "  \"Python built-in\"     => 69.4989\n",
       "  \"Julia built-in\"      => 3.73791"
      ]
     },
     "execution_count": 80,
     "metadata": {},
     "output_type": "execute_result"
    }
   ],
   "source": [
    "d[\"Julia hand-written\"] = minimum(j_bench_hand.times) / 1e6\n",
    "d"
   ]
  },
  {
   "cell_type": "markdown",
   "metadata": {},
   "source": [
    "# Summary"
   ]
  },
  {
   "cell_type": "code",
   "execution_count": 81,
   "metadata": {
    "scrolled": false
   },
   "outputs": [
    {
     "name": "stdout",
     "output_type": "stream",
     "text": [
      "C........................8.1\n",
      "Julia built-in...........3.7\n",
      "Julia hand-written.......8.1\n",
      "Python built-in.........69.5\n",
      "Python hand-written....442.2\n",
      "Python numpy.............3.9\n"
     ]
    }
   ],
   "source": [
    "for (key, value) in sort(collect(d))\n",
    "    println(rpad(key, 20, \".\"), lpad(round(value, 1), 8, \".\"))\n",
    "end"
   ]
  },
  {
   "cell_type": "code",
   "execution_count": 82,
   "metadata": {
    "scrolled": true
   },
   "outputs": [
    {
     "name": "stdout",
     "output_type": "stream",
     "text": [
      "Julia built-in............3.74\n",
      "Python numpy..............3.93\n",
      "C.........................8.14\n",
      "Julia hand-written........8.14\n",
      "Python built-in...........69.5\n",
      "Python hand-written.....442.22\n"
     ]
    }
   ],
   "source": [
    "for (key, value) in sort(collect(d), by=x->x[2])\n",
    "    println(rpad(key, 20, \".\"), lpad(round(value, 2), 10, \".\"))\n",
    "end"
   ]
  },
  {
   "cell_type": "code",
   "execution_count": null,
   "metadata": {
    "collapsed": true,
    "scrolled": true
   },
   "outputs": [],
   "source": []
  }
 ],
 "metadata": {
  "anaconda-cloud": {},
  "kernelspec": {
   "display_name": "Julia 0.6.0",
   "language": "julia",
   "name": "julia-0.6"
  },
  "language_info": {
   "file_extension": ".jl",
   "mimetype": "application/julia",
   "name": "julia",
   "version": "0.6.0"
  },
  "toc": {
   "colors": {
    "hover_highlight": "#DAA520",
    "running_highlight": "#FF0000",
    "selected_highlight": "#FFD700"
   },
   "moveMenuLeft": true,
   "nav_menu": {
    "height": "212px",
    "width": "252px"
   },
   "navigate_menu": true,
   "number_sections": true,
   "sideBar": true,
   "threshold": "2",
   "toc_cell": false,
   "toc_section_display": "block",
   "toc_window_display": false
  }
 },
 "nbformat": 4,
 "nbformat_minor": 2
}
