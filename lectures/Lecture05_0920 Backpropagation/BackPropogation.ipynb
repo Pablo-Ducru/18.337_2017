{
 "cells": [
  {
   "cell_type": "markdown",
   "metadata": {},
   "source": [
    "### 1d case for starters"
   ]
  },
  {
   "cell_type": "code",
   "execution_count": 2,
   "metadata": {},
   "outputs": [
    {
     "data": {
      "text/plain": [
       "1.5"
      ]
     },
     "execution_count": 2,
     "metadata": {},
     "output_type": "execute_result"
    }
   ],
   "source": [
    "w = rand(5)\n",
    "t = 1.5   # observed value"
   ]
  },
  {
   "cell_type": "code",
   "execution_count": 3,
   "metadata": {},
   "outputs": [
    {
     "data": {
      "text/plain": [
       "E (generic function with 1 method)"
      ]
     },
     "execution_count": 3,
     "metadata": {},
     "output_type": "execute_result"
    }
   ],
   "source": [
    "y(w,x) = isempty(w) ? x :  w[end] * y(w[1:end-1],x)  # w[end]*w[end-1]...w[1]*x\n",
    "δ(w,x) = y(w,x)-t\n",
    "E(w,x) = δ(w,x)^2/2  # loss function"
   ]
  },
  {
   "cell_type": "code",
   "execution_count": 4,
   "metadata": {},
   "outputs": [
    {
     "data": {
      "text/plain": [
       "5-element Array{Float64,1}:\n",
       " -0.332454\n",
       " -0.326179\n",
       " -0.204273\n",
       " -0.184636\n",
       " -0.483139"
      ]
     },
     "execution_count": 4,
     "metadata": {},
     "output_type": "execute_result"
    }
   ],
   "source": [
    "x = 2\n",
    "ForwardDiff.gradient( w->E(w,x), w)"
   ]
  },
  {
   "cell_type": "code",
   "execution_count": 5,
   "metadata": {},
   "outputs": [
    {
     "data": {
      "text/plain": [
       "5-element Array{Float64,1}:\n",
       " -0.332454\n",
       " -0.326179\n",
       " -0.204273\n",
       " -0.184636\n",
       " -0.483139"
      ]
     },
     "execution_count": 5,
     "metadata": {},
     "output_type": "execute_result"
    }
   ],
   "source": [
    "#  backward part  δ'(w,x)*w[end]*w[end-1] ... w[k+1]\n",
    "#  forward  part   x*w[1]*w[2]*...*w[k-1]\n",
    "[ δ(w,x) * prod(w[k+1:end]) *  prod(w[1:k-1]) * x for  k=1:5]"
   ]
  },
  {
   "cell_type": "code",
   "execution_count": 6,
   "metadata": {},
   "outputs": [
    {
     "data": {
      "text/plain": [
       "5-element Array{Float64,1}:\n",
       " -0.332454\n",
       " -0.326179\n",
       " -0.204273\n",
       " -0.184636\n",
       " -0.483139"
      ]
     },
     "execution_count": 6,
     "metadata": {},
     "output_type": "execute_result"
    }
   ],
   "source": [
    "[x;accumulate(*,x,w[1:end-1])] .* [reverse(accumulate(*,δ(w,x),reverse(w[2:end])));δ(w,x)]"
   ]
  },
  {
   "cell_type": "markdown",
   "metadata": {},
   "source": [
    "### Matrix Case"
   ]
  },
  {
   "cell_type": "code",
   "execution_count": 4,
   "metadata": {},
   "outputs": [
    {
     "data": {
      "text/plain": [
       "2-element Array{Float64,1}:\n",
       " 0.328235\n",
       " 0.300813"
      ]
     },
     "execution_count": 4,
     "metadata": {},
     "output_type": "execute_result"
    }
   ],
   "source": [
    "n = [7,5,3,2]\n",
    "#n = [1,1,1]\n",
    "d = length(n)\n",
    "W = [ rand(n[i+1],n[i]) for i=1:d-1] # Neural network weights\n",
    "x = rand(n[1])                       # start of neural network\n",
    "nodes = [x]\n",
    "t = rand(n[d])                       # observation"
   ]
  },
  {
   "cell_type": "code",
   "execution_count": 345,
   "metadata": {
    "collapsed": true
   },
   "outputs": [],
   "source": [
    "# a[1] is just x  (vector of length n[1])\n",
    "# a[2] is just W[1]*x (vector of length n[2])\n",
    "# z[2] is h.(a[2])\n",
    "# a[3] is just W[2]*z[2] = W[2]*h.(W[1]*x)\n",
    "\n",
    "\n",
    "# a[1] = x\n",
    "# z[1] = a[1]\n",
    "# for k=2:???\n",
    "#  a[k] is W[k-1]*z[k]\n",
    "#  z[k] is h.(a[k])\n",
    "# end"
   ]
  },
  {
   "cell_type": "code",
   "execution_count": 2,
   "metadata": {
    "collapsed": true
   },
   "outputs": [],
   "source": [
    "# FORWARD:  the nodes\n",
    "for i=1:d-2  push!(nodes,  W[i]*nodes[i]) end\n",
    "yᵖ = W[d-1]*nodes[d-1] # predicted value\n",
    "δ⁰ = yᵖ-t      # error in prediction\n",
    "deltas = [δ⁰']\n",
    "# BACKWARD: the Deltas (motivated by a need for gradients)\n",
    "for i=d-1:-1:2 deltas=append!( [deltas[1]*W[i]],deltas) end"
   ]
  },
  {
   "cell_type": "code",
   "execution_count": 6,
   "metadata": {},
   "outputs": [
    {
     "data": {
      "text/plain": [
       "(Array{Float64,1}[[0.0546244, 0.605967, 0.820135, 0.0873103, 0.80309, 0.333033, 0.820383], [2.46582, 1.97257, 1.71574, 1.84847, 1.18815], [4.09947, 3.21916, 3.18631]], [0.956931, 6.02925])"
      ]
     },
     "execution_count": 6,
     "metadata": {},
     "output_type": "execute_result"
    }
   ],
   "source": [
    "nodes,yᵖ"
   ]
  },
  {
   "cell_type": "code",
   "execution_count": 7,
   "metadata": {},
   "outputs": [
    {
     "data": {
      "text/plain": [
       "5×7 Array{Float64,2}:\n",
       " 0.316801  3.51438  4.75647   0.506366   4.65761   1.93146  4.75791 \n",
       " 0.215903  2.39509  3.24158   0.345094   3.17421   1.31631  3.24257 \n",
       " 0.053807  0.5969   0.807862  0.0860038  0.791072  0.32805  0.808107\n",
       " 0.208933  2.31776  3.13693   0.333953   3.07173   1.27382  3.13788 \n",
       " 0.16953   1.88065  2.54533   0.270972   2.49243   1.03359  2.54611 "
      ]
     },
     "metadata": {},
     "output_type": "display_data"
    },
    {
     "data": {
      "text/plain": [
       "3×5 Array{Float64,2}:\n",
       "  9.66775  7.73386  6.7269   7.24731  4.6584 \n",
       "  2.63011  2.104    1.83006  1.97163  1.26732\n",
       " 11.6381   9.31007  8.09789  8.72436  5.60782"
      ]
     },
     "metadata": {},
     "output_type": "display_data"
    },
    {
     "data": {
      "text/plain": [
       "2×3 Array{Float64,2}:\n",
       "  2.22437   1.74672   1.72889\n",
       " 23.1352   18.1672   17.9819 "
      ]
     },
     "metadata": {},
     "output_type": "display_data"
    }
   ],
   "source": [
    "G = deltas'.*nodes'\n",
    "for i=1:d-1 \n",
    "    display(G[i]) \n",
    "end"
   ]
  },
  {
   "cell_type": "markdown",
   "metadata": {},
   "source": [
    " These are the gradients of  δ'δ/2 with respect to each of the W matrices in the W vector\n",
    " where δ depends on W,x, and t"
   ]
  },
  {
   "cell_type": "markdown",
   "metadata": {},
   "source": [
    "## Check using numerical FowardDiff"
   ]
  },
  {
   "cell_type": "code",
   "execution_count": 8,
   "metadata": {},
   "outputs": [
    {
     "data": {
      "text/plain": [
       "a (generic function with 1 method)"
      ]
     },
     "execution_count": 8,
     "metadata": {},
     "output_type": "execute_result"
    }
   ],
   "source": [
    "function a(W,x,t)  \n",
    "    z = x\n",
    "    for i=1:(d-1)\n",
    "        z = W[i]*z\n",
    "    end\n",
    "    sum(abs2,z-t)/2\n",
    "end\n",
    "        "
   ]
  },
  {
   "cell_type": "code",
   "execution_count": 9,
   "metadata": {},
   "outputs": [
    {
     "data": {
      "text/plain": [
       "5×7 Array{Float64,2}:\n",
       " 0.316801  3.5144   4.7565    0.506367   4.65765   1.93147  4.75794 \n",
       " 0.215903  2.3951   3.2416    0.345094   3.17423   1.31632  3.24258 \n",
       " 0.053807  0.5969   0.807863  0.0860038  0.791073  0.32805  0.808108\n",
       " 0.208933  2.31777  3.13694   0.333953   3.07175   1.27382  3.1379  \n",
       " 0.16953   1.88066  2.54534   0.270972   2.49244   1.03359  2.54612 "
      ]
     },
     "metadata": {},
     "output_type": "display_data"
    },
    {
     "data": {
      "text/plain": [
       "3×5 Array{Float64,2}:\n",
       "  9.66789  7.73395  6.72697  7.24739  4.65844\n",
       "  2.63013  2.10401  1.83006  1.97164  1.26732\n",
       " 11.6383   9.31021  8.09799  8.72448  5.60787"
      ]
     },
     "metadata": {},
     "output_type": "display_data"
    },
    {
     "data": {
      "text/plain": [
       "2×3 Array{Float64,2}:\n",
       "  2.22521   1.74724   1.7294\n",
       " 23.1361   18.1677   17.9824"
      ]
     },
     "metadata": {},
     "output_type": "display_data"
    }
   ],
   "source": [
    "for k=1:(d-1)\n",
    "  Z = zeros(W[k])\n",
    "  ϵ = .0001\n",
    "  for i=1:size(W[k],1), j=1:size(W[k],2)\n",
    "    WW = deepcopy(W)\n",
    "    WW[k][i,j] += ϵ  \n",
    "    Z[i,j]=  (a(WW,x,t)-a(W,x,t))/ϵ\n",
    "  end\n",
    "  display(Z)\n",
    "end"
   ]
  },
  {
   "cell_type": "markdown",
   "metadata": {},
   "source": [
    "## Add a function h"
   ]
  },
  {
   "cell_type": "code",
   "execution_count": 350,
   "metadata": {},
   "outputs": [
    {
     "data": {
      "text/plain": [
       "h′ (generic function with 1 method)"
      ]
     },
     "execution_count": 350,
     "metadata": {},
     "output_type": "execute_result"
    }
   ],
   "source": [
    "h(x)  =   x^1.5\n",
    "h′(x) = 1.5*x^.5"
   ]
  },
  {
   "cell_type": "code",
   "execution_count": 384,
   "metadata": {},
   "outputs": [
    {
     "data": {
      "text/plain": [
       "3"
      ]
     },
     "execution_count": 384,
     "metadata": {},
     "output_type": "execute_result"
    }
   ],
   "source": [
    "d"
   ]
  },
  {
   "cell_type": "code",
   "execution_count": 405,
   "metadata": {},
   "outputs": [
    {
     "data": {
      "text/plain": [
       "2-element Array{Array{Float64,2},1}:\n",
       " [-0.164155]\n",
       " [-0.383237]"
      ]
     },
     "execution_count": 405,
     "metadata": {},
     "output_type": "execute_result"
    }
   ],
   "source": [
    "# FORWARD:  the nodes\n",
    "nodes = [x, W[1]*x]\n",
    "hnodes = h.(nodes[2])\n",
    "for i=2:(d-2)     \n",
    "     push!(nodes,  W[i]*hnodes[i-1])\n",
    "     push!(hnodes, h.(nodes[end]))\n",
    "end\n",
    "yᵖ = (W[d-1]*hnodes[d-2]) # predicted value\n",
    "δ⁰ = yᵖ-t      # error in prediction\n",
    "deltas = [δ⁰']\n",
    "# BACKWARD: the Deltas\n",
    "for i=d-1:-1:3 deltas=append!( [h′.(nodes[i]').*(deltas[1]*W[i])],deltas) end\n",
    "deltas=append!( [(deltas[1]*W[2])],deltas)"
   ]
  },
  {
   "cell_type": "code",
   "execution_count": 391,
   "metadata": {},
   "outputs": [
    {
     "data": {
      "text/plain": [
       "3-element Array{Array{Float64,1},1}:\n",
       " [0.599655] \n",
       " [0.263729] \n",
       " [0.0580129]"
      ]
     },
     "execution_count": 391,
     "metadata": {},
     "output_type": "execute_result"
    }
   ],
   "source": [
    "nodes"
   ]
  },
  {
   "cell_type": "code",
   "execution_count": 406,
   "metadata": {},
   "outputs": [
    {
     "data": {
      "text/plain": [
       "1-element Array{Float64,1}:\n",
       " 0.135437"
      ]
     },
     "execution_count": 406,
     "metadata": {},
     "output_type": "execute_result"
    }
   ],
   "source": [
    "hnodes"
   ]
  },
  {
   "cell_type": "code",
   "execution_count": 407,
   "metadata": {},
   "outputs": [
    {
     "data": {
      "text/plain": [
       "3×1 Array{Any,2}:\n",
       "  [0.599655]\n",
       "  [0.263729]\n",
       " 0.0580129  "
      ]
     },
     "execution_count": 407,
     "metadata": {},
     "output_type": "execute_result"
    }
   ],
   "source": [
    "[nodes;yᵖ]"
   ]
  },
  {
   "cell_type": "code",
   "execution_count": 399,
   "metadata": {},
   "outputs": [
    {
     "data": {
      "text/plain": [
       "1×3 Array{Float64,2}:\n",
       " 0.599655  0.263729  0.0580129"
      ]
     },
     "execution_count": 399,
     "metadata": {},
     "output_type": "execute_result"
    }
   ],
   "source": [
    "[x  W[1]*x  W[2]*h.(W[1]*x)]"
   ]
  },
  {
   "cell_type": "code",
   "execution_count": 392,
   "metadata": {},
   "outputs": [
    {
     "data": {
      "text/plain": [
       "2-element Array{RowVector{Float64,Array{Float64,1}},1}:\n",
       " [-0.140617]\n",
       " [-0.328284]"
      ]
     },
     "execution_count": 392,
     "metadata": {},
     "output_type": "execute_result"
    }
   ],
   "source": [
    "deltas"
   ]
  },
  {
   "cell_type": "code",
   "execution_count": 393,
   "metadata": {},
   "outputs": [
    {
     "data": {
      "text/plain": [
       "1-element Array{Array{Float64,1},1}:\n",
       " [0.135437]"
      ]
     },
     "execution_count": 393,
     "metadata": {},
     "output_type": "execute_result"
    }
   ],
   "source": [
    "hnodes"
   ]
  },
  {
   "cell_type": "code",
   "execution_count": 423,
   "metadata": {},
   "outputs": [
    {
     "data": {
      "text/plain": [
       "a (generic function with 2 methods)"
      ]
     },
     "execution_count": 423,
     "metadata": {},
     "output_type": "execute_result"
    }
   ],
   "source": [
    "function a(W,x,t)  \n",
    "    z = x\n",
    "    for i=1:(d-2)\n",
    "        z = h.(W[i]*z)\n",
    "    end\n",
    "    z = W[d-1]*z\n",
    "    sum(abs2,z-t)/2     \n",
    "end"
   ]
  },
  {
   "cell_type": "code",
   "execution_count": 421,
   "metadata": {},
   "outputs": [
    {
     "name": "stdout",
     "output_type": "stream",
     "text": [
      "[0.135437]\n"
     ]
    },
    {
     "data": {
      "text/plain": [
       "([0.0580129], [0.0580129], [0.0580129], [0.135437], [0.0580129])"
      ]
     },
     "execution_count": 421,
     "metadata": {},
     "output_type": "execute_result"
    }
   ],
   "source": [
    "a(W,x,t),yᵖ,W[2]*hnodes[1],h.(W[1]*x),W[2]*h.(W[1]*x)"
   ]
  },
  {
   "cell_type": "code",
   "execution_count": 424,
   "metadata": {},
   "outputs": [
    {
     "data": {
      "text/plain": [
       "1×1 Array{Float64,2}:\n",
       " -0.0758509"
      ]
     },
     "metadata": {},
     "output_type": "display_data"
    },
    {
     "data": {
      "text/plain": [
       "1×1 Array{Float64,2}:\n",
       " -0.0518953"
      ]
     },
     "metadata": {},
     "output_type": "display_data"
    }
   ],
   "source": [
    "for k=1:(d-1)\n",
    "  Z = zeros(W[k])\n",
    "  ϵ = .001\n",
    "  for i=1:size(W[k],1), j=1:size(W[k],2)\n",
    "    WW = deepcopy(W)\n",
    "    WW[k][i,j] += ϵ  \n",
    "    Z[i,j]=  (a(WW,x,t)-a(W,x,t))/ϵ\n",
    "  end\n",
    "  display(Z)\n",
    "end"
   ]
  },
  {
   "cell_type": "code",
   "execution_count": 425,
   "metadata": {},
   "outputs": [
    {
     "data": {
      "text/plain": [
       "1×1 Array{Float64,2}:\n",
       " -0.0984364"
      ]
     },
     "metadata": {},
     "output_type": "display_data"
    },
    {
     "data": {
      "text/plain": [
       "1×1 Array{Float64,2}:\n",
       " -0.101071"
      ]
     },
     "metadata": {},
     "output_type": "display_data"
    }
   ],
   "source": [
    "G = deltas'.*nodes'\n",
    "for i=1:d-1 \n",
    "    display(G[i]) \n",
    "end"
   ]
  },
  {
   "cell_type": "code",
   "execution_count": 430,
   "metadata": {},
   "outputs": [
    {
     "data": {
      "text/plain": [
       "1×1 Array{Float64,2}:\n",
       " -0.0519045"
      ]
     },
     "execution_count": 430,
     "metadata": {},
     "output_type": "execute_result"
    }
   ],
   "source": [
    "δ⁰ .* h.(W[1]*x)"
   ]
  },
  {
   "cell_type": "code",
   "execution_count": 431,
   "metadata": {},
   "outputs": [
    {
     "data": {
      "text/plain": [
       "1-element Array{Float64,1}:\n",
       " -0.148004"
      ]
     },
     "execution_count": 431,
     "metadata": {},
     "output_type": "execute_result"
    }
   ],
   "source": [
    "δ⁰ .*w[2]*h′.(W[1]*x)"
   ]
  },
  {
   "cell_type": "code",
   "execution_count": 429,
   "metadata": {},
   "outputs": [
    {
     "data": {
      "text/plain": [
       "1×1 Array{Float64,2}:\n",
       " -0.383237"
      ]
     },
     "execution_count": 429,
     "metadata": {},
     "output_type": "execute_result"
    }
   ],
   "source": [
    "δ⁰"
   ]
  },
  {
   "cell_type": "code",
   "execution_count": 2,
   "metadata": {},
   "outputs": [
    {
     "name": "stdout",
     "output_type": "stream",
     "text": [
      "search: \u001b[1mt\u001b[22m\u001b[1mr\u001b[22m\u001b[1mi\u001b[22m\u001b[1ml\u001b[22m \u001b[1mt\u001b[22m\u001b[1mr\u001b[22m\u001b[1mi\u001b[22m\u001b[1ml\u001b[22m! is\u001b[1mt\u001b[22m\u001b[1mr\u001b[22m\u001b[1mi\u001b[22m\u001b[1ml\u001b[22m \u001b[1mt\u001b[22m\u001b[1mr\u001b[22ma\u001b[1mi\u001b[22m\u001b[1ml\u001b[22ming_ones \u001b[1mt\u001b[22m\u001b[1mr\u001b[22ma\u001b[1mi\u001b[22m\u001b[1ml\u001b[22ming_zeros fac\u001b[1mt\u001b[22mo\u001b[1mr\u001b[22m\u001b[1mi\u001b[22ma\u001b[1ml\u001b[22m Upper\u001b[1mT\u001b[22m\u001b[1mr\u001b[22m\u001b[1mi\u001b[22mangu\u001b[1ml\u001b[22mar\n",
      "\n"
     ]
    },
    {
     "data": {
      "text/markdown": [
       "```\n",
       "tril(M)\n",
       "```\n",
       "\n",
       "Lower triangle of a matrix.\n",
       "\n",
       "# Example\n",
       "\n",
       "```jldoctest\n",
       "julia> a = ones(4,4)\n",
       "4×4 Array{Float64,2}:\n",
       " 1.0  1.0  1.0  1.0\n",
       " 1.0  1.0  1.0  1.0\n",
       " 1.0  1.0  1.0  1.0\n",
       " 1.0  1.0  1.0  1.0\n",
       "\n",
       "julia> tril(a)\n",
       "4×4 Array{Float64,2}:\n",
       " 1.0  0.0  0.0  0.0\n",
       " 1.0  1.0  0.0  0.0\n",
       " 1.0  1.0  1.0  0.0\n",
       " 1.0  1.0  1.0  1.0\n",
       "```\n",
       "\n",
       "```\n",
       "tril(M, k::Integer)\n",
       "```\n",
       "\n",
       "Returns the lower triangle of `M` starting from the `k`th superdiagonal.\n",
       "\n",
       "# Example\n",
       "\n",
       "```jldoctest\n",
       "julia> a = ones(4,4)\n",
       "4×4 Array{Float64,2}:\n",
       " 1.0  1.0  1.0  1.0\n",
       " 1.0  1.0  1.0  1.0\n",
       " 1.0  1.0  1.0  1.0\n",
       " 1.0  1.0  1.0  1.0\n",
       "\n",
       "julia> tril(a,3)\n",
       "4×4 Array{Float64,2}:\n",
       " 1.0  1.0  1.0  1.0\n",
       " 1.0  1.0  1.0  1.0\n",
       " 1.0  1.0  1.0  1.0\n",
       " 1.0  1.0  1.0  1.0\n",
       "\n",
       "julia> tril(a,-3)\n",
       "4×4 Array{Float64,2}:\n",
       " 0.0  0.0  0.0  0.0\n",
       " 0.0  0.0  0.0  0.0\n",
       " 0.0  0.0  0.0  0.0\n",
       " 1.0  0.0  0.0  0.0\n",
       "```\n"
      ],
      "text/plain": [
       "```\n",
       "tril(M)\n",
       "```\n",
       "\n",
       "Lower triangle of a matrix.\n",
       "\n",
       "# Example\n",
       "\n",
       "```jldoctest\n",
       "julia> a = ones(4,4)\n",
       "4×4 Array{Float64,2}:\n",
       " 1.0  1.0  1.0  1.0\n",
       " 1.0  1.0  1.0  1.0\n",
       " 1.0  1.0  1.0  1.0\n",
       " 1.0  1.0  1.0  1.0\n",
       "\n",
       "julia> tril(a)\n",
       "4×4 Array{Float64,2}:\n",
       " 1.0  0.0  0.0  0.0\n",
       " 1.0  1.0  0.0  0.0\n",
       " 1.0  1.0  1.0  0.0\n",
       " 1.0  1.0  1.0  1.0\n",
       "```\n",
       "\n",
       "```\n",
       "tril(M, k::Integer)\n",
       "```\n",
       "\n",
       "Returns the lower triangle of `M` starting from the `k`th superdiagonal.\n",
       "\n",
       "# Example\n",
       "\n",
       "```jldoctest\n",
       "julia> a = ones(4,4)\n",
       "4×4 Array{Float64,2}:\n",
       " 1.0  1.0  1.0  1.0\n",
       " 1.0  1.0  1.0  1.0\n",
       " 1.0  1.0  1.0  1.0\n",
       " 1.0  1.0  1.0  1.0\n",
       "\n",
       "julia> tril(a,3)\n",
       "4×4 Array{Float64,2}:\n",
       " 1.0  1.0  1.0  1.0\n",
       " 1.0  1.0  1.0  1.0\n",
       " 1.0  1.0  1.0  1.0\n",
       " 1.0  1.0  1.0  1.0\n",
       "\n",
       "julia> tril(a,-3)\n",
       "4×4 Array{Float64,2}:\n",
       " 0.0  0.0  0.0  0.0\n",
       " 0.0  0.0  0.0  0.0\n",
       " 0.0  0.0  0.0  0.0\n",
       " 1.0  0.0  0.0  0.0\n",
       "```\n"
      ]
     },
     "execution_count": 2,
     "metadata": {},
     "output_type": "execute_result"
    }
   ],
   "source": [
    "W1, W2, W3\n",
    "\n",
    "M =[Z  Z Z Z\n",
    " W1 Z  Z Z\n",
    " Z   W2 Z Z]\n",
    " Z   Z W3 Z]"
   ]
  },
  {
   "cell_type": "code",
   "execution_count": 3,
   "metadata": {},
   "outputs": [
    {
     "ename": "LoadError",
     "evalue": "\u001b[91mUndefVarError: W not defined\u001b[39m",
     "output_type": "error",
     "traceback": [
      "\u001b[91mUndefVarError: W not defined\u001b[39m",
      "",
      "Stacktrace:",
      " [1] \u001b[1minclude_string\u001b[22m\u001b[22m\u001b[1m(\u001b[22m\u001b[22m::String, ::String\u001b[1m)\u001b[22m\u001b[22m at \u001b[1m./loading.jl:515\u001b[22m\u001b[22m"
     ]
    }
   ],
   "source": [
    "W"
   ]
  },
  {
   "cell_type": "code",
   "execution_count": 6,
   "metadata": {},
   "outputs": [
    {
     "data": {
      "text/plain": [
       "3-element Array{Tuple{Int64,Int64},1}:\n",
       " (5, 7)\n",
       " (3, 5)\n",
       " (2, 3)"
      ]
     },
     "execution_count": 6,
     "metadata": {},
     "output_type": "execute_result"
    }
   ],
   "source": [
    "size.(W)"
   ]
  },
  {
   "cell_type": "code",
   "execution_count": 7,
   "metadata": {},
   "outputs": [
    {
     "data": {
      "text/plain": [
       "3-element Array{Int64,1}:\n",
       " 7\n",
       " 5\n",
       " 3"
      ]
     },
     "execution_count": 7,
     "metadata": {},
     "output_type": "execute_result"
    }
   ],
   "source": [
    "[7, 5, 3]"
   ]
  },
  {
   "cell_type": "code",
   "execution_count": 17,
   "metadata": {},
   "outputs": [
    {
     "data": {
      "text/plain": [
       "17×15 Array{Float64,2}:\n",
       " 0.0        0.0       0.0       0.0       …  0.0       0.0       0.0     \n",
       " 0.0        0.0       0.0       0.0          0.0       0.0       0.0     \n",
       " 0.0        0.0       0.0       0.0          0.0       0.0       0.0     \n",
       " 0.0        0.0       0.0       0.0          0.0       0.0       0.0     \n",
       " 0.0        0.0       0.0       0.0          0.0       0.0       0.0     \n",
       " 0.0        0.0       0.0       0.0       …  0.0       0.0       0.0     \n",
       " 0.0        0.0       0.0       0.0          0.0       0.0       0.0     \n",
       " 0.0743102  0.900322  0.67573   0.294891     0.0       0.0       0.0     \n",
       " 0.0595323  0.674668  0.114536  0.607535     0.0       0.0       0.0     \n",
       " 0.118557   0.964985  0.608819  0.114735     0.0       0.0       0.0     \n",
       " 0.611262   0.303786  0.986669  0.771339  …  0.0       0.0       0.0     \n",
       " 0.392662   0.459718  0.877735  0.327954     0.0       0.0       0.0     \n",
       " 0.0        0.0       0.0       0.0          0.0       0.0       0.0     \n",
       " 0.0        0.0       0.0       0.0          0.0       0.0       0.0     \n",
       " 0.0        0.0       0.0       0.0          0.0       0.0       0.0     \n",
       " 0.0        0.0       0.0       0.0       …  0.345032  0.462311  0.381104\n",
       " 0.0        0.0       0.0       0.0          0.401731  0.298742  0.642869"
      ]
     },
     "execution_count": 17,
     "metadata": {},
     "output_type": "execute_result"
    }
   ],
   "source": [
    "WW =[zeros(7,15)\n",
    " W[1]   zeros(5,8) \n",
    "zeros(3,7) W[2]  zeros(3,3)\n",
    "zeros(2,12) W[3]]"
   ]
  },
  {
   "cell_type": "code",
   "execution_count": 46,
   "metadata": {},
   "outputs": [
    {
     "data": {
      "text/html": [
       "<img src=\"data:image/png;base64,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\" />"
      ]
     },
     "execution_count": 46,
     "metadata": {},
     "output_type": "execute_result"
    }
   ],
   "source": [
    "#pyplot()\n",
    "heatmap((sign.(WW)),aspectratio=1.0)\n",
    "yflip!()"
   ]
  },
  {
   "cell_type": "code",
   "execution_count": 52,
   "metadata": {},
   "outputs": [
    {
     "data": {
      "text/plain": [
       "15-element Array{Float64,1}:\n",
       " 1.0\n",
       " 1.0\n",
       " 1.0\n",
       " 1.0\n",
       " 1.0\n",
       " 1.0\n",
       " 1.0\n",
       " 0.0\n",
       " 0.0\n",
       " 0.0\n",
       " 0.0\n",
       " 0.0\n",
       " 0.0\n",
       " 0.0\n",
       " 0.0"
      ]
     },
     "execution_count": 52,
     "metadata": {},
     "output_type": "execute_result"
    }
   ],
   "source": [
    "x1 = [ones(7);0*ones(5);0*ones(3)]"
   ]
  },
  {
   "cell_type": "code",
   "execution_count": 56,
   "metadata": {},
   "outputs": [
    {
     "data": {
      "text/plain": [
       "17-element Array{Float64,1}:\n",
       " 10.0    \n",
       " 10.0    \n",
       " 10.0    \n",
       " 10.0    \n",
       " 10.0    \n",
       " 10.0    \n",
       " 10.0    \n",
       "  2.87487\n",
       "  3.26217\n",
       "  2.89749\n",
       "  4.17944\n",
       "  2.86399\n",
       "  0.0    \n",
       "  0.0    \n",
       "  0.0    \n",
       "  0.0    \n",
       "  0.0    "
      ]
     },
     "execution_count": 56,
     "metadata": {},
     "output_type": "execute_result"
    }
   ],
   "source": [
    "x2 = WW*x1 + [10*ones(7);0*ones(5);0*ones(3);0*ones(2)]"
   ]
  },
  {
   "cell_type": "code",
   "execution_count": 69,
   "metadata": {},
   "outputs": [
    {
     "data": {
      "text/plain": [
       "17-element Array{Float64,1}:\n",
       " 14.0    \n",
       " 14.0    \n",
       " 14.0    \n",
       " 14.0    \n",
       " 14.0    \n",
       " 14.0    \n",
       " 14.0    \n",
       " 28.7487 \n",
       " 32.6217 \n",
       " 28.9749 \n",
       " 41.7944 \n",
       " 28.6399 \n",
       "  6.80444\n",
       "  7.19458\n",
       "  7.25074\n",
       "  0.0    \n",
       "  0.0    "
      ]
     },
     "execution_count": 69,
     "metadata": {},
     "output_type": "execute_result"
    }
   ],
   "source": [
    "x3 = WW*(x2[1:15])+ [14*ones(7);0*ones(5);0*ones(3);0*ones(2)]"
   ]
  },
  {
   "cell_type": "code",
   "execution_count": 72,
   "metadata": {},
   "outputs": [
    {
     "data": {
      "text/plain": [
       "17×10 Array{Float64,2}:\n",
       " 14.0      14.0      14.0      14.0      …  14.0      14.0      14.0    \n",
       " 14.0      14.0      14.0      14.0         14.0      14.0      14.0    \n",
       " 14.0      14.0      14.0      14.0         14.0      14.0      14.0    \n",
       " 14.0      14.0      14.0      14.0         14.0      14.0      14.0    \n",
       " 14.0      14.0      14.0      14.0         14.0      14.0      14.0    \n",
       " 14.0      14.0      14.0      14.0      …  14.0      14.0      14.0    \n",
       " 14.0      14.0      14.0      14.0         14.0      14.0      14.0    \n",
       " 40.2482   40.2482   40.2482   40.2482      40.2482   40.2482   40.2482 \n",
       " 45.6704   45.6704   45.6704   45.6704      45.6704   45.6704   45.6704 \n",
       " 40.5648   40.5648   40.5648   40.5648      40.5648   40.5648   40.5648 \n",
       " 58.5122   58.5122   58.5122   58.5122   …  58.5122   58.5122   58.5122 \n",
       " 40.0958   40.0958   40.0958   40.0958      40.0958   40.0958   40.0958 \n",
       " 68.0444   68.0444   68.0444   68.0444      68.0444   68.0444   68.0444 \n",
       " 71.9458   71.9458   71.9458   71.9458      71.9458   71.9458   71.9458 \n",
       " 72.5074   72.5074   72.5074   72.5074      72.5074   72.5074   72.5074 \n",
       "  8.43716   8.43716   8.43716   8.43716  …   8.43716   8.43716   8.43716\n",
       "  9.54415   9.54415   9.54415   9.54415      9.54415   9.54415   9.54415"
      ]
     },
     "execution_count": 72,
     "metadata": {},
     "output_type": "execute_result"
    }
   ],
   "source": [
    "x4 = WW*(x3[1:15].*ones(1,10))+ [14*ones(7,10);0*ones(5,10);0*ones(3,10);0*ones(2,10)]"
   ]
  },
  {
   "cell_type": "code",
   "execution_count": 78,
   "metadata": {},
   "outputs": [
    {
     "data": {
      "text/plain": [
       "5×5 Array{Int64,2}:\n",
       " 0  0  0  0  0\n",
       " 0  0  0  0  0\n",
       " 1  0  0  0  0\n",
       " 2  1  0  0  0\n",
       " 3  2  1  0  0"
      ]
     },
     "execution_count": 78,
     "metadata": {},
     "output_type": "execute_result"
    }
   ],
   "source": [
    "[ 0<(i-j-1)<4 ? i-j-1 : 0      for i=1:5,j=1:5]"
   ]
  },
  {
   "cell_type": "code",
   "execution_count": 80,
   "metadata": {},
   "outputs": [
    {
     "data": {
      "text/plain": [
       "6×5 Array{Int64,2}:\n",
       " 3  0  0  0  0\n",
       " 2  3  0  0  0\n",
       " 1  2  3  0  0\n",
       " 0  1  2  3  0\n",
       " 0  0  1  2  3\n",
       " 0  0  0  1  2"
      ]
     },
     "execution_count": 80,
     "metadata": {},
     "output_type": "execute_result"
    }
   ],
   "source": [
    "[3 0 0 0 0\n",
    "    2 3 0 0 0\n",
    "1 2 3 0 0\n",
    " 0 1 2 3 0\n",
    " 0 0 1 2 3\n",
    "0 0 0 1 2]"
   ]
  },
  {
   "cell_type": "code",
   "execution_count": null,
   "metadata": {
    "collapsed": true
   },
   "outputs": [],
   "source": []
  }
 ],
 "metadata": {
  "kernelspec": {
   "display_name": "Julia 0.6.0",
   "language": "julia",
   "name": "julia-0.6"
  },
  "language_info": {
   "file_extension": ".jl",
   "mimetype": "application/julia",
   "name": "julia",
   "version": "0.6.0"
  }
 },
 "nbformat": 4,
 "nbformat_minor": 2
}
