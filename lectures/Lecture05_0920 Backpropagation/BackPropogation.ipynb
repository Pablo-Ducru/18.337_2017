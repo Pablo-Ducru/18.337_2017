{
 "cells": [
  {
   "cell_type": "markdown",
   "metadata": {},
   "source": [
    "### 1d case for starters"
   ]
  },
  {
   "cell_type": "code",
   "execution_count": 2,
   "metadata": {},
   "outputs": [
    {
     "data": {
      "text/plain": [
       "1.5"
      ]
     },
     "execution_count": 2,
     "metadata": {},
     "output_type": "execute_result"
    }
   ],
   "source": [
    "w = rand(5)\n",
    "t = 1.5   # observed value"
   ]
  },
  {
   "cell_type": "code",
   "execution_count": 3,
   "metadata": {},
   "outputs": [
    {
     "data": {
      "text/plain": [
       "E (generic function with 1 method)"
      ]
     },
     "execution_count": 3,
     "metadata": {},
     "output_type": "execute_result"
    }
   ],
   "source": [
    "y(w,x) = isempty(w) ? x :  w[end] * y(w[1:end-1],x)  # w[end]*w[end-1]...w[1]*x\n",
    "δ(w,x) = y(w,x)-t\n",
    "E(w,x) = δ(w,x)^2/2  # loss function"
   ]
  },
  {
   "cell_type": "code",
   "execution_count": 4,
   "metadata": {},
   "outputs": [
    {
     "data": {
      "text/plain": [
       "5-element Array{Float64,1}:\n",
       " -0.332454\n",
       " -0.326179\n",
       " -0.204273\n",
       " -0.184636\n",
       " -0.483139"
      ]
     },
     "execution_count": 4,
     "metadata": {},
     "output_type": "execute_result"
    }
   ],
   "source": [
    "x = 2\n",
    "ForwardDiff.gradient( w->E(w,x), w)"
   ]
  },
  {
   "cell_type": "code",
   "execution_count": 5,
   "metadata": {},
   "outputs": [
    {
     "data": {
      "text/plain": [
       "5-element Array{Float64,1}:\n",
       " -0.332454\n",
       " -0.326179\n",
       " -0.204273\n",
       " -0.184636\n",
       " -0.483139"
      ]
     },
     "execution_count": 5,
     "metadata": {},
     "output_type": "execute_result"
    }
   ],
   "source": [
    "#  backward part  δ'(w,x)*w[end]*w[end-1] ... w[k+1]\n",
    "#  forward  part   x*w[1]*w[2]*...*w[k-1]\n",
    "[ δ(w,x) * prod(w[k+1:end]) *  prod(w[1:k-1]) * x for  k=1:5]"
   ]
  },
  {
   "cell_type": "code",
   "execution_count": 6,
   "metadata": {},
   "outputs": [
    {
     "data": {
      "text/plain": [
       "5-element Array{Float64,1}:\n",
       " -0.332454\n",
       " -0.326179\n",
       " -0.204273\n",
       " -0.184636\n",
       " -0.483139"
      ]
     },
     "execution_count": 6,
     "metadata": {},
     "output_type": "execute_result"
    }
   ],
   "source": [
    "[x;accumulate(*,x,w[1:end-1])] .* [reverse(accumulate(*,δ(w,x),reverse(w[2:end])));δ(w,x)]"
   ]
  },
  {
   "cell_type": "markdown",
   "metadata": {},
   "source": [
    "### Matrix Case"
   ]
  },
  {
   "cell_type": "code",
   "execution_count": 344,
   "metadata": {},
   "outputs": [
    {
     "data": {
      "text/plain": [
       "1-element Array{Float64,1}:\n",
       " 0.44125"
      ]
     },
     "execution_count": 344,
     "metadata": {},
     "output_type": "execute_result"
    }
   ],
   "source": [
    "n = [7,5,3,2]\n",
    "n = [1,1,1]\n",
    "d = length(n)\n",
    "W = [ rand(n[i+1],n[i]) for i=1:d-1] # Neural network weights\n",
    "x = rand(n[1])                       # start of neural network\n",
    "nodes = [x]\n",
    "t = rand(n[d])                       # observation"
   ]
  },
  {
   "cell_type": "code",
   "execution_count": 345,
   "metadata": {
    "collapsed": true
   },
   "outputs": [],
   "source": [
    "# a[1] is just x  (vector of length n[1])\n",
    "# a[2] is just W[1]*x (vector of length n[2])\n",
    "# z[2] is h.(a[2])\n",
    "# a[3] is just W[2]*z[2] = W[2]*h.(W[1]*x)\n",
    "\n",
    "\n",
    "# a[1] = x\n",
    "# z[1] = a[1]\n",
    "# for k=2:???\n",
    "#  a[k] is W[k-1]*z[k]\n",
    "#  z[k] is h.(a[k])\n",
    "# end"
   ]
  },
  {
   "cell_type": "code",
   "execution_count": 346,
   "metadata": {},
   "outputs": [],
   "source": [
    "# FORWARD:  the nodes\n",
    "for i=1:d-2  push!(nodes,  W[i]*nodes[i]) end\n",
    "yᵖ = W[d-1]*nodes[d-1] # predicted value\n",
    "δ⁰ = yᵖ-t      # error in prediction\n",
    "deltas = [δ⁰']\n",
    "# BACKWARD: the Deltas\n",
    "for i=d-1:-1:2 deltas=append!( [deltas[1]*W[i]],deltas) end"
   ]
  },
  {
   "cell_type": "code",
   "execution_count": 347,
   "metadata": {},
   "outputs": [
    {
     "data": {
      "text/plain": [
       "1×1 Array{Float64,2}:\n",
       " -0.0843216"
      ]
     },
     "metadata": {},
     "output_type": "display_data"
    },
    {
     "data": {
      "text/plain": [
       "1×1 Array{Float64,2}:\n",
       " -0.0865783"
      ]
     },
     "metadata": {},
     "output_type": "display_data"
    }
   ],
   "source": [
    "G = deltas'.*nodes'\n",
    "for i=1:d-1 \n",
    "    display(G[i]) \n",
    "end"
   ]
  },
  {
   "cell_type": "markdown",
   "metadata": {},
   "source": [
    " These are the gradients of  δ'δ/2 with respect to each of the W matrices in the W vector\n",
    " where δ depends on W,x, and t"
   ]
  },
  {
   "cell_type": "markdown",
   "metadata": {},
   "source": [
    "## Check using numerical FowardDiff"
   ]
  },
  {
   "cell_type": "code",
   "execution_count": 348,
   "metadata": {},
   "outputs": [
    {
     "data": {
      "text/plain": [
       "a (generic function with 2 methods)"
      ]
     },
     "execution_count": 348,
     "metadata": {},
     "output_type": "execute_result"
    }
   ],
   "source": [
    "function a(W,x,t)  \n",
    "    z = x\n",
    "    for i=1:(d-1)\n",
    "        z = W[i]*z\n",
    "    end\n",
    "    sum(abs2,z-t)/2\n",
    "end\n",
    "        "
   ]
  },
  {
   "cell_type": "code",
   "execution_count": 349,
   "metadata": {},
   "outputs": [
    {
     "data": {
      "text/plain": [
       "1×1 Array{Float64,2}:\n",
       " -0.0843183"
      ]
     },
     "metadata": {},
     "output_type": "display_data"
    },
    {
     "data": {
      "text/plain": [
       "1×1 Array{Float64,2}:\n",
       " -0.0865748"
      ]
     },
     "metadata": {},
     "output_type": "display_data"
    }
   ],
   "source": [
    "for k=1:(d-1)\n",
    "  Z = zeros(W[k])\n",
    "  ϵ = .0001\n",
    "  for i=1:size(W[k],1), j=1:size(W[k],2)\n",
    "    WW = deepcopy(W)\n",
    "    WW[k][i,j] += ϵ  \n",
    "    Z[i,j]=  (a(WW,x,t)-a(W,x,t))/ϵ\n",
    "  end\n",
    "  display(Z)\n",
    "end"
   ]
  },
  {
   "cell_type": "markdown",
   "metadata": {},
   "source": [
    "## Add a function h"
   ]
  },
  {
   "cell_type": "code",
   "execution_count": 350,
   "metadata": {},
   "outputs": [
    {
     "data": {
      "text/plain": [
       "h′ (generic function with 1 method)"
      ]
     },
     "execution_count": 350,
     "metadata": {},
     "output_type": "execute_result"
    }
   ],
   "source": [
    "h(x)  =   x^1.5\n",
    "h′(x) = 1.5*x^.5"
   ]
  },
  {
   "cell_type": "code",
   "execution_count": 384,
   "metadata": {},
   "outputs": [
    {
     "data": {
      "text/plain": [
       "3"
      ]
     },
     "execution_count": 384,
     "metadata": {},
     "output_type": "execute_result"
    }
   ],
   "source": [
    "d"
   ]
  },
  {
   "cell_type": "code",
   "execution_count": 405,
   "metadata": {},
   "outputs": [
    {
     "data": {
      "text/plain": [
       "2-element Array{Array{Float64,2},1}:\n",
       " [-0.164155]\n",
       " [-0.383237]"
      ]
     },
     "execution_count": 405,
     "metadata": {},
     "output_type": "execute_result"
    }
   ],
   "source": [
    "# FORWARD:  the nodes\n",
    "nodes = [x, W[1]*x]\n",
    "hnodes = h.(nodes[2])\n",
    "for i=2:(d-2)     \n",
    "     push!(nodes,  W[i]*hnodes[i-1])\n",
    "     push!(hnodes, h.(nodes[end]))\n",
    "end\n",
    "yᵖ = (W[d-1]*hnodes[d-2]) # predicted value\n",
    "δ⁰ = yᵖ-t      # error in prediction\n",
    "deltas = [δ⁰']\n",
    "# BACKWARD: the Deltas\n",
    "for i=d-1:-1:3 deltas=append!( [h′.(nodes[i]').*(deltas[1]*W[i])],deltas) end\n",
    "deltas=append!( [(deltas[1]*W[2])],deltas)"
   ]
  },
  {
   "cell_type": "code",
   "execution_count": 391,
   "metadata": {},
   "outputs": [
    {
     "data": {
      "text/plain": [
       "3-element Array{Array{Float64,1},1}:\n",
       " [0.599655] \n",
       " [0.263729] \n",
       " [0.0580129]"
      ]
     },
     "execution_count": 391,
     "metadata": {},
     "output_type": "execute_result"
    }
   ],
   "source": [
    "nodes"
   ]
  },
  {
   "cell_type": "code",
   "execution_count": 406,
   "metadata": {},
   "outputs": [
    {
     "data": {
      "text/plain": [
       "1-element Array{Float64,1}:\n",
       " 0.135437"
      ]
     },
     "execution_count": 406,
     "metadata": {},
     "output_type": "execute_result"
    }
   ],
   "source": [
    "hnodes"
   ]
  },
  {
   "cell_type": "code",
   "execution_count": 407,
   "metadata": {},
   "outputs": [
    {
     "data": {
      "text/plain": [
       "3×1 Array{Any,2}:\n",
       "  [0.599655]\n",
       "  [0.263729]\n",
       " 0.0580129  "
      ]
     },
     "execution_count": 407,
     "metadata": {},
     "output_type": "execute_result"
    }
   ],
   "source": [
    "[nodes;yᵖ]"
   ]
  },
  {
   "cell_type": "code",
   "execution_count": 399,
   "metadata": {},
   "outputs": [
    {
     "data": {
      "text/plain": [
       "1×3 Array{Float64,2}:\n",
       " 0.599655  0.263729  0.0580129"
      ]
     },
     "execution_count": 399,
     "metadata": {},
     "output_type": "execute_result"
    }
   ],
   "source": [
    "[x  W[1]*x  W[2]*h.(W[1]*x)]"
   ]
  },
  {
   "cell_type": "code",
   "execution_count": 392,
   "metadata": {},
   "outputs": [
    {
     "data": {
      "text/plain": [
       "2-element Array{RowVector{Float64,Array{Float64,1}},1}:\n",
       " [-0.140617]\n",
       " [-0.328284]"
      ]
     },
     "execution_count": 392,
     "metadata": {},
     "output_type": "execute_result"
    }
   ],
   "source": [
    "deltas"
   ]
  },
  {
   "cell_type": "code",
   "execution_count": 393,
   "metadata": {},
   "outputs": [
    {
     "data": {
      "text/plain": [
       "1-element Array{Array{Float64,1},1}:\n",
       " [0.135437]"
      ]
     },
     "execution_count": 393,
     "metadata": {},
     "output_type": "execute_result"
    }
   ],
   "source": [
    "hnodes"
   ]
  },
  {
   "cell_type": "code",
   "execution_count": 423,
   "metadata": {},
   "outputs": [
    {
     "data": {
      "text/plain": [
       "a (generic function with 2 methods)"
      ]
     },
     "execution_count": 423,
     "metadata": {},
     "output_type": "execute_result"
    }
   ],
   "source": [
    "function a(W,x,t)  \n",
    "    z = x\n",
    "    for i=1:(d-2)\n",
    "        z = h.(W[i]*z)\n",
    "    end\n",
    "    z = W[d-1]*z\n",
    "    sum(abs2,z-t)/2\n",
    "end"
   ]
  },
  {
   "cell_type": "code",
   "execution_count": 421,
   "metadata": {},
   "outputs": [
    {
     "name": "stdout",
     "output_type": "stream",
     "text": [
      "[0.135437]\n"
     ]
    },
    {
     "data": {
      "text/plain": [
       "([0.0580129], [0.0580129], [0.0580129], [0.135437], [0.0580129])"
      ]
     },
     "execution_count": 421,
     "metadata": {},
     "output_type": "execute_result"
    }
   ],
   "source": [
    "a(W,x,t),yᵖ,W[2]*hnodes[1],h.(W[1]*x),W[2]*h.(W[1]*x)"
   ]
  },
  {
   "cell_type": "code",
   "execution_count": 424,
   "metadata": {},
   "outputs": [
    {
     "data": {
      "text/plain": [
       "1×1 Array{Float64,2}:\n",
       " -0.0758509"
      ]
     },
     "metadata": {},
     "output_type": "display_data"
    },
    {
     "data": {
      "text/plain": [
       "1×1 Array{Float64,2}:\n",
       " -0.0518953"
      ]
     },
     "metadata": {},
     "output_type": "display_data"
    }
   ],
   "source": [
    "for k=1:(d-1)\n",
    "  Z = zeros(W[k])\n",
    "  ϵ = .001\n",
    "  for i=1:size(W[k],1), j=1:size(W[k],2)\n",
    "    WW = deepcopy(W)\n",
    "    WW[k][i,j] += ϵ  \n",
    "    Z[i,j]=  (a(WW,x,t)-a(W,x,t))/ϵ\n",
    "  end\n",
    "  display(Z)\n",
    "end"
   ]
  },
  {
   "cell_type": "code",
   "execution_count": 425,
   "metadata": {},
   "outputs": [
    {
     "data": {
      "text/plain": [
       "1×1 Array{Float64,2}:\n",
       " -0.0984364"
      ]
     },
     "metadata": {},
     "output_type": "display_data"
    },
    {
     "data": {
      "text/plain": [
       "1×1 Array{Float64,2}:\n",
       " -0.101071"
      ]
     },
     "metadata": {},
     "output_type": "display_data"
    }
   ],
   "source": [
    "G = deltas'.*nodes'\n",
    "for i=1:d-1 \n",
    "    display(G[i]) \n",
    "end"
   ]
  },
  {
   "cell_type": "code",
   "execution_count": 430,
   "metadata": {},
   "outputs": [
    {
     "data": {
      "text/plain": [
       "1×1 Array{Float64,2}:\n",
       " -0.0519045"
      ]
     },
     "execution_count": 430,
     "metadata": {},
     "output_type": "execute_result"
    }
   ],
   "source": [
    "δ⁰ .* h.(W[1]*x)"
   ]
  },
  {
   "cell_type": "code",
   "execution_count": 431,
   "metadata": {},
   "outputs": [
    {
     "data": {
      "text/plain": [
       "1-element Array{Float64,1}:\n",
       " -0.148004"
      ]
     },
     "execution_count": 431,
     "metadata": {},
     "output_type": "execute_result"
    }
   ],
   "source": [
    "δ⁰ .*w[2]*h′.(W[1]*x)"
   ]
  },
  {
   "cell_type": "code",
   "execution_count": 429,
   "metadata": {},
   "outputs": [
    {
     "data": {
      "text/plain": [
       "1×1 Array{Float64,2}:\n",
       " -0.383237"
      ]
     },
     "execution_count": 429,
     "metadata": {},
     "output_type": "execute_result"
    }
   ],
   "source": [
    "δ⁰"
   ]
  },
  {
   "cell_type": "code",
   "execution_count": null,
   "metadata": {
    "collapsed": true
   },
   "outputs": [],
   "source": []
  }
 ],
 "metadata": {
  "kernelspec": {
   "display_name": "Julia 0.6.0",
   "language": "julia",
   "name": "julia-0.6"
  },
  "language_info": {
   "file_extension": ".jl",
   "mimetype": "application/julia",
   "name": "julia",
   "version": "0.6.0"
  }
 },
 "nbformat": 4,
 "nbformat_minor": 2
}
