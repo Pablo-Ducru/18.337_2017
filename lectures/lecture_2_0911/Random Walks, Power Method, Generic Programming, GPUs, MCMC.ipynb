{
 "cells": [
  {
   "cell_type": "code",
   "execution_count": 42,
   "metadata": {},
   "outputs": [
    {
     "data": {
      "text/plain": [
       "Plots.PlotlyBackend()"
      ]
     },
     "execution_count": 42,
     "metadata": {},
     "output_type": "execute_result"
    }
   ],
   "source": [
    "using Plots\n",
    "plotly()"
   ]
  },
  {
   "cell_type": "markdown",
   "metadata": {},
   "source": [
    "1. Random Walks"
   ]
  },
  {
   "cell_type": "markdown",
   "metadata": {},
   "source": [
    "1a. Random Markov Matrix (Definition of Markov: rows sum to 1, every element between 0 and 1)"
   ]
  },
  {
   "cell_type": "code",
   "execution_count": 309,
   "metadata": {},
   "outputs": [
    {
     "data": {
      "text/plain": [
       "5×5 Array{Float64,2}:\n",
       " 0.416667   0.0833333  0.0833333  0.166667  0.25    \n",
       " 0.294118   0.235294   0.117647   0.176471  0.176471\n",
       " 0.0833333  0.0833333  0.416667   0.25      0.166667\n",
       " 0.133333   0.333333   0.2        0.133333  0.2     \n",
       " 0.176471   0.294118   0.0588235  0.235294  0.235294"
      ]
     },
     "execution_count": 309,
     "metadata": {},
     "output_type": "execute_result"
    }
   ],
   "source": [
    "# create a matrix of probabilities\n",
    "# P[i,j] is the probability of going from i to j\n",
    "n = 5\n",
    "P = rand(1:5,n,n)\n",
    "P = P ./ sum(P,2) "
   ]
  },
  {
   "cell_type": "code",
   "execution_count": 310,
   "metadata": {},
   "outputs": [
    {
     "data": {
      "text/plain": [
       "take_walk (generic function with 3 methods)"
      ]
     },
     "execution_count": 310,
     "metadata": {},
     "output_type": "execute_result"
    }
   ],
   "source": [
    "C = cumsum(P,2)\n",
    "function take_walk(C, steps=200)\n",
    "    walk = [rand(1:n)]\n",
    "    for i=1:(steps-1)\n",
    "        push!(walk, 1+sum(rand().> C[walk[i],:] ))    \n",
    "    end\n",
    "    return(walk)\n",
    "end"
   ]
  },
  {
   "cell_type": "code",
   "execution_count": 311,
   "metadata": {},
   "outputs": [
    {
     "data": {
      "text/html": [
       "<script src=\"/Users/edelman/.julia/v0.6/Plots/src/backends/../../deps/plotly-latest.min.js\"></script>    <div id=\"17746f87-65d1-4865-a06d-1d68b7454cb4\" style=\"width:600px;height:400px;\"></div>\n",
       "    <script>\n",
       "    PLOT = document.getElementById('17746f87-65d1-4865-a06d-1d68b7454cb4');\n",
       "    Plotly.plot(PLOT, [{\"showlegend\":true,\"marker\":{\"color\":\"rgba(0, 154, 250, 1.000)\"},\"xaxis\":\"x\",\"colorbar\":{\"title\":\"\"},\"y\":[46526.0,0.0,0.0,0.0,0.0,41069.0,0.0,0.0,0.0,0.0,32482.0,0.0,0.0,0.0,0.0,38215.0,0.0,0.0,0.0,0.0,41708.0],\"type\":\"bar\",\"name\":\"y1\",\"yaxis\":\"y\",\"orientation\":\"v\",\"x\":[1.1,1.2999999999999998,1.5,1.7000000000000002,1.9,2.1,2.3,2.5,2.7,2.9,3.1,3.3,3.5,3.7,3.9,4.1,4.300000000000001,4.5,4.699999999999999,4.9,5.1]}], {\"showlegend\":true,\"xaxis\":{\"tickvals\":[2.0,3.0,4.0,5.0],\"ticks\":\"inside\",\"tickmode\":\"array\",\"domain\":[0.08063575386410031,0.9934383202099737],\"linecolor\":\"rgba(0, 0, 0, 1.000)\",\"showgrid\":true,\"title\":\"\",\"tickangle\":0,\"titlefont\":{\"color\":\"rgba(0, 0, 0, 1.000)\",\"family\":\"sans-serif\",\"size\":15},\"tickcolor\":\"rgba(0, 0, 0, 1.000)\",\"ticktext\":[\"2\",\"3\",\"4\",\"5\"],\"zeroline\":false,\"type\":\"-\",\"tickfont\":{\"color\":\"rgba(0, 0, 0, 1.000)\",\"family\":\"sans-serif\",\"size\":11},\"anchor\":\"y\"},\"paper_bgcolor\":\"rgba(255, 255, 255, 1.000)\",\"annotations\":[],\"height\":400,\"margin\":{\"l\":0,\"b\":20,\"r\":0,\"t\":20},\"plot_bgcolor\":\"rgba(255, 255, 255, 1.000)\",\"yaxis\":{\"tickvals\":[0.0,10000.0,20000.0,30000.0,40000.0],\"ticks\":\"inside\",\"tickmode\":\"array\",\"domain\":[0.03762029746281716,0.9901574803149606],\"linecolor\":\"rgba(0, 0, 0, 1.000)\",\"showgrid\":true,\"title\":\"\",\"tickangle\":0,\"titlefont\":{\"color\":\"rgba(0, 0, 0, 1.000)\",\"family\":\"sans-serif\",\"size\":15},\"tickcolor\":\"rgba(0, 0, 0, 1.000)\",\"ticktext\":[\"0\",\"10000\",\"20000\",\"30000\",\"40000\"],\"zeroline\":false,\"type\":\"-\",\"tickfont\":{\"color\":\"rgba(0, 0, 0, 1.000)\",\"family\":\"sans-serif\",\"size\":11},\"anchor\":\"x\"},\"legend\":{\"bordercolor\":\"rgba(0, 0, 0, 1.000)\",\"bgcolor\":\"rgba(255, 255, 255, 1.000)\",\"font\":{\"color\":\"rgba(0, 0, 0, 1.000)\",\"family\":\"sans-serif\",\"size\":11},\"y\":1.0,\"x\":1.0},\"width\":600});\n",
       "    </script>\n"
      ]
     },
     "execution_count": 311,
     "metadata": {},
     "output_type": "execute_result"
    }
   ],
   "source": [
    "steps = 200_000\n",
    "histogram( take_walk(C,steps))"
   ]
  },
  {
   "cell_type": "code",
   "execution_count": 347,
   "metadata": {},
   "outputs": [
    {
     "data": {
      "text/plain": [
       "predicted (generic function with 1 method)"
      ]
     },
     "execution_count": 347,
     "metadata": {},
     "output_type": "execute_result"
    }
   ],
   "source": [
    "function predicted(P,steps)\n",
    "  b = find(eigvals(P') .≈ 1)\n",
    "  π = steps * normalize(abs.(eigvecs(P')[:,b])[:],1)\n",
    "end"
   ]
  },
  {
   "cell_type": "code",
   "execution_count": 348,
   "metadata": {},
   "outputs": [
    {
     "data": {
      "text/plain": [
       "18-element Array{Float64,1}:\n",
       " 11114.0\n",
       " 11105.0\n",
       " 11108.5\n",
       " 11093.8\n",
       " 11079.2\n",
       " 11117.6\n",
       " 11091.4\n",
       " 11146.5\n",
       " 11145.8\n",
       " 11098.4\n",
       " 11080.4\n",
       " 11141.0\n",
       " 11145.7\n",
       " 11106.3\n",
       " 11095.5\n",
       " 11098.8\n",
       " 11118.3\n",
       " 11113.8"
      ]
     },
     "execution_count": 348,
     "metadata": {},
     "output_type": "execute_result"
    }
   ],
   "source": [
    "predicted(P,steps)"
   ]
  },
  {
   "cell_type": "markdown",
   "metadata": {},
   "source": [
    "1b. Pagerank Matrix"
   ]
  },
  {
   "cell_type": "code",
   "execution_count": 326,
   "metadata": {},
   "outputs": [
    {
     "data": {
      "text/plain": [
       "18×18 Array{Int64,2}:\n",
       " 0  0  1  1  0  0  0  0  1  1  0  0  1  1  1  0  1  1\n",
       " 0  1  0  1  0  1  1  1  0  0  1  1  1  0  1  1  0  0\n",
       " 1  1  1  1  1  1  0  0  0  1  0  1  0  1  0  1  0  1\n",
       " 1  1  1  0  0  1  0  1  1  0  1  0  1  1  0  1  1  0\n",
       " 1  1  1  0  1  0  1  1  1  0  0  0  0  1  0  1  1  1\n",
       " 1  0  0  1  1  0  0  1  0  1  0  1  1  0  0  1  1  0\n",
       " 0  1  1  0  0  1  0  1  0  0  0  0  1  1  1  0  0  0\n",
       " 0  0  0  0  1  1  1  1  1  0  1  1  0  0  0  1  1  1\n",
       " 1  0  1  0  0  1  1  0  0  1  0  1  1  0  1  0  1  1\n",
       " 1  0  0  0  0  1  0  1  1  1  0  1  1  1  1  0  0  0\n",
       " 0  1  0  0  1  0  0  1  1  0  1  1  1  0  0  0  1  0\n",
       " 1  1  0  1  1  0  1  0  0  0  1  1  1  1  1  1  0  1\n",
       " 1  0  1  0  0  0  1  0  1  1  0  1  1  0  0  0  0  1\n",
       " 1  0  0  1  0  0  1  0  1  0  0  1  1  1  0  1  0  1\n",
       " 0  0  1  1  0  0  0  1  1  1  1  0  0  1  0  0  1  0\n",
       " 0  0  1  0  0  1  0  1  1  0  1  1  1  0  1  0  1  1\n",
       " 1  1  0  1  1  1  1  1  1  1  0  0  0  0  0  0  0  0\n",
       " 0  1  0  0  0  1  0  1  1  0  0  1  0  0  1  1  1  1"
      ]
     },
     "execution_count": 326,
     "metadata": {},
     "output_type": "execute_result"
    }
   ],
   "source": [
    "n = 18\n",
    "A = rand(0:1,n,n)"
   ]
  },
  {
   "cell_type": "code",
   "execution_count": 332,
   "metadata": {},
   "outputs": [
    {
     "data": {
      "text/plain": [
       "18×18 Array{Float64,2}:\n",
       " 0.00555556  0.0111111  0.116667   …  0.783333  0.788889  0.894444  1.0\n",
       " 0.00555556  0.101111   0.106667      0.893333  0.988889  0.994444  1.0\n",
       " 0.0873737   0.174747   0.262121      0.819697  0.907071  0.912626  1.0\n",
       " 0.0873737   0.174747   0.262121      0.819697  0.907071  0.994444  1.0\n",
       " 0.0873737   0.174747   0.262121      0.737879  0.825253  0.912626  1.0\n",
       " 0.105556    0.111111   0.116667   …  0.783333  0.888889  0.994444  1.0\n",
       " 0.00555556  0.139683   0.27381       0.983333  0.988889  0.994444  1.0\n",
       " 0.00555556  0.0111111  0.0166667     0.713333  0.808889  0.904444  1.0\n",
       " 0.0955556   0.101111   0.196667      0.803333  0.808889  0.904444  1.0\n",
       " 0.105556    0.111111   0.116667      0.983333  0.988889  0.994444  1.0\n",
       " 0.00555556  0.123611   0.129167   …  0.870833  0.876389  0.994444  1.0\n",
       " 0.0805556   0.161111   0.166667      0.833333  0.913889  0.919444  1.0\n",
       " 0.118056    0.123611   0.241667      0.870833  0.876389  0.881944  1.0\n",
       " 0.105556    0.111111   0.116667      0.783333  0.888889  0.894444  1.0\n",
       " 0.00555556  0.0111111  0.129167      0.870833  0.876389  0.994444  1.0\n",
       " 0.00555556  0.0111111  0.106667   …  0.803333  0.808889  0.904444  1.0\n",
       " 0.105556    0.211111   0.216667      0.983333  0.988889  0.994444  1.0\n",
       " 0.00555556  0.111111   0.116667      0.683333  0.788889  0.894444  1.0"
      ]
     },
     "execution_count": 332,
     "metadata": {},
     "output_type": "execute_result"
    }
   ],
   "source": [
    "A = A ./ sum(A,2)\n",
    "d = .1\n",
    "P = (1-d).*A + d.*ones(n,n)./n\n",
    "C = cumsum(P,2)"
   ]
  },
  {
   "cell_type": "code",
   "execution_count": 333,
   "metadata": {},
   "outputs": [
    {
     "data": {
      "text/html": [
       "<script src=\"/Users/edelman/.julia/v0.6/Plots/src/backends/../../deps/plotly-latest.min.js\"></script>    <div id=\"705a152d-2cc5-464b-bb5e-cbbdf02fc14a\" style=\"width:600px;height:400px;\"></div>\n",
       "    <script>\n",
       "    PLOT = document.getElementById('705a152d-2cc5-464b-bb5e-cbbdf02fc14a');\n",
       "    Plotly.plot(PLOT, [{\"showlegend\":true,\"marker\":{\"color\":\"rgba(0, 154, 250, 1.000)\"},\"xaxis\":\"x\",\"colorbar\":{\"title\":\"\"},\"y\":[11650.0,9921.0,10788.0,9610.0,8181.0,11738.0,9831.0,13381.0,13921.0,10475.0,7906.0,14307.0,14167.0,10192.0,10076.0,10112.0,11521.0,12223.0],\"type\":\"bar\",\"name\":\"y1\",\"yaxis\":\"y\",\"orientation\":\"v\",\"x\":[1.5,2.5,3.5,4.5,5.5,6.5,7.5,8.5,9.5,10.5,11.5,12.5,13.5,14.5,15.5,16.5,17.5,18.5]}], {\"showlegend\":true,\"xaxis\":{\"tickvals\":[5.0,10.0,15.0],\"ticks\":\"inside\",\"tickmode\":\"array\",\"domain\":[0.08063575386410031,0.9934383202099737],\"linecolor\":\"rgba(0, 0, 0, 1.000)\",\"showgrid\":true,\"title\":\"\",\"tickangle\":0,\"titlefont\":{\"color\":\"rgba(0, 0, 0, 1.000)\",\"family\":\"sans-serif\",\"size\":15},\"tickcolor\":\"rgba(0, 0, 0, 1.000)\",\"ticktext\":[\"5\",\"10\",\"15\"],\"zeroline\":false,\"type\":\"-\",\"tickfont\":{\"color\":\"rgba(0, 0, 0, 1.000)\",\"family\":\"sans-serif\",\"size\":11},\"anchor\":\"y\"},\"paper_bgcolor\":\"rgba(255, 255, 255, 1.000)\",\"annotations\":[],\"height\":400,\"margin\":{\"l\":0,\"b\":20,\"r\":0,\"t\":20},\"plot_bgcolor\":\"rgba(255, 255, 255, 1.000)\",\"yaxis\":{\"tickvals\":[0.0,5000.0,10000.0],\"ticks\":\"inside\",\"tickmode\":\"array\",\"domain\":[0.03762029746281716,0.9901574803149606],\"linecolor\":\"rgba(0, 0, 0, 1.000)\",\"showgrid\":true,\"title\":\"\",\"tickangle\":0,\"titlefont\":{\"color\":\"rgba(0, 0, 0, 1.000)\",\"family\":\"sans-serif\",\"size\":15},\"tickcolor\":\"rgba(0, 0, 0, 1.000)\",\"ticktext\":[\"0\",\"5000\",\"10000\"],\"zeroline\":false,\"type\":\"-\",\"tickfont\":{\"color\":\"rgba(0, 0, 0, 1.000)\",\"family\":\"sans-serif\",\"size\":11},\"anchor\":\"x\"},\"legend\":{\"bordercolor\":\"rgba(0, 0, 0, 1.000)\",\"bgcolor\":\"rgba(255, 255, 255, 1.000)\",\"font\":{\"color\":\"rgba(0, 0, 0, 1.000)\",\"family\":\"sans-serif\",\"size\":11},\"y\":1.0,\"x\":1.0},\"width\":600});\n",
       "    </script>\n"
      ]
     },
     "execution_count": 333,
     "metadata": {},
     "output_type": "execute_result"
    }
   ],
   "source": [
    "steps = 200_000\n",
    "histogram( take_walk(C,steps))"
   ]
  },
  {
   "cell_type": "code",
   "execution_count": 335,
   "metadata": {},
   "outputs": [
    {
     "data": {
      "text/html": [
       "<div id=\"interact-js-shim\">\n",
       "    <script charset=\"utf-8\">\n",
       "(function (IPython, $, _, MathJax) {\n",
       "    $.event.special.destroyed = {\n",
       "\tremove: function(o) {\n",
       "\t    if (o.handler) {\n",
       "\t\to.handler.apply(this, arguments)\n",
       "\t    }\n",
       "\t}\n",
       "    }\n",
       "\n",
       "    var OutputArea = IPython.version >= \"4.0.0\" ? require(\"notebook/js/outputarea\").OutputArea : IPython.OutputArea;\n",
       "\n",
       "    var redrawValue = function (container, type, val) {\n",
       "\tvar selector = $(\"<div/>\");\n",
       "\tvar oa = new OutputArea(_.extend(selector, {\n",
       "\t    selector: selector,\n",
       "\t    prompt_area: true,\n",
       "\t    events: IPython.events,\n",
       "\t    keyboard_manager: IPython.keyboard_manager\n",
       "\t})); // Hack to work with IPython 2.1.0\n",
       "\n",
       "\tswitch (type) {\n",
       "\tcase \"image/png\":\n",
       "            var _src = 'data:' + type + ';base64,' + val;\n",
       "\t    $(container).find(\"img\").attr('src', _src);\n",
       "\t    break;\n",
       "\tcase \"text/latex\":\n",
       "\t\tif (MathJax){\n",
       "\t\t\tvar math = MathJax.Hub.getAllJax(container)[0];\n",
       "\t\t\tMathJax.Hub.Queue([\"Text\", math, val.replace(/^\\${1,2}|\\${1,2}$/g, '')]);\n",
       "\t\t\tbreak;\n",
       "\t\t}\n",
       "\tdefault:\n",
       "\t    var toinsert = OutputArea.append_map[type].apply(\n",
       "\t\toa, [val, {}, selector]\n",
       "\t    );\n",
       "\t    $(container).empty().append(toinsert.contents());\n",
       "\t    selector.remove();\n",
       "\t}\n",
       "    }\n",
       "\n",
       "\n",
       "    $(document).ready(function() {\n",
       "\tfunction initComm(evt, data) {\n",
       "\t    var comm_manager = data.kernel.comm_manager;\n",
       "        //_.extend(comm_manager.targets, require(\"widgets/js/widget\"))\n",
       "\t    comm_manager.register_target(\"Signal\", function (comm) {\n",
       "            comm.on_msg(function (msg) {\n",
       "                var val = msg.content.data.value;\n",
       "                $(\".signal-\" + comm.comm_id).each(function() {\n",
       "                var type = $(this).data(\"type\");\n",
       "                if (typeof(val[type]) !== \"undefined\" && val[type] !== null) {\n",
       "                    redrawValue(this, type, val[type], type);\n",
       "                }\n",
       "                });\n",
       "                delete val;\n",
       "                delete msg.content.data.value;\n",
       "            });\n",
       "\t    });\n",
       "\n",
       "\t    // coordingate with Comm and redraw Signals\n",
       "\t    // XXX: Test using Reactive here to improve performance\n",
       "\t    $([IPython.events]).on(\n",
       "\t\t'output_appended.OutputArea', function (event, type, value, md, toinsert) {\n",
       "\t\t    if (md && md.reactive) {\n",
       "                // console.log(md.comm_id);\n",
       "                toinsert.addClass(\"signal-\" + md.comm_id);\n",
       "                toinsert.data(\"type\", type);\n",
       "                // Signal back indicating the mimetype required\n",
       "                var comm_manager = IPython.notebook.kernel.comm_manager;\n",
       "                var comm = comm_manager.comms[md.comm_id];\n",
       "                comm.then(function (c) {\n",
       "                    c.send({action: \"subscribe_mime\",\n",
       "                       mime: type});\n",
       "                    toinsert.bind(\"destroyed\", function() {\n",
       "                        c.send({action: \"unsubscribe_mime\",\n",
       "                               mime: type});\n",
       "                    });\n",
       "                })\n",
       "\t\t    }\n",
       "\t    });\n",
       "\t}\n",
       "\n",
       "\ttry {\n",
       "\t    // try to initialize right away. otherwise, wait on the status_started event.\n",
       "\t    initComm(undefined, IPython.notebook);\n",
       "\t} catch (e) {\n",
       "\t    $([IPython.events]).on('kernel_created.Kernel kernel_created.Session', initComm);\n",
       "\t}\n",
       "    });\n",
       "})(IPython, jQuery, _, MathJax);\n",
       "</script>\n",
       "    <script>\n",
       "        window.interactLoadedFlag = true\n",
       "       $(\"#interact-js-shim\").bind(\"destroyed\", function () {\n",
       "           if (window.interactLoadedFlag) {\n",
       "               console.warn(\"JavaScript required by Interact will be removed if you remove this cell or run using Interact more than once.\")\n",
       "           }\n",
       "       })\n",
       "       $([IPython.events]).on(\"kernel_starting.Kernel kernel_restarting.Kernel\", function () { window.interactLoadedFlag = false })\n",
       "   </script>\n",
       "</div>"
      ]
     },
     "metadata": {},
     "output_type": "display_data"
    }
   ],
   "source": [
    "using Interact"
   ]
  },
  {
   "cell_type": "code",
   "execution_count": 346,
   "metadata": {},
   "outputs": [
    {
     "data": {
      "text/html": [],
      "text/plain": [
       "Interact.Options{:SelectionSlider,Float64}(23: \"input-7\" = 0.49 Float64 , \"d\", 0.49, \"0.49\", Interact.OptionDict(DataStructures.OrderedDict(\"0.0\"=>0.0,\"0.01\"=>0.01,\"0.02\"=>0.02,\"0.03\"=>0.03,\"0.04\"=>0.04,\"0.05\"=>0.05,\"0.06\"=>0.06,\"0.07\"=>0.07,\"0.08\"=>0.08,\"0.09\"=>0.09…), Dict(0.54=>\"0.54\",0.86=>\"0.86\",0.09=>\"0.09\",0.35=>\"0.35\",0.22=>\"0.22\",0.38=>\"0.38\",0.56=>\"0.56\",0.2=>\"0.2\",0.89=>\"0.89\",0.06=>\"0.06\"…)), Any[], Any[], true, \"horizontal\")"
      ]
     },
     "metadata": {},
     "output_type": "display_data"
    },
    {
     "data": {
      "text/html": [
       "<script src=\"/Users/edelman/.julia/v0.6/Plots/src/backends/../../deps/plotly-latest.min.js\"></script>    <div id=\"8383ec4f-00f5-4339-a63f-a91effbe1188\" style=\"width:600px;height:400px;\"></div>\n",
       "    <script>\n",
       "    PLOT = document.getElementById('8383ec4f-00f5-4339-a63f-a91effbe1188');\n",
       "    Plotly.plot(PLOT, [{\"showlegend\":true,\"mode\":\"lines\",\"xaxis\":\"x\",\"colorbar\":{\"title\":\"\"},\"line\":{\"color\":\"rgba(0, 154, 250, 1.000)\",\"shape\":\"linear\",\"dash\":\"solid\",\"width\":1},\"y\":[11382.766501004078,10602.183121204063,10931.503501160108,10241.462582683787,9476.350888781773,11450.456510735523,10335.667816532956,12643.673185816484,12771.317610005855,10625.690357703115,9447.324098069455,12796.909343606083,12867.191112255123,10675.329243807526,10366.963548834903,10499.608830553247,11398.270788232778,11487.330959013167],\"type\":\"scatter\",\"name\":\"y1\",\"yaxis\":\"y\",\"x\":[1,2,3,4,5,6,7,8,9,10,11,12,13,14,15,16,17,18]}], {\"showlegend\":true,\"xaxis\":{\"tickvals\":[5.0,10.0,15.0],\"ticks\":\"inside\",\"tickmode\":\"array\",\"domain\":[0.08063575386410031,0.9934383202099737],\"linecolor\":\"rgba(0, 0, 0, 1.000)\",\"showgrid\":true,\"title\":\"\",\"tickangle\":0,\"titlefont\":{\"color\":\"rgba(0, 0, 0, 1.000)\",\"family\":\"sans-serif\",\"size\":15},\"tickcolor\":\"rgba(0, 0, 0, 1.000)\",\"ticktext\":[\"5\",\"10\",\"15\"],\"zeroline\":false,\"type\":\"-\",\"tickfont\":{\"color\":\"rgba(0, 0, 0, 1.000)\",\"family\":\"sans-serif\",\"size\":11},\"anchor\":\"y\"},\"paper_bgcolor\":\"rgba(255, 255, 255, 1.000)\",\"annotations\":[],\"height\":400,\"margin\":{\"l\":0,\"b\":20,\"r\":0,\"t\":20},\"plot_bgcolor\":\"rgba(255, 255, 255, 1.000)\",\"yaxis\":{\"tickvals\":[0.0,5000.0,10000.0],\"ticks\":\"inside\",\"range\":[0.0,12867.191112255123],\"domain\":[0.03762029746281716,0.9901574803149606],\"tickmode\":\"array\",\"linecolor\":\"rgba(0, 0, 0, 1.000)\",\"showgrid\":true,\"title\":\"\",\"tickangle\":0,\"titlefont\":{\"color\":\"rgba(0, 0, 0, 1.000)\",\"family\":\"sans-serif\",\"size\":15},\"tickcolor\":\"rgba(0, 0, 0, 1.000)\",\"ticktext\":[\"0\",\"5000\",\"10000\"],\"zeroline\":false,\"type\":\"-\",\"tickfont\":{\"color\":\"rgba(0, 0, 0, 1.000)\",\"family\":\"sans-serif\",\"size\":11},\"anchor\":\"x\"},\"legend\":{\"bordercolor\":\"rgba(0, 0, 0, 1.000)\",\"bgcolor\":\"rgba(255, 255, 255, 1.000)\",\"font\":{\"color\":\"rgba(0, 0, 0, 1.000)\",\"family\":\"sans-serif\",\"size\":11},\"y\":1.0,\"x\":1.0},\"width\":600});\n",
       "    </script>\n"
      ]
     },
     "execution_count": 346,
     "metadata": {
      "comm_id": "db0e7504-7664-49aa-889e-2bdbf9d96e75",
      "reactive": true
     },
     "output_type": "execute_result"
    }
   ],
   "source": [
    "@manipulate for d=0:.01:.99\n",
    "  P = (1-d).*A + d.*ones(n,n)./n\n",
    "  ev = predicted(P,steps)\n",
    "  plot(ev,ylim=(0,maximum(ev)))\n",
    "end"
   ]
  },
  {
   "cell_type": "markdown",
   "metadata": {},
   "source": [
    "1c. Metropolis:  An inverse problem, given the distribution (the eigenvector) construct a convenient matrix.\n",
    "\n",
    "Important step to understanding Bayesian learning simulations. With Stan https://arxiv.org/pdf/1701.02434.pdf  being the best.  You will see fancier variants like Hamiltonian MCMC: https://arxiv.org/pdf/1701.02434.pdf but let's take baby steps today. For some perspective perhaps read http://fastml.com/bayesian-machine-learning/ ."
   ]
  },
  {
   "cell_type": "code",
   "execution_count": 1,
   "metadata": {},
   "outputs": [
    {
     "data": {
      "text/plain": [
       "5-element Array{Float64,1}:\n",
       " 0.131776\n",
       " 0.203156\n",
       " 0.114517\n",
       " 0.15858 \n",
       " 0.391971"
      ]
     },
     "execution_count": 1,
     "metadata": {},
     "output_type": "execute_result"
    }
   ],
   "source": [
    "# Create a vector of Probabilities (the eigenvector)\n",
    "n = 5\n",
    "π = normalize(rand(n),1)"
   ]
  },
  {
   "cell_type": "markdown",
   "metadata": {},
   "source": [
    "Given a vector of probabilities $\\pi$ a matrix is said to be detailed balance with respect to $\\pi$ if any of the following equivalent conditions hold:"
   ]
  },
  {
   "cell_type": "code",
   "execution_count": 38,
   "metadata": {
    "collapsed": true
   },
   "outputs": [],
   "source": [
    "# P.*π = P'.*π' (Must explain BROADCAST)\n",
    "#P./π' = P'./π    (0/0 is a wildcard)\n",
    "# [π[i]*P[i,j] for i=1:n,j=1:n] ≈ [π[j]*P[j,i] for i=1:n,j=1:n]\n",
    "# P' = Diagonal(π)*P*Diagonal(1./π)  (hence P is diagonally similar to P')\n",
    "# Diagonal(sqrt.(π)) * P * Diagonal(sqrt.(1./π)) is symmetric"
   ]
  },
  {
   "cell_type": "markdown",
   "metadata": {},
   "source": [
    "The metropolis construction of a detailed balance matrix given π:"
   ]
  },
  {
   "cell_type": "code",
   "execution_count": 3,
   "metadata": {},
   "outputs": [],
   "source": [
    "# The Metropolis thing creates P from π\n",
    "P = min.(1,π'./π)/n;\n",
    "for i=1:n P[i,i] += 1-sum(P[i,:]) end"
   ]
  },
  {
   "cell_type": "code",
   "execution_count": 39,
   "metadata": {},
   "outputs": [
    {
     "data": {
      "text/plain": [
       "true"
      ]
     },
     "execution_count": 39,
     "metadata": {},
     "output_type": "execute_result"
    }
   ],
   "source": [
    "# Test 1\n",
    "P.*π ≈ P'.*π' "
   ]
  },
  {
   "cell_type": "code",
   "execution_count": 41,
   "metadata": {},
   "outputs": [
    {
     "data": {
      "text/plain": [
       "true"
      ]
     },
     "execution_count": 41,
     "metadata": {},
     "output_type": "execute_result"
    }
   ],
   "source": [
    "# Test 2\n",
    "P./π' ≈ P'./π "
   ]
  },
  {
   "cell_type": "code",
   "execution_count": 42,
   "metadata": {},
   "outputs": [
    {
     "data": {
      "text/plain": [
       "true"
      ]
     },
     "execution_count": 42,
     "metadata": {},
     "output_type": "execute_result"
    }
   ],
   "source": [
    "# Test 3\n",
    "[π[i]*P[i,j] for i=1:n,j=1:n] ≈ [π[j]*P[j,i] for i=1:n,j=1:n]"
   ]
  },
  {
   "cell_type": "code",
   "execution_count": 43,
   "metadata": {},
   "outputs": [
    {
     "data": {
      "text/plain": [
       "true"
      ]
     },
     "execution_count": 43,
     "metadata": {},
     "output_type": "execute_result"
    }
   ],
   "source": [
    "# Test 4\n",
    "P' ≈ Diagonal(π)*P*Diagonal(1./π) "
   ]
  },
  {
   "cell_type": "code",
   "execution_count": 52,
   "metadata": {},
   "outputs": [
    {
     "data": {
      "text/plain": [
       "9.714451465470122e-17"
      ]
     },
     "execution_count": 52,
     "metadata": {},
     "output_type": "execute_result"
    }
   ],
   "source": [
    "# Test 5\n",
    "S = Diagonal(sqrt.(π)) * P * Diagonal(sqrt.(1./π))\n",
    "norm(S - S')"
   ]
  },
  {
   "cell_type": "markdown",
   "metadata": {},
   "source": [
    "IsSymmetric needs a tolerance!"
   ]
  },
  {
   "cell_type": "markdown",
   "metadata": {},
   "source": [
    "Symmetric matrices: right eigenvectors are left eigenvectors\n",
    "\n",
    "Detailed balance matries: left eigenvectors are π.*right eigenvectors (diag scaling)"
   ]
  },
  {
   "cell_type": "code",
   "execution_count": 104,
   "metadata": {},
   "outputs": [
    {
     "data": {
      "text/plain": [
       "5×5 Array{Float64,2}:\n",
       " 4.46731  3.70536   5.63514   8.18048   6.95782\n",
       " 4.46731  3.70536   5.63514  -0.0      -0.0    \n",
       " 4.46731  3.70536   5.63514   8.18048   6.95782\n",
       " 4.46731  3.70536   5.63514   0.0       6.95782\n",
       " 4.46731  3.70536  -0.0       0.0      -0.0    "
      ]
     },
     "execution_count": 104,
     "metadata": {},
     "output_type": "execute_result"
    }
   ],
   "source": [
    "X = eigvecs(P)\n",
    "Y = eigvecs(P')\n",
    "(Y ./ (π.*X))  .* (abs.(Y).>1e-7) # 0/0 is annoying"
   ]
  },
  {
   "cell_type": "code",
   "execution_count": null,
   "metadata": {
    "collapsed": true
   },
   "outputs": [],
   "source": []
  }
 ],
 "metadata": {
  "kernelspec": {
   "display_name": "Julia 0.6.0",
   "language": "julia",
   "name": "julia-0.6"
  },
  "language_info": {
   "file_extension": ".jl",
   "mimetype": "application/julia",
   "name": "julia",
   "version": "0.6.0"
  }
 },
 "nbformat": 4,
 "nbformat_minor": 2
}
