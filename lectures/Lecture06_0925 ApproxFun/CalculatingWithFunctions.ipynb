{
 "cells": [
  {
   "cell_type": "markdown",
   "metadata": {},
   "source": [
    "# Calculating with functions"
   ]
  },
  {
   "cell_type": "markdown",
   "metadata": {},
   "source": [
    "We are used to performing numerical calculations with numbers, using floating-point approximations of reals that where the approximation differs by machine epsilon from the exact value.\n",
    "\n",
    "In this lecture we will see that this idea can be extended to do **calculations with functions**, using **approximations of functions** that differ from the exact function by around machine epsilon! \n",
    "\n",
    "The basic idea is a simple one: out of all functions, there are a few that we understand well and are able to calculate efficiently with, namely polynomials. So we will use in our manipulations not the original functions, but rather **polynomial approximations** that are machine epsilon-close. With careful choices of method and algorithm, it turns out that this may be done very efficiently, using Chebyshev interpolation and approximation by Chebyshev polynomials.\n",
    "\n",
    "These ideas were first developed by [Nick Trefethen](https://people.maths.ox.ac.uk/trefethen/) and his group in the [Chebfun](http://www.chebfun.org/) package for Matlab. An implementation in Julia is available in the \n",
    "[ApproxFun.jl](https://github.com/JuliaApproximation/ApproxFun.jl) package."
   ]
  },
  {
   "cell_type": "markdown",
   "metadata": {},
   "source": [
    "## Naive polynomial interpolation"
   ]
  },
  {
   "cell_type": "markdown",
   "metadata": {},
   "source": [
    "One way to approximate data is by interpolation. Given $n+1$ data points $(x_i, y_i)_{i=0}^{n}$, there is a unique polynomial $p$ of (maximum) degree $n$ that passes through them. We can find it in a simple (but naive, and not efficient) way as follows:\n",
    "\n",
    "Let $$p(x) = a_0 + a_1 \\, x + a_2 \\, x^2 + \\cdots + a_n \\, x^n$$.\n",
    "\n",
    "Then we have $n+1$ simultaneous equations \n",
    "$$p(x_i) = a_0 + a_1 \\, x_i + a_2 \\, x_i^2 + \\cdots + a_n \\, x_i^n = y_i$$\n",
    "to solve, i.e.\n",
    "\n",
    "$$\n",
    "\\begin{pmatrix}\n",
    "1 & x_0 & x_0^2 & \\cdots & x_0^n \\\\\n",
    "1 & x_1 & x_1^2 & \\cdots & x_1^n \\\\\n",
    "1 & x_2 & x_2^2 & \\cdots & x_2^n \\\\\n",
    "\\vdots\n",
    "\\\\ \n",
    "1 & x_n & x_n^2 & \\cdots & x_n^n \\\\\n",
    "\\end{pmatrix}\n",
    "\\cdot \n",
    "\\begin{pmatrix}\n",
    "a_0 \\\\ \\vdots \\\\ a_n\n",
    "\\end{pmatrix}\n",
    "=\n",
    "\\begin{pmatrix}\n",
    "y_0 \\\\ \\vdots \\\\ y_n\n",
    "\\end{pmatrix}\n",
    "$$\n",
    "\n",
    "The matrix above is known as a Vandermonde matrix. The code below generalizes to allow for rectangular \"Vandermonde\" matrices, but defaults to the square case."
   ]
  },
  {
   "cell_type": "code",
   "execution_count": 1,
   "metadata": {},
   "outputs": [
    {
     "data": {
      "text/plain": [
       "vander (generic function with 2 methods)"
      ]
     },
     "execution_count": 1,
     "metadata": {},
     "output_type": "execute_result"
    }
   ],
   "source": [
    "vander(x,n=length(x)-1) = x.^(0:n)'"
   ]
  },
  {
   "cell_type": "code",
   "execution_count": 2,
   "metadata": {},
   "outputs": [
    {
     "data": {
      "text/plain": [
       "2×2 Array{Int64,2}:\n",
       " 1  1\n",
       " 1  2"
      ]
     },
     "execution_count": 2,
     "metadata": {},
     "output_type": "execute_result"
    }
   ],
   "source": [
    "vander(1:2,1)"
   ]
  },
  {
   "cell_type": "markdown",
   "metadata": {},
   "source": [
    "Given a function $f$, we can choose points $x_i$ and let $y_i = f(x_i)$. It is natural (but, it turns out, incorrect) to try equi-spaced points:"
   ]
  },
  {
   "cell_type": "code",
   "execution_count": 3,
   "metadata": {},
   "outputs": [
    {
     "data": {
      "text/plain": [
       "(-1, 1)"
      ]
     },
     "execution_count": 3,
     "metadata": {},
     "output_type": "execute_result"
    }
   ],
   "source": [
    "lo, hi = -1, 1  # the interval we work over"
   ]
  },
  {
   "cell_type": "code",
   "execution_count": null,
   "metadata": {},
   "outputs": [],
   "source": [
    "n = 10\n",
    "x = linspace(lo, hi, n+1)\n",
    "M = vander(x)"
   ]
  },
  {
   "cell_type": "code",
   "execution_count": null,
   "metadata": {},
   "outputs": [],
   "source": [
    "a = M \\ exp.(x)   # kind of looks like taylor series, almost, but not exactly "
   ]
  },
  {
   "cell_type": "markdown",
   "metadata": {},
   "source": [
    "The entries of `a` are the coefficients of the fitted polynomial. We can now build (again, naively) the interpolating polynomial:"
   ]
  },
  {
   "cell_type": "code",
   "execution_count": 4,
   "metadata": {},
   "outputs": [
    {
     "data": {
      "text/plain": [
       "- (generic function with 195 methods)"
      ]
     },
     "execution_count": 4,
     "metadata": {},
     "output_type": "execute_result"
    }
   ],
   "source": [
    "import Base: +, *, -\n",
    "\n",
    "*(α::Number, f::Function) = x -> α*f(x)\n",
    "+(f::Function, g::Function) = x -> f(x) + g(x)\n",
    "-(f::Function, g::Function) = x -> f(x) - g(x)"
   ]
  },
  {
   "cell_type": "code",
   "execution_count": null,
   "metadata": {},
   "outputs": [],
   "source": [
    "pp = sum(a[i]*(x->x^(i-1)) for i in 1:length(a))\n",
    "ttk(k) = sum((1/factorial(i))*(x->x^i) for i in k:-1:0)"
   ]
  },
  {
   "cell_type": "code",
   "execution_count": null,
   "metadata": {},
   "outputs": [],
   "source": [
    "using Plots, Interact\n",
    "plotlyjs()\n",
    "#PyPlot.svg(true)"
   ]
  },
  {
   "cell_type": "code",
   "execution_count": null,
   "metadata": {
    "scrolled": true
   },
   "outputs": [],
   "source": [
    "#l = @layout [a b]\n",
    "#p = plot(f, lo, hi, layout=l,label=\"function\")\n",
    "@manipulate for k=2:100\n",
    "\n",
    "plot!(pp, lo, hi, label=\"interpolant\")\n",
    "plot( x-> log10(abs((f-pp)(x))), lo, hi, label=\"error of the interpolant\")\n",
    "plot!( x-> log10(abs((f-ttk(10))(x))), lo, hi, label=\"error in taylor\")\n",
    "end"
   ]
  },
  {
   "cell_type": "markdown",
   "metadata": {},
   "source": [
    "However, this goes wrong for certain functions:"
   ]
  },
  {
   "cell_type": "code",
   "execution_count": null,
   "metadata": {},
   "outputs": [],
   "source": [
    "h(x) = 1 / (1 + 25x^2)  # the Runge function"
   ]
  },
  {
   "cell_type": "code",
   "execution_count": null,
   "metadata": {},
   "outputs": [],
   "source": [
    "x"
   ]
  },
  {
   "cell_type": "code",
   "execution_count": 11,
   "metadata": {},
   "outputs": [
    {
     "data": {
      "text/plain": [
       "interpolate (generic function with 1 method)"
      ]
     },
     "execution_count": 11,
     "metadata": {},
     "output_type": "execute_result"
    }
   ],
   "source": [
    "function interpolate(f, x)\n",
    "    lo, hi = -1.0, 1.0\n",
    "    M = vander(x)\n",
    "    y = f.(x)\n",
    "\n",
    "    a = M \\ y\n",
    "\n",
    "    p = sum(a[i]*(x->x^(i-1)) for i in 1:length(a))\n",
    "        \n",
    "    return p, y, a\n",
    "end"
   ]
  },
  {
   "cell_type": "code",
   "execution_count": null,
   "metadata": {
    "collapsed": true
   },
   "outputs": [],
   "source": [
    "using Interact"
   ]
  },
  {
   "cell_type": "code",
   "execution_count": null,
   "metadata": {},
   "outputs": [],
   "source": [
    "h(x) = 1 / (1 + 25x^2)  # the Runge function\n",
    "\n",
    "#n = 20\n",
    "@manipulate for n in 2:20\n",
    "    x = linspace(-1, 1, n+1)\n",
    "    p, y = interpolate(h, x)\n",
    "\n",
    "    plot(x->h(x), lo, hi)\n",
    "    scatter!(x, y)\n",
    "    plot!(p, lo, hi, label=\"Interpolant\")\n",
    "end"
   ]
  },
  {
   "cell_type": "markdown",
   "metadata": {},
   "source": [
    "## Chebyshev points"
   ]
  },
  {
   "cell_type": "markdown",
   "metadata": {},
   "source": [
    "This problem can be **eliminated** by choosing interpolation points which **cluster near the boundary** in a certain way. A simple set are the Chebyshev points, defined by projecting down equi-spaced points on the unit circle to the $x$-axis."
   ]
  },
  {
   "cell_type": "code",
   "execution_count": 39,
   "metadata": {},
   "outputs": [
    {
     "data": {
      "text/plain": [
       "Plots.PlotlyJSBackend()"
      ]
     },
     "execution_count": 39,
     "metadata": {},
     "output_type": "execute_result"
    }
   ],
   "source": [
    "using Plots\n",
    "plotlyjs()"
   ]
  },
  {
   "cell_type": "code",
   "execution_count": null,
   "metadata": {},
   "outputs": [],
   "source": [
    "@manipulate for n in 2:100\n",
    "\n",
    "#n = 100\n",
    "    plot(x->sqrt(1-x^2), -1, 1,ylim=(0,1), aspect_ratio=1,label=\"\")\n",
    "    \n",
    "    θs = linspace(0, π, n)\n",
    "    c,s = cos(θs), sin(θs)\n",
    "    \n",
    "    for i=1:length(c)     \n",
    "        plot!([c[i], c[i]], [0, s[i]], ls=:dot, legend=false, label=\"T$i\")\n",
    "    end\n",
    "    \n",
    "    scatter!(c, s, markersize=1,label=\"\")\n",
    "    scatter!(c, zeros(s), markersize=1,label=\"\")\n",
    "end"
   ]
  },
  {
   "cell_type": "code",
   "execution_count": 9,
   "metadata": {},
   "outputs": [
    {
     "data": {
      "text/plain": [
       "chebyshev_points (generic function with 1 method)"
      ]
     },
     "execution_count": 9,
     "metadata": {},
     "output_type": "execute_result"
    }
   ],
   "source": [
    "chebyshev_points(n) = cos.(linspace(0, π, n))"
   ]
  },
  {
   "cell_type": "markdown",
   "metadata": {},
   "source": [
    "Interpolating in these points is **well-behaved**:"
   ]
  },
  {
   "cell_type": "code",
   "execution_count": null,
   "metadata": {},
   "outputs": [],
   "source": [
    "chebyshev_points(11)"
   ]
  },
  {
   "cell_type": "code",
   "execution_count": 7,
   "metadata": {},
   "outputs": [
    {
     "name": "stderr",
     "output_type": "stream",
     "text": [
      "\u001b[1m\u001b[36mINFO: \u001b[39m\u001b[22m\u001b[36mRecompiling stale cache file /Users/edelman/.julia/lib/v0.6/Interact.ji for module Interact.\n",
      "\u001b[39m"
     ]
    },
    {
     "data": {
      "text/html": [
       "<div id=\"interact-js-shim\">\n",
       "    <script charset=\"utf-8\">\n",
       "(function (IPython, $, _, MathJax) {\n",
       "    $.event.special.destroyed = {\n",
       "\tremove: function(o) {\n",
       "\t    if (o.handler) {\n",
       "\t\to.handler.apply(this, arguments)\n",
       "\t    }\n",
       "\t}\n",
       "    }\n",
       "\n",
       "    var OutputArea = IPython.version >= \"4.0.0\" ? require(\"notebook/js/outputarea\").OutputArea : IPython.OutputArea;\n",
       "\n",
       "    var redrawValue = function (container, type, val) {\n",
       "\tvar selector = $(\"<div/>\");\n",
       "\tvar oa = new OutputArea(_.extend(selector, {\n",
       "\t    selector: selector,\n",
       "\t    prompt_area: true,\n",
       "\t    events: IPython.events,\n",
       "\t    keyboard_manager: IPython.keyboard_manager\n",
       "\t})); // Hack to work with IPython 2.1.0\n",
       "\n",
       "\tswitch (type) {\n",
       "\tcase \"image/png\":\n",
       "            var _src = 'data:' + type + ';base64,' + val;\n",
       "\t    $(container).find(\"img\").attr('src', _src);\n",
       "\t    break;\n",
       "\tcase \"text/latex\":\n",
       "\t\tif (MathJax){\n",
       "\t\t\tvar math = MathJax.Hub.getAllJax(container)[0];\n",
       "\t\t\tMathJax.Hub.Queue([\"Text\", math, val.replace(/^\\${1,2}|\\${1,2}$/g, '')]);\n",
       "\t\t\tbreak;\n",
       "\t\t}\n",
       "\tdefault:\n",
       "\t    var toinsert = OutputArea.append_map[type].apply(\n",
       "\t\toa, [val, {}, selector]\n",
       "\t    );\n",
       "\t    $(container).empty().append(toinsert.contents());\n",
       "\t    selector.remove();\n",
       "\t}\n",
       "    }\n",
       "\n",
       "\n",
       "    $(document).ready(function() {\n",
       "\tfunction initComm(evt, data) {\n",
       "\t    var comm_manager = data.kernel.comm_manager;\n",
       "        //_.extend(comm_manager.targets, require(\"widgets/js/widget\"))\n",
       "\t    comm_manager.register_target(\"Signal\", function (comm) {\n",
       "            comm.on_msg(function (msg) {\n",
       "                var val = msg.content.data.value;\n",
       "                $(\".signal-\" + comm.comm_id).each(function() {\n",
       "                var type = $(this).data(\"type\");\n",
       "                if (typeof(val[type]) !== \"undefined\" && val[type] !== null) {\n",
       "                    redrawValue(this, type, val[type], type);\n",
       "                }\n",
       "                });\n",
       "                delete val;\n",
       "                delete msg.content.data.value;\n",
       "            });\n",
       "\t    });\n",
       "\n",
       "\t    // coordingate with Comm and redraw Signals\n",
       "\t    // XXX: Test using Reactive here to improve performance\n",
       "\t    $([IPython.events]).on(\n",
       "\t\t'output_appended.OutputArea', function (event, type, value, md, toinsert) {\n",
       "\t\t    if (md && md.reactive) {\n",
       "                // console.log(md.comm_id);\n",
       "                toinsert.addClass(\"signal-\" + md.comm_id);\n",
       "                toinsert.data(\"type\", type);\n",
       "                // Signal back indicating the mimetype required\n",
       "                var comm_manager = IPython.notebook.kernel.comm_manager;\n",
       "                var comm = comm_manager.comms[md.comm_id];\n",
       "                comm.then(function (c) {\n",
       "                    c.send({action: \"subscribe_mime\",\n",
       "                       mime: type});\n",
       "                    toinsert.bind(\"destroyed\", function() {\n",
       "                        c.send({action: \"unsubscribe_mime\",\n",
       "                               mime: type});\n",
       "                    });\n",
       "                })\n",
       "\t\t    }\n",
       "\t    });\n",
       "\t}\n",
       "\n",
       "\ttry {\n",
       "\t    // try to initialize right away. otherwise, wait on the status_started event.\n",
       "\t    initComm(undefined, IPython.notebook);\n",
       "\t} catch (e) {\n",
       "\t    $([IPython.events]).on('kernel_created.Kernel kernel_created.Session', initComm);\n",
       "\t}\n",
       "    });\n",
       "})(IPython, jQuery, _, MathJax);\n",
       "</script>\n",
       "    <script>\n",
       "        window.interactLoadedFlag = true\n",
       "       $(\"#interact-js-shim\").bind(\"destroyed\", function () {\n",
       "           if (window.interactLoadedFlag) {\n",
       "               console.warn(\"JavaScript required by Interact will be removed if you remove this cell or run using Interact more than once.\")\n",
       "           }\n",
       "       })\n",
       "       $([IPython.events]).on(\"kernel_starting.Kernel kernel_restarting.Kernel\", function () { window.interactLoadedFlag = false })\n",
       "   </script>\n",
       "</div>"
      ]
     },
     "metadata": {},
     "output_type": "display_data"
    }
   ],
   "source": [
    "using Interact"
   ]
  },
  {
   "cell_type": "code",
   "execution_count": 12,
   "metadata": {},
   "outputs": [
    {
     "data": {
      "application/vnd.jupyter.widget-view+json": {
       "model_id": "7e03da07-caf7-41ec-ae64-c8f8def0aa82",
       "version_major": 2,
       "version_minor": 0
      }
     },
     "metadata": {},
     "output_type": "display_data"
    },
    {
     "data": {
      "text/html": [],
      "text/plain": [
       "Interact.Options{:SelectionSlider,Any}(5: \"input-3\" = 51 Any , \"n\", 51, \"51\", 50, Interact.OptionDict(DataStructures.OrderedDict{Any,Any}(\"2\"=>2,\"3\"=>3,\"4\"=>4,\"5\"=>5,\"6\"=>6,\"7\"=>7,\"8\"=>8,\"9\"=>9,\"10\"=>10,\"11\"=>11…), Dict{Any,Any}(Pair{Any,Any}(68, \"68\"),Pair{Any,Any}(2, \"2\"),Pair{Any,Any}(89, \"89\"),Pair{Any,Any}(11, \"11\"),Pair{Any,Any}(39, \"39\"),Pair{Any,Any}(46, \"46\"),Pair{Any,Any}(85, \"85\"),Pair{Any,Any}(25, \"25\"),Pair{Any,Any}(55, \"55\"),Pair{Any,Any}(42, \"42\")…)), Any[], Any[], true, \"horizontal\")"
      ]
     },
     "metadata": {},
     "output_type": "display_data"
    },
    {
     "data": {
      "text/html": [
       "<div id=\"e222afa9-ab37-4e57-bc37-ddb619b2c71e\" class=\"plotly-graph-div\"></div>\n",
       "\n",
       "<script>\n",
       "    window.PLOTLYENV=window.PLOTLYENV || {};\n",
       "    window.PLOTLYENV.BASE_URL=\"https://plot.ly\";\n",
       "    require(['plotly'], function(Plotly) {\n",
       "        Plotly.newPlot('e222afa9-ab37-4e57-bc37-ddb619b2c71e', [{\"showlegend\":true,\"mode\":\"lines\",\"xaxis\":\"x\",\"colorbar\":{\"title\":\"\"},\"line\":{\"color\":\"rgba(0, 154, 250, 1.000)\",\"width\":1,\"dash\":\"solid\",\"shape\":\"linear\"},\"y\":[0.03994734106325983,0.05884150359449869,0.07722775891986576,0.10012738830645612,0.11688743757895442,0.13798048348240263,0.16255609670765234,0.19373822950091152,0.23711603768286524,0.2946013590347598,0.336338018767323,0.3856984534243911,0.44386913594351257,0.5118097036178259,0.5806363126562478,0.6566838699583735,0.7377275201593693,0.8194153544338916,0.8862519833887286,0.9424715190672456,0.9646370571976748,0.9818740374723359,0.9935974742370571,0.9993914342826798,0.9987100891194404,0.9907634979515042,0.9758934443510366,0.95471786910344,0.9280690195913227,0.8969167540705226,0.86228924290948,0.8252016170884897,0.7468530687177962,0.6685288141725143,0.5943761704914164,0.5266499051995003,0.4602718454620675,0.4027673307473901,0.35343477114982724,0.3113044713380672,0.2769793958452104,0.24744017909173877,0.22196074268695343,0.19991451993442708,0.1628471937185254,0.13474074629335234,0.11614024973403757,0.10101248995509682,0.07422668310443208,0.05754118451731879,0.040411814795740346],\"type\":\"scatter\",\"name\":\"Runge function\",\"yaxis\":\"y\",\"x\":[-0.9804683619604238,-0.7998701656632544,-0.6913381773887523,-0.5995757625684686,-0.5497359112511828,-0.49989605993389713,-0.45394812543232044,-0.4080001909307437,-0.358739149058882,-0.3094781071870203,-0.28094123322099906,-0.25240435925497784,-0.22386748528895664,-0.19533061132293544,-0.16997040543669087,-0.1446101995504463,-0.1192499936642017,-0.09388978777795712,-0.07165117256335783,-0.049412557348758546,-0.0382932497414589,-0.027173942134159263,-0.01605463452685962,-0.004935326919559979,0.007187703109214885,0.019310733137989748,0.03143376316676461,0.04355679319553948,0.055679823224314334,0.0678028532530892,0.07992588328186406,0.09204891331063893,0.11643907435938525,0.14082923540813155,0.1652193964568779,0.1896095575056242,0.21657599944142028,0.24354244137721637,0.2705088833130125,0.29747532524880854,0.32313321430902814,0.34879110336924773,0.37444899242946733,0.4001068814896869,0.45346338425619404,0.5068198870227011,0.5517346971781957,0.5966495073336903,0.7063212919727282,0.809416004257417,0.9745817280321198]},{\"showlegend\":true,\"mode\":\"markers\",\"xaxis\":\"x\",\"colorbar\":{\"title\":\"\"},\"x\":[1.0,0.9980267284282716,0.9921147013144779,0.9822872507286887,0.9685831611286311,0.9510565162951535,0.9297764858882515,0.9048270524660196,0.8763066800438636,0.8443279255020151,0.8090169943749475,0.7705132427757893,0.7289686274214116,0.6845471059286887,0.6374239897486897,0.5877852522924731,0.5358267949789965,0.4817536741017154,0.42577929156507266,0.3681245526846781,0.30901699437494745,0.24868988716485474,0.18738131458572474,0.12533323356430426,0.06279051952931353,6.123233995736766e-17,-0.0627905195293134,-0.12533323356430415,-0.1873813145857246,-0.24868988716485463,-0.30901699437494734,-0.368124552684678,-0.4257792915650727,-0.48175367410171505,-0.5358267949789964,-0.587785252292473,-0.6374239897486897,-0.6845471059286887,-0.7289686274214113,-0.7705132427757891,-0.8090169943749473,-0.8443279255020151,-0.8763066800438636,-0.9048270524660194,-0.9297764858882513,-0.9510565162951535,-0.9685831611286311,-0.9822872507286887,-0.9921147013144778,-0.9980267284282716,-1.0],\"y\":[0.038461538461538464,0.0386079013624346,0.03905138025049732,0.03980542142955901,0.040893383852375474,0.04235006897143931,0.04422409476168514,0.0465813919437019,0.049510257069997336,0.053128636081088504,0.05759468769926728,0.06312228141547914,0.07000408091672827,0.07864653400888687,0.08962393607396982,0.10376363605465243,0.12228289164276324,0.14701201614091275,0.18075991049441015,0.22789985810196964,0.29522146532942556,0.3927472929265787,0.5325397989324719,0.7180243202947112,0.9102773865087723,1.0,0.9102773865087727,0.7180243202947115,0.5325397989324724,0.3927472929265789,0.2952214653294257,0.22789985810196978,0.1807599104944101,0.14701201614091292,0.12228289164276329,0.10376363605465247,0.08962393607396982,0.07864653400888687,0.07000408091672831,0.06312228141547914,0.05759468769926729,0.053128636081088504,0.049510257069997336,0.04658139194370192,0.044224094761685144,0.04235006897143931,0.040893383852375474,0.03980542142955901,0.03905138025049733,0.0386079013624346,0.038461538461538464],\"type\":\"scatter\",\"name\":\"y2\",\"yaxis\":\"y\",\"marker\":{\"symbol\":\"circle\",\"color\":\"rgba(227, 111, 71, 1.000)\",\"line\":{\"color\":\"rgba(0, 0, 0, 1.000)\",\"width\":1},\"size\":8}},{\"showlegend\":true,\"mode\":\"lines\",\"xaxis\":\"x\",\"colorbar\":{\"title\":\"\"},\"line\":{\"color\":\"rgba(62, 164, 78, 1.000)\",\"width\":1,\"dash\":\"solid\",\"shape\":\"linear\"},\"y\":[0.040922701358795166,0.059115528831171105,0.0771256443834627,0.10026183587136063,0.11597515354568894,0.1373331627163182,0.1622974454726943,0.1931189329454234,0.23692779963063493,0.2948118172060107,0.33610129766453944,0.3850551020315363,0.4433720318698556,0.5118213619294129,0.580893857486242,0.6567813612064849,0.7375082007463265,0.8190871460095132,0.8860571529170829,0.9424554258651139,0.9646717176252049,0.9819224578352214,0.9936288598081835,0.9993891045022345,0.9986711273187918,0.9907041049666149,0.9758370840270459,0.9546855826447337,0.9280731960742696,0.8969597526582335,0.8623658586467754,0.8253030749686269,0.7469788354736254,0.6686570497488821,0.5945096192504569,0.5268412883332264,0.46064303967469394,0.4033795602225794,0.35415354516131975,0.3118779954134017,0.2773260546884557,0.24773972061868973,0.22247120430895675,0.20067010462336782,0.16337103435128938,0.13514636442676298,0.11641495743216677,0.10094242163151539,0.07407915149126154,0.05778932583780261,0.039748430252075195],\"type\":\"scatter\",\"name\":\"y3\",\"yaxis\":\"y\",\"x\":[-0.9804683619604238,-0.7998701656632544,-0.6913381773887523,-0.5995757625684686,-0.5497359112511828,-0.49989605993389713,-0.45394812543232044,-0.4080001909307437,-0.358739149058882,-0.3094781071870203,-0.28094123322099906,-0.25240435925497784,-0.22386748528895664,-0.19533061132293544,-0.16997040543669087,-0.1446101995504463,-0.1192499936642017,-0.09388978777795712,-0.07165117256335783,-0.049412557348758546,-0.0382932497414589,-0.027173942134159263,-0.01605463452685962,-0.004935326919559979,0.007187703109214885,0.019310733137989748,0.03143376316676461,0.04355679319553948,0.055679823224314334,0.0678028532530892,0.07992588328186406,0.09204891331063893,0.11643907435938525,0.14082923540813155,0.1652193964568779,0.1896095575056242,0.21657599944142028,0.24354244137721637,0.2705088833130125,0.29747532524880854,0.32313321430902814,0.34879110336924773,0.37444899242946733,0.4001068814896869,0.45346338425619404,0.5068198870227011,0.5517346971781957,0.5966495073336903,0.7063212919727282,0.809416004257417,0.9745817280321198]}],\n",
       "               {\"showlegend\":true,\"xaxis\":{\"gridwidth\":0.5,\"tickvals\":[-1.0,-0.5,0.0,0.5,1.0],\"ticks\":\"inside\",\"tickmode\":\"array\",\"domain\":[0.05100612423447069,0.9934383202099737],\"linecolor\":\"rgba(0, 0, 0, 1.000)\",\"showgrid\":true,\"title\":\"\",\"tickangle\":0,\"gridcolor\":\"rgba(0, 0, 0, 0.100)\",\"titlefont\":{\"color\":\"rgba(0, 0, 0, 1.000)\",\"family\":\"sans-serif\",\"size\":15},\"tickcolor\":\"rgba(0, 0, 0, 1.000)\",\"ticktext\":[\"-1.0\",\"-0.5\",\"0.0\",\"0.5\",\"1.0\"],\"zeroline\":false,\"type\":\"-\",\"tickfont\":{\"color\":\"rgba(0, 0, 0, 1.000)\",\"family\":\"sans-serif\",\"size\":11},\"anchor\":\"y\"},\"paper_bgcolor\":\"rgba(255, 255, 255, 1.000)\",\"annotations\":[],\"height\":400,\"margin\":{\"l\":0,\"b\":20,\"r\":0,\"t\":20},\"plot_bgcolor\":\"rgba(255, 255, 255, 1.000)\",\"yaxis\":{\"gridwidth\":0.5,\"tickvals\":[0.2,0.4,0.6000000000000001,0.8,1.0],\"ticks\":\"inside\",\"tickmode\":\"array\",\"domain\":[0.03762029746281716,0.9901574803149606],\"linecolor\":\"rgba(0, 0, 0, 1.000)\",\"showgrid\":true,\"title\":\"\",\"tickangle\":0,\"gridcolor\":\"rgba(0, 0, 0, 0.100)\",\"titlefont\":{\"color\":\"rgba(0, 0, 0, 1.000)\",\"family\":\"sans-serif\",\"size\":15},\"tickcolor\":\"rgba(0, 0, 0, 1.000)\",\"ticktext\":[\"0.2\",\"0.4\",\"0.6\",\"0.8\",\"1.0\"],\"zeroline\":false,\"type\":\"-\",\"tickfont\":{\"color\":\"rgba(0, 0, 0, 1.000)\",\"family\":\"sans-serif\",\"size\":11},\"anchor\":\"x\"},\"legend\":{\"bordercolor\":\"rgba(0, 0, 0, 1.000)\",\"bgcolor\":\"rgba(255, 255, 255, 1.000)\",\"font\":{\"color\":\"rgba(0, 0, 0, 1.000)\",\"family\":\"sans-serif\",\"size\":11},\"y\":1.0,\"x\":1.0},\"width\":600}, {showLink: false});\n",
       "\n",
       "    });\n",
       " </script>\n"
      ]
     },
     "execution_count": 12,
     "metadata": {
      "comm_id": "0b94b803-f1d4-4625-8e1a-06276825a4f7",
      "reactive": true
     },
     "output_type": "execute_result"
    }
   ],
   "source": [
    "h(x) = 1 / (1 + 25x^2)  # the Runge function\n",
    "\n",
    "@manipulate for n in 2:100\n",
    "    \n",
    "#n = 5\n",
    "\n",
    "    x = chebyshev_points(n)\n",
    "    p, y = interpolate(h, x)\n",
    "\n",
    "    plot(h, lo, hi, label=\"Runge function\")\n",
    "    scatter!(x, y)\n",
    "    plot!(p, lo, hi)\n",
    "end"
   ]
  },
  {
   "cell_type": "markdown",
   "metadata": {},
   "source": [
    "So we see that we should choose the polynomial with which to approximate a function $f$ by **interpolation in Chebyshev points**. The question is how many points we should use?"
   ]
  },
  {
   "cell_type": "code",
   "execution_count": 30,
   "metadata": {},
   "outputs": [
    {
     "data": {
      "text/plain": [
       "(#3, [0.0384615, 0.038463, 0.0384674, 0.0384747, 0.038485, 0.0384982, 0.0385144, 0.0385335, 0.0385555, 0.0385805  …  0.0385805, 0.0385555, 0.0385335, 0.0385144, 0.0384982, 0.038485, 0.0384747, 0.0384674, 0.038463, 0.0384615], [0.99796, -0.0606807, -25.2422, 3.37539, 637.624, -129.248, -15200.3, 2414.69, 3.05953e5, 1086.15  …  -2.04367e12, 1.47797e12, 7.94609e10, 3.53537e11, -6.6208e11, 6.21024e11, 1.33862e12, 7.33868e11, -7.55146e10, -1.23212e12])"
      ]
     },
     "execution_count": 30,
     "metadata": {},
     "output_type": "execute_result"
    }
   ],
   "source": [
    "interpolate(h, chebyshev_points(500))"
   ]
  },
  {
   "cell_type": "code",
   "execution_count": 37,
   "metadata": {},
   "outputs": [],
   "source": [
    "pp, yy, aa = interpolate(exp, big.(chebyshev_points(200)));"
   ]
  },
  {
   "cell_type": "code",
   "execution_count": 38,
   "metadata": {},
   "outputs": [
    {
     "data": {
      "text/plain": [
       "200-element Array{Float64,1}:\n",
       "  1.0        \n",
       "  1.0        \n",
       "  0.5        \n",
       "  0.166667   \n",
       "  0.0416667  \n",
       "  0.00833333 \n",
       "  0.00138889 \n",
       "  0.000198413\n",
       "  2.48016e-5 \n",
       "  2.75573e-6 \n",
       "  2.75573e-7 \n",
       "  2.50521e-8 \n",
       "  2.08768e-9 \n",
       "  ⋮          \n",
       "  9.74733e-15\n",
       " -4.84124e-13\n",
       " -1.41423e-15\n",
       "  5.22069e-14\n",
       "  1.5065e-16 \n",
       " -4.4323e-15 \n",
       " -1.13443e-17\n",
       "  2.7779e-16 \n",
       "  5.44343e-19\n",
       " -1.14268e-17\n",
       " -1.25871e-20\n",
       "  2.31416e-19"
      ]
     },
     "execution_count": 38,
     "metadata": {},
     "output_type": "execute_result"
    }
   ],
   "source": [
    "Float64.(aa)"
   ]
  },
  {
   "cell_type": "markdown",
   "metadata": {},
   "source": [
    "## Approximation by Chebyshev polynomials"
   ]
  },
  {
   "cell_type": "markdown",
   "metadata": {},
   "source": [
    "It turns out that the standard monomial basis ($1$, $x$, $x^2$, ...) is **not** a good basis for polynomial interpolation. A good basis is the set of **Chebyshev polynomials**, defined by\n",
    "\n",
    "$$T_n(x) = \\mathrm{Re}(z^n) = \\cos(n \\theta) = \\cos(n \\cos^{-1}(x))$$"
   ]
  },
  {
   "cell_type": "code",
   "execution_count": null,
   "metadata": {},
   "outputs": [],
   "source": [
    "T(n) = x -> cos(n * acos(x))  # a simple, but unintuitive way to define these in Julia"
   ]
  },
  {
   "cell_type": "markdown",
   "metadata": {},
   "source": [
    "We can do polynomial interpolation using Chebyshev polynomials by writing a similar formula to that above:\n",
    "\n",
    "$$f(x) = \\sum_n \\alpha_n T_n(x)$$\n",
    "\n",
    "and again doing naive interpolation:"
   ]
  },
  {
   "cell_type": "code",
   "execution_count": null,
   "metadata": {},
   "outputs": [],
   "source": [
    "chebyshev_points(n) = cos.(linspace(0, π, n))"
   ]
  },
  {
   "cell_type": "code",
   "execution_count": null,
   "metadata": {},
   "outputs": [],
   "source": [
    "function chebyshev_interpolate(f, xx)\n",
    "    lo, hi = -1.0, 1.0\n",
    "    \n",
    "    n = length(xx) - 1\n",
    "\n",
    "    yy = [f(x) for x in xx]\n",
    "\n",
    "    M = [T(i)(x) for x in xx, i in 0:n]\n",
    "    \n",
    "\n",
    "    aa = M \\ yy\n",
    "\n",
    "    pp = sum(aa[i]*(x->x^(i-1)) for i in 1:length(aa))\n",
    "        \n",
    "    return pp, yy, aa\n",
    "end"
   ]
  },
  {
   "cell_type": "code",
   "execution_count": null,
   "metadata": {},
   "outputs": [],
   "source": [
    "xx = chebyshev_points(25)\n",
    "pp, yy, aa = chebyshev_interpolate(exp, xx)"
   ]
  },
  {
   "cell_type": "code",
   "execution_count": null,
   "metadata": {},
   "outputs": [],
   "source": [
    "aa"
   ]
  },
  {
   "cell_type": "markdown",
   "metadata": {},
   "source": [
    "The point is that the coefficients decay quickly (until they reach something of order machine epsilon) for smooth functions:"
   ]
  },
  {
   "cell_type": "code",
   "execution_count": null,
   "metadata": {},
   "outputs": [],
   "source": [
    "scatter(abs.(aa), yscale=:log10)"
   ]
  },
  {
   "cell_type": "code",
   "execution_count": null,
   "metadata": {},
   "outputs": [],
   "source": [
    "n = 11\n",
    "xx = chebyshev_points(n)\n",
    "ff = exp.(xx)"
   ]
  },
  {
   "cell_type": "code",
   "execution_count": null,
   "metadata": {},
   "outputs": [],
   "source": [
    "real(fft(ff)) / (n/2)"
   ]
  },
  {
   "cell_type": "markdown",
   "metadata": {},
   "source": [
    "The idea is thus to adaptively choose the number of points at which the function is sampled, until the tail of the  coefficients in the Chebyshev expansion have decayed to machine precision."
   ]
  },
  {
   "cell_type": "markdown",
   "metadata": {},
   "source": [
    "## From data to Chebyshev coefficients"
   ]
  },
  {
   "cell_type": "markdown",
   "metadata": {},
   "source": [
    "It turns out that there is a key relationship between Chebyshev points and Chebyshev polynomials, which enables us to find the coefficients $\\alpha_n$ in the expansion in Chebyshev polynomials in time $\\mathcal{O}(n \\, \\log n)$, instead of the $\\mathcal{O}(n^3)$ that the naive matrix formulation requires. This entails the use of the discrete cosine transform, a close relative of the FFT.\n",
    "\n",
    "The idea is as follows. Suppose that we in fact know the expansion $f = \\sum a_n T_n$. Then evaluating this in a Chebyshev point $x_i$ gives\n",
    "\n",
    "$$f(x_i) = \\sum a_k T_k(x_i)$$.\n",
    "\n",
    "But $x_i = \\cos (i \\pi / n)$ and $T_k(x) = \\cos(k \\cos^{-1}(x))$, so\n",
    "\n",
    "$$f(x_j) = \\sum_k a_k \\cos(j \\, k \\pi / n)$$.\n",
    "\n",
    "That is, the data $f(x_i)$ are given by the **discrete cosine transform** of the coefficients $a_n$. Furthermore, from this we see that we can calculate the $a_n$ by taking the inverse discrete cosine transform of the data. This is very closely related to the FFT and can be similarly calculated in $\\mathcal{O}(n \\, \\log n)$ time:"
   ]
  },
  {
   "cell_type": "markdown",
   "metadata": {},
   "source": [
    "$$\\sum_j f(x_j) \\cos(j l\\pi/n) = \\sum_j \\sum_k a_k \\cos(j k\\pi / n) \\cos(j l\\pi/n)$$\n",
    "\n",
    "$$ = \\sum_k a_k (n/2) \\delta_{kl} = (n/2) a_l$$"
   ]
  },
  {
   "cell_type": "code",
   "execution_count": null,
   "metadata": {},
   "outputs": [],
   "source": [
    "ff"
   ]
  },
  {
   "cell_type": "code",
   "execution_count": null,
   "metadata": {},
   "outputs": [],
   "source": [
    "fft(ff)"
   ]
  },
  {
   "cell_type": "code",
   "execution_count": null,
   "metadata": {},
   "outputs": [],
   "source": [
    "?fft"
   ]
  },
  {
   "cell_type": "markdown",
   "metadata": {},
   "source": [
    "Discrete cosine transform matrix:"
   ]
  },
  {
   "cell_type": "code",
   "execution_count": null,
   "metadata": {},
   "outputs": [],
   "source": [
    "n = 11\n",
    "xx = chebyshev_points(n+1)\n",
    "M = [T(i)(x) for x in xx, i in 0:n]\n"
   ]
  },
  {
   "cell_type": "markdown",
   "metadata": {},
   "source": [
    "Inverse discrete cosine transform matrix:"
   ]
  },
  {
   "cell_type": "code",
   "execution_count": null,
   "metadata": {},
   "outputs": [],
   "source": [
    "(n/2)*inv(M)"
   ]
  },
  {
   "cell_type": "markdown",
   "metadata": {},
   "source": [
    "## Barycentric interpolation"
   ]
  },
  {
   "cell_type": "markdown",
   "metadata": {},
   "source": [
    "One final piece of the puzzle is how to evaluate the interpolating function at different points $x$. We could construct the whole function as the sum $a_n T_n$, but this is not actually necessary. Instead we use barycentric interpolation [Trefethen 2004]: given data $f_j$ at nodes $x_j$, the value of the interpolating polynomial at $x$ is\n",
    "\n",
    "$$p(x) = \\frac{\\sum_j \\frac{w_j}{x-x_j} f_j}{\\sum_j \\frac{w_j}{x - x_j}}$$"
   ]
  },
  {
   "cell_type": "markdown",
   "metadata": {},
   "source": [
    "The weights are given by \n",
    "\n",
    "$$w_j = \\frac{1}{\\prod_{j \\neq k} (x_j - x_k)}$$.\n",
    "\n",
    "These depend **only** on the interpolation points, not on the data. For Chebyshev points, they are\n",
    "\n",
    "$$w_j = (-1)^j \\delta_j,$$\n",
    "\n",
    "where $\\delta_j = 1/2$ for $j=0$ and $j=n$, and $1$ otherwise."
   ]
  },
  {
   "cell_type": "code",
   "execution_count": null,
   "metadata": {},
   "outputs": [],
   "source": [
    "function ww(j)\n",
    "    j -= 1  # 0-based\n",
    "    sign = iseven(j) ? 1 : -1\n",
    "    value = (j==0 || j==n) ? 0.5 : 1.0\n",
    "    \n",
    "    return sign*value\n",
    "end"
   ]
  },
  {
   "cell_type": "code",
   "execution_count": null,
   "metadata": {},
   "outputs": [],
   "source": [
    "n = 11\n",
    "xx = chebyshev_points(n)\n",
    "g(x) = 1 / (1 + 25x^2)\n",
    "ff = g.(xx)"
   ]
  },
  {
   "cell_type": "code",
   "execution_count": null,
   "metadata": {},
   "outputs": [],
   "source": [
    "using Plots"
   ]
  },
  {
   "cell_type": "code",
   "execution_count": null,
   "metadata": {},
   "outputs": [],
   "source": [
    "ppp(x) = sum(ww(j) / (x-xx[j]) * ff[j] for j = 1:length(xx)) / sum(ww(j) / (x-xx[j]) for j = 1:length(xx))"
   ]
  },
  {
   "cell_type": "code",
   "execution_count": null,
   "metadata": {},
   "outputs": [],
   "source": [
    "using Interact"
   ]
  },
  {
   "cell_type": "code",
   "execution_count": null,
   "metadata": {},
   "outputs": [],
   "source": [
    "g(x) = 1 / (1 + 25x^2)\n",
    "n = 15\n",
    "#@manipulate for n in 2:100\n",
    "    xx = chebyshev_points(n)\n",
    "   \n",
    "    ff = g.(xx)\n",
    "\n",
    "    plot(x->ppp(x), -1, 1)\n",
    "    plot!(f, -1, 1)\n",
    "#end"
   ]
  },
  {
   "cell_type": "code",
   "execution_count": null,
   "metadata": {},
   "outputs": [],
   "source": [
    "@manipulate for i in 1:10\n",
    "    i^2\n",
    "end"
   ]
  },
  {
   "cell_type": "code",
   "execution_count": null,
   "metadata": {},
   "outputs": [],
   "source": [
    "using PyCall"
   ]
  },
  {
   "cell_type": "code",
   "execution_count": null,
   "metadata": {},
   "outputs": [],
   "source": [
    "Pkg.add(\"PyPlot\")\n",
    "Pkg.add(\"PlotlyJS\")"
   ]
  },
  {
   "cell_type": "code",
   "execution_count": null,
   "metadata": {},
   "outputs": [],
   "source": [
    "ENV[\"PYTHON\"]=\"\"\n",
    "ENV[\"JUPYTER\"] = \"\"\n",
    "\n",
    "Pkg.build(\"PyCall\")\n",
    "Pkg.build(\"PyPlot\")\n",
    "Pkg.build(\"IJulia\")"
   ]
  },
  {
   "cell_type": "code",
   "execution_count": null,
   "metadata": {},
   "outputs": [],
   "source": [
    "Pkg.build(\"PyCall\")"
   ]
  },
  {
   "cell_type": "code",
   "execution_count": null,
   "metadata": {},
   "outputs": [],
   "source": [
    "Pkg.build(\"Interact\")"
   ]
  },
  {
   "cell_type": "code",
   "execution_count": null,
   "metadata": {},
   "outputs": [],
   "source": [
    "Pkg.build(\"IJulia\")"
   ]
  },
  {
   "cell_type": "code",
   "execution_count": null,
   "metadata": {
    "collapsed": true
   },
   "outputs": [],
   "source": [
    "using Interact"
   ]
  },
  {
   "cell_type": "code",
   "execution_count": null,
   "metadata": {},
   "outputs": [],
   "source": [
    "@manipulate for i in 1:10\n",
    "    i^2\n",
    "end"
   ]
  },
  {
   "cell_type": "markdown",
   "metadata": {},
   "source": [
    "## ApproxFun"
   ]
  },
  {
   "cell_type": "code",
   "execution_count": null,
   "metadata": {},
   "outputs": [],
   "source": [
    "using ApproxFun"
   ]
  },
  {
   "cell_type": "code",
   "execution_count": null,
   "metadata": {},
   "outputs": [],
   "source": [
    "Fun"
   ]
  },
  {
   "cell_type": "code",
   "execution_count": null,
   "metadata": {},
   "outputs": [],
   "source": [
    "x = Fun()"
   ]
  },
  {
   "cell_type": "code",
   "execution_count": null,
   "metadata": {
    "collapsed": true
   },
   "outputs": [],
   "source": [
    "# 0*T_0 + 1.0*T_1 = 0 + x = x"
   ]
  },
  {
   "cell_type": "code",
   "execution_count": null,
   "metadata": {},
   "outputs": [],
   "source": [
    "x(0.3)"
   ]
  },
  {
   "cell_type": "code",
   "execution_count": null,
   "metadata": {},
   "outputs": [],
   "source": [
    "x(1.5)"
   ]
  },
  {
   "cell_type": "code",
   "execution_count": null,
   "metadata": {},
   "outputs": [],
   "source": [
    "x^2"
   ]
  },
  {
   "cell_type": "code",
   "execution_count": null,
   "metadata": {
    "collapsed": true
   },
   "outputs": [],
   "source": [
    "# 0.5 T_0 + 0.5*T_2 = 0.5 + 0.5*(2x^2 - 1) = x^2"
   ]
  },
  {
   "cell_type": "code",
   "execution_count": null,
   "metadata": {},
   "outputs": [],
   "source": [
    "f = sin(x^2)"
   ]
  },
  {
   "cell_type": "code",
   "execution_count": null,
   "metadata": {},
   "outputs": [],
   "source": [
    "f.coefficients"
   ]
  },
  {
   "cell_type": "code",
   "execution_count": null,
   "metadata": {
    "collapsed": true
   },
   "outputs": [],
   "source": [
    "using Plots"
   ]
  },
  {
   "cell_type": "code",
   "execution_count": null,
   "metadata": {},
   "outputs": [],
   "source": [
    "plot(f, -1, 1)"
   ]
  },
  {
   "cell_type": "code",
   "execution_count": null,
   "metadata": {},
   "outputs": [],
   "source": [
    "f"
   ]
  },
  {
   "cell_type": "code",
   "execution_count": null,
   "metadata": {},
   "outputs": [],
   "source": [
    "f'"
   ]
  },
  {
   "cell_type": "code",
   "execution_count": null,
   "metadata": {
    "collapsed": true
   },
   "outputs": [],
   "source": []
  }
 ],
 "metadata": {
  "kernelspec": {
   "display_name": "Julia 0.6.0",
   "language": "julia",
   "name": "julia-0.6"
  },
  "language_info": {
   "file_extension": ".jl",
   "mimetype": "application/julia",
   "name": "julia",
   "version": "0.6.0"
  },
  "toc": {
   "nav_menu": {
    "height": "86px",
    "width": "252px"
   },
   "navigate_menu": true,
   "number_sections": true,
   "sideBar": true,
   "threshold": 4,
   "toc_cell": false,
   "toc_section_display": "block",
   "toc_window_display": false
  },
  "widgets": {
   "state": {
    "2dde1b04-10f0-46ff-8bf4-3b41def53ac5": {
     "views": [
      {
       "cell_index": 26
      }
     ]
    },
    "88bcaa8c-07c5-4ab7-87be-7627e4c8eeb1": {
     "views": [
      {
       "cell_index": 18
      }
     ]
    },
    "e1a4dd11-4c5b-439b-96db-b3adae1d36c5": {
     "views": [
      {
       "cell_index": 22
      }
     ]
    }
   },
   "version": "1.2.0"
  }
 },
 "nbformat": 4,
 "nbformat_minor": 1
}
