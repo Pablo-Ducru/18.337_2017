{
 "cells": [
  {
   "cell_type": "code",
   "execution_count": 1,
   "metadata": {},
   "outputs": [
    {
     "data": {
      "text/plain": [
       "Plots.GRBackend()"
      ]
     },
     "execution_count": 1,
     "metadata": {},
     "output_type": "execute_result"
    }
   ],
   "source": [
    "using Plots\n",
    "gr()"
   ]
  },
  {
   "cell_type": "markdown",
   "metadata": {},
   "source": [
    "## A. Data Table choices"
   ]
  },
  {
   "cell_type": "markdown",
   "metadata": {},
   "source": [
    "Machine learning is all about finding patterns in data, so it is very reasonble to start with data."
   ]
  },
  {
   "cell_type": "code",
   "execution_count": 2,
   "metadata": {},
   "outputs": [
    {
     "data": {
      "text/html": [
       "<?xml version=\"1.0\" encoding=\"utf-8\"?>\n",
       "<svg xmlns=\"http://www.w3.org/2000/svg\" xmlns:xlink=\"http://www.w3.org/1999/xlink\" width=\"600\" height=\"400\" viewBox=\"0 0 600 400\">\n",
       "<defs>\n",
       "  <clipPath id=\"clip00\">\n",
       "    <rect x=\"0\" y=\"0\" width=\"600\" height=\"400\"/>\n",
       "  </clipPath>\n",
       "</defs>\n",
       "<polygon clip-path=\"url(#clip00)\" points=\"\n",
       "0,400 600,400 600,0 0,0 \n",
       "  \" fill=\"#ffffff\" fill-opacity=\"1\"/>\n",
       "<defs>\n",
       "  <clipPath id=\"clip01\">\n",
       "    <rect x=\"120\" y=\"0\" width=\"421\" height=\"400\"/>\n",
       "  </clipPath>\n",
       "</defs>\n",
       "<polygon clip-path=\"url(#clip00)\" points=\"\n",
       "55.1181,360.63 592.126,360.63 592.126,7.87402 55.1181,7.87402 \n",
       "  \" fill=\"#ffffff\" fill-opacity=\"1\"/>\n",
       "<defs>\n",
       "  <clipPath id=\"clip02\">\n",
       "    <rect x=\"55\" y=\"7\" width=\"538\" height=\"353\"/>\n",
       "  </clipPath>\n",
       "</defs>\n",
       "<polyline clip-path=\"url(#clip02)\" style=\"stroke:#00002d; stroke-width:0.8; stroke-opacity:0.5; fill:none\" stroke-dasharray=\"1, 2\" points=\"\n",
       "  55.1181,355.339 55.1181,13.1654 \n",
       "  \"/>\n",
       "<polyline clip-path=\"url(#clip02)\" style=\"stroke:#00002d; stroke-width:0.8; stroke-opacity:0.5; fill:none\" stroke-dasharray=\"1, 2\" points=\"\n",
       "  162.52,355.339 162.52,13.1654 \n",
       "  \"/>\n",
       "<polyline clip-path=\"url(#clip02)\" style=\"stroke:#00002d; stroke-width:0.8; stroke-opacity:0.5; fill:none\" stroke-dasharray=\"1, 2\" points=\"\n",
       "  269.921,355.339 269.921,13.1654 \n",
       "  \"/>\n",
       "<polyline clip-path=\"url(#clip02)\" style=\"stroke:#00002d; stroke-width:0.8; stroke-opacity:0.5; fill:none\" stroke-dasharray=\"1, 2\" points=\"\n",
       "  377.323,355.339 377.323,13.1654 \n",
       "  \"/>\n",
       "<polyline clip-path=\"url(#clip02)\" style=\"stroke:#00002d; stroke-width:0.8; stroke-opacity:0.5; fill:none\" stroke-dasharray=\"1, 2\" points=\"\n",
       "  484.724,355.339 484.724,13.1654 \n",
       "  \"/>\n",
       "<polyline clip-path=\"url(#clip02)\" style=\"stroke:#00002d; stroke-width:0.8; stroke-opacity:0.5; fill:none\" stroke-dasharray=\"1, 2\" points=\"\n",
       "  592.126,355.339 592.126,13.1654 \n",
       "  \"/>\n",
       "<polyline clip-path=\"url(#clip02)\" style=\"stroke:#00002d; stroke-width:0.8; stroke-opacity:0.5; fill:none\" stroke-dasharray=\"1, 2\" points=\"\n",
       "  63.1732,360.63 584.071,360.63 \n",
       "  \"/>\n",
       "<polyline clip-path=\"url(#clip02)\" style=\"stroke:#00002d; stroke-width:0.8; stroke-opacity:0.5; fill:none\" stroke-dasharray=\"1, 2\" points=\"\n",
       "  63.1732,290.079 584.071,290.079 \n",
       "  \"/>\n",
       "<polyline clip-path=\"url(#clip02)\" style=\"stroke:#00002d; stroke-width:0.8; stroke-opacity:0.5; fill:none\" stroke-dasharray=\"1, 2\" points=\"\n",
       "  63.1732,219.528 584.071,219.528 \n",
       "  \"/>\n",
       "<polyline clip-path=\"url(#clip02)\" style=\"stroke:#00002d; stroke-width:0.8; stroke-opacity:0.5; fill:none\" stroke-dasharray=\"1, 2\" points=\"\n",
       "  63.1732,148.976 584.071,148.976 \n",
       "  \"/>\n",
       "<polyline clip-path=\"url(#clip02)\" style=\"stroke:#00002d; stroke-width:0.8; stroke-opacity:0.5; fill:none\" stroke-dasharray=\"1, 2\" points=\"\n",
       "  63.1732,78.4252 584.071,78.4252 \n",
       "  \"/>\n",
       "<polyline clip-path=\"url(#clip02)\" style=\"stroke:#00002d; stroke-width:0.8; stroke-opacity:0.5; fill:none\" stroke-dasharray=\"1, 2\" points=\"\n",
       "  63.1732,7.87402 584.071,7.87402 \n",
       "  \"/>\n",
       "<polyline clip-path=\"url(#clip00)\" style=\"stroke:#00002d; stroke-width:0.8; stroke-opacity:1; fill:none\" points=\"\n",
       "  55.1181,360.63 592.126,360.63 \n",
       "  \"/>\n",
       "<polyline clip-path=\"url(#clip00)\" style=\"stroke:#00002d; stroke-width:0.8; stroke-opacity:1; fill:none\" points=\"\n",
       "  55.1181,360.63 55.1181,355.339 \n",
       "  \"/>\n",
       "<polyline clip-path=\"url(#clip00)\" style=\"stroke:#00002d; stroke-width:0.8; stroke-opacity:1; fill:none\" points=\"\n",
       "  162.52,360.63 162.52,355.339 \n",
       "  \"/>\n",
       "<polyline clip-path=\"url(#clip00)\" style=\"stroke:#00002d; stroke-width:0.8; stroke-opacity:1; fill:none\" points=\"\n",
       "  269.921,360.63 269.921,355.339 \n",
       "  \"/>\n",
       "<polyline clip-path=\"url(#clip00)\" style=\"stroke:#00002d; stroke-width:0.8; stroke-opacity:1; fill:none\" points=\"\n",
       "  377.323,360.63 377.323,355.339 \n",
       "  \"/>\n",
       "<polyline clip-path=\"url(#clip00)\" style=\"stroke:#00002d; stroke-width:0.8; stroke-opacity:1; fill:none\" points=\"\n",
       "  484.724,360.63 484.724,355.339 \n",
       "  \"/>\n",
       "<polyline clip-path=\"url(#clip00)\" style=\"stroke:#00002d; stroke-width:0.8; stroke-opacity:1; fill:none\" points=\"\n",
       "  592.126,360.63 592.126,355.339 \n",
       "  \"/>\n",
       "<polyline clip-path=\"url(#clip00)\" style=\"stroke:#00002d; stroke-width:0.8; stroke-opacity:1; fill:none\" points=\"\n",
       "  55.1181,360.63 55.1181,7.87402 \n",
       "  \"/>\n",
       "<polyline clip-path=\"url(#clip00)\" style=\"stroke:#00002d; stroke-width:0.8; stroke-opacity:1; fill:none\" points=\"\n",
       "  55.1181,360.63 63.1732,360.63 \n",
       "  \"/>\n",
       "<polyline clip-path=\"url(#clip00)\" style=\"stroke:#00002d; stroke-width:0.8; stroke-opacity:1; fill:none\" points=\"\n",
       "  55.1181,290.079 63.1732,290.079 \n",
       "  \"/>\n",
       "<polyline clip-path=\"url(#clip00)\" style=\"stroke:#00002d; stroke-width:0.8; stroke-opacity:1; fill:none\" points=\"\n",
       "  55.1181,219.528 63.1732,219.528 \n",
       "  \"/>\n",
       "<polyline clip-path=\"url(#clip00)\" style=\"stroke:#00002d; stroke-width:0.8; stroke-opacity:1; fill:none\" points=\"\n",
       "  55.1181,148.976 63.1732,148.976 \n",
       "  \"/>\n",
       "<polyline clip-path=\"url(#clip00)\" style=\"stroke:#00002d; stroke-width:0.8; stroke-opacity:1; fill:none\" points=\"\n",
       "  55.1181,78.4252 63.1732,78.4252 \n",
       "  \"/>\n",
       "<polyline clip-path=\"url(#clip00)\" style=\"stroke:#00002d; stroke-width:0.8; stroke-opacity:1; fill:none\" points=\"\n",
       "  55.1181,7.87402 63.1732,7.87402 \n",
       "  \"/>\n",
       "<g clip-path=\"url(#clip00)\">\n",
       "<text style=\"fill:#00002d; fill-opacity:1; font-family:Arial,Helvetica Neue,Helvetica,sans-serif; font-size:12; text-anchor:middle;\" transform=\"rotate(0, 55.1181, 374.43)\" x=\"55.1181\" y=\"374.43\">0</text>\n",
       "</g>\n",
       "<g clip-path=\"url(#clip00)\">\n",
       "<text style=\"fill:#00002d; fill-opacity:1; font-family:Arial,Helvetica Neue,Helvetica,sans-serif; font-size:12; text-anchor:middle;\" transform=\"rotate(0, 162.52, 374.43)\" x=\"162.52\" y=\"374.43\">2</text>\n",
       "</g>\n",
       "<g clip-path=\"url(#clip00)\">\n",
       "<text style=\"fill:#00002d; fill-opacity:1; font-family:Arial,Helvetica Neue,Helvetica,sans-serif; font-size:12; text-anchor:middle;\" transform=\"rotate(0, 269.921, 374.43)\" x=\"269.921\" y=\"374.43\">4</text>\n",
       "</g>\n",
       "<g clip-path=\"url(#clip00)\">\n",
       "<text style=\"fill:#00002d; fill-opacity:1; font-family:Arial,Helvetica Neue,Helvetica,sans-serif; font-size:12; text-anchor:middle;\" transform=\"rotate(0, 377.323, 374.43)\" x=\"377.323\" y=\"374.43\">6</text>\n",
       "</g>\n",
       "<g clip-path=\"url(#clip00)\">\n",
       "<text style=\"fill:#00002d; fill-opacity:1; font-family:Arial,Helvetica Neue,Helvetica,sans-serif; font-size:12; text-anchor:middle;\" transform=\"rotate(0, 484.724, 374.43)\" x=\"484.724\" y=\"374.43\">8</text>\n",
       "</g>\n",
       "<g clip-path=\"url(#clip00)\">\n",
       "<text style=\"fill:#00002d; fill-opacity:1; font-family:Arial,Helvetica Neue,Helvetica,sans-serif; font-size:12; text-anchor:middle;\" transform=\"rotate(0, 592.126, 374.43)\" x=\"592.126\" y=\"374.43\">10</text>\n",
       "</g>\n",
       "<g clip-path=\"url(#clip00)\">\n",
       "<text style=\"fill:#00002d; fill-opacity:1; font-family:Arial,Helvetica Neue,Helvetica,sans-serif; font-size:12; text-anchor:end;\" transform=\"rotate(0, 49.1181, 365.13)\" x=\"49.1181\" y=\"365.13\">0</text>\n",
       "</g>\n",
       "<g clip-path=\"url(#clip00)\">\n",
       "<text style=\"fill:#00002d; fill-opacity:1; font-family:Arial,Helvetica Neue,Helvetica,sans-serif; font-size:12; text-anchor:end;\" transform=\"rotate(0, 49.1181, 294.579)\" x=\"49.1181\" y=\"294.579\">10</text>\n",
       "</g>\n",
       "<g clip-path=\"url(#clip00)\">\n",
       "<text style=\"fill:#00002d; fill-opacity:1; font-family:Arial,Helvetica Neue,Helvetica,sans-serif; font-size:12; text-anchor:end;\" transform=\"rotate(0, 49.1181, 224.028)\" x=\"49.1181\" y=\"224.028\">20</text>\n",
       "</g>\n",
       "<g clip-path=\"url(#clip00)\">\n",
       "<text style=\"fill:#00002d; fill-opacity:1; font-family:Arial,Helvetica Neue,Helvetica,sans-serif; font-size:12; text-anchor:end;\" transform=\"rotate(0, 49.1181, 153.476)\" x=\"49.1181\" y=\"153.476\">30</text>\n",
       "</g>\n",
       "<g clip-path=\"url(#clip00)\">\n",
       "<text style=\"fill:#00002d; fill-opacity:1; font-family:Arial,Helvetica Neue,Helvetica,sans-serif; font-size:12; text-anchor:end;\" transform=\"rotate(0, 49.1181, 82.9252)\" x=\"49.1181\" y=\"82.9252\">40</text>\n",
       "</g>\n",
       "<g clip-path=\"url(#clip00)\">\n",
       "<text style=\"fill:#00002d; fill-opacity:1; font-family:Arial,Helvetica Neue,Helvetica,sans-serif; font-size:12; text-anchor:end;\" transform=\"rotate(0, 49.1181, 12.374)\" x=\"49.1181\" y=\"12.374\">50</text>\n",
       "</g>\n",
       "<g clip-path=\"url(#clip00)\">\n",
       "<text style=\"fill:#00002d; fill-opacity:1; font-family:Arial,Helvetica Neue,Helvetica,sans-serif; font-size:16; text-anchor:middle;\" transform=\"rotate(0, 323.622, 397.6)\" x=\"323.622\" y=\"397.6\">X</text>\n",
       "</g>\n",
       "<g clip-path=\"url(#clip00)\">\n",
       "<text style=\"fill:#00002d; fill-opacity:1; font-family:Arial,Helvetica Neue,Helvetica,sans-serif; font-size:16; text-anchor:middle;\" transform=\"rotate(-90, 14.4, 184.252)\" x=\"14.4\" y=\"184.252\">Y</text>\n",
       "</g>\n",
       "<polyline clip-path=\"url(#clip02)\" style=\"stroke:#008100; stroke-width:5.6; stroke-opacity:1; fill:none\" points=\"\n",
       "  323.622,289.373 404.173,220.233 431.024,148.271 484.724,76.3087 \n",
       "  \"/>\n",
       "<circle clip-path=\"url(#clip02)\" style=\"fill:#00002d; stroke:none; fill-opacity:0.8\" cx=\"323.622\" cy=\"289.373\" r=\"7\"/>\n",
       "<circle clip-path=\"url(#clip02)\" style=\"fill:#ff0000; stroke:none; fill-opacity:0.8\" cx=\"323.622\" cy=\"289.373\" r=\"7\"/>\n",
       "<circle clip-path=\"url(#clip02)\" style=\"fill:#00002d; stroke:none; fill-opacity:0.8\" cx=\"404.173\" cy=\"220.233\" r=\"7\"/>\n",
       "<circle clip-path=\"url(#clip02)\" style=\"fill:#ff0000; stroke:none; fill-opacity:0.8\" cx=\"404.173\" cy=\"220.233\" r=\"7\"/>\n",
       "<circle clip-path=\"url(#clip02)\" style=\"fill:#00002d; stroke:none; fill-opacity:0.8\" cx=\"431.024\" cy=\"148.271\" r=\"7\"/>\n",
       "<circle clip-path=\"url(#clip02)\" style=\"fill:#ff0000; stroke:none; fill-opacity:0.8\" cx=\"431.024\" cy=\"148.271\" r=\"7\"/>\n",
       "<circle clip-path=\"url(#clip02)\" style=\"fill:#00002d; stroke:none; fill-opacity:0.8\" cx=\"484.724\" cy=\"76.3087\" r=\"7\"/>\n",
       "<circle clip-path=\"url(#clip02)\" style=\"fill:#ff0000; stroke:none; fill-opacity:0.8\" cx=\"484.724\" cy=\"76.3087\" r=\"7\"/>\n",
       "<polygon clip-path=\"url(#clip00)\" points=\"\n",
       "506.221,58.994 574.126,58.994 574.126,28.754 506.221,28.754 \n",
       "  \" fill=\"#ffffff\" fill-opacity=\"1\"/>\n",
       "<polyline clip-path=\"url(#clip00)\" style=\"stroke:#00002d; stroke-width:0.8; stroke-opacity:1; fill:none\" points=\"\n",
       "  506.221,58.994 574.126,58.994 574.126,28.754 506.221,28.754 506.221,58.994 \n",
       "  \"/>\n",
       "<polyline clip-path=\"url(#clip00)\" style=\"stroke:#008100; stroke-width:5.6; stroke-opacity:1; fill:none\" points=\"\n",
       "  512.221,43.874 548.221,43.874 \n",
       "  \"/>\n",
       "<circle clip-path=\"url(#clip00)\" style=\"fill:#00002d; stroke:none; fill-opacity:0.8\" cx=\"533.221\" cy=\"43.874\" r=\"5\"/>\n",
       "<circle clip-path=\"url(#clip00)\" style=\"fill:#ff0000; stroke:none; fill-opacity:0.8\" cx=\"533.221\" cy=\"43.874\" r=\"4\"/>\n",
       "<g clip-path=\"url(#clip00)\">\n",
       "<text style=\"fill:#00002d; fill-opacity:1; font-family:Arial,Helvetica Neue,Helvetica,sans-serif; font-size:12; text-anchor:start;\" transform=\"rotate(0, 554.221, 48.374)\" x=\"554.221\" y=\"48.374\">Y</text>\n",
       "</g>\n",
       "</svg>\n"
      ]
     },
     "execution_count": 2,
     "metadata": {},
     "output_type": "execute_result"
    }
   ],
   "source": [
    "# Some Data (try your own)\n",
    "x = [5,6.5,7,8]\n",
    "y = [10.1, 19.9, 30.1, 40.3]\n",
    "plot(x,y,\n",
    "    label=\"Y\", line=(7,:green), marker=(10,0.8,:red), xlims=(0,10), ylims=(0,50),\n",
    "    xlabel=\"X\",ylabel=\"Y\")\n",
    "    "
   ]
  },
  {
   "cell_type": "markdown",
   "metadata": {},
   "source": [
    "### A.1. Just a matrix please. (No labels, no extras, simple.)"
   ]
  },
  {
   "cell_type": "code",
   "execution_count": 3,
   "metadata": {},
   "outputs": [
    {
     "data": {
      "text/plain": [
       "4×2 Array{Float64,2}:\n",
       " 5.0  10.1\n",
       " 6.5  19.9\n",
       " 7.0  30.1\n",
       " 8.0  40.3"
      ]
     },
     "execution_count": 3,
     "metadata": {},
     "output_type": "execute_result"
    }
   ],
   "source": [
    "data1 = [x y]"
   ]
  },
  {
   "cell_type": "code",
   "execution_count": 4,
   "metadata": {},
   "outputs": [
    {
     "data": {
      "text/plain": [
       "4×2 Array{Float64,2}:\n",
       " 5.0  10.1\n",
       " 6.5  19.9\n",
       " 7.0  30.1\n",
       " 8.0  40.3"
      ]
     },
     "execution_count": 4,
     "metadata": {},
     "output_type": "execute_result"
    }
   ],
   "source": [
    "data1 = [x y]"
   ]
  },
  {
   "cell_type": "markdown",
   "metadata": {},
   "source": [
    "### A.2. Data Frames: Inspired by the R universe."
   ]
  },
  {
   "cell_type": "code",
   "execution_count": 5,
   "metadata": {},
   "outputs": [
    {
     "data": {
      "text/html": [
       "<table class=\"data-frame\"><thead><tr><th></th><th>X</th><th>Y</th></tr></thead><tbody><tr><th>1</th><td>5.0</td><td>10.1</td></tr><tr><th>2</th><td>6.5</td><td>19.9</td></tr><tr><th>3</th><td>7.0</td><td>30.1</td></tr><tr><th>4</th><td>8.0</td><td>40.3</td></tr></tbody></table>"
      ],
      "text/plain": [
       "4×2 DataFrames.DataFrame\n",
       "│ Row │ X   │ Y    │\n",
       "├─────┼─────┼──────┤\n",
       "│ 1   │ 5.0 │ 10.1 │\n",
       "│ 2   │ 6.5 │ 19.9 │\n",
       "│ 3   │ 7.0 │ 30.1 │\n",
       "│ 4   │ 8.0 │ 40.3 │"
      ]
     },
     "execution_count": 5,
     "metadata": {},
     "output_type": "execute_result"
    }
   ],
   "source": [
    "using DataFrames\n",
    "data2 = DataFrame(X=x,Y=y) # Upper Case X and Y are labels (not data)"
   ]
  },
  {
   "cell_type": "code",
   "execution_count": 6,
   "metadata": {},
   "outputs": [
    {
     "data": {
      "text/plain": [
       "4-element DataArrays.DataArray{Float64,1}:\n",
       " 5.0\n",
       " 6.5\n",
       " 7.0\n",
       " 8.0"
      ]
     },
     "execution_count": 6,
     "metadata": {},
     "output_type": "execute_result"
    }
   ],
   "source": [
    "data2[1]"
   ]
  },
  {
   "cell_type": "code",
   "execution_count": 7,
   "metadata": {},
   "outputs": [
    {
     "name": "stderr",
     "output_type": "stream",
     "text": [
      "WARNING: Method definition ==(Base.Nullable{S}, Base.Nullable{T}) in module Base at nullable.jl:238 overwritten in module NullableArrays at /Users/edelman/.julia/v0.6/NullableArrays/src/operators.jl:128.\n"
     ]
    },
    {
     "data": {
      "text/plain": [
       "CSV.Sink(    CSV.Options:\n",
       "        delim: ','\n",
       "        quotechar: '\"'\n",
       "        escapechar: '\\\\'\n",
       "        null: \"\"\n",
       "        dateformat: dateformat\"yyyy-mm-dd\", IOBuffer(data=UInt8[...], readable=true, writable=true, seekable=true, append=false, size=0, maxsize=Inf, ptr=1, mark=-1), \"data.csv\", 8, true, String[\"X\", \"Y\"], false)"
      ]
     },
     "execution_count": 7,
     "metadata": {},
     "output_type": "execute_result"
    }
   ],
   "source": [
    "using CSV\n",
    "CSV.write(\"data.csv\", data2)"
   ]
  },
  {
   "cell_type": "code",
   "execution_count": 8,
   "metadata": {},
   "outputs": [
    {
     "name": "stdout",
     "output_type": "stream",
     "text": [
      "\"X\",\"Y\"\n",
      "5.0,10.1\n",
      "6.5,19.9\n",
      "7.0,30.1\n",
      "8.0,40.3\n"
     ]
    }
   ],
   "source": [
    ";cat data.csv"
   ]
  },
  {
   "cell_type": "markdown",
   "metadata": {},
   "source": [
    "### A.3. Indexed Tables (Treat data like array indices, knows type information)"
   ]
  },
  {
   "cell_type": "code",
   "execution_count": 9,
   "metadata": {},
   "outputs": [
    {
     "ename": "LoadError",
     "evalue": "\u001b[91mUndefVarError: Columns not defined\u001b[39m",
     "output_type": "error",
     "traceback": [
      "\u001b[91mUndefVarError: Columns not defined\u001b[39m",
      "",
      "Stacktrace:",
      " [1] \u001b[1minclude_string\u001b[22m\u001b[22m\u001b[1m(\u001b[22m\u001b[22m::String, ::String\u001b[1m)\u001b[22m\u001b[22m at \u001b[1m./loading.jl:515\u001b[22m\u001b[22m"
     ]
    }
   ],
   "source": [
    "using  IndexedTables.Table\n",
    "data3 = Table(Columns(X=x),Columns(Y=y))"
   ]
  },
  {
   "cell_type": "code",
   "execution_count": 10,
   "metadata": {},
   "outputs": [
    {
     "ename": "LoadError",
     "evalue": "\u001b[91mUndefVarError: data3 not defined\u001b[39m",
     "output_type": "error",
     "traceback": [
      "\u001b[91mUndefVarError: data3 not defined\u001b[39m",
      "",
      "Stacktrace:",
      " [1] \u001b[1minclude_string\u001b[22m\u001b[22m\u001b[1m(\u001b[22m\u001b[22m::String, ::String\u001b[1m)\u001b[22m\u001b[22m at \u001b[1m./loading.jl:515\u001b[22m\u001b[22m"
     ]
    }
   ],
   "source": [
    "data3[6.5]"
   ]
  },
  {
   "cell_type": "code",
   "execution_count": 11,
   "metadata": {},
   "outputs": [
    {
     "ename": "LoadError",
     "evalue": "\u001b[91mUndefVarError: data3 not defined\u001b[39m",
     "output_type": "error",
     "traceback": [
      "\u001b[91mUndefVarError: data3 not defined\u001b[39m",
      "",
      "Stacktrace:",
      " [1] \u001b[1minclude_string\u001b[22m\u001b[22m\u001b[1m(\u001b[22m\u001b[22m::String, ::String\u001b[1m)\u001b[22m\u001b[22m at \u001b[1m./loading.jl:515\u001b[22m\u001b[22m"
     ]
    }
   ],
   "source": [
    "typeof.([data1,data2,data3])"
   ]
  },
  {
   "cell_type": "markdown",
   "metadata": {},
   "source": [
    "### A.4. JuliaDB (Lots of bells and whistles, many files, parallelism, ...)"
   ]
  },
  {
   "cell_type": "code",
   "execution_count": 12,
   "metadata": {
    "collapsed": true
   },
   "outputs": [],
   "source": [
    "using JuliaDB:DTable"
   ]
  },
  {
   "cell_type": "code",
   "execution_count": 13,
   "metadata": {},
   "outputs": [
    {
     "ename": "LoadError",
     "evalue": "\u001b[91mUndefVarError: distribute not defined\u001b[39m",
     "output_type": "error",
     "traceback": [
      "\u001b[91mUndefVarError: distribute not defined\u001b[39m",
      "",
      "Stacktrace:",
      " [1] \u001b[1minclude_string\u001b[22m\u001b[22m\u001b[1m(\u001b[22m\u001b[22m::String, ::String\u001b[1m)\u001b[22m\u001b[22m at \u001b[1m./loading.jl:515\u001b[22m\u001b[22m"
     ]
    }
   ],
   "source": [
    "data4 = distribute(data3, 1) "
   ]
  },
  {
   "cell_type": "code",
   "execution_count": 14,
   "metadata": {},
   "outputs": [
    {
     "ename": "LoadError",
     "evalue": "\u001b[91mUndefVarError: loadfiles not defined\u001b[39m",
     "output_type": "error",
     "traceback": [
      "\u001b[91mUndefVarError: loadfiles not defined\u001b[39m",
      "",
      "Stacktrace:",
      " [1] \u001b[1minclude_string\u001b[22m\u001b[22m\u001b[1m(\u001b[22m\u001b[22m::String, ::String\u001b[1m)\u001b[22m\u001b[22m at \u001b[1m./loading.jl:515\u001b[22m\u001b[22m"
     ]
    }
   ],
   "source": [
    "data5 = loadfiles([\"data.csv\"]) "
   ]
  },
  {
   "cell_type": "code",
   "execution_count": 15,
   "metadata": {},
   "outputs": [
    {
     "ename": "LoadError",
     "evalue": "\u001b[91mUndefVarError: data4 not defined\u001b[39m",
     "output_type": "error",
     "traceback": [
      "\u001b[91mUndefVarError: data4 not defined\u001b[39m",
      "",
      "Stacktrace:",
      " [1] \u001b[1minclude_string\u001b[22m\u001b[22m\u001b[1m(\u001b[22m\u001b[22m::String, ::String\u001b[1m)\u001b[22m\u001b[22m at \u001b[1m./loading.jl:515\u001b[22m\u001b[22m"
     ]
    }
   ],
   "source": [
    "typeof(data4)"
   ]
  },
  {
   "cell_type": "code",
   "execution_count": 16,
   "metadata": {},
   "outputs": [
    {
     "ename": "LoadError",
     "evalue": "\u001b[91mUndefVarError: data4 not defined\u001b[39m",
     "output_type": "error",
     "traceback": [
      "\u001b[91mUndefVarError: data4 not defined\u001b[39m",
      "",
      "Stacktrace:",
      " [1] \u001b[1minclude_string\u001b[22m\u001b[22m\u001b[1m(\u001b[22m\u001b[22m::String, ::String\u001b[1m)\u001b[22m\u001b[22m at \u001b[1m./loading.jl:515\u001b[22m\u001b[22m"
     ]
    }
   ],
   "source": [
    "data4[1:2]"
   ]
  },
  {
   "cell_type": "code",
   "execution_count": 17,
   "metadata": {},
   "outputs": [
    {
     "ename": "LoadError",
     "evalue": "\u001b[91mUndefVarError: data4 not defined\u001b[39m",
     "output_type": "error",
     "traceback": [
      "\u001b[91mUndefVarError: data4 not defined\u001b[39m",
      "",
      "Stacktrace:",
      " [1] \u001b[1minclude_string\u001b[22m\u001b[22m\u001b[1m(\u001b[22m\u001b[22m::String, ::String\u001b[1m)\u001b[22m\u001b[22m at \u001b[1m./loading.jl:515\u001b[22m\u001b[22m"
     ]
    }
   ],
   "source": [
    "select(data4,1=>i->i≥2) "
   ]
  },
  {
   "cell_type": "code",
   "execution_count": 18,
   "metadata": {},
   "outputs": [
    {
     "ename": "LoadError",
     "evalue": "\u001b[91mUndefVarError: data4 not defined\u001b[39m",
     "output_type": "error",
     "traceback": [
      "\u001b[91mUndefVarError: data4 not defined\u001b[39m",
      "",
      "Stacktrace:",
      " [1] \u001b[1minclude_string\u001b[22m\u001b[22m\u001b[1m(\u001b[22m\u001b[22m::String, ::String\u001b[1m)\u001b[22m\u001b[22m at \u001b[1m./loading.jl:515\u001b[22m\u001b[22m"
     ]
    }
   ],
   "source": [
    "filter(t->(t[1]<8 && t[2]>11),data4)"
   ]
  },
  {
   "cell_type": "markdown",
   "metadata": {},
   "source": [
    "### A.5 IterableTables"
   ]
  },
  {
   "cell_type": "code",
   "execution_count": 19,
   "metadata": {},
   "outputs": [
    {
     "name": "stderr",
     "output_type": "stream",
     "text": [
      "WARNING: Method definition append!(NullableArrays.NullableArray{WeakRefStrings.WeakRefString{T}, 1}, NullableArrays.NullableArray{WeakRefStrings.WeakRefString{T}, 1}) in module Data at /Users/edelman/.julia/v0.6/DataStreams/src/DataStreams.jl:344 overwritten in module DataTables at /Users/edelman/.julia/v0.6/DataTables/src/abstractdatatable/io.jl:318.\n",
      "WARNING: Method definition describe(AbstractArray{T, N} where N where T) in module StatsBase at /Users/edelman/.julia/v0.6/StatsBase/src/scalarstats.jl:559 overwritten in module DataTables at /Users/edelman/.julia/v0.6/DataTables/src/abstractdatatable/abstractdatatable.jl:381.\n",
      "\n",
      "WARNING: deprecated syntax \"inner constructor Cell(...) around /Users/edelman/.julia/v0.6/TypedTables/src/Cell.jl:11\".\n",
      "Use \"Cell{Name,ElType}(...) where {Name,ElType}\" instead.\n",
      "\n",
      "WARNING: deprecated syntax \"inner constructor Column(...) around /Users/edelman/.julia/v0.6/TypedTables/src/Column.jl:8\".\n",
      "Use \"Column{Name,StorageType}(...) where {Name,StorageType}\" instead.\n",
      "\n",
      "WARNING: deprecated syntax \"inner constructor Row(...) around /Users/edelman/.julia/v0.6/TypedTables/src/Row.jl:12\".\n",
      "Use \"Row{Names,Types}(...) where {Names,Types}\" instead.\n",
      "\n",
      "WARNING: deprecated syntax \"inner constructor Table(...) around /Users/edelman/.julia/v0.6/TypedTables/src/Table.jl:25\".\n",
      "Use \"Table{Names,StorageTypes}(...) where {Names,StorageTypes}\" instead.\n",
      "\n",
      "WARNING: deprecated syntax \"inner constructor Table(...) around /Users/edelman/.julia/v0.6/TypedTables/src/Table.jl:36\".\n",
      "Use \"Table{Names,StorageTypes}(...) where {Names,StorageTypes}\" instead.\n",
      "WARNING: Compat.UTF8String is deprecated, use String instead.\n",
      "  likely near /Users/edelman/.julia/v0.6/TypedTables/src/show.jl:351\n",
      "WARNING: Compat.UTF8String is deprecated, use String instead.\n",
      "  likely near /Users/edelman/.julia/v0.6/TypedTables/src/show.jl:351\n",
      "WARNING: Compat.UTF8String is deprecated, use String instead.\n",
      "  likely near /Users/edelman/.julia/v0.6/TypedTables/src/show.jl:351\n",
      "WARNING: Compat.UTF8String is deprecated, use String instead.\n",
      "  likely near /Users/edelman/.julia/v0.6/TypedTables/src/show.jl:351\n",
      "WARNING: Compat.UTF8String is deprecated, use String instead.\n",
      "  likely near /Users/edelman/.julia/v0.6/TypedTables/src/show.jl:351\n",
      "WARNING: Compat.UTF8String is deprecated, use String instead.\n",
      "  likely near /Users/edelman/.julia/v0.6/TypedTables/src/show.jl:351\n",
      "WARNING: Compat.UTF8String is deprecated, use String instead.\n",
      "  likely near /Users/edelman/.julia/v0.6/TypedTables/src/show.jl:351\n",
      "WARNING: Compat.UTF8String is deprecated, use String instead.\n",
      "  likely near /Users/edelman/.julia/v0.6/TypedTables/src/show.jl:351\n",
      "WARNING: Compat.UTF8String is deprecated, use String instead.\n",
      "  likely near /Users/edelman/.julia/v0.6/TypedTables/src/show.jl:351\n",
      "WARNING: Compat.UTF8String is deprecated, use String instead.\n",
      "  likely near /Users/edelman/.julia/v0.6/TypedTables/src/show.jl:351\n",
      "WARNING: Compat.UTF8String is deprecated, use String instead.\n",
      "  likely near /Users/edelman/.julia/v0.6/TypedTables/src/show.jl:351\n",
      "WARNING: Compat.UTF8String is deprecated, use String instead.\n",
      "  likely near /Users/edelman/.julia/v0.6/TypedTables/src/show.jl:351\n",
      "WARNING: Compat.UTF8String is deprecated, use String instead.\n",
      "  likely near /Users/edelman/.julia/v0.6/TypedTables/src/show.jl:351\n",
      "WARNING: Compat.UTF8String is deprecated, use String instead.\n",
      "  likely near /Users/edelman/.julia/v0.6/TypedTables/src/show.jl:351\n",
      "WARNING: Compat.UTF8String is deprecated, use String instead.\n",
      "  likely near /Users/edelman/.julia/v0.6/TypedTables/src/show.jl:351\n",
      "WARNING: Compat.UTF8String is deprecated, use String instead.\n",
      "  likely near /Users/edelman/.julia/v0.6/TypedTables/src/show.jl:351\n",
      "WARNING: Compat.UTF8String is deprecated, use String instead.\n",
      "  likely near /Users/edelman/.julia/v0.6/TypedTables/src/show.jl:351\n",
      "WARNING: Compat.UTF8String is deprecated, use String instead.\n",
      "  likely near /Users/edelman/.julia/v0.6/TypedTables/src/show.jl:351\n",
      "WARNING: Compat.UTF8String is deprecated, use String instead.\n",
      "  likely near /Users/edelman/.julia/v0.6/TypedTables/src/show.jl:351\n",
      "WARNING: Compat.UTF8String is deprecated, use String instead.\n",
      "  likely near /Users/edelman/.julia/v0.6/TypedTables/src/show.jl:351\n",
      "WARNING: Compat.UTF8String is deprecated, use String instead.\n",
      "  likely near /Users/edelman/.julia/v0.6/TypedTables/src/show.jl:351\n",
      "WARNING: Compat.UTF8String is deprecated, use String instead.\n",
      "  likely near /Users/edelman/.julia/v0.6/TypedTables/src/show.jl:351\n",
      "WARNING: using TypedTables.Table in module Main conflicts with an existing identifier.\n"
     ]
    }
   ],
   "source": [
    "using IterableTables, DataTables, TypedTables # haven't investigated  much but looks very nice"
   ]
  },
  {
   "cell_type": "markdown",
   "metadata": {},
   "source": [
    "## B. Simple Line Fitting"
   ]
  },
  {
   "cell_type": "markdown",
   "metadata": {},
   "source": [
    "[So why is it called \"Regression\" anyway?](http://blog.minitab.com/blog/statistics-and-quality-data-analysis/so-why-is-it-called-regression-anyway) Dalton's original meaning not quite what it means today."
   ]
  },
  {
   "cell_type": "markdown",
   "metadata": {},
   "source": [
    "B.1 Linear Regression function"
   ]
  },
  {
   "cell_type": "code",
   "execution_count": 20,
   "metadata": {},
   "outputs": [
    {
     "data": {
      "text/plain": [
       "(-42.45733333333333, 10.197333333333333)"
      ]
     },
     "execution_count": 20,
     "metadata": {},
     "output_type": "execute_result"
    }
   ],
   "source": [
    "b, w =  linreg(x,y)"
   ]
  },
  {
   "cell_type": "code",
   "execution_count": 21,
   "metadata": {},
   "outputs": [
    {
     "data": {
      "text/html": [
       "<?xml version=\"1.0\" encoding=\"utf-8\"?>\n",
       "<svg xmlns=\"http://www.w3.org/2000/svg\" xmlns:xlink=\"http://www.w3.org/1999/xlink\" width=\"600\" height=\"400\" viewBox=\"0 0 600 400\">\n",
       "<defs>\n",
       "  <clipPath id=\"clip00\">\n",
       "    <rect x=\"0\" y=\"0\" width=\"600\" height=\"400\"/>\n",
       "  </clipPath>\n",
       "</defs>\n",
       "<polygon clip-path=\"url(#clip00)\" points=\"\n",
       "0,400 600,400 600,0 0,0 \n",
       "  \" fill=\"#ffffff\" fill-opacity=\"1\"/>\n",
       "<defs>\n",
       "  <clipPath id=\"clip01\">\n",
       "    <rect x=\"120\" y=\"0\" width=\"421\" height=\"400\"/>\n",
       "  </clipPath>\n",
       "</defs>\n",
       "<polygon clip-path=\"url(#clip00)\" points=\"\n",
       "55.1181,360.63 592.126,360.63 592.126,7.87402 55.1181,7.87402 \n",
       "  \" fill=\"#ffffff\" fill-opacity=\"1\"/>\n",
       "<defs>\n",
       "  <clipPath id=\"clip02\">\n",
       "    <rect x=\"55\" y=\"7\" width=\"538\" height=\"353\"/>\n",
       "  </clipPath>\n",
       "</defs>\n",
       "<polyline clip-path=\"url(#clip02)\" style=\"stroke:#00002d; stroke-width:0.8; stroke-opacity:0.5; fill:none\" stroke-dasharray=\"1, 2\" points=\"\n",
       "  122.244,355.339 122.244,13.1654 \n",
       "  \"/>\n",
       "<polyline clip-path=\"url(#clip02)\" style=\"stroke:#00002d; stroke-width:0.8; stroke-opacity:0.5; fill:none\" stroke-dasharray=\"1, 2\" points=\"\n",
       "  256.496,355.339 256.496,13.1654 \n",
       "  \"/>\n",
       "<polyline clip-path=\"url(#clip02)\" style=\"stroke:#00002d; stroke-width:0.8; stroke-opacity:0.5; fill:none\" stroke-dasharray=\"1, 2\" points=\"\n",
       "  390.748,355.339 390.748,13.1654 \n",
       "  \"/>\n",
       "<polyline clip-path=\"url(#clip02)\" style=\"stroke:#00002d; stroke-width:0.8; stroke-opacity:0.5; fill:none\" stroke-dasharray=\"1, 2\" points=\"\n",
       "  525,355.339 525,13.1654 \n",
       "  \"/>\n",
       "<polyline clip-path=\"url(#clip02)\" style=\"stroke:#00002d; stroke-width:0.8; stroke-opacity:0.5; fill:none\" stroke-dasharray=\"1, 2\" points=\"\n",
       "  63.1732,360.63 584.071,360.63 \n",
       "  \"/>\n",
       "<polyline clip-path=\"url(#clip02)\" style=\"stroke:#00002d; stroke-width:0.8; stroke-opacity:0.5; fill:none\" stroke-dasharray=\"1, 2\" points=\"\n",
       "  63.1732,290.079 584.071,290.079 \n",
       "  \"/>\n",
       "<polyline clip-path=\"url(#clip02)\" style=\"stroke:#00002d; stroke-width:0.8; stroke-opacity:0.5; fill:none\" stroke-dasharray=\"1, 2\" points=\"\n",
       "  63.1732,219.528 584.071,219.528 \n",
       "  \"/>\n",
       "<polyline clip-path=\"url(#clip02)\" style=\"stroke:#00002d; stroke-width:0.8; stroke-opacity:0.5; fill:none\" stroke-dasharray=\"1, 2\" points=\"\n",
       "  63.1732,148.976 584.071,148.976 \n",
       "  \"/>\n",
       "<polyline clip-path=\"url(#clip02)\" style=\"stroke:#00002d; stroke-width:0.8; stroke-opacity:0.5; fill:none\" stroke-dasharray=\"1, 2\" points=\"\n",
       "  63.1732,78.4252 584.071,78.4252 \n",
       "  \"/>\n",
       "<polyline clip-path=\"url(#clip02)\" style=\"stroke:#00002d; stroke-width:0.8; stroke-opacity:0.5; fill:none\" stroke-dasharray=\"1, 2\" points=\"\n",
       "  63.1732,7.87402 584.071,7.87402 \n",
       "  \"/>\n",
       "<polyline clip-path=\"url(#clip00)\" style=\"stroke:#00002d; stroke-width:0.8; stroke-opacity:1; fill:none\" points=\"\n",
       "  55.1181,360.63 592.126,360.63 \n",
       "  \"/>\n",
       "<polyline clip-path=\"url(#clip00)\" style=\"stroke:#00002d; stroke-width:0.8; stroke-opacity:1; fill:none\" points=\"\n",
       "  122.244,360.63 122.244,355.339 \n",
       "  \"/>\n",
       "<polyline clip-path=\"url(#clip00)\" style=\"stroke:#00002d; stroke-width:0.8; stroke-opacity:1; fill:none\" points=\"\n",
       "  256.496,360.63 256.496,355.339 \n",
       "  \"/>\n",
       "<polyline clip-path=\"url(#clip00)\" style=\"stroke:#00002d; stroke-width:0.8; stroke-opacity:1; fill:none\" points=\"\n",
       "  390.748,360.63 390.748,355.339 \n",
       "  \"/>\n",
       "<polyline clip-path=\"url(#clip00)\" style=\"stroke:#00002d; stroke-width:0.8; stroke-opacity:1; fill:none\" points=\"\n",
       "  525,360.63 525,355.339 \n",
       "  \"/>\n",
       "<polyline clip-path=\"url(#clip00)\" style=\"stroke:#00002d; stroke-width:0.8; stroke-opacity:1; fill:none\" points=\"\n",
       "  55.1181,360.63 55.1181,7.87402 \n",
       "  \"/>\n",
       "<polyline clip-path=\"url(#clip00)\" style=\"stroke:#00002d; stroke-width:0.8; stroke-opacity:1; fill:none\" points=\"\n",
       "  55.1181,360.63 63.1732,360.63 \n",
       "  \"/>\n",
       "<polyline clip-path=\"url(#clip00)\" style=\"stroke:#00002d; stroke-width:0.8; stroke-opacity:1; fill:none\" points=\"\n",
       "  55.1181,290.079 63.1732,290.079 \n",
       "  \"/>\n",
       "<polyline clip-path=\"url(#clip00)\" style=\"stroke:#00002d; stroke-width:0.8; stroke-opacity:1; fill:none\" points=\"\n",
       "  55.1181,219.528 63.1732,219.528 \n",
       "  \"/>\n",
       "<polyline clip-path=\"url(#clip00)\" style=\"stroke:#00002d; stroke-width:0.8; stroke-opacity:1; fill:none\" points=\"\n",
       "  55.1181,148.976 63.1732,148.976 \n",
       "  \"/>\n",
       "<polyline clip-path=\"url(#clip00)\" style=\"stroke:#00002d; stroke-width:0.8; stroke-opacity:1; fill:none\" points=\"\n",
       "  55.1181,78.4252 63.1732,78.4252 \n",
       "  \"/>\n",
       "<polyline clip-path=\"url(#clip00)\" style=\"stroke:#00002d; stroke-width:0.8; stroke-opacity:1; fill:none\" points=\"\n",
       "  55.1181,7.87402 63.1732,7.87402 \n",
       "  \"/>\n",
       "<g clip-path=\"url(#clip00)\">\n",
       "<text style=\"fill:#00002d; fill-opacity:1; font-family:Arial,Helvetica Neue,Helvetica,sans-serif; font-size:12; text-anchor:middle;\" transform=\"rotate(0, 122.244, 374.43)\" x=\"122.244\" y=\"374.43\">5</text>\n",
       "</g>\n",
       "<g clip-path=\"url(#clip00)\">\n",
       "<text style=\"fill:#00002d; fill-opacity:1; font-family:Arial,Helvetica Neue,Helvetica,sans-serif; font-size:12; text-anchor:middle;\" transform=\"rotate(0, 256.496, 374.43)\" x=\"256.496\" y=\"374.43\">6</text>\n",
       "</g>\n",
       "<g clip-path=\"url(#clip00)\">\n",
       "<text style=\"fill:#00002d; fill-opacity:1; font-family:Arial,Helvetica Neue,Helvetica,sans-serif; font-size:12; text-anchor:middle;\" transform=\"rotate(0, 390.748, 374.43)\" x=\"390.748\" y=\"374.43\">7</text>\n",
       "</g>\n",
       "<g clip-path=\"url(#clip00)\">\n",
       "<text style=\"fill:#00002d; fill-opacity:1; font-family:Arial,Helvetica Neue,Helvetica,sans-serif; font-size:12; text-anchor:middle;\" transform=\"rotate(0, 525, 374.43)\" x=\"525\" y=\"374.43\">8</text>\n",
       "</g>\n",
       "<g clip-path=\"url(#clip00)\">\n",
       "<text style=\"fill:#00002d; fill-opacity:1; font-family:Arial,Helvetica Neue,Helvetica,sans-serif; font-size:12; text-anchor:end;\" transform=\"rotate(0, 49.1181, 365.13)\" x=\"49.1181\" y=\"365.13\">0</text>\n",
       "</g>\n",
       "<g clip-path=\"url(#clip00)\">\n",
       "<text style=\"fill:#00002d; fill-opacity:1; font-family:Arial,Helvetica Neue,Helvetica,sans-serif; font-size:12; text-anchor:end;\" transform=\"rotate(0, 49.1181, 294.579)\" x=\"49.1181\" y=\"294.579\">10</text>\n",
       "</g>\n",
       "<g clip-path=\"url(#clip00)\">\n",
       "<text style=\"fill:#00002d; fill-opacity:1; font-family:Arial,Helvetica Neue,Helvetica,sans-serif; font-size:12; text-anchor:end;\" transform=\"rotate(0, 49.1181, 224.028)\" x=\"49.1181\" y=\"224.028\">20</text>\n",
       "</g>\n",
       "<g clip-path=\"url(#clip00)\">\n",
       "<text style=\"fill:#00002d; fill-opacity:1; font-family:Arial,Helvetica Neue,Helvetica,sans-serif; font-size:12; text-anchor:end;\" transform=\"rotate(0, 49.1181, 153.476)\" x=\"49.1181\" y=\"153.476\">30</text>\n",
       "</g>\n",
       "<g clip-path=\"url(#clip00)\">\n",
       "<text style=\"fill:#00002d; fill-opacity:1; font-family:Arial,Helvetica Neue,Helvetica,sans-serif; font-size:12; text-anchor:end;\" transform=\"rotate(0, 49.1181, 82.9252)\" x=\"49.1181\" y=\"82.9252\">40</text>\n",
       "</g>\n",
       "<g clip-path=\"url(#clip00)\">\n",
       "<text style=\"fill:#00002d; fill-opacity:1; font-family:Arial,Helvetica Neue,Helvetica,sans-serif; font-size:12; text-anchor:end;\" transform=\"rotate(0, 49.1181, 12.374)\" x=\"49.1181\" y=\"12.374\">50</text>\n",
       "</g>\n",
       "<g clip-path=\"url(#clip00)\">\n",
       "<text style=\"fill:#00002d; fill-opacity:1; font-family:Arial,Helvetica Neue,Helvetica,sans-serif; font-size:16; text-anchor:middle;\" transform=\"rotate(0, 323.622, 397.6)\" x=\"323.622\" y=\"397.6\">X</text>\n",
       "</g>\n",
       "<g clip-path=\"url(#clip00)\">\n",
       "<text style=\"fill:#00002d; fill-opacity:1; font-family:Arial,Helvetica Neue,Helvetica,sans-serif; font-size:16; text-anchor:middle;\" transform=\"rotate(-90, 14.4, 184.252)\" x=\"14.4\" y=\"184.252\">Y</text>\n",
       "</g>\n",
       "<polyline clip-path=\"url(#clip02)\" style=\"stroke:#0000ff; stroke-width:3.2; stroke-opacity:1; fill:none\" points=\"\n",
       "  122.244,289.373 323.622,220.233 390.748,148.271 525,76.3087 \n",
       "  \"/>\n",
       "<circle clip-path=\"url(#clip02)\" style=\"fill:#00002d; stroke:none; fill-opacity:0.8\" cx=\"122.244\" cy=\"289.373\" r=\"5\"/>\n",
       "<circle clip-path=\"url(#clip02)\" style=\"fill:#0000ff; stroke:none; fill-opacity:0.8\" cx=\"122.244\" cy=\"289.373\" r=\"5\"/>\n",
       "<circle clip-path=\"url(#clip02)\" style=\"fill:#00002d; stroke:none; fill-opacity:0.8\" cx=\"323.622\" cy=\"220.233\" r=\"5\"/>\n",
       "<circle clip-path=\"url(#clip02)\" style=\"fill:#0000ff; stroke:none; fill-opacity:0.8\" cx=\"323.622\" cy=\"220.233\" r=\"5\"/>\n",
       "<circle clip-path=\"url(#clip02)\" style=\"fill:#00002d; stroke:none; fill-opacity:0.8\" cx=\"390.748\" cy=\"148.271\" r=\"5\"/>\n",
       "<circle clip-path=\"url(#clip02)\" style=\"fill:#0000ff; stroke:none; fill-opacity:0.8\" cx=\"390.748\" cy=\"148.271\" r=\"5\"/>\n",
       "<circle clip-path=\"url(#clip02)\" style=\"fill:#00002d; stroke:none; fill-opacity:0.8\" cx=\"525\" cy=\"76.3087\" r=\"5\"/>\n",
       "<circle clip-path=\"url(#clip02)\" style=\"fill:#0000ff; stroke:none; fill-opacity:0.8\" cx=\"525\" cy=\"76.3087\" r=\"5\"/>\n",
       "<polyline clip-path=\"url(#clip02)\" style=\"stroke:#ff0000; stroke-width:3.2; stroke-opacity:1; fill:none\" points=\"\n",
       "  -535.905,653.146 -414.677,588.181 -341.823,549.141 -280.227,516.132 -213.316,480.276 -151.63,447.219 -85.4961,411.779 -8.8735,370.718 59.2197,334.228 118.931,302.23 \n",
       "  184.033,267.343 249.521,232.249 321.927,193.448 390.82,156.529 462.452,118.143 522.751,85.8295 596.369,46.3787 665.573,9.29381 776.442,-50.1191 \n",
       "  \"/>\n",
       "<polyline clip-path=\"url(#clip02)\" style=\"stroke:#3cb370; stroke-width:0.8; stroke-opacity:1; fill:none\" points=\"\n",
       "  122.244,300.454 323.622,192.539 390.748,156.568 525,84.6243 \n",
       "  \"/>\n",
       "<circle clip-path=\"url(#clip02)\" style=\"fill:#00002d; stroke:none; fill-opacity:0.8\" cx=\"122.244\" cy=\"300.454\" r=\"5\"/>\n",
       "<circle clip-path=\"url(#clip02)\" style=\"fill:#ff0000; stroke:none; fill-opacity:0.8\" cx=\"122.244\" cy=\"300.454\" r=\"5\"/>\n",
       "<circle clip-path=\"url(#clip02)\" style=\"fill:#00002d; stroke:none; fill-opacity:0.8\" cx=\"323.622\" cy=\"192.539\" r=\"5\"/>\n",
       "<circle clip-path=\"url(#clip02)\" style=\"fill:#ff0000; stroke:none; fill-opacity:0.8\" cx=\"323.622\" cy=\"192.539\" r=\"5\"/>\n",
       "<circle clip-path=\"url(#clip02)\" style=\"fill:#00002d; stroke:none; fill-opacity:0.8\" cx=\"390.748\" cy=\"156.568\" r=\"5\"/>\n",
       "<circle clip-path=\"url(#clip02)\" style=\"fill:#ff0000; stroke:none; fill-opacity:0.8\" cx=\"390.748\" cy=\"156.568\" r=\"5\"/>\n",
       "<circle clip-path=\"url(#clip02)\" style=\"fill:#00002d; stroke:none; fill-opacity:0.8\" cx=\"525\" cy=\"84.6243\" r=\"5\"/>\n",
       "<circle clip-path=\"url(#clip02)\" style=\"fill:#ff0000; stroke:none; fill-opacity:0.8\" cx=\"525\" cy=\"84.6243\" r=\"5\"/>\n",
       "<polyline clip-path=\"url(#clip02)\" style=\"stroke:#00002d; stroke-width:5.6; stroke-opacity:1; fill:none\" points=\"\n",
       "  122.244,289.373 122.244,300.454 \n",
       "  \"/>\n",
       "<polyline clip-path=\"url(#clip02)\" style=\"stroke:#00002d; stroke-width:5.6; stroke-opacity:1; fill:none\" points=\"\n",
       "  323.622,220.233 323.622,192.539 \n",
       "  \"/>\n",
       "<polyline clip-path=\"url(#clip02)\" style=\"stroke:#00002d; stroke-width:5.6; stroke-opacity:1; fill:none\" points=\"\n",
       "  390.748,148.271 390.748,156.568 \n",
       "  \"/>\n",
       "<polyline clip-path=\"url(#clip02)\" style=\"stroke:#00002d; stroke-width:5.6; stroke-opacity:1; fill:none\" points=\"\n",
       "  525,76.3087 525,84.6243 \n",
       "  \"/>\n",
       "<polygon clip-path=\"url(#clip00)\" points=\"\n",
       "73.1181,134.594 189.77,134.594 189.77,28.754 73.1181,28.754 \n",
       "  \" fill=\"#ffffff\" fill-opacity=\"1\"/>\n",
       "<polyline clip-path=\"url(#clip00)\" style=\"stroke:#00002d; stroke-width:0.8; stroke-opacity:1; fill:none\" points=\"\n",
       "  73.1181,134.594 189.77,134.594 189.77,28.754 73.1181,28.754 73.1181,134.594 \n",
       "  \"/>\n",
       "<polyline clip-path=\"url(#clip00)\" style=\"stroke:#0000ff; stroke-width:3.2; stroke-opacity:1; fill:none\" points=\"\n",
       "  79.1181,43.874 115.118,43.874 \n",
       "  \"/>\n",
       "<circle clip-path=\"url(#clip00)\" style=\"fill:#00002d; stroke:none; fill-opacity:0.8\" cx=\"100.118\" cy=\"43.874\" r=\"5\"/>\n",
       "<circle clip-path=\"url(#clip00)\" style=\"fill:#0000ff; stroke:none; fill-opacity:0.8\" cx=\"100.118\" cy=\"43.874\" r=\"4\"/>\n",
       "<g clip-path=\"url(#clip00)\">\n",
       "<text style=\"fill:#00002d; fill-opacity:1; font-family:Arial,Helvetica Neue,Helvetica,sans-serif; font-size:12; text-anchor:start;\" transform=\"rotate(0, 121.118, 48.374)\" x=\"121.118\" y=\"48.374\">Y</text>\n",
       "</g>\n",
       "<polyline clip-path=\"url(#clip00)\" style=\"stroke:#ff0000; stroke-width:3.2; stroke-opacity:1; fill:none\" points=\"\n",
       "  79.1181,58.994 115.118,58.994 \n",
       "  \"/>\n",
       "<g clip-path=\"url(#clip00)\">\n",
       "<text style=\"fill:#00002d; fill-opacity:1; font-family:Arial,Helvetica Neue,Helvetica,sans-serif; font-size:12; text-anchor:start;\" transform=\"rotate(0, 121.118, 63.494)\" x=\"121.118\" y=\"63.494\">best fit line</text>\n",
       "</g>\n",
       "<polyline clip-path=\"url(#clip00)\" style=\"stroke:#00002d; stroke-width:5.6; stroke-opacity:1; fill:none\" points=\"\n",
       "  79.1181,74.114 115.118,74.114 \n",
       "  \"/>\n",
       "<g clip-path=\"url(#clip00)\">\n",
       "<text style=\"fill:#00002d; fill-opacity:1; font-family:Arial,Helvetica Neue,Helvetica,sans-serif; font-size:12; text-anchor:start;\" transform=\"rotate(0, 121.118, 78.614)\" x=\"121.118\" y=\"78.614\">y4</text>\n",
       "</g>\n",
       "<polyline clip-path=\"url(#clip00)\" style=\"stroke:#00002d; stroke-width:5.6; stroke-opacity:1; fill:none\" points=\"\n",
       "  79.1181,89.234 115.118,89.234 \n",
       "  \"/>\n",
       "<g clip-path=\"url(#clip00)\">\n",
       "<text style=\"fill:#00002d; fill-opacity:1; font-family:Arial,Helvetica Neue,Helvetica,sans-serif; font-size:12; text-anchor:start;\" transform=\"rotate(0, 121.118, 93.734)\" x=\"121.118\" y=\"93.734\">y5</text>\n",
       "</g>\n",
       "<polyline clip-path=\"url(#clip00)\" style=\"stroke:#00002d; stroke-width:5.6; stroke-opacity:1; fill:none\" points=\"\n",
       "  79.1181,104.354 115.118,104.354 \n",
       "  \"/>\n",
       "<g clip-path=\"url(#clip00)\">\n",
       "<text style=\"fill:#00002d; fill-opacity:1; font-family:Arial,Helvetica Neue,Helvetica,sans-serif; font-size:12; text-anchor:start;\" transform=\"rotate(0, 121.118, 108.854)\" x=\"121.118\" y=\"108.854\">y6</text>\n",
       "</g>\n",
       "<polyline clip-path=\"url(#clip00)\" style=\"stroke:#00002d; stroke-width:5.6; stroke-opacity:1; fill:none\" points=\"\n",
       "  79.1181,119.474 115.118,119.474 \n",
       "  \"/>\n",
       "<g clip-path=\"url(#clip00)\">\n",
       "<text style=\"fill:#00002d; fill-opacity:1; font-family:Arial,Helvetica Neue,Helvetica,sans-serif; font-size:12; text-anchor:start;\" transform=\"rotate(0, 121.118, 123.974)\" x=\"121.118\" y=\"123.974\">y7</text>\n",
       "</g>\n",
       "</svg>\n"
      ]
     },
     "execution_count": 21,
     "metadata": {},
     "output_type": "execute_result"
    }
   ],
   "source": [
    "plot()\n",
    "plot(x,y,\n",
    "    label=\"Y\", line=(4,:blue), marker=(7,0.8,:blue), xlims=(0,10), ylims=(0,50),\n",
    "    xlabel=\"X\",ylabel=\"Y\")\n",
    "plot!(x->w*x+b,xlims=(minimum(x)-.5,maximum(x)+.5), line=(4,:red), label=\"best fit line\")\n",
    "plot!(x->w*x+b, x ,marker=(7,0.8,:red), label=\"\" )\n",
    "for i = 1:length(x)\n",
    "    plot!([x[i],x[i]],[y[i],w*x[i]+b],line=(7,:black))\n",
    "end\n",
    "plot!(legend=:topleft)"
   ]
  },
  {
   "cell_type": "markdown",
   "metadata": {},
   "source": [
    "Mathematically equivalent Approaches <br>\n",
    "B.2 Linear Algebra Least Squares"
   ]
  },
  {
   "cell_type": "code",
   "execution_count": 22,
   "metadata": {},
   "outputs": [
    {
     "data": {
      "text/plain": [
       "2-element Array{Float64,1}:\n",
       " -42.4573\n",
       "  10.1973"
      ]
     },
     "execution_count": 22,
     "metadata": {},
     "output_type": "execute_result"
    }
   ],
   "source": [
    "[ones(x) x]\\y "
   ]
  },
  {
   "cell_type": "code",
   "execution_count": 23,
   "metadata": {},
   "outputs": [
    {
     "data": {
      "text/plain": [
       "2-element Array{Float64,1}:\n",
       " -42.4573\n",
       "  10.1973"
      ]
     },
     "execution_count": 23,
     "metadata": {},
     "output_type": "execute_result"
    }
   ],
   "source": [
    "A = [ones(x) x]\n",
    "(A'A)\\A'y  # normal equations usually not recommended"
   ]
  },
  {
   "cell_type": "code",
   "execution_count": 24,
   "metadata": {},
   "outputs": [
    {
     "data": {
      "text/plain": [
       "2-element Array{Float64,1}:\n",
       " -42.4573\n",
       "  10.1973"
      ]
     },
     "execution_count": 24,
     "metadata": {},
     "output_type": "execute_result"
    }
   ],
   "source": [
    "q,r=qr(A)\n",
    "r\\(q'y)"
   ]
  },
  {
   "cell_type": "code",
   "execution_count": 25,
   "metadata": {},
   "outputs": [
    {
     "data": {
      "text/plain": [
       "2-element Array{Float64,1}:\n",
       " -42.4573\n",
       "  10.1973"
      ]
     },
     "execution_count": 25,
     "metadata": {},
     "output_type": "execute_result"
    }
   ],
   "source": [
    "[length(x) sum(x); sum(x) x⋅x]\\[sum(y);x⋅y]"
   ]
  },
  {
   "cell_type": "markdown",
   "metadata": {},
   "source": [
    "B.3 Basic Formula"
   ]
  },
  {
   "cell_type": "code",
   "execution_count": 26,
   "metadata": {},
   "outputs": [
    {
     "data": {
      "text/plain": [
       "(-42.45733333333333, 10.197333333333333)"
      ]
     },
     "execution_count": 26,
     "metadata": {},
     "output_type": "execute_result"
    }
   ],
   "source": [
    "w = cov(x,y)/var(x) # same as (x.-mean(x))⋅(y.-mean(y))/sum(abs2,x.-mean(x))\n",
    "b = mean(y)-w*mean(x)\n",
    "b,w"
   ]
  },
  {
   "cell_type": "code",
   "execution_count": 27,
   "metadata": {},
   "outputs": [
    {
     "data": {
      "text/html": [
       "linreg(x::<b>AbstractArray{T,1} where T</b>, y::<b>AbstractArray{T,1} where T</b>) at <a href=\"https://github.com/JuliaLang/julia/tree/903644385b91ed8d95e5e3a5716c089dd1f1b08a/base/linalg/generic.jl#L1058\" target=\"_blank\">linalg/generic.jl:1058</a>"
      ],
      "text/plain": [
       "linreg(x::AbstractArray{T,1} where T, y::AbstractArray{T,1} where T) in Base.LinAlg at linalg/generic.jl:1058"
      ]
     },
     "execution_count": 27,
     "metadata": {},
     "output_type": "execute_result"
    }
   ],
   "source": [
    "@which linreg(x,y)"
   ]
  },
  {
   "cell_type": "markdown",
   "metadata": {},
   "source": [
    "B.4 optimization  (think machine learning) via the package optim.jl"
   ]
  },
  {
   "cell_type": "code",
   "execution_count": 28,
   "metadata": {},
   "outputs": [
    {
     "data": {
      "text/plain": [
       "2-element Array{Float64,1}:\n",
       "  10.1973\n",
       " -42.4573"
      ]
     },
     "execution_count": 28,
     "metadata": {},
     "output_type": "execute_result"
    }
   ],
   "source": [
    "using Optim\n",
    "loss(wb) = sum(abs2,wb[1]*x.+wb[2]-y) # uglyish\n",
    "optimize(loss,[0.0,0.0]).minimizer"
   ]
  },
  {
   "cell_type": "markdown",
   "metadata": {},
   "source": [
    "B.5 optimization with the package JuMP (Probably can be simpler)"
   ]
  },
  {
   "cell_type": "code",
   "execution_count": 29,
   "metadata": {},
   "outputs": [
    {
     "name": "stderr",
     "output_type": "stream",
     "text": [
      "\u001b[1m\u001b[36mINFO: \u001b[39m\u001b[22m\u001b[36mPackage Ipopt is already installed\n",
      "\u001b[39m\u001b[1m\u001b[36mINFO: \u001b[39m\u001b[22m\u001b[36mMETADATA is out-of-date — you may not have the latest version of Ipopt\n",
      "\u001b[39m\u001b[1m\u001b[36mINFO: \u001b[39m\u001b[22m\u001b[36mUse `Pkg.update()` to get the latest versions of your packages\n",
      "\u001b[39m"
     ]
    }
   ],
   "source": [
    "Pkg.add(\"Ipopt\")"
   ]
  },
  {
   "cell_type": "code",
   "execution_count": 30,
   "metadata": {},
   "outputs": [
    {
     "name": "stdout",
     "output_type": "stream",
     "text": [
      "\n",
      "******************************************************************************\n",
      "This program contains Ipopt, a library for large-scale nonlinear optimization.\n",
      " Ipopt is released as open source code under the Eclipse Public License (EPL).\n",
      "         For more information visit http://projects.coin-or.org/Ipopt\n",
      "******************************************************************************\n",
      "\n",
      "w = 10.19733333333333 b = -42.4573333333333\n"
     ]
    }
   ],
   "source": [
    "using JuMP, Ipopt\n",
    "loss(w,b) = sum(abs2,w*x.+b-y)  # not ugly\n",
    "m = Model(solver=IpoptSolver(print_level=0))\n",
    "@variable(m,w)\n",
    "@variable(m,b)\n",
    "@NLobjective(m, Min, (w*x[1]+b-y[1])^2 + (w*x[2]+b-y[2])^2 + (w*x[3]+b-y[3])^2  + (w*x[4]+b-y[4])^2)\n",
    "solve(m)\n",
    " println(\"w = \", getvalue(w), \" b = \", getvalue(b))"
   ]
  },
  {
   "cell_type": "markdown",
   "metadata": {},
   "source": [
    "B.6 Generalized Linear Models <br>\n",
    "the very fancy statistical thing"
   ]
  },
  {
   "cell_type": "code",
   "execution_count": 31,
   "metadata": {},
   "outputs": [],
   "source": [
    "using GLM # Generalized Linear Models"
   ]
  },
  {
   "cell_type": "code",
   "execution_count": 33,
   "metadata": {},
   "outputs": [
    {
     "data": {
      "text/plain": [
       "DataFrames.DataFrameRegressionModel{GLM.LinearModel{GLM.LmResp{Array{Float64,1}},GLM.DensePredChol{Float64,Base.LinAlg.Cholesky{Float64,Array{Float64,2}}}},Array{Float64,2}}\n",
       "\n",
       "Formula: Y ~ 1 + X\n",
       "\n",
       "Coefficients:\n",
       "             Estimate Std.Error  t value Pr(>|t|)\n",
       "(Intercept)  -42.4573    9.9622 -4.26184   0.0509\n",
       "X             10.1973   1.48405   6.8713   0.0205\n"
      ]
     },
     "execution_count": 33,
     "metadata": {},
     "output_type": "execute_result"
    }
   ],
   "source": [
    "lm(@formula(Y~X), data2)"
   ]
  },
  {
   "cell_type": "markdown",
   "metadata": {},
   "source": [
    "The lines above are obviously b and w\n",
    "We assume at the start X is known without error, b,w,σ are unknown and\n",
    "the real Y is distributed like  b+w*X+σrandn(),\n",
    "and the Y we have are samples from this distribution."
   ]
  },
  {
   "cell_type": "markdown",
   "metadata": {},
   "source": [
    "Under these assumptions, if we fit many times, the b and w would be normal, with these predicted standard deviations.\n",
    "\n",
    "The third column is just the ratio of column 1 to column 2 , thus normalizing the situation to a standard normal."
   ]
  },
  {
   "cell_type": "markdown",
   "metadata": {},
   "source": [
    "When the probability column is less than .05, we can reject the hypothesis that the intercept/slope is 0 at the 5 percent signficance level. What does this mean? It means we feel pretty good about our intercept and slope. If the probability is higher than .05 we can not reject the null hypothesis, meaning that we feel 0 for the intercept/slope could have been possible. In particular a 0 slope says that the dependent variable is not really statistically dependent after all."
   ]
  },
  {
   "cell_type": "markdown",
   "metadata": {},
   "source": [
    "### C. Stochastic Gradient Descent"
   ]
  },
  {
   "cell_type": "code",
   "execution_count": null,
   "metadata": {
    "collapsed": true
   },
   "outputs": [],
   "source": []
  }
 ],
 "metadata": {
  "kernelspec": {
   "display_name": "Julia 0.6.0",
   "language": "julia",
   "name": "julia-0.6"
  },
  "language_info": {
   "file_extension": ".jl",
   "mimetype": "application/julia",
   "name": "julia",
   "version": "0.6.0"
  }
 },
 "nbformat": 4,
 "nbformat_minor": 2
}
