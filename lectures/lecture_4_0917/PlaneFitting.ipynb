{
 "cells": [
  {
   "cell_type": "code",
   "execution_count": null,
   "metadata": {},
   "outputs": [],
   "source": [
    "using Plots\n",
    "gr()"
   ]
  },
  {
   "cell_type": "markdown",
   "metadata": {},
   "source": [
    "## A. Data Table choices"
   ]
  },
  {
   "cell_type": "markdown",
   "metadata": {},
   "source": [
    "Machine learning is all about finding patterns in data, so it is very reasonble to start with data."
   ]
  },
  {
   "cell_type": "code",
   "execution_count": null,
   "metadata": {},
   "outputs": [],
   "source": [
    "# Some Data (try your own)\n",
    "x1 = [2,6.5,7,2]\n",
    "x2 = [3,3.5,4,6]\n",
    "y  = [10.1, 19.9, 30.1, 40.3]\n",
    "pets = [\"Cat\",\"Dog\",\"Bird\",\"Hamster\"]\n",
    "plot(x1,y,\n",
    "    label=\"X1 and Y\", line=(7,:green), marker=(10,0.8,:red), xlims=(0,10), ylims=(0,50),\n",
    "    xlabel=\"X\",ylabel=\"Y\")\n",
    "plot!(x2,y,\n",
    "    label=\"X2 and Y\", line=(7,:blue), marker=(10,0.8,:red))\n",
    "plot!(legend=:topleft)"
   ]
  },
  {
   "cell_type": "code",
   "execution_count": 3,
   "metadata": {},
   "outputs": [
    {
     "data": {
      "text/html": [
       "<?xml version=\"1.0\" encoding=\"utf-8\"?>\n",
       "<svg xmlns=\"http://www.w3.org/2000/svg\" xmlns:xlink=\"http://www.w3.org/1999/xlink\" width=\"600\" height=\"400\" viewBox=\"0 0 600 400\">\n",
       "<defs>\n",
       "  <clipPath id=\"clip00\">\n",
       "    <rect x=\"0\" y=\"0\" width=\"600\" height=\"400\"/>\n",
       "  </clipPath>\n",
       "</defs>\n",
       "<polygon clip-path=\"url(#clip00)\" points=\"\n",
       "0,400 600,400 600,0 0,0 \n",
       "  \" fill=\"#ffffff\" fill-opacity=\"1\"/>\n",
       "<defs>\n",
       "  <clipPath id=\"clip01\">\n",
       "    <rect x=\"120\" y=\"0\" width=\"421\" height=\"400\"/>\n",
       "  </clipPath>\n",
       "</defs>\n",
       "<polygon clip-path=\"url(#clip00)\" points=\"\n",
       "131.496,376.378 500,376.378 500,7.87402 131.496,7.87402 \n",
       "  \" fill=\"#ffffff\" fill-opacity=\"1\"/>\n",
       "<defs>\n",
       "  <clipPath id=\"clip02\">\n",
       "    <rect x=\"131\" y=\"7\" width=\"309\" height=\"369\"/>\n",
       "  </clipPath>\n",
       "</defs>\n",
       "<polyline clip-path=\"url(#clip00)\" style=\"stroke:#ededed; stroke-width:0.8; stroke-opacity:1; fill:none\" points=\"\n",
       "  131.496,261.993 272.253,116.71 \n",
       "  \"/>\n",
       "<polyline clip-path=\"url(#clip00)\" style=\"stroke:#ededed; stroke-width:0.8; stroke-opacity:1; fill:none\" points=\"\n",
       "  272.253,116.71 440,219.002 \n",
       "  \"/>\n",
       "<polyline clip-path=\"url(#clip00)\" style=\"stroke:#cccccc; stroke-width:0.8; stroke-opacity:1; fill:none\" points=\"\n",
       "  131.496,249.9 272.253,104.617 \n",
       "  \"/>\n",
       "<polyline clip-path=\"url(#clip00)\" style=\"stroke:#cccccc; stroke-width:0.8; stroke-opacity:1; fill:none\" points=\"\n",
       "  272.253,104.617 440,206.909 \n",
       "  \"/>\n",
       "<polyline clip-path=\"url(#clip00)\" style=\"stroke:#ededed; stroke-width:0.8; stroke-opacity:1; fill:none\" points=\"\n",
       "  131.496,237.807 272.253,92.5245 \n",
       "  \"/>\n",
       "<polyline clip-path=\"url(#clip00)\" style=\"stroke:#ededed; stroke-width:0.8; stroke-opacity:1; fill:none\" points=\"\n",
       "  272.253,92.5245 440,194.816 \n",
       "  \"/>\n",
       "<polyline clip-path=\"url(#clip00)\" style=\"stroke:#cccccc; stroke-width:0.8; stroke-opacity:1; fill:none\" points=\"\n",
       "  131.496,225.714 272.253,80.4315 \n",
       "  \"/>\n",
       "<polyline clip-path=\"url(#clip00)\" style=\"stroke:#cccccc; stroke-width:0.8; stroke-opacity:1; fill:none\" points=\"\n",
       "  272.253,80.4315 440,182.723 \n",
       "  \"/>\n",
       "<polyline clip-path=\"url(#clip00)\" style=\"stroke:#ededed; stroke-width:0.8; stroke-opacity:1; fill:none\" points=\"\n",
       "  131.496,213.621 272.253,68.3386 \n",
       "  \"/>\n",
       "<polyline clip-path=\"url(#clip00)\" style=\"stroke:#ededed; stroke-width:0.8; stroke-opacity:1; fill:none\" points=\"\n",
       "  272.253,68.3386 440,170.631 \n",
       "  \"/>\n",
       "<polyline clip-path=\"url(#clip00)\" style=\"stroke:#cccccc; stroke-width:0.8; stroke-opacity:1; fill:none\" points=\"\n",
       "  131.496,201.529 272.253,56.2457 \n",
       "  \"/>\n",
       "<polyline clip-path=\"url(#clip00)\" style=\"stroke:#cccccc; stroke-width:0.8; stroke-opacity:1; fill:none\" points=\"\n",
       "  272.253,56.2457 440,158.538 \n",
       "  \"/>\n",
       "<polyline clip-path=\"url(#clip00)\" style=\"stroke:#ededed; stroke-width:0.8; stroke-opacity:1; fill:none\" points=\"\n",
       "  131.496,189.436 272.253,44.1528 \n",
       "  \"/>\n",
       "<polyline clip-path=\"url(#clip00)\" style=\"stroke:#ededed; stroke-width:0.8; stroke-opacity:1; fill:none\" points=\"\n",
       "  272.253,44.1528 440,146.445 \n",
       "  \"/>\n",
       "<polyline clip-path=\"url(#clip00)\" style=\"stroke:#cccccc; stroke-width:0.8; stroke-opacity:1; fill:none\" points=\"\n",
       "  131.496,177.343 272.253,32.0599 \n",
       "  \"/>\n",
       "<polyline clip-path=\"url(#clip00)\" style=\"stroke:#cccccc; stroke-width:0.8; stroke-opacity:1; fill:none\" points=\"\n",
       "  272.253,32.0599 440,134.352 \n",
       "  \"/>\n",
       "<polyline clip-path=\"url(#clip00)\" style=\"stroke:#ededed; stroke-width:0.8; stroke-opacity:1; fill:none\" points=\"\n",
       "  131.496,165.25 272.253,19.9669 \n",
       "  \"/>\n",
       "<polyline clip-path=\"url(#clip00)\" style=\"stroke:#ededed; stroke-width:0.8; stroke-opacity:1; fill:none\" points=\"\n",
       "  272.253,19.9669 440,122.259 \n",
       "  \"/>\n",
       "<polyline clip-path=\"url(#clip00)\" style=\"stroke:#cccccc; stroke-width:0.8; stroke-opacity:1; fill:none\" points=\"\n",
       "  131.496,153.157 272.253,7.87402 \n",
       "  \"/>\n",
       "<polyline clip-path=\"url(#clip00)\" style=\"stroke:#cccccc; stroke-width:0.8; stroke-opacity:1; fill:none\" points=\"\n",
       "  272.253,7.87402 440,110.166 \n",
       "  \"/>\n",
       "<polyline clip-path=\"url(#clip00)\" style=\"stroke:#cccccc; stroke-width:0.8; stroke-opacity:1; fill:none\" points=\"\n",
       "  136.244,276.981 277,131.698 \n",
       "  \"/>\n",
       "<polyline clip-path=\"url(#clip00)\" style=\"stroke:#cccccc; stroke-width:0.8; stroke-opacity:1; fill:none\" points=\"\n",
       "  277,131.698 277,10.7691 \n",
       "  \"/>\n",
       "<polyline clip-path=\"url(#clip00)\" style=\"stroke:#ededed; stroke-width:0.8; stroke-opacity:1; fill:none\" points=\"\n",
       "  158.851,290.767 299.608,145.484 \n",
       "  \"/>\n",
       "<polyline clip-path=\"url(#clip00)\" style=\"stroke:#ededed; stroke-width:0.8; stroke-opacity:1; fill:none\" points=\"\n",
       "  299.608,145.484 299.608,24.555 \n",
       "  \"/>\n",
       "<polyline clip-path=\"url(#clip00)\" style=\"stroke:#cccccc; stroke-width:0.8; stroke-opacity:1; fill:none\" points=\"\n",
       "  181.459,304.553 322.215,159.27 \n",
       "  \"/>\n",
       "<polyline clip-path=\"url(#clip00)\" style=\"stroke:#cccccc; stroke-width:0.8; stroke-opacity:1; fill:none\" points=\"\n",
       "  322.215,159.27 322.215,38.341 \n",
       "  \"/>\n",
       "<polyline clip-path=\"url(#clip00)\" style=\"stroke:#ededed; stroke-width:0.8; stroke-opacity:1; fill:none\" points=\"\n",
       "  204.066,318.339 344.823,173.056 \n",
       "  \"/>\n",
       "<polyline clip-path=\"url(#clip00)\" style=\"stroke:#ededed; stroke-width:0.8; stroke-opacity:1; fill:none\" points=\"\n",
       "  344.823,173.056 344.823,52.127 \n",
       "  \"/>\n",
       "<polyline clip-path=\"url(#clip00)\" style=\"stroke:#cccccc; stroke-width:0.8; stroke-opacity:1; fill:none\" points=\"\n",
       "  226.673,332.125 367.43,186.842 \n",
       "  \"/>\n",
       "<polyline clip-path=\"url(#clip00)\" style=\"stroke:#cccccc; stroke-width:0.8; stroke-opacity:1; fill:none\" points=\"\n",
       "  367.43,186.842 367.43,65.913 \n",
       "  \"/>\n",
       "<polyline clip-path=\"url(#clip00)\" style=\"stroke:#ededed; stroke-width:0.8; stroke-opacity:1; fill:none\" points=\"\n",
       "  249.281,345.911 390.038,200.628 \n",
       "  \"/>\n",
       "<polyline clip-path=\"url(#clip00)\" style=\"stroke:#ededed; stroke-width:0.8; stroke-opacity:1; fill:none\" points=\"\n",
       "  390.038,200.628 390.038,79.6989 \n",
       "  \"/>\n",
       "<polyline clip-path=\"url(#clip00)\" style=\"stroke:#cccccc; stroke-width:0.8; stroke-opacity:1; fill:none\" points=\"\n",
       "  271.888,359.697 412.645,214.414 \n",
       "  \"/>\n",
       "<polyline clip-path=\"url(#clip00)\" style=\"stroke:#cccccc; stroke-width:0.8; stroke-opacity:1; fill:none\" points=\"\n",
       "  412.645,214.414 412.645,93.4849 \n",
       "  \"/>\n",
       "<polyline clip-path=\"url(#clip00)\" style=\"stroke:#ededed; stroke-width:0.8; stroke-opacity:1; fill:none\" points=\"\n",
       "  294.496,373.483 435.252,228.2 \n",
       "  \"/>\n",
       "<polyline clip-path=\"url(#clip00)\" style=\"stroke:#ededed; stroke-width:0.8; stroke-opacity:1; fill:none\" points=\"\n",
       "  435.252,228.2 435.252,107.271 \n",
       "  \"/>\n",
       "<polyline clip-path=\"url(#clip00)\" style=\"stroke:#cccccc; stroke-width:0.8; stroke-opacity:1; fill:none\" points=\"\n",
       "  135.48,269.974 303.227,372.266 \n",
       "  \"/>\n",
       "<polyline clip-path=\"url(#clip00)\" style=\"stroke:#cccccc; stroke-width:0.8; stroke-opacity:1; fill:none\" points=\"\n",
       "  135.48,269.974 135.48,149.045 \n",
       "  \"/>\n",
       "<polyline clip-path=\"url(#clip00)\" style=\"stroke:#ededed; stroke-width:0.8; stroke-opacity:1; fill:none\" points=\"\n",
       "  157.611,247.131 325.359,349.423 \n",
       "  \"/>\n",
       "<polyline clip-path=\"url(#clip00)\" style=\"stroke:#ededed; stroke-width:0.8; stroke-opacity:1; fill:none\" points=\"\n",
       "  157.611,247.131 157.611,126.202 \n",
       "  \"/>\n",
       "<polyline clip-path=\"url(#clip00)\" style=\"stroke:#cccccc; stroke-width:0.8; stroke-opacity:1; fill:none\" points=\"\n",
       "  179.743,224.288 347.49,326.58 \n",
       "  \"/>\n",
       "<polyline clip-path=\"url(#clip00)\" style=\"stroke:#cccccc; stroke-width:0.8; stroke-opacity:1; fill:none\" points=\"\n",
       "  179.743,224.288 179.743,103.359 \n",
       "  \"/>\n",
       "<polyline clip-path=\"url(#clip00)\" style=\"stroke:#ededed; stroke-width:0.8; stroke-opacity:1; fill:none\" points=\"\n",
       "  201.874,201.445 369.622,303.737 \n",
       "  \"/>\n",
       "<polyline clip-path=\"url(#clip00)\" style=\"stroke:#ededed; stroke-width:0.8; stroke-opacity:1; fill:none\" points=\"\n",
       "  201.874,201.445 201.874,80.5154 \n",
       "  \"/>\n",
       "<polyline clip-path=\"url(#clip00)\" style=\"stroke:#cccccc; stroke-width:0.8; stroke-opacity:1; fill:none\" points=\"\n",
       "  224.006,178.601 391.753,280.893 \n",
       "  \"/>\n",
       "<polyline clip-path=\"url(#clip00)\" style=\"stroke:#cccccc; stroke-width:0.8; stroke-opacity:1; fill:none\" points=\"\n",
       "  224.006,178.601 224.006,57.6722 \n",
       "  \"/>\n",
       "<polyline clip-path=\"url(#clip00)\" style=\"stroke:#ededed; stroke-width:0.8; stroke-opacity:1; fill:none\" points=\"\n",
       "  246.138,155.758 413.885,258.05 \n",
       "  \"/>\n",
       "<polyline clip-path=\"url(#clip00)\" style=\"stroke:#ededed; stroke-width:0.8; stroke-opacity:1; fill:none\" points=\"\n",
       "  246.138,155.758 246.138,34.829 \n",
       "  \"/>\n",
       "<polyline clip-path=\"url(#clip00)\" style=\"stroke:#cccccc; stroke-width:0.8; stroke-opacity:1; fill:none\" points=\"\n",
       "  268.269,132.915 436.016,235.207 \n",
       "  \"/>\n",
       "<polyline clip-path=\"url(#clip00)\" style=\"stroke:#cccccc; stroke-width:0.8; stroke-opacity:1; fill:none\" points=\"\n",
       "  268.269,132.915 268.269,11.9858 \n",
       "  \"/>\n",
       "<polyline clip-path=\"url(#clip00)\" style=\"stroke:#00002d; stroke-width:1; stroke-opacity:1; fill:none\" points=\"\n",
       "  115.987,243.251 116.587,243.205 117.487,242.519 117.487,251.159 \n",
       "  \"/>\n",
       "<polyline clip-path=\"url(#clip00)\" style=\"stroke:#00002d; stroke-width:1; stroke-opacity:1; fill:none\" points=\"\n",
       "  122.885,245.811 121.985,245.674 121.386,246.542 121.086,248.417 121.086,249.651 121.386,251.891 121.985,253.491 122.885,254.451 123.485,254.817 124.385,254.954 \n",
       "  124.984,254.086 125.284,252.211 125.284,250.977 124.984,248.737 124.385,247.137 123.485,246.177 122.885,245.811 \n",
       "  \"/>\n",
       "<polyline clip-path=\"url(#clip00)\" style=\"stroke:#00002d; stroke-width:1; stroke-opacity:1; fill:none\" points=\"\n",
       "  115.387,219.11 115.387,218.699 115.687,218.059 115.987,217.83 116.587,217.785 117.787,218.516 118.387,219.293 118.686,219.888 118.986,220.894 118.986,221.716 \n",
       "  118.686,222.356 118.087,223.225 115.088,225.51 119.286,228.071 \n",
       "  \"/>\n",
       "<polyline clip-path=\"url(#clip00)\" style=\"stroke:#00002d; stroke-width:1; stroke-opacity:1; fill:none\" points=\"\n",
       "  122.885,221.625 121.985,221.488 121.386,222.357 121.086,224.231 121.086,225.465 121.386,227.705 121.985,229.305 122.885,230.265 123.485,230.631 124.385,230.768 \n",
       "  124.984,229.9 125.284,228.025 125.284,226.791 124.984,224.551 124.385,222.951 123.485,221.991 122.885,221.625 \n",
       "  \"/>\n",
       "<polyline clip-path=\"url(#clip00)\" style=\"stroke:#00002d; stroke-width:1; stroke-opacity:1; fill:none\" points=\"\n",
       "  115.687,193.05 118.986,195.062 117.187,197.256 118.087,197.805 118.686,198.582 118.986,199.176 119.286,200.593 119.286,201.416 118.986,202.468 118.387,202.925 \n",
       "  117.487,202.788 116.587,202.239 115.687,201.279 115.387,200.684 115.088,199.679 \n",
       "  \"/>\n",
       "<polyline clip-path=\"url(#clip00)\" style=\"stroke:#00002d; stroke-width:1; stroke-opacity:1; fill:none\" points=\"\n",
       "  122.885,197.439 121.985,197.302 121.386,198.171 121.086,200.045 121.086,201.279 121.386,203.519 121.985,205.119 122.885,206.079 123.485,206.445 124.385,206.582 \n",
       "  124.984,205.714 125.284,203.84 125.284,202.605 124.984,200.365 124.385,198.765 123.485,197.805 122.885,197.439 \n",
       "  \"/>\n",
       "<polyline clip-path=\"url(#clip00)\" style=\"stroke:#00002d; stroke-width:1; stroke-opacity:1; fill:none\" points=\"\n",
       "  118.087,170.327 115.088,174.259 119.586,177.002 \n",
       "  \"/>\n",
       "<polyline clip-path=\"url(#clip00)\" style=\"stroke:#00002d; stroke-width:1; stroke-opacity:1; fill:none\" points=\"\n",
       "  118.087,170.327 118.087,178.967 \n",
       "  \"/>\n",
       "<polyline clip-path=\"url(#clip00)\" style=\"stroke:#00002d; stroke-width:1; stroke-opacity:1; fill:none\" points=\"\n",
       "  122.885,173.254 121.985,173.116 121.386,173.985 121.086,175.859 121.086,177.093 121.386,179.333 121.985,180.934 122.885,181.894 123.485,182.259 124.385,182.397 \n",
       "  124.984,181.528 125.284,179.654 125.284,178.419 124.984,176.179 124.385,174.579 123.485,173.619 122.885,173.254 \n",
       "  \"/>\n",
       "<polyline clip-path=\"url(#clip00)\" style=\"stroke:#00002d; stroke-width:1; stroke-opacity:1; fill:none\" points=\"\n",
       "  118.686,146.507 115.687,144.679 115.387,148.199 115.687,147.97 116.587,148.107 117.487,148.656 118.387,149.616 118.986,150.805 119.286,152.222 119.286,153.045 \n",
       "  118.986,154.096 118.387,154.553 117.487,154.416 116.587,153.867 115.687,152.907 115.387,152.313 115.088,151.307 \n",
       "  \"/>\n",
       "<polyline clip-path=\"url(#clip00)\" style=\"stroke:#00002d; stroke-width:1; stroke-opacity:1; fill:none\" points=\"\n",
       "  122.885,149.068 121.985,148.931 121.386,149.799 121.086,151.673 121.086,152.908 121.386,155.148 121.985,156.748 122.885,157.708 123.485,158.074 124.385,158.211 \n",
       "  124.984,157.342 125.284,155.468 125.284,154.234 124.984,151.994 124.385,150.394 123.485,149.434 122.885,149.068 \n",
       "  \"/>\n",
       "<polyline clip-path=\"url(#clip00)\" style=\"stroke:#000000; stroke-width:0.8; stroke-opacity:1; fill:none\" points=\"\n",
       "  131.496,274.086 131.496,274.086 129.139,276.519 131.496,274.086 131.496,261.993 130.318,263.209 131.496,261.993 131.496,249.9 129.139,252.333 131.496,249.9 \n",
       "  131.496,237.807 130.318,239.024 131.496,237.807 131.496,225.714 129.139,228.147 131.496,225.714 131.496,213.621 130.318,214.838 131.496,213.621 131.496,201.529 \n",
       "  129.139,203.961 131.496,201.529 131.496,189.436 130.318,190.652 131.496,189.436 131.496,177.343 129.139,179.775 131.496,177.343 131.496,165.25 130.318,166.466 \n",
       "  131.496,165.25 131.496,153.157 129.139,155.589 131.496,153.157 \n",
       "  \"/>\n",
       "<polyline clip-path=\"url(#clip00)\" style=\"stroke:#00002d; stroke-width:1; stroke-opacity:1; fill:none\" points=\"\n",
       "  124.711,281.677 124.225,282.756 124.72,283.975 126.197,285.334 127.251,285.977 129.286,286.76 130.899,286.826 132.088,286.175 132.646,285.599 133.133,284.52 \n",
       "  132.637,283.301 131.16,281.942 130.107,281.299 128.071,280.516 126.459,280.45 125.27,281.101 124.711,281.677 \n",
       "  \"/>\n",
       "<polyline clip-path=\"url(#clip00)\" style=\"stroke:#00002d; stroke-width:1; stroke-opacity:1; fill:none\" points=\"\n",
       "  170.286,311.761 169.935,311.547 169.511,310.83 169.439,310.328 169.647,309.537 170.764,308.384 171.674,308.022 172.304,307.948 173.286,308.088 173.988,308.517 \n",
       "  174.412,309.233 174.907,310.452 175.627,315.477 179.537,311.441 \n",
       "  \"/>\n",
       "<polyline clip-path=\"url(#clip00)\" style=\"stroke:#00002d; stroke-width:1; stroke-opacity:1; fill:none\" points=\"\n",
       "  216.258,335.668 218.383,341.549 222.572,337.226 \n",
       "  \"/>\n",
       "<polyline clip-path=\"url(#clip00)\" style=\"stroke:#00002d; stroke-width:1; stroke-opacity:1; fill:none\" points=\"\n",
       "  216.258,335.668 223.635,340.166 \n",
       "  \"/>\n",
       "<polyline clip-path=\"url(#clip00)\" style=\"stroke:#00002d; stroke-width:1; stroke-opacity:1; fill:none\" points=\"\n",
       "  263.364,363.018 262.383,362.878 261.194,363.528 260.635,364.105 260.148,365.184 260.644,366.403 262.121,367.762 263.877,368.833 265.562,369.401 266.823,369.253 \n",
       "  268.012,368.603 268.291,368.315 268.777,367.236 268.633,366.231 267.859,365.3 267.508,365.086 266.175,364.731 264.913,364.879 263.724,365.53 263.445,365.818 \n",
       "  262.959,366.897 263.103,367.902 263.877,368.833 \n",
       "  \"/>\n",
       "<polyline clip-path=\"url(#clip00)\" style=\"stroke:#000000; stroke-width:0.8; stroke-opacity:1; fill:none\" points=\"\n",
       "  131.496,274.086 136.244,276.981 133.887,279.414 136.244,276.981 158.851,290.767 157.673,291.983 158.851,290.767 181.459,304.553 179.102,306.986 181.459,304.553 \n",
       "  204.066,318.339 202.888,319.555 204.066,318.339 226.673,332.125 224.317,334.558 226.673,332.125 249.281,345.911 248.102,347.127 249.281,345.911 271.888,359.697 \n",
       "  269.532,362.129 271.888,359.697 294.496,373.483 293.317,374.699 294.496,373.483 299.243,376.378 \n",
       "  \"/>\n",
       "<polyline clip-path=\"url(#clip00)\" style=\"stroke:#00002d; stroke-width:1; stroke-opacity:1; fill:none\" points=\"\n",
       "  315.578,373.924 314.264,373.593 312.72,374.061 310.946,375.33 310.087,376.216 308.998,377.903 308.825,379.207 309.566,380.129 310.252,380.547 311.566,380.878 \n",
       "  313.11,380.41 314.884,379.141 315.743,378.255 316.832,376.569 317.005,375.264 316.264,374.342 315.578,373.924 \n",
       "  \"/>\n",
       "<polyline clip-path=\"url(#clip00)\" style=\"stroke:#00002d; stroke-width:1; stroke-opacity:1; fill:none\" points=\"\n",
       "  356.697,328.67 356.983,328.375 357.898,327.993 358.527,327.906 359.499,328.029 360.869,328.864 361.269,329.578 361.325,330.082 361.095,330.882 360.522,331.473 \n",
       "  359.607,331.855 358.063,332.324 351.774,333.189 356.571,336.114 \n",
       "  \"/>\n",
       "<polyline clip-path=\"url(#clip00)\" style=\"stroke:#00002d; stroke-width:1; stroke-opacity:1; fill:none\" points=\"\n",
       "  405.475,283.387 398.041,285.434 403.181,288.568 \n",
       "  \"/>\n",
       "<polyline clip-path=\"url(#clip00)\" style=\"stroke:#00002d; stroke-width:1; stroke-opacity:1; fill:none\" points=\"\n",
       "  405.475,283.387 399.463,289.592 \n",
       "  \"/>\n",
       "<polyline clip-path=\"url(#clip00)\" style=\"stroke:#00002d; stroke-width:1; stroke-opacity:1; fill:none\" points=\"\n",
       "  449.907,239.214 450.137,238.414 449.396,237.492 448.71,237.074 447.396,236.742 445.852,237.211 444.078,238.479 442.647,239.957 441.844,241.348 441.957,242.357 \n",
       "  442.698,243.279 443.041,243.488 444.355,243.819 445.613,243.646 446.815,242.969 447.101,242.673 447.617,241.578 447.504,240.569 446.763,239.647 446.42,239.438 \n",
       "  445.106,239.106 443.848,239.279 442.647,239.957 \n",
       "  \"/>\n",
       "<polyline clip-path=\"url(#clip00)\" style=\"stroke:#000000; stroke-width:0.8; stroke-opacity:1; fill:none\" points=\"\n",
       "  299.243,376.378 303.227,372.266 306.582,374.312 303.227,372.266 325.359,349.423 327.036,350.446 325.359,349.423 347.49,326.58 350.845,328.626 347.49,326.58 \n",
       "  369.622,303.737 371.299,304.759 369.622,303.737 391.753,280.893 395.108,282.939 391.753,280.893 413.885,258.05 415.562,259.073 413.885,258.05 436.016,235.207 \n",
       "  439.371,237.253 436.016,235.207 440,231.095 \n",
       "  \"/>\n",
       "<polygon clip-path=\"url(#clip02)\" points=\"\n",
       "387.006,205.199 318.232,65.9131 364.636,234.397 \n",
       "  \" fill=\"#dd5138\" fill-opacity=\"1\"/>\n",
       "<polyline clip-path=\"url(#clip02)\" style=\"stroke:#000000; stroke-width:0.8; stroke-opacity:1; fill:none\" points=\"\n",
       "  387.006,205.199 318.232,65.9131 364.636,234.397 387.006,205.199 \n",
       "  \"/>\n",
       "<polygon clip-path=\"url(#clip02)\" points=\"\n",
       "364.636,234.397 318.232,65.9131 251.837,207.484 \n",
       "  \" fill=\"#af305b\" fill-opacity=\"1\"/>\n",
       "<polyline clip-path=\"url(#clip02)\" style=\"stroke:#000000; stroke-width:0.8; stroke-opacity:1; fill:none\" points=\"\n",
       "  364.636,234.397 318.232,65.9131 251.837,207.484 364.636,234.397 \n",
       "  \"/>\n",
       "<defs>\n",
       "  <clipPath id=\"clip03\">\n",
       "    <rect x=\"481\" y=\"7\" width=\"19\" height=\"369\"/>\n",
       "  </clipPath>\n",
       "</defs>\n",
       "<g clip-path=\"url(#clip03)\">\n",
       "<image width=\"18\" height=\"368\" xlink:href=\"data:;base64,\n",
       "iVBORw0KGgoAAAANSUhEUgAAABIAAAFwCAYAAAC1hSuyAAACFElEQVR4nO2cwZEDMQgEWZfyj+Ky\n",
       "tC0uBPzoR9cUBDClZgDJu149n/vXBcSLEKmqOrc/jFBDQhxa31y0dW0Wys1RUTmihEA0yjUhGufa\n",
       "GxLayp6CQ3v6ywjVZYRANGhFQrSiXAvOUTTaZYR8aNSKSPuZZG9lz0Hab3ONqiOlaxgaJGS0P3Ye\n",
       "6ewn0ZAnY3WqN0ezkA8Nc43JkRIN0UHRICGoZ6NzJERjWq1O3wcRUrrGoJ1uX44gNEqIfMESi1aX\n",
       "0UouSGoenWqGjny/JsvRVvYcZGVvjiYhKkfC7cjXtA1NSOFOy41azv6t7CGUaOvaKKTbjoJ3Ws5+\n",
       "HxpVkNd38t+mnSK6sim0m4umEwrOEfkf9lg0sGljt6Ng+4PRdPaDaCVDE9oPvaV3olH2Q3W0TTsH\n",
       "iIbIZFc2NSGFaNRgE25HuhYJ7n4jmm4eQa22aL8IUSvamT0H+RMC0SFd47YjRCe8+xmhYPtJNErI\n",
       "V5BYrzE6TvtjZ3byPMIeRK39o5APDbSfCSGa8TctJLT2z0INfeajRGMiGE04s8HDqK2yg9HAk38s\n",
       "2s7sH4R0aFSyhWjUis6FmtZY2Wv/KNTQ99RCtPv40KALJzAhof0P1rQ6tGDXCrraCcyR7YowXfeT\n",
       "By2Z/UI0YdNSF3JRaKehFZH2584jm/3k0xqZa9GVLURb10Yh6P5sIVpRjzQqd7AJ0Tj7c9EgoX+B\n",
       "LufvtEPvSwAAAABJRU5ErkJggg==\n",
       "\" transform=\"translate(481, 7)\"/>\n",
       "</g>\n",
       "<g clip-path=\"url(#clip00)\">\n",
       "<text style=\"fill:#00002d; fill-opacity:1; font-family:Arial,Helvetica Neue,Helvetica,sans-serif; font-size:12; text-anchor:start;\" transform=\"rotate(0, 506, 379.791)\" x=\"506\" y=\"379.791\">0</text>\n",
       "</g>\n",
       "<g clip-path=\"url(#clip00)\">\n",
       "<text style=\"fill:#00002d; fill-opacity:1; font-family:Arial,Helvetica Neue,Helvetica,sans-serif; font-size:12; text-anchor:start;\" transform=\"rotate(0, 506, 342.94)\" x=\"506\" y=\"342.94\">5</text>\n",
       "</g>\n",
       "<g clip-path=\"url(#clip00)\">\n",
       "<text style=\"fill:#00002d; fill-opacity:1; font-family:Arial,Helvetica Neue,Helvetica,sans-serif; font-size:12; text-anchor:start;\" transform=\"rotate(0, 506, 306.09)\" x=\"506\" y=\"306.09\">10</text>\n",
       "</g>\n",
       "<g clip-path=\"url(#clip00)\">\n",
       "<text style=\"fill:#00002d; fill-opacity:1; font-family:Arial,Helvetica Neue,Helvetica,sans-serif; font-size:12; text-anchor:start;\" transform=\"rotate(0, 506, 269.24)\" x=\"506\" y=\"269.24\">15</text>\n",
       "</g>\n",
       "<g clip-path=\"url(#clip00)\">\n",
       "<text style=\"fill:#00002d; fill-opacity:1; font-family:Arial,Helvetica Neue,Helvetica,sans-serif; font-size:12; text-anchor:start;\" transform=\"rotate(0, 506, 232.389)\" x=\"506\" y=\"232.389\">20</text>\n",
       "</g>\n",
       "<g clip-path=\"url(#clip00)\">\n",
       "<text style=\"fill:#00002d; fill-opacity:1; font-family:Arial,Helvetica Neue,Helvetica,sans-serif; font-size:12; text-anchor:start;\" transform=\"rotate(0, 506, 195.539)\" x=\"506\" y=\"195.539\">25</text>\n",
       "</g>\n",
       "<g clip-path=\"url(#clip00)\">\n",
       "<text style=\"fill:#00002d; fill-opacity:1; font-family:Arial,Helvetica Neue,Helvetica,sans-serif; font-size:12; text-anchor:start;\" transform=\"rotate(0, 506, 158.688)\" x=\"506\" y=\"158.688\">30</text>\n",
       "</g>\n",
       "<g clip-path=\"url(#clip00)\">\n",
       "<text style=\"fill:#00002d; fill-opacity:1; font-family:Arial,Helvetica Neue,Helvetica,sans-serif; font-size:12; text-anchor:start;\" transform=\"rotate(0, 506, 121.838)\" x=\"506\" y=\"121.838\">35</text>\n",
       "</g>\n",
       "<g clip-path=\"url(#clip00)\">\n",
       "<text style=\"fill:#00002d; fill-opacity:1; font-family:Arial,Helvetica Neue,Helvetica,sans-serif; font-size:12; text-anchor:start;\" transform=\"rotate(0, 506, 84.9876)\" x=\"506\" y=\"84.9876\">40</text>\n",
       "</g>\n",
       "<g clip-path=\"url(#clip00)\">\n",
       "<text style=\"fill:#00002d; fill-opacity:1; font-family:Arial,Helvetica Neue,Helvetica,sans-serif; font-size:12; text-anchor:start;\" transform=\"rotate(0, 506, 48.1372)\" x=\"506\" y=\"48.1372\">45</text>\n",
       "</g>\n",
       "<g clip-path=\"url(#clip00)\">\n",
       "<text style=\"fill:#00002d; fill-opacity:1; font-family:Arial,Helvetica Neue,Helvetica,sans-serif; font-size:12; text-anchor:start;\" transform=\"rotate(0, 506, 11.2868)\" x=\"506\" y=\"11.2868\">50</text>\n",
       "</g>\n",
       "<polyline clip-path=\"url(#clip02)\" style=\"stroke:#e9746a; stroke-width:0.8; stroke-opacity:1; fill:none\" points=\"\n",
       "  251.837,207.484 364.636,234.397 387.006,205.199 318.232,65.9131 \n",
       "  \"/>\n",
       "<circle clip-path=\"url(#clip02)\" style=\"fill:#00002d; stroke:none; fill-opacity:0.8\" cx=\"251.837\" cy=\"207.484\" r=\"7\"/>\n",
       "<circle clip-path=\"url(#clip02)\" style=\"fill:#ff0000; stroke:none; fill-opacity:0.8\" cx=\"251.837\" cy=\"207.484\" r=\"7\"/>\n",
       "<circle clip-path=\"url(#clip02)\" style=\"fill:#00002d; stroke:none; fill-opacity:0.8\" cx=\"364.636\" cy=\"234.397\" r=\"7\"/>\n",
       "<circle clip-path=\"url(#clip02)\" style=\"fill:#ff0000; stroke:none; fill-opacity:0.8\" cx=\"364.636\" cy=\"234.397\" r=\"7\"/>\n",
       "<circle clip-path=\"url(#clip02)\" style=\"fill:#00002d; stroke:none; fill-opacity:0.8\" cx=\"387.006\" cy=\"205.199\" r=\"7\"/>\n",
       "<circle clip-path=\"url(#clip02)\" style=\"fill:#ff0000; stroke:none; fill-opacity:0.8\" cx=\"387.006\" cy=\"205.199\" r=\"7\"/>\n",
       "<circle clip-path=\"url(#clip02)\" style=\"fill:#00002d; stroke:none; fill-opacity:0.8\" cx=\"318.232\" cy=\"65.9131\" r=\"7\"/>\n",
       "<circle clip-path=\"url(#clip02)\" style=\"fill:#ff0000; stroke:none; fill-opacity:0.8\" cx=\"318.232\" cy=\"65.9131\" r=\"7\"/>\n",
       "<polyline clip-path=\"url(#clip02)\" style=\"stroke:#008100; stroke-width:5.6; stroke-opacity:1; fill:none\" points=\"\n",
       "  185.442,276.014 287.176,314.348 298.479,296.572 185.442,202.972 \n",
       "  \"/>\n",
       "<circle clip-path=\"url(#clip02)\" style=\"fill:#00002d; stroke:none; fill-opacity:0.8\" cx=\"185.442\" cy=\"276.014\" r=\"7\"/>\n",
       "<circle clip-path=\"url(#clip02)\" style=\"fill:#ff0000; stroke:none; fill-opacity:0.8\" cx=\"185.442\" cy=\"276.014\" r=\"7\"/>\n",
       "<circle clip-path=\"url(#clip02)\" style=\"fill:#00002d; stroke:none; fill-opacity:0.8\" cx=\"287.176\" cy=\"314.348\" r=\"7\"/>\n",
       "<circle clip-path=\"url(#clip02)\" style=\"fill:#ff0000; stroke:none; fill-opacity:0.8\" cx=\"287.176\" cy=\"314.348\" r=\"7\"/>\n",
       "<circle clip-path=\"url(#clip02)\" style=\"fill:#00002d; stroke:none; fill-opacity:0.8\" cx=\"298.479\" cy=\"296.572\" r=\"7\"/>\n",
       "<circle clip-path=\"url(#clip02)\" style=\"fill:#ff0000; stroke:none; fill-opacity:0.8\" cx=\"298.479\" cy=\"296.572\" r=\"7\"/>\n",
       "<circle clip-path=\"url(#clip02)\" style=\"fill:#00002d; stroke:none; fill-opacity:0.8\" cx=\"185.442\" cy=\"202.972\" r=\"7\"/>\n",
       "<circle clip-path=\"url(#clip02)\" style=\"fill:#ff0000; stroke:none; fill-opacity:0.8\" cx=\"185.442\" cy=\"202.972\" r=\"7\"/>\n",
       "<polyline clip-path=\"url(#clip02)\" style=\"stroke:#0000ff; stroke-width:5.6; stroke-opacity:1; fill:none\" points=\"\n",
       "  206.622,179.912 217.688,144.788 228.754,108.697 273.017,38.3411 \n",
       "  \"/>\n",
       "<circle clip-path=\"url(#clip02)\" style=\"fill:#00002d; stroke:none; fill-opacity:0.8\" cx=\"206.622\" cy=\"179.912\" r=\"7\"/>\n",
       "<circle clip-path=\"url(#clip02)\" style=\"fill:#ff0000; stroke:none; fill-opacity:0.8\" cx=\"206.622\" cy=\"179.912\" r=\"7\"/>\n",
       "<circle clip-path=\"url(#clip02)\" style=\"fill:#00002d; stroke:none; fill-opacity:0.8\" cx=\"217.688\" cy=\"144.788\" r=\"7\"/>\n",
       "<circle clip-path=\"url(#clip02)\" style=\"fill:#ff0000; stroke:none; fill-opacity:0.8\" cx=\"217.688\" cy=\"144.788\" r=\"7\"/>\n",
       "<circle clip-path=\"url(#clip02)\" style=\"fill:#00002d; stroke:none; fill-opacity:0.8\" cx=\"228.754\" cy=\"108.697\" r=\"7\"/>\n",
       "<circle clip-path=\"url(#clip02)\" style=\"fill:#ff0000; stroke:none; fill-opacity:0.8\" cx=\"228.754\" cy=\"108.697\" r=\"7\"/>\n",
       "<circle clip-path=\"url(#clip02)\" style=\"fill:#00002d; stroke:none; fill-opacity:0.8\" cx=\"273.017\" cy=\"38.3411\" r=\"7\"/>\n",
       "<circle clip-path=\"url(#clip02)\" style=\"fill:#ff0000; stroke:none; fill-opacity:0.8\" cx=\"273.017\" cy=\"38.3411\" r=\"7\"/>\n",
       "<polygon clip-path=\"url(#clip00)\" points=\"\n",
       "349.484,89.234 422,89.234 422,28.754 349.484,28.754 \n",
       "  \" fill=\"#ffffff\" fill-opacity=\"1\"/>\n",
       "<polyline clip-path=\"url(#clip00)\" style=\"stroke:#000000; stroke-width:0.8; stroke-opacity:1; fill:none\" points=\"\n",
       "  349.484,89.234 422,89.234 422,28.754 349.484,28.754 349.484,89.234 \n",
       "  \"/>\n",
       "<circle clip-path=\"url(#clip00)\" style=\"fill:#00002d; stroke:none; fill-opacity:0.8\" cx=\"376.484\" cy=\"43.874\" r=\"5\"/>\n",
       "<circle clip-path=\"url(#clip00)\" style=\"fill:#ff0000; stroke:none; fill-opacity:0.8\" cx=\"376.484\" cy=\"43.874\" r=\"4\"/>\n",
       "<g clip-path=\"url(#clip00)\">\n",
       "<text style=\"fill:#00002d; fill-opacity:1; font-family:Arial,Helvetica Neue,Helvetica,sans-serif; font-size:12; text-anchor:start;\" transform=\"rotate(0, 397.484, 48.374)\" x=\"397.484\" y=\"48.374\">y2</text>\n",
       "</g>\n",
       "<circle clip-path=\"url(#clip00)\" style=\"fill:#00002d; stroke:none; fill-opacity:0.8\" cx=\"376.484\" cy=\"58.994\" r=\"5\"/>\n",
       "<circle clip-path=\"url(#clip00)\" style=\"fill:#ff0000; stroke:none; fill-opacity:0.8\" cx=\"376.484\" cy=\"58.994\" r=\"4\"/>\n",
       "<g clip-path=\"url(#clip00)\">\n",
       "<text style=\"fill:#00002d; fill-opacity:1; font-family:Arial,Helvetica Neue,Helvetica,sans-serif; font-size:12; text-anchor:start;\" transform=\"rotate(0, 397.484, 63.494)\" x=\"397.484\" y=\"63.494\">y3</text>\n",
       "</g>\n",
       "<circle clip-path=\"url(#clip00)\" style=\"fill:#00002d; stroke:none; fill-opacity:0.8\" cx=\"376.484\" cy=\"74.114\" r=\"5\"/>\n",
       "<circle clip-path=\"url(#clip00)\" style=\"fill:#ff0000; stroke:none; fill-opacity:0.8\" cx=\"376.484\" cy=\"74.114\" r=\"4\"/>\n",
       "<g clip-path=\"url(#clip00)\">\n",
       "<text style=\"fill:#00002d; fill-opacity:1; font-family:Arial,Helvetica Neue,Helvetica,sans-serif; font-size:12; text-anchor:start;\" transform=\"rotate(0, 397.484, 78.614)\" x=\"397.484\" y=\"78.614\">y4</text>\n",
       "</g>\n",
       "</svg>\n"
      ]
     },
     "execution_count": 3,
     "metadata": {},
     "output_type": "execute_result"
    }
   ],
   "source": [
    "plot(x1,x2,y,marker=(10,0.8,:red),st=:surface)\n",
    "plot!(x1,x2,y,marker=(10,0.8,:red))\n",
    "plot!(x1,zeros(x2),y,line=(7,:green),marker=(10,0.8,:red),zlim=(0,50))\n",
    "plot!(zeros(x1),x2,y,line=(7,:blue),marker=(10,0.8,:red))"
   ]
  },
  {
   "cell_type": "markdown",
   "metadata": {},
   "source": [
    "### A.1. Just a matrix please. (No labels, no extras, simple.)"
   ]
  },
  {
   "cell_type": "code",
   "execution_count": 4,
   "metadata": {},
   "outputs": [
    {
     "data": {
      "text/plain": [
       "4×4 Array{Any,2}:\n",
       " 2.0  3.0  10.1  \"Cat\"    \n",
       " 6.5  3.5  19.9  \"Dog\"    \n",
       " 7.0  4.0  30.1  \"Bird\"   \n",
       " 2.0  6.0  40.3  \"Hamster\""
      ]
     },
     "execution_count": 4,
     "metadata": {},
     "output_type": "execute_result"
    }
   ],
   "source": [
    "data1 = [x1 x2 y pets]"
   ]
  },
  {
   "cell_type": "markdown",
   "metadata": {},
   "source": [
    "### A.2. Data Frames: Inspired by the R universe."
   ]
  },
  {
   "cell_type": "code",
   "execution_count": 5,
   "metadata": {},
   "outputs": [
    {
     "data": {
      "text/html": [
       "<table class=\"data-frame\"><thead><tr><th></th><th>X1</th><th>X2</th><th>Y</th><th>Pets</th></tr></thead><tbody><tr><th>1</th><td>2.0</td><td>3.0</td><td>10.1</td><td>Cat</td></tr><tr><th>2</th><td>6.5</td><td>3.5</td><td>19.9</td><td>Dog</td></tr><tr><th>3</th><td>7.0</td><td>4.0</td><td>30.1</td><td>Bird</td></tr><tr><th>4</th><td>2.0</td><td>6.0</td><td>40.3</td><td>Hamster</td></tr></tbody></table>"
      ],
      "text/plain": [
       "4×4 DataFrames.DataFrame\n",
       "│ Row │ X1  │ X2  │ Y    │ Pets      │\n",
       "├─────┼─────┼─────┼──────┼───────────┤\n",
       "│ 1   │ 2.0 │ 3.0 │ 10.1 │ \"Cat\"     │\n",
       "│ 2   │ 6.5 │ 3.5 │ 19.9 │ \"Dog\"     │\n",
       "│ 3   │ 7.0 │ 4.0 │ 30.1 │ \"Bird\"    │\n",
       "│ 4   │ 2.0 │ 6.0 │ 40.3 │ \"Hamster\" │"
      ]
     },
     "execution_count": 5,
     "metadata": {},
     "output_type": "execute_result"
    }
   ],
   "source": [
    "using DataFrames\n",
    "data2 = DataFrame(X1=x1,X2=x2,Y=y,Pets=pets) #  X1,X2,Y,Pets are labels (not data)"
   ]
  },
  {
   "cell_type": "code",
   "execution_count": 6,
   "metadata": {},
   "outputs": [
    {
     "data": {
      "text/html": [
       "<table class=\"data-frame\"><thead><tr><th></th><th>X2</th><th>Pets</th></tr></thead><tbody><tr><th>1</th><td>3.0</td><td>Cat</td></tr><tr><th>2</th><td>3.5</td><td>Dog</td></tr><tr><th>3</th><td>4.0</td><td>Bird</td></tr><tr><th>4</th><td>6.0</td><td>Hamster</td></tr></tbody></table>"
      ],
      "text/plain": [
       "4×2 DataFrames.DataFrame\n",
       "│ Row │ X2  │ Pets      │\n",
       "├─────┼─────┼───────────┤\n",
       "│ 1   │ 3.0 │ \"Cat\"     │\n",
       "│ 2   │ 3.5 │ \"Dog\"     │\n",
       "│ 3   │ 4.0 │ \"Bird\"    │\n",
       "│ 4   │ 6.0 │ \"Hamster\" │"
      ]
     },
     "execution_count": 6,
     "metadata": {},
     "output_type": "execute_result"
    }
   ],
   "source": [
    "data2[[2,4]]"
   ]
  },
  {
   "cell_type": "code",
   "execution_count": null,
   "metadata": {},
   "outputs": [],
   "source": [
    "#Pkg.add(\"CSV\")\n",
    "using CSV\n",
    "CSV.write(\"data.csv\", data2)"
   ]
  },
  {
   "cell_type": "code",
   "execution_count": null,
   "metadata": {},
   "outputs": [],
   "source": [
    ";cat data.csv"
   ]
  },
  {
   "cell_type": "markdown",
   "metadata": {},
   "source": [
    "### A.3. Indexed Tables (Treat data like array indices, knows type information)"
   ]
  },
  {
   "cell_type": "code",
   "execution_count": null,
   "metadata": {},
   "outputs": [],
   "source": [
    "# Pkg.add(\"IndexedTables\")\n",
    "using  IndexedTables.Table\n",
    "using IndexedTables\n",
    "data3 = Table(Columns(X1=x1,X2=x2),Columns(Y=y,Pets=pets))"
   ]
  },
  {
   "cell_type": "code",
   "execution_count": null,
   "metadata": {},
   "outputs": [],
   "source": [
    "data3[6.5,3.5]"
   ]
  },
  {
   "cell_type": "code",
   "execution_count": null,
   "metadata": {},
   "outputs": [],
   "source": [
    "typeof.([data1,data2,data3])"
   ]
  },
  {
   "cell_type": "markdown",
   "metadata": {},
   "source": [
    "### A.4. JuliaDB (Lots of bells and whistles, many files, parallelism, ...)"
   ]
  },
  {
   "cell_type": "code",
   "execution_count": null,
   "metadata": {
    "collapsed": true
   },
   "outputs": [],
   "source": [
    "#Pkg.add(\"JuliaDB\")\n",
    "using JuliaDB:DTable\n",
    "using JuliaDB"
   ]
  },
  {
   "cell_type": "code",
   "execution_count": null,
   "metadata": {},
   "outputs": [],
   "source": [
    "data4 = distribute(data3, 1) "
   ]
  },
  {
   "cell_type": "code",
   "execution_count": null,
   "metadata": {},
   "outputs": [],
   "source": [
    "data5 = loadfiles([\"data.csv\"]) "
   ]
  },
  {
   "cell_type": "code",
   "execution_count": null,
   "metadata": {},
   "outputs": [],
   "source": [
    "typeof(data4)"
   ]
  },
  {
   "cell_type": "code",
   "execution_count": null,
   "metadata": {},
   "outputs": [],
   "source": [
    "data4[1:2]"
   ]
  },
  {
   "cell_type": "code",
   "execution_count": null,
   "metadata": {},
   "outputs": [],
   "source": [
    "select(data4,1=>i->i≥7) "
   ]
  },
  {
   "cell_type": "code",
   "execution_count": null,
   "metadata": {},
   "outputs": [],
   "source": [
    "filter(t->(t[1]>30),data4) "
   ]
  },
  {
   "cell_type": "markdown",
   "metadata": {},
   "source": [
    "### A.5 IterableTables"
   ]
  },
  {
   "cell_type": "code",
   "execution_count": null,
   "metadata": {
    "collapsed": true
   },
   "outputs": [],
   "source": [
    "\n",
    "#using IterableTables, DataTables, TypedTables # haven't investigated  much but looks very nice"
   ]
  },
  {
   "cell_type": "markdown",
   "metadata": {},
   "source": [
    "## B. Simple Plane Fitting"
   ]
  },
  {
   "cell_type": "markdown",
   "metadata": {},
   "source": [
    "[So why is it called \"Regression\" anyway?](http://blog.minitab.com/blog/statistics-and-quality-data-analysis/so-why-is-it-called-regression-anyway) Dalton's original meaning not quite what it means today."
   ]
  },
  {
   "cell_type": "markdown",
   "metadata": {},
   "source": [
    "B.1 Linear Regression function"
   ]
  },
  {
   "cell_type": "code",
   "execution_count": null,
   "metadata": {},
   "outputs": [],
   "source": [
    "x1 = [2, 6.5, 7, 2]\n",
    "x2 = [3, 3.5, 4, 6]\n",
    "y  = [10.1,  19.9,  30.1 , 40.3]\n",
    "# b, w =  linreg(x,y)\n",
    "# no simple function?\n",
    "A = [ones(x1) x1 x2]\n",
    "b = (A\\y)[1]\n",
    "w = (A\\y)[2:3]\n",
    "b,w"
   ]
  },
  {
   "cell_type": "code",
   "execution_count": null,
   "metadata": {},
   "outputs": [],
   "source": [
    "@which linreg(x1[:],y[:])"
   ]
  },
  {
   "cell_type": "code",
   "execution_count": null,
   "metadata": {},
   "outputs": [],
   "source": [
    "#Pkg.add(\"PlotUtils\") \n",
    "using PlotUtils"
   ]
  },
  {
   "cell_type": "code",
   "execution_count": null,
   "metadata": {},
   "outputs": [],
   "source": [
    "#gr()\n",
    "glvisualize()\n",
    "x1 = [2 6.5 7 2]\n",
    "x2 = [3 3.5 4 6]\n",
    "y  = [10.1  19.9  30.1  40.3]\n",
    "b = -24.70401416765054\n",
    "w = [1.63684, 10.3377]\n",
    "plot(x1,x2,y,marker=(10,.8,:red))\n",
    "plot!(0:.1:10, 0:.1:10, (x,y)->b+w[1]*x+w[2]*y,color=:bone,st=:surface)\n",
    "gui()"
   ]
  },
  {
   "cell_type": "markdown",
   "metadata": {},
   "source": [
    "Mathematically equivalent Approaches <br>\n",
    "B.2 Linear Algebra Least Squares"
   ]
  },
  {
   "cell_type": "code",
   "execution_count": null,
   "metadata": {},
   "outputs": [],
   "source": [
    "q,r = qr(A)\n",
    "r\\(q'y)"
   ]
  },
  {
   "cell_type": "markdown",
   "metadata": {},
   "source": [
    "B.3 Basic Formula"
   ]
  },
  {
   "cell_type": "markdown",
   "metadata": {},
   "source": [
    "B.4 optimization  (think machine learning) via the package optim.jl"
   ]
  },
  {
   "cell_type": "code",
   "execution_count": null,
   "metadata": {},
   "outputs": [],
   "source": [
    "using Optim   # Julia all the way down\n",
    "loss(bw) = sum(abs2,bw[1]+x1*bw[2]+x2*bw[3]-y) \n",
    "optimize(loss,[0.0,0.0,0.0]).minimizer"
   ]
  },
  {
   "cell_type": "markdown",
   "metadata": {},
   "source": [
    "B.5 optimization with the package JuMP <br>\n",
    "Note not every julia function can be in @objective or @NLobjective\n",
    "but that would be the goal. See  [linear and quadratic objective Jump Notes](http://www.juliaopt.org/JuMP.jl/0.18/refexpr.html)  and [Nonlinear Jump Notes](http://www.juliaopt.org/JuMP.jl/0.18/nlp.html#syntax-notes)."
   ]
  },
  {
   "cell_type": "code",
   "execution_count": null,
   "metadata": {},
   "outputs": [],
   "source": [
    "Pkg.add(\"Ipopt\")"
   ]
  },
  {
   "cell_type": "code",
   "execution_count": 11,
   "metadata": {},
   "outputs": [
    {
     "name": "stdout",
     "output_type": "stream",
     "text": [
      "\n",
      "******************************************************************************\n",
      "This program contains Ipopt, a library for large-scale nonlinear optimization.\n",
      " Ipopt is released as open source code under the Eclipse Public License (EPL).\n",
      "         For more information visit http://projects.coin-or.org/Ipopt\n",
      "******************************************************************************\n",
      "\n",
      "w=[-24.704, 1.63684, 10.3377]\n"
     ]
    }
   ],
   "source": [
    "using JuMP, Ipopt\n",
    "n = length(x1)\n",
    "m = Model(solver=IpoptSolver(print_level=1))\n",
    "@variable(m,w[1:3])\n",
    "@objective(m, Min, sum((w[1] + w[2]*x1[i]+ w[3]*x2[i]-y[i])^2 for i in 1:n))\n",
    "solve(m)\n",
    "println( \"w=\",getvalue(w))"
   ]
  },
  {
   "cell_type": "markdown",
   "metadata": {},
   "source": [
    "B.6 Generalized Linear Models <br>\n",
    "the very fancy statistical thing"
   ]
  },
  {
   "cell_type": "code",
   "execution_count": 8,
   "metadata": {
    "collapsed": true
   },
   "outputs": [],
   "source": [
    "#Pkg.add(\"GLM\")\n",
    "using GLM # Generalized Linear Models"
   ]
  },
  {
   "cell_type": "code",
   "execution_count": 10,
   "metadata": {},
   "outputs": [
    {
     "data": {
      "text/plain": [
       "DataFrames.DataFrameRegressionModel{GLM.LinearModel{GLM.LmResp{Array{Float64,1}},GLM.DensePredChol{Float64,Base.LinAlg.Cholesky{Float64,Array{Float64,2}}}},Array{Float64,2}}\n",
       "\n",
       "Formula: Y ~ 1 + X1 + X2\n",
       "\n",
       "Coefficients:\n",
       "             Estimate Std.Error  t value Pr(>|t|)\n",
       "(Intercept)   -24.704   7.45481 -3.31383   0.1866\n",
       "X1            1.63684  0.673333  2.43095   0.2484\n",
       "X2            10.3377   1.40813  7.34139   0.0862\n"
      ]
     },
     "execution_count": 10,
     "metadata": {},
     "output_type": "execute_result"
    }
   ],
   "source": [
    "lm(@formula(Y~X1+X2), data2)"
   ]
  },
  {
   "cell_type": "markdown",
   "metadata": {},
   "source": [
    "The lines above are obviously b and w\n",
    "We assume at the start X is known without error, b,w,σ are unknown and\n",
    "the real Y is distributed like  b+w*X+$\\sigma *$randn(),\n",
    "and the Y we have are samples from this distribution."
   ]
  },
  {
   "cell_type": "markdown",
   "metadata": {},
   "source": [
    "Under these assumptions, if we fit many times, the b and w would be normal, with these predicted standard deviations.\n",
    "\n",
    "The third column is just the ratio of column 1 to column 2 , thus normalizing the situation to a standard normal."
   ]
  },
  {
   "cell_type": "markdown",
   "metadata": {},
   "source": [
    "When the probability column is less than .05, we can reject the hypothesis that the intercept/slope is 0 at the 5 percent signficance level. What does this mean? It means we feel pretty good about our intercept and slope. If the probability is higher than .05 we can not reject the null hypothesis, meaning that we feel 0 for the intercept/slope could have been possible. In particular a 0 slope says that the dependent variable is not really statistically dependent after all."
   ]
  },
  {
   "cell_type": "markdown",
   "metadata": {},
   "source": [
    "### C. Stochastic Gradient Descent"
   ]
  },
  {
   "cell_type": "code",
   "execution_count": null,
   "metadata": {},
   "outputs": [],
   "source": [
    "loss(w,b,i) =(w*x[i]+b-y[i])^2  # loss due to point i\n",
    "Dloss(w,b,i) = 2*(w*x[i]+b-y[i])*[x[i];1]"
   ]
  },
  {
   "cell_type": "code",
   "execution_count": null,
   "metadata": {},
   "outputs": [],
   "source": [
    "w,b = 0.0, 0.0\n",
    "for t=1:100000\n",
    "    η = .002  # there seems to be an art to picking these steplengths\n",
    "    i = rand(1:4)\n",
    "    d = Dloss(w,b,i)\n",
    "    w -= η * d[1]\n",
    "    b -= η * d[2]  \n",
    "end\n",
    " println(b,\" \",w)   "
   ]
  },
  {
   "cell_type": "markdown",
   "metadata": {},
   "source": [
    "###  D. KNET"
   ]
  },
  {
   "cell_type": "code",
   "execution_count": null,
   "metadata": {
    "collapsed": true
   },
   "outputs": [],
   "source": [
    "#Pkg.add(\"Knet\")\n",
    "using Knet"
   ]
  },
  {
   "cell_type": "code",
   "execution_count": null,
   "metadata": {},
   "outputs": [],
   "source": [
    "predict(w,x) = w[2]*x .+ w[1]\n",
    "loss(w,x,y) = sum(abs2, y - predict(w,x)) "
   ]
  },
  {
   "cell_type": "code",
   "execution_count": null,
   "metadata": {},
   "outputs": [],
   "source": [
    "lossgradient = grad(loss)"
   ]
  },
  {
   "cell_type": "code",
   "execution_count": null,
   "metadata": {},
   "outputs": [],
   "source": [
    "function train(w, data; lr=.1)\n",
    "    p=1\n",
    "    for (x,y) in data\n",
    "        println(\"This is pass $p\")\n",
    "        p+=1\n",
    "        dw = lossgradient(w, x, y)\n",
    "        for i in 1:length(w)\n",
    "            w[i] -= lr * dw[i]\n",
    "        end\n",
    "    end\n",
    "    return w\n",
    "end"
   ]
  },
  {
   "cell_type": "code",
   "execution_count": null,
   "metadata": {},
   "outputs": [],
   "source": [
    "train([0.0,0.0],zip(x,y),lr=.01) # not enough data"
   ]
  },
  {
   "cell_type": "code",
   "execution_count": null,
   "metadata": {},
   "outputs": [],
   "source": [
    "data = [(x[i],y[i]) for i=1:4]"
   ]
  },
  {
   "cell_type": "code",
   "execution_count": null,
   "metadata": {},
   "outputs": [],
   "source": [
    "function train2(w, data; lr=.1)\n",
    "       for t in 1:10000\n",
    "          \n",
    "        (x,y) = data[rand(1:4)]\n",
    "        dw = lossgradient(w, x, y)\n",
    "            for i=1:length(w)\n",
    "            w[i] -= lr * dw[i]\n",
    "        end\n",
    "    end\n",
    "    return w\n",
    "end"
   ]
  },
  {
   "cell_type": "code",
   "execution_count": null,
   "metadata": {},
   "outputs": [],
   "source": [
    "train2([0.0;0.0],data,lr=.01) "
   ]
  },
  {
   "cell_type": "markdown",
   "metadata": {},
   "source": [
    "### E. TensorFlow"
   ]
  },
  {
   "cell_type": "code",
   "execution_count": null,
   "metadata": {},
   "outputs": [],
   "source": [
    "#Pkg.add(\"TensorFlow\")\n",
    "using TensorFlow\n",
    "session = Session()"
   ]
  },
  {
   "cell_type": "code",
   "execution_count": null,
   "metadata": {},
   "outputs": [],
   "source": [
    "W = TensorFlow.Variable(randn())\n",
    "b = TensorFlow.Variable(randn())"
   ]
  },
  {
   "cell_type": "code",
   "execution_count": null,
   "metadata": {},
   "outputs": [],
   "source": [
    "X = placeholder(Float32)\n",
    "Y = multiply(X,W).+b\n",
    "Y_obs = placeholder(Float32)"
   ]
  },
  {
   "cell_type": "code",
   "execution_count": null,
   "metadata": {},
   "outputs": [],
   "source": [
    "Loss=sum( (Y.-Y_obs).^2 )"
   ]
  },
  {
   "cell_type": "code",
   "execution_count": null,
   "metadata": {},
   "outputs": [],
   "source": [
    "optimizer = TensorFlow.train.GradientDescentOptimizer(1e-3)\n",
    "minimizer = TensorFlow.train.minimize(optimizer, Loss)"
   ]
  },
  {
   "cell_type": "code",
   "execution_count": null,
   "metadata": {
    "collapsed": true
   },
   "outputs": [],
   "source": [
    "run(session, global_variables_initializer())\n",
    "for i in 1:20000\n",
    "    run(session, minimizer, Dict(X=>x, Y_obs=>y))\n",
    "end"
   ]
  },
  {
   "cell_type": "code",
   "execution_count": null,
   "metadata": {},
   "outputs": [],
   "source": [
    "run(session, [b, W])"
   ]
  }
 ],
 "metadata": {
  "kernelspec": {
   "display_name": "Julia 0.6.0",
   "language": "julia",
   "name": "julia-0.6"
  },
  "language_info": {
   "file_extension": ".jl",
   "mimetype": "application/julia",
   "name": "julia",
   "version": "0.6.0"
  }
 },
 "nbformat": 4,
 "nbformat_minor": 2
}
