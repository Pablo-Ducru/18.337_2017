{
 "cells": [
  {
   "cell_type": "code",
   "execution_count": null,
   "metadata": {
    "collapsed": true,
    "scrolled": true
   },
   "outputs": [],
   "source": [
    "#Pkg.checkout(\"DistributedArrays\",\"anj/map_localparts\")"
   ]
  },
  {
   "cell_type": "code",
   "execution_count": 26,
   "metadata": {},
   "outputs": [
    {
     "data": {
      "text/plain": [
       "4"
      ]
     },
     "execution_count": 26,
     "metadata": {},
     "output_type": "execute_result"
    }
   ],
   "source": [
    "1+3"
   ]
  },
  {
   "cell_type": "code",
   "execution_count": null,
   "metadata": {
    "collapsed": true
   },
   "outputs": [],
   "source": [
    "#using DistributedArrays"
   ]
  },
  {
   "cell_type": "code",
   "execution_count": 27,
   "metadata": {
    "collapsed": true
   },
   "outputs": [],
   "source": [
    "nprocs() == 1 && addprocs(4)\n",
    "using DistributedArrays"
   ]
  },
  {
   "cell_type": "code",
   "execution_count": 28,
   "metadata": {
    "collapsed": true
   },
   "outputs": [],
   "source": [
    "@everywhere function prefix!(op, v, v0 = 0)\n",
    "    v[1] += v0\n",
    "    for i = 2:length(v)\n",
    "        v[i] = op(v[i-1], v[i])\n",
    "    end\n",
    "    return v\n",
    "end\n",
    "\n",
    "@everywhere function prefixlag!(op, v, v0 = 0)\n",
    "    vi = v[1]\n",
    "    v[1] = v0\n",
    "    for i = 2:length(v)\n",
    "        tmp  = op(v[i - 1], vi)\n",
    "        vi   = v[i]\n",
    "        v[i] = tmp\n",
    "    end\n",
    "    v\n",
    "end"
   ]
  },
  {
   "cell_type": "code",
   "execution_count": 29,
   "metadata": {},
   "outputs": [
    {
     "data": {
      "text/plain": [
       "8-element Array{Int64,1}:\n",
       "  0\n",
       "  1\n",
       "  3\n",
       "  6\n",
       " 10\n",
       " 15\n",
       " 21\n",
       " 28"
      ]
     },
     "execution_count": 29,
     "metadata": {},
     "output_type": "execute_result"
    }
   ],
   "source": [
    "prefixlag!(+,collect(1:8))"
   ]
  },
  {
   "cell_type": "code",
   "execution_count": 30,
   "metadata": {},
   "outputs": [
    {
     "data": {
      "text/plain": [
       "10-element Array{Array{Int64,2},1}:\n",
       " [0 1; 1 1]    \n",
       " [1 1; 1 2]    \n",
       " [1 2; 2 3]    \n",
       " [2 3; 3 5]    \n",
       " [3 5; 5 8]    \n",
       " [5 8; 8 13]   \n",
       " [8 13; 13 21] \n",
       " [13 21; 21 34]\n",
       " [21 34; 34 55]\n",
       " [34 55; 55 89]"
      ]
     },
     "execution_count": 30,
     "metadata": {},
     "output_type": "execute_result"
    }
   ],
   "source": [
    "A = prefix!(*, [[0 1; 1 1] for i = 1:10])"
   ]
  },
  {
   "cell_type": "code",
   "execution_count": 31,
   "metadata": {},
   "outputs": [
    {
     "data": {
      "text/plain": [
       "10-element BitArray{1}:\n",
       "  true\n",
       " false\n",
       " false\n",
       "  true\n",
       " false\n",
       "  true\n",
       " false\n",
       " false\n",
       " false\n",
       " false"
      ]
     },
     "execution_count": 31,
     "metadata": {},
     "output_type": "execute_result"
    }
   ],
   "source": [
    "prefix!(xor, bitrand(10))"
   ]
  },
  {
   "cell_type": "code",
   "execution_count": 32,
   "metadata": {},
   "outputs": [
    {
     "data": {
      "text/plain": [
       "(0:9, 10:19, 20:29, 30:39)"
      ]
     },
     "execution_count": 32,
     "metadata": {},
     "output_type": "execute_result"
    }
   ],
   "source": [
    "x1, x2, x3, x4 = 0:9, 10:19, 20:29, 30:39"
   ]
  },
  {
   "cell_type": "code",
   "execution_count": 38,
   "metadata": {},
   "outputs": [
    {
     "data": {
      "text/plain": [
       "4-element Array{Array{Int64,1},1}:\n",
       " [0, 1, 2, 3, 4, 5, 6, 7, 8, 9]          \n",
       " [10, 11, 12, 13, 14, 15, 16, 17, 18, 19]\n",
       " [20, 21, 22, 23, 24, 25, 26, 27, 28, 29]\n",
       " [30, 31, 32, 33, 34, 35, 36, 37, 38, 39]"
      ]
     },
     "execution_count": 38,
     "metadata": {},
     "output_type": "execute_result"
    }
   ],
   "source": [
    "x = Vector{Int}[x1, x2, x3, x4]\n",
    "\n",
    "# Simulating local parts of 0:39 on four processors"
   ]
  },
  {
   "cell_type": "code",
   "execution_count": 39,
   "metadata": {},
   "outputs": [
    {
     "data": {
      "text/plain": [
       "4-element Array{Int64,1}:\n",
       "  45\n",
       " 145\n",
       " 245\n",
       " 345"
      ]
     },
     "execution_count": 39,
     "metadata": {},
     "output_type": "execute_result"
    }
   ],
   "source": [
    "y1 = sum.(x)"
   ]
  },
  {
   "cell_type": "code",
   "execution_count": 40,
   "metadata": {},
   "outputs": [
    {
     "data": {
      "text/plain": [
       "4-element Array{Int64,1}:\n",
       "   0\n",
       "  45\n",
       " 190\n",
       " 435"
      ]
     },
     "execution_count": 40,
     "metadata": {},
     "output_type": "execute_result"
    }
   ],
   "source": [
    "y2 = prefixlag!(+, y1)"
   ]
  },
  {
   "cell_type": "code",
   "execution_count": 41,
   "metadata": {},
   "outputs": [
    {
     "data": {
      "text/plain": [
       "4-element Array{Array{Int64,1},1}:\n",
       " [0, 1, 3, 6, 10, 15, 21, 28, 36, 45]              \n",
       " [55, 66, 78, 91, 105, 120, 136, 153, 171, 190]    \n",
       " [210, 231, 253, 276, 300, 325, 351, 378, 406, 435]\n",
       " [465, 496, 528, 561, 595, 630, 666, 703, 741, 780]"
      ]
     },
     "execution_count": 41,
     "metadata": {},
     "output_type": "execute_result"
    }
   ],
   "source": [
    "y3 = map((t,s) -> prefix!(+, t, s), x, y2)"
   ]
  },
  {
   "cell_type": "code",
   "execution_count": 14,
   "metadata": {},
   "outputs": [
    {
     "data": {
      "text/plain": [
       "1×40 RowVector{Int64,Array{Int64,1}}:\n",
       " 0  1  3  6  10  15  21  28  36  45  55  …  561  595  630  666  703  741  780"
      ]
     },
     "execution_count": 14,
     "metadata": {},
     "output_type": "execute_result"
    }
   ],
   "source": [
    "cumsum(0:39)'"
   ]
  },
  {
   "cell_type": "markdown",
   "metadata": {},
   "source": [
    "## Distributed version (requires some changes to DArrays)\n",
    "Notice similarity to and differences from the sequential version"
   ]
  },
  {
   "cell_type": "code",
   "execution_count": 42,
   "metadata": {},
   "outputs": [
    {
     "data": {
      "text/plain": [
       "40-element DistributedArrays.DArray{Int64,1,Array{Int64,1}}:\n",
       "  0\n",
       "  1\n",
       "  2\n",
       "  3\n",
       "  4\n",
       "  5\n",
       "  6\n",
       "  7\n",
       "  8\n",
       "  9\n",
       " 10\n",
       " 11\n",
       " 12\n",
       "  ⋮\n",
       " 28\n",
       " 29\n",
       " 30\n",
       " 31\n",
       " 32\n",
       " 33\n",
       " 34\n",
       " 35\n",
       " 36\n",
       " 37\n",
       " 38\n",
       " 39"
      ]
     },
     "execution_count": 42,
     "metadata": {},
     "output_type": "execute_result"
    }
   ],
   "source": [
    "xd = @DArray [i for i = 0:39]"
   ]
  },
  {
   "cell_type": "code",
   "execution_count": 43,
   "metadata": {},
   "outputs": [
    {
     "data": {
      "text/plain": [
       "4-element Array{Array{Int64,1},1}:\n",
       " [0, 1, 2, 3, 4, 5, 6, 7, 8, 9]          \n",
       " [10, 11, 12, 13, 14, 15, 16, 17, 18, 19]\n",
       " [20, 21, 22, 23, 24, 25, 26, 27, 28, 29]\n",
       " [30, 31, 32, 33, 34, 35, 36, 37, 38, 39]"
      ]
     },
     "execution_count": 43,
     "metadata": {},
     "output_type": "execute_result"
    }
   ],
   "source": [
    "[DistributedArrays.chunk(xd, i) for i = 1:4]"
   ]
  },
  {
   "cell_type": "code",
   "execution_count": 44,
   "metadata": {},
   "outputs": [
    {
     "data": {
      "text/plain": [
       "4-element DistributedArrays.DArray{Int64,1,Array{Int64,1}}:\n",
       "  45\n",
       " 145\n",
       " 245\n",
       " 345"
      ]
     },
     "execution_count": 44,
     "metadata": {},
     "output_type": "execute_result"
    }
   ],
   "source": [
    "yd1 = map_localparts(t -> [sum(t)], xd)"
   ]
  },
  {
   "cell_type": "code",
   "execution_count": 45,
   "metadata": {},
   "outputs": [
    {
     "data": {
      "text/plain": [
       "4-element Array{Int64,1}:\n",
       "   0\n",
       "  45\n",
       " 190\n",
       " 435"
      ]
     },
     "execution_count": 45,
     "metadata": {},
     "output_type": "execute_result"
    }
   ],
   "source": [
    "yd2 = prefixlag!(+, Array(yd1))"
   ]
  },
  {
   "cell_type": "code",
   "execution_count": 46,
   "metadata": {},
   "outputs": [
    {
     "data": {
      "text/plain": [
       "40-element DistributedArrays.DArray{Int64,1,Array{Int64,1}}:\n",
       "   0\n",
       "   1\n",
       "   3\n",
       "   6\n",
       "  10\n",
       "  15\n",
       "  21\n",
       "  28\n",
       "  36\n",
       "  45\n",
       "  55\n",
       "  66\n",
       "  78\n",
       "   ⋮\n",
       " 406\n",
       " 435\n",
       " 465\n",
       " 496\n",
       " 528\n",
       " 561\n",
       " 595\n",
       " 630\n",
       " 666\n",
       " 703\n",
       " 741\n",
       " 780"
      ]
     },
     "execution_count": 46,
     "metadata": {},
     "output_type": "execute_result"
    }
   ],
   "source": [
    "# Notice that we'll have to index into the offset of the prefix\n",
    "# because `map_localpart` interprets each element as an Array\n",
    "yd3 = map_localparts((t,s) -> prefix!(+, t, s[1]), xd, distribute(yd2))\n"
   ]
  },
  {
   "cell_type": "code",
   "execution_count": 20,
   "metadata": {},
   "outputs": [
    {
     "data": {
      "text/plain": [
       "0"
      ]
     },
     "execution_count": 20,
     "metadata": {},
     "output_type": "execute_result"
    }
   ],
   "source": [
    "sum(vcat(x...) - yd3)"
   ]
  },
  {
   "cell_type": "code",
   "execution_count": 21,
   "metadata": {},
   "outputs": [
    {
     "data": {
      "text/html": [
       "5 methods for generic function <b>map_localparts</b>:<ul><li> map_localparts(f::<b>Union{Function, Type}</b>, d::<b>DistributedArrays.DArray</b>) at <a href=\"https://github.com/JuliaParallel/DistributedArrays.jl/tree/9a162dcc031cd8bcd184fdccbc0fbb3ebf82ef49//src/mapreduce.jl#L185\" target=\"_blank\">/Users/alanedelman/.julia/v0.6/DistributedArrays/src/mapreduce.jl:185</a></li> <li> map_localparts(f::<b>Union{Function, Type}</b>, d1::<b>DistributedArrays.DArray</b>, d2::<b>DistributedArrays.DArray</b>) at <a href=\"https://github.com/JuliaParallel/DistributedArrays.jl/tree/9a162dcc031cd8bcd184fdccbc0fbb3ebf82ef49//src/mapreduce.jl#L195\" target=\"_blank\">/Users/alanedelman/.julia/v0.6/DistributedArrays/src/mapreduce.jl:195</a></li> <li> map_localparts(f::<b>Union{Function, Type}</b>, DA::<b>DistributedArrays.DArray</b>, A::<b>Array</b>) at <a href=\"https://github.com/JuliaParallel/DistributedArrays.jl/tree/9a162dcc031cd8bcd184fdccbc0fbb3ebf82ef49//src/mapreduce.jl#L205\" target=\"_blank\">/Users/alanedelman/.julia/v0.6/DistributedArrays/src/mapreduce.jl:205</a></li> <li> map_localparts(f::<b>Union{Function, Type}</b>, A::<b>Array</b>, DA::<b>DistributedArrays.DArray</b>) at <a href=\"https://github.com/JuliaParallel/DistributedArrays.jl/tree/9a162dcc031cd8bcd184fdccbc0fbb3ebf82ef49//src/mapreduce.jl#L218\" target=\"_blank\">/Users/alanedelman/.julia/v0.6/DistributedArrays/src/mapreduce.jl:218</a></li> <li> map_localparts(f::<b>Union{Function, Type}</b>, As::<b>DistributedArrays.DArray...</b>) at <a href=\"https://github.com/JuliaParallel/DistributedArrays.jl/tree/9a162dcc031cd8bcd184fdccbc0fbb3ebf82ef49//src/mapreduce.jl#L238\" target=\"_blank\">/Users/alanedelman/.julia/v0.6/DistributedArrays/src/mapreduce.jl:238</a></li> </ul>"
      ],
      "text/plain": [
       "# 5 methods for generic function \"map_localparts\":\n",
       "map_localparts(f::Union{Function, Type}, d::DistributedArrays.DArray) in DistributedArrays at /Users/alanedelman/.julia/v0.6/DistributedArrays/src/mapreduce.jl:185\n",
       "map_localparts(f::Union{Function, Type}, d1::DistributedArrays.DArray, d2::DistributedArrays.DArray) in DistributedArrays at /Users/alanedelman/.julia/v0.6/DistributedArrays/src/mapreduce.jl:195\n",
       "map_localparts(f::Union{Function, Type}, DA::DistributedArrays.DArray, A::Array) in DistributedArrays at /Users/alanedelman/.julia/v0.6/DistributedArrays/src/mapreduce.jl:205\n",
       "map_localparts(f::Union{Function, Type}, A::Array, DA::DistributedArrays.DArray) in DistributedArrays at /Users/alanedelman/.julia/v0.6/DistributedArrays/src/mapreduce.jl:218\n",
       "map_localparts(f::Union{Function, Type}, As::DistributedArrays.DArray...) in DistributedArrays at /Users/alanedelman/.julia/v0.6/DistributedArrays/src/mapreduce.jl:238"
      ]
     },
     "execution_count": 21,
     "metadata": {},
     "output_type": "execute_result"
    }
   ],
   "source": [
    "methods(map_localparts)"
   ]
  },
  {
   "cell_type": "code",
   "execution_count": 22,
   "metadata": {},
   "outputs": [
    {
     "data": {
      "text/plain": [
       "-0.8257855101654086"
      ]
     },
     "execution_count": 22,
     "metadata": {},
     "output_type": "execute_result"
    }
   ],
   "source": [
    "sin(cos(tan(5)))"
   ]
  },
  {
   "cell_type": "code",
   "execution_count": 23,
   "metadata": {},
   "outputs": [
    {
     "data": {
      "text/plain": [
       "-0.8257855101654086"
      ]
     },
     "execution_count": 23,
     "metadata": {},
     "output_type": "execute_result"
    }
   ],
   "source": [
    "tan(5) |> cos |> sin"
   ]
  },
  {
   "cell_type": "code",
   "execution_count": null,
   "metadata": {
    "collapsed": true
   },
   "outputs": [],
   "source": []
  }
 ],
 "metadata": {
  "anaconda-cloud": {},
  "kernelspec": {
   "display_name": "Julia 0.6.0",
   "language": "julia",
   "name": "julia-0.6"
  },
  "language_info": {
   "file_extension": ".jl",
   "mimetype": "application/julia",
   "name": "julia",
   "version": "0.6.0"
  }
 },
 "nbformat": 4,
 "nbformat_minor": 1
}
