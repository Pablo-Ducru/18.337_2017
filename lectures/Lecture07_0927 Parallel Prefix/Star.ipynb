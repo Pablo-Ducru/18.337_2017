{
 "cells": [
  {
   "cell_type": "code",
   "execution_count": 1,
   "metadata": {},
   "outputs": [
    {
     "name": "stderr",
     "output_type": "stream",
     "text": [
      "\u001b[1m\u001b[34mINFO: Checking out DistributedArrays anj/map_localparts...\n",
      "\u001b[0m\u001b[1m\u001b[34mINFO: Pulling DistributedArrays latest anj/map_localparts...\n",
      "\u001b[0m\u001b[1m\u001b[31mWARNING: CloudGraphs is fixed at 0.0.0- conflicting with requirement for Caesar: [0.0.2,∞)\u001b[0m\n"
     ]
    },
    {
     "ename": "LoadError",
     "evalue": "fixed packages introduce conflicting requirements for KernelDensityEstimate: \n         Caesar requires versions [0.2.4,∞) [none of the available versions can satisfy this requirement]\n       available versions are 0.0.1, 0.0.2, 0.0.3, 0.0.4, 0.1.0, 0.2.0, 0.2.1, 0.2.2 and 0.2.3",
     "output_type": "error",
     "traceback": [
      "fixed packages introduce conflicting requirements for KernelDensityEstimate: \n         Caesar requires versions [0.2.4,∞) [none of the available versions can satisfy this requirement]\n       available versions are 0.0.1, 0.0.2, 0.0.3, 0.0.4, 0.1.0, 0.2.0, 0.2.1, 0.2.2 and 0.2.3",
      "",
      " in check_requirements(::Dict{String,Base.Pkg.Types.VersionSet}, ::Dict{String,Dict{VersionNumber,Base.Pkg.Types.Available}}, ::Dict{String,Base.Pkg.Types.Fixed}) at ./pkg/query.jl:191",
      " in resolve(::Dict{String,Base.Pkg.Types.VersionSet}, ::Dict{String,Dict{VersionNumber,Base.Pkg.Types.Available}}, ::Dict{String,Tuple{VersionNumber,Bool}}, ::Dict{String,Base.Pkg.Types.Fixed}, ::Dict{String,VersionNumber}, ::Set{String}) at ./pkg/entry.jl:492",
      " in resolve(::Dict{String,Base.Pkg.Types.VersionSet}, ::Dict{String,Dict{VersionNumber,Base.Pkg.Types.Available}}, ::Dict{String,Tuple{VersionNumber,Bool}}, ::Dict{String,Base.Pkg.Types.Fixed}) at ./pkg/entry.jl:476",
      " in (::Base.Pkg.Entry.##18#20{String,String,Bool,Bool})(::Base.LibGit2.GitRepo) at ./pkg/entry.jl:237",
      " in transact(::Base.Pkg.Entry.##18#20{String,String,Bool,Bool}, ::Base.LibGit2.GitRepo) at ./libgit2/libgit2.jl:520",
      " in with(::Base.Pkg.Entry.##17#19{String,String,Bool,Bool}, ::Base.LibGit2.GitRepo) at ./libgit2/types.jl:638",
      " in checkout(::String, ::String, ::Bool, ::Bool) at ./pkg/entry.jl:227",
      " in (::Base.Pkg.Dir.##2#3{Array{Any,1},Base.Pkg.Entry.#checkout,Tuple{String,String,Bool,Bool}})() at ./pkg/dir.jl:31",
      " in cd(::Base.Pkg.Dir.##2#3{Array{Any,1},Base.Pkg.Entry.#checkout,Tuple{String,String,Bool,Bool}}, ::String) at ./file.jl:59",
      " in #cd#1(::Array{Any,1}, ::Function, ::Function, ::String, ::Vararg{Any,N}) at ./pkg/dir.jl:31",
      " in checkout(::String, ::String) at ./pkg/pkg.jl:170"
     ]
    }
   ],
   "source": [
    "Pkg.checkout(\"DistributedArrays\",\"anj/map_localparts\")"
   ]
  },
  {
   "cell_type": "code",
   "execution_count": 2,
   "metadata": {},
   "outputs": [
    {
     "name": "stderr",
     "output_type": "stream",
     "text": [
      "\u001b[1m\u001b[34mINFO: Recompiling stale cache file /Users/edelman/.julia/lib/v0.5/DistributedArrays.ji for module DistributedArrays.\n",
      "\u001b[0m"
     ]
    }
   ],
   "source": [
    "nprocs() == 1 && addprocs(4)\n",
    "using DistributedArrays"
   ]
  },
  {
   "cell_type": "code",
   "execution_count": 3,
   "metadata": {},
   "outputs": [],
   "source": [
    "@everywhere function prefix!(op, v, v0 = 0)\n",
    "    v[1] += v0\n",
    "    for i = 2:length(v)\n",
    "        v[i] = op(v[i-1], v[i])\n",
    "    end\n",
    "    return v\n",
    "end\n",
    "\n",
    "@everywhere function prefixlag!(op, v, v0 = 0)\n",
    "    vi = v[1]\n",
    "    v[1] = v0\n",
    "    for i = 2:length(v)\n",
    "        tmp  = op(v[i - 1], vi)\n",
    "        vi   = v[i]\n",
    "        v[i] = tmp\n",
    "    end\n",
    "    v\n",
    "end"
   ]
  },
  {
   "cell_type": "code",
   "execution_count": 4,
   "metadata": {},
   "outputs": [
    {
     "data": {
      "text/plain": [
       "8-element Array{Int64,1}:\n",
       "  0\n",
       "  1\n",
       "  3\n",
       "  6\n",
       " 10\n",
       " 15\n",
       " 21\n",
       " 28"
      ]
     },
     "execution_count": 4,
     "metadata": {},
     "output_type": "execute_result"
    }
   ],
   "source": [
    "prefixlag!(+,collect(1:8))"
   ]
  },
  {
   "cell_type": "code",
   "execution_count": 5,
   "metadata": {},
   "outputs": [
    {
     "data": {
      "text/plain": [
       "10-element Array{Array{Int64,2},1}:\n",
       " [0 1; 1 1]    \n",
       " [1 1; 1 2]    \n",
       " [1 2; 2 3]    \n",
       " [2 3; 3 5]    \n",
       " [3 5; 5 8]    \n",
       " [5 8; 8 13]   \n",
       " [8 13; 13 21] \n",
       " [13 21; 21 34]\n",
       " [21 34; 34 55]\n",
       " [34 55; 55 89]"
      ]
     },
     "execution_count": 5,
     "metadata": {},
     "output_type": "execute_result"
    }
   ],
   "source": [
    "A = prefix!(*, [[0 1; 1 1] for i = 1:10])"
   ]
  },
  {
   "cell_type": "code",
   "execution_count": 6,
   "metadata": {},
   "outputs": [
    {
     "data": {
      "text/plain": [
       "10-element BitArray{1}:\n",
       " false\n",
       " false\n",
       " false\n",
       "  true\n",
       "  true\n",
       " false\n",
       " false\n",
       " false\n",
       " false\n",
       " false"
      ]
     },
     "execution_count": 6,
     "metadata": {},
     "output_type": "execute_result"
    }
   ],
   "source": [
    "prefix!($, bitrand(10))"
   ]
  },
  {
   "cell_type": "code",
   "execution_count": 7,
   "metadata": {},
   "outputs": [
    {
     "data": {
      "text/plain": [
       "(0:9,10:19,20:29,30:39)"
      ]
     },
     "execution_count": 7,
     "metadata": {},
     "output_type": "execute_result"
    }
   ],
   "source": [
    "x1, x2, x3, x4 = 0:9, 10:19, 20:29, 30:39"
   ]
  },
  {
   "cell_type": "code",
   "execution_count": 8,
   "metadata": {},
   "outputs": [
    {
     "data": {
      "text/plain": [
       "4-element Array{Array{Int64,1},1}:\n",
       " [0,1,2,3,4,5,6,7,8,9]          \n",
       " [10,11,12,13,14,15,16,17,18,19]\n",
       " [20,21,22,23,24,25,26,27,28,29]\n",
       " [30,31,32,33,34,35,36,37,38,39]"
      ]
     },
     "execution_count": 8,
     "metadata": {},
     "output_type": "execute_result"
    }
   ],
   "source": [
    "x = Vector{Int}[x1, x2, x3, x4]\n",
    "\n",
    "# Simulating local parts of 0:39 on four processors"
   ]
  },
  {
   "cell_type": "code",
   "execution_count": 9,
   "metadata": {},
   "outputs": [
    {
     "data": {
      "text/plain": [
       "4-element Array{Int64,1}:\n",
       "  45\n",
       " 145\n",
       " 245\n",
       " 345"
      ]
     },
     "execution_count": 9,
     "metadata": {},
     "output_type": "execute_result"
    }
   ],
   "source": [
    "y1 = sum.(x)\n"
   ]
  },
  {
   "cell_type": "code",
   "execution_count": 10,
   "metadata": {},
   "outputs": [
    {
     "data": {
      "text/plain": [
       "4-element Array{Int64,1}:\n",
       "   0\n",
       "  45\n",
       " 190\n",
       " 435"
      ]
     },
     "execution_count": 10,
     "metadata": {},
     "output_type": "execute_result"
    }
   ],
   "source": [
    "y2 = prefixlag!(+, y1)"
   ]
  },
  {
   "cell_type": "code",
   "execution_count": 11,
   "metadata": {},
   "outputs": [
    {
     "data": {
      "text/plain": [
       "4-element Array{Array{Int64,1},1}:\n",
       " [0,1,3,6,10,15,21,28,36,45]              \n",
       " [55,66,78,91,105,120,136,153,171,190]    \n",
       " [210,231,253,276,300,325,351,378,406,435]\n",
       " [465,496,528,561,595,630,666,703,741,780]"
      ]
     },
     "execution_count": 11,
     "metadata": {},
     "output_type": "execute_result"
    }
   ],
   "source": [
    "y3 = map((t,s) -> prefix!(+, t, s), x, y2)"
   ]
  },
  {
   "cell_type": "code",
   "execution_count": 12,
   "metadata": {},
   "outputs": [
    {
     "data": {
      "text/plain": [
       "1×40 Array{Int64,2}:\n",
       " 0  1  3  6  10  15  21  28  36  45  55  …  561  595  630  666  703  741  780"
      ]
     },
     "execution_count": 12,
     "metadata": {},
     "output_type": "execute_result"
    }
   ],
   "source": [
    "cumsum(0:39)'"
   ]
  },
  {
   "cell_type": "markdown",
   "metadata": {},
   "source": [
    "## Distributed version (requires some changes to DArrays)\n",
    "Notice similarity to and differences from the sequential version"
   ]
  },
  {
   "cell_type": "code",
   "execution_count": 13,
   "metadata": {},
   "outputs": [
    {
     "data": {
      "text/plain": [
       "40-element DistributedArrays.DArray{Int64,1,Array{Int64,1}}:\n",
       "  0\n",
       "  1\n",
       "  2\n",
       "  3\n",
       "  4\n",
       "  5\n",
       "  6\n",
       "  7\n",
       "  8\n",
       "  9\n",
       " 10\n",
       " 11\n",
       " 12\n",
       "  ⋮\n",
       " 28\n",
       " 29\n",
       " 30\n",
       " 31\n",
       " 32\n",
       " 33\n",
       " 34\n",
       " 35\n",
       " 36\n",
       " 37\n",
       " 38\n",
       " 39"
      ]
     },
     "execution_count": 13,
     "metadata": {},
     "output_type": "execute_result"
    }
   ],
   "source": [
    "xd = @DArray [i for i = 0:39]"
   ]
  },
  {
   "cell_type": "code",
   "execution_count": 14,
   "metadata": {},
   "outputs": [
    {
     "data": {
      "text/plain": [
       "4-element Array{Array{Int64,1},1}:\n",
       " [0,1,2,3,4,5,6,7,8,9]          \n",
       " [10,11,12,13,14,15,16,17,18,19]\n",
       " [20,21,22,23,24,25,26,27,28,29]\n",
       " [30,31,32,33,34,35,36,37,38,39]"
      ]
     },
     "execution_count": 14,
     "metadata": {},
     "output_type": "execute_result"
    }
   ],
   "source": [
    "[DistributedArrays.chunk(xd, i) for i = 1:4]"
   ]
  },
  {
   "cell_type": "code",
   "execution_count": 16,
   "metadata": {},
   "outputs": [
    {
     "ename": "RemoteException",
     "evalue": "On worker 2:\nBoundsError\n in getindex at ./number.jl:21\n in getlocalindex at /Users/edelman/.julia/v0.5/DistributedArrays/src/core.jl:544\n in #625 at ./multi.jl:1421\n in run_work_thunk at ./multi.jl:1001\n in macro expansion at ./multi.jl:1421 [inlined]\n in #624 at ./event.jl:68",
     "output_type": "error",
     "traceback": [
      "On worker 2:\nBoundsError\n in getindex at ./number.jl:21\n in getlocalindex at /Users/edelman/.julia/v0.5/DistributedArrays/src/core.jl:544\n in #625 at ./multi.jl:1421\n in run_work_thunk at ./multi.jl:1001\n in macro expansion at ./multi.jl:1421 [inlined]\n in #624 at ./event.jl:68",
      "",
      " in #remotecall_fetch#606(::Array{Any,1}, ::Function, ::Function, ::Base.Worker, ::DistributedArrays.DArray{Int64,1,Int64}, ::Vararg{Any,N}) at ./multi.jl:1070",
      " in remotecall_fetch(::Function, ::Base.Worker, ::DistributedArrays.DArray{Int64,1,Int64}, ::Vararg{Any,N}) at ./multi.jl:1062",
      " in #remotecall_fetch#609(::Array{Any,1}, ::Function, ::Function, ::Int64, ::DistributedArrays.DArray{Int64,1,Int64}, ::Vararg{Any,N}) at ./multi.jl:1080",
      " in remotecall_fetch(::Function, ::Int64, ::DistributedArrays.DArray{Int64,1,Int64}, ::Vararg{Any,N}) at ./multi.jl:1080",
      " in getindex_tuple(::DistributedArrays.DArray{Int64,1,Int64}, ::Tuple{Int64,Int64}) at /Users/edelman/.julia/v0.5/DistributedArrays/src/core.jl:550",
      " in getindex(::DistributedArrays.DArray{Int64,1,Int64}, ::Int64, ::Int64) at /Users/edelman/.julia/v0.5/DistributedArrays/src/core.jl:554",
      " in isassigned(::DistributedArrays.DArray{Int64,1,Int64}, ::Int64, ::Int64, ::Vararg{Int64,N}) at ./abstractarray.jl:186",
      " in alignment(::IOContext{Base.AbstractIOBuffer{Array{UInt8,1}}}, ::DistributedArrays.DArray{Int64,1,Int64}, ::Array{Int64,1}, ::Array{Int64,1}, ::Int64, ::Int64, ::Int64) at ./show.jl:1277",
      " in print_matrix(::IOContext{Base.AbstractIOBuffer{Array{UInt8,1}}}, ::DistributedArrays.DArray{Int64,1,Int64}, ::String, ::String, ::String, ::String, ::String, ::String, ::Int64, ::Int64) at ./show.jl:1407",
      " in print_matrix(::IOContext{Base.AbstractIOBuffer{Array{UInt8,1}}}, ::DistributedArrays.DArray{Int64,1,Int64}, ::String, ::String, ::String) at ./show.jl:1379",
      " in #showarray#330(::Bool, ::Function, ::IOContext{Base.AbstractIOBuffer{Array{UInt8,1}}}, ::DistributedArrays.DArray{Int64,1,Int64}, ::Bool) at ./show.jl:1618",
      " in limitstringmime(::MIME{Symbol(\"text/plain\")}, ::DistributedArrays.DArray{Int64,1,Int64}) at /Users/edelman/.julia/v0.5/IJulia/src/inline.jl:25",
      " in display_dict(::DistributedArrays.DArray{Int64,1,Int64}) at /Users/edelman/.julia/v0.5/IJulia/src/execute_request.jl:28",
      " in execute_request(::ZMQ.Socket, ::IJulia.Msg) at /Users/edelman/.julia/v0.5/IJulia/src/execute_request.jl:188",
      " in eventloop(::ZMQ.Socket) at /Users/edelman/.julia/v0.5/IJulia/src/eventloop.jl:8",
      " in (::IJulia.##13#19)() at ./task.jl:360"
     ]
    }
   ],
   "source": [
    "yd1 = DistributedArrays.map_localparts(sum, xd)\n",
    "#yd1 = map_localparts(sum,xd) \n"
   ]
  },
  {
   "cell_type": "code",
   "execution_count": 32,
   "metadata": {},
   "outputs": [
    {
     "data": {
      "text/plain": [
       "4-element Array{Int64,1}:\n",
       "   0\n",
       "  45\n",
       " 190\n",
       " 435"
      ]
     },
     "execution_count": 32,
     "metadata": {},
     "output_type": "execute_result"
    }
   ],
   "source": [
    "yd2 = prefixlag!(+, Array(yd1))"
   ]
  },
  {
   "cell_type": "code",
   "execution_count": 27,
   "metadata": {},
   "outputs": [
    {
     "data": {
      "text/plain": [
       "40-element DistributedArrays.DArray{Int64,1,Array{Int64,1}}:\n",
       "     0\n",
       "     1\n",
       "     4\n",
       "    10\n",
       "    20\n",
       "    35\n",
       "    56\n",
       "    84\n",
       "   120\n",
       "   165\n",
       "   220\n",
       "   286\n",
       "   364\n",
       "   455\n",
       "   560\n",
       "   680\n",
       "   816\n",
       "   969\n",
       "  1140\n",
       "  1330\n",
       "  1540\n",
       "  1771\n",
       "  2024\n",
       "  2300\n",
       "  2600\n",
       "  2925\n",
       "  3276\n",
       "  3654\n",
       "  4060\n",
       "  4495\n",
       "  4960\n",
       "  5456\n",
       "  5984\n",
       "  6545\n",
       "  7140\n",
       "  7770\n",
       "  8436\n",
       "  9139\n",
       "  9880\n",
       " 10660"
      ]
     },
     "execution_count": 27,
     "metadata": {},
     "output_type": "execute_result"
    }
   ],
   "source": [
    "# Notice that we'll have to index into the offset of the prefix\n",
    "# because `map_localpart` interprets each element as an Array\n",
    "yd3 = map_localparts((t,s) -> prefix!(+, t, s[1]), xd, distribute(yd2))\n"
   ]
  },
  {
   "cell_type": "code",
   "execution_count": 23,
   "metadata": {},
   "outputs": [
    {
     "data": {
      "text/plain": [
       "0"
      ]
     },
     "execution_count": 23,
     "metadata": {},
     "output_type": "execute_result"
    }
   ],
   "source": [
    "sum(vcat(x...) - yd3)"
   ]
  },
  {
   "cell_type": "code",
   "execution_count": 17,
   "metadata": {},
   "outputs": [
    {
     "ename": "LoadError",
     "evalue": "UndefVarError: map_localparts not defined",
     "output_type": "error",
     "traceback": [
      "UndefVarError: map_localparts not defined",
      ""
     ]
    }
   ],
   "source": [
    "methods(map_localparts)"
   ]
  },
  {
   "cell_type": "code",
   "execution_count": 45,
   "metadata": {},
   "outputs": [
    {
     "data": {
      "text/plain": [
       "-0.8257855101654086"
      ]
     },
     "execution_count": 45,
     "metadata": {},
     "output_type": "execute_result"
    }
   ],
   "source": [
    "sin(cos(tan(5)))"
   ]
  },
  {
   "cell_type": "code",
   "execution_count": 46,
   "metadata": {},
   "outputs": [
    {
     "data": {
      "text/plain": [
       "-0.8257855101654086"
      ]
     },
     "execution_count": 46,
     "metadata": {},
     "output_type": "execute_result"
    }
   ],
   "source": [
    "tan(5) |> cos |> sin"
   ]
  },
  {
   "cell_type": "code",
   "execution_count": null,
   "metadata": {
    "collapsed": true
   },
   "outputs": [],
   "source": [
    "&2, &1"
   ]
  },
  {
   "cell_type": "code",
   "execution_count": 20,
   "metadata": {},
   "outputs": [
    {
     "data": {
      "text/plain": [
       "false"
      ]
     },
     "execution_count": 20,
     "metadata": {},
     "output_type": "execute_result"
    }
   ],
   "source": [
    "true $ true"
   ]
  },
  {
   "cell_type": "code",
   "execution_count": null,
   "metadata": {
    "collapsed": true
   },
   "outputs": [],
   "source": []
  }
 ],
 "metadata": {
  "anaconda-cloud": {},
  "kernelspec": {
   "display_name": "Julia 0.5.0",
   "language": "julia",
   "name": "julia-0.5"
  },
  "language_info": {
   "file_extension": ".jl",
   "mimetype": "application/julia",
   "name": "julia",
   "version": "0.5.0"
  }
 },
 "nbformat": 4,
 "nbformat_minor": 1
}
