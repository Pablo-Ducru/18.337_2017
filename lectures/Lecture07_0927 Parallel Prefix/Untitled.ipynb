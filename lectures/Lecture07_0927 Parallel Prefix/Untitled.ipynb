{
 "cells": [
  {
   "cell_type": "code",
   "execution_count": 1,
   "metadata": {},
   "outputs": [
    {
     "data": {
      "text/plain": [
       "2"
      ]
     },
     "execution_count": 1,
     "metadata": {},
     "output_type": "execute_result"
    }
   ],
   "source": [
    "1+1"
   ]
  },
  {
   "cell_type": "code",
   "execution_count": 2,
   "metadata": {},
   "outputs": [
    {
     "data": {
      "text/plain": [
       "5×5 Array{Float64,2}:\n",
       " 0.50309   0.0245936  0.327275  0.971414  0.63355  \n",
       " 0.511434  0.933262   0.225118  0.713561  0.451534 \n",
       " 0.715873  0.555001   0.807209  0.326663  0.503483 \n",
       " 0.236581  0.252365   0.55502   0.589134  0.0618024\n",
       " 0.919712  0.477148   0.541166  0.504031  0.945461 "
      ]
     },
     "execution_count": 2,
     "metadata": {},
     "output_type": "execute_result"
    }
   ],
   "source": [
    "a = rand(5,5)\n"
   ]
  },
  {
   "cell_type": "code",
   "execution_count": 3,
   "metadata": {},
   "outputs": [
    {
     "data": {
      "text/plain": [
       "5×5 Array{Float64,2}:\n",
       " -199.927   -42.9266   -313.88     297.147    302.197 \n",
       "   33.554     8.45227    53.9548   -51.0651   -51.9154\n",
       "   69.2849   14.1303    110.165   -102.488   -105.142 \n",
       "  -14.6451   -2.94372   -24.798     23.583     22.8835\n",
       "  145.699    30.9733    228.265   -217.194   -218.727 "
      ]
     },
     "execution_count": 3,
     "metadata": {},
     "output_type": "execute_result"
    }
   ],
   "source": [
    "α"
   ]
  },
  {
   "cell_type": "code",
   "execution_count": 4,
   "metadata": {},
   "outputs": [
    {
     "data": {
      "text/plain": [
       "5×5 Array{Float64,2}:\n",
       " 1.31247   0.764412  1.31637   1.50479   1.15365 \n",
       " 1.47985   1.40402   1.19959   1.88426   1.32977 \n",
       " 1.7622    1.30624   1.46459   1.80134   1.60677 \n",
       " 0.841631  0.727543  0.942682  0.969429  0.638122\n",
       " 2.08293   1.3466    1.63665   2.18416   1.99565 "
      ]
     },
     "execution_count": 4,
     "metadata": {},
     "output_type": "execute_result"
    }
   ],
   "source": [
    "a*a"
   ]
  },
  {
   "cell_type": "code",
   "execution_count": 5,
   "metadata": {},
   "outputs": [
    {
     "data": {
      "text/plain": [
       "5×5 Array{Float64,2}:\n",
       " 1.31247   0.764412  1.31637   1.50479   1.15365 \n",
       " 1.47985   1.40402   1.19959   1.88426   1.32977 \n",
       " 1.7622    1.30624   1.46459   1.80134   1.60677 \n",
       " 0.841631  0.727543  0.942682  0.969429  0.638122\n",
       " 2.08293   1.3466    1.63665   2.18416   1.99565 "
      ]
     },
     "execution_count": 5,
     "metadata": {},
     "output_type": "execute_result"
    }
   ],
   "source": [
    "a^2"
   ]
  },
  {
   "cell_type": "code",
   "execution_count": null,
   "metadata": {
    "collapsed": true
   },
   "outputs": [],
   "source": []
  }
 ],
 "metadata": {
  "kernelspec": {
   "display_name": "Julia 0.6.0",
   "language": "julia",
   "name": "julia-0.6"
  },
  "language_info": {
   "file_extension": ".jl",
   "mimetype": "application/julia",
   "name": "julia",
   "version": "0.6.0"
  }
 },
 "nbformat": 4,
 "nbformat_minor": 2
}
