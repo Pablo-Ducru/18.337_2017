{
 "cells": [
  {
   "cell_type": "code",
   "execution_count": 2,
   "metadata": {},
   "outputs": [
    {
     "data": {
      "text/plain": [
       "Plots.GRBackend()"
      ]
     },
     "execution_count": 2,
     "metadata": {},
     "output_type": "execute_result"
    }
   ],
   "source": [
    "using Plots\n",
    "gr()"
   ]
  },
  {
   "cell_type": "code",
   "execution_count": null,
   "metadata": {
    "collapsed": true
   },
   "outputs": [],
   "source": [
    "Plots.gr()  #only julia and local\n",
    "Plots.plotly()    # interactivity\n",
    "Plots.pyplot()  # yehh not bad\n",
    "\n",
    "\n"
   ]
  },
  {
   "cell_type": "markdown",
   "metadata": {},
   "source": [
    "## A. Data Table choices"
   ]
  },
  {
   "cell_type": "markdown",
   "metadata": {},
   "source": [
    "Machine learning is all about finding patterns in data, so it is very reasonble to start with data."
   ]
  },
  {
   "cell_type": "code",
   "execution_count": 4,
   "metadata": {},
   "outputs": [
    {
     "data": {
      "text/html": [
       "<?xml version=\"1.0\" encoding=\"utf-8\"?>\n",
       "<svg xmlns=\"http://www.w3.org/2000/svg\" xmlns:xlink=\"http://www.w3.org/1999/xlink\" width=\"600\" height=\"400\" viewBox=\"0 0 600 400\">\n",
       "<defs>\n",
       "  <clipPath id=\"clip00\">\n",
       "    <rect x=\"0\" y=\"0\" width=\"600\" height=\"400\"/>\n",
       "  </clipPath>\n",
       "</defs>\n",
       "<polygon clip-path=\"url(#clip00)\" points=\"\n",
       "0,400 600,400 600,0 0,0 \n",
       "  \" fill=\"#ffffff\" fill-opacity=\"1\"/>\n",
       "<defs>\n",
       "  <clipPath id=\"clip01\">\n",
       "    <rect x=\"120\" y=\"0\" width=\"421\" height=\"400\"/>\n",
       "  </clipPath>\n",
       "</defs>\n",
       "<polygon clip-path=\"url(#clip00)\" points=\"\n",
       "44.6753,360.065 580.315,360.065 580.315,11.811 44.6753,11.811 \n",
       "  \" fill=\"#ffffff\" fill-opacity=\"1\"/>\n",
       "<defs>\n",
       "  <clipPath id=\"clip02\">\n",
       "    <rect x=\"44\" y=\"11\" width=\"537\" height=\"349\"/>\n",
       "  </clipPath>\n",
       "</defs>\n",
       "<polyline clip-path=\"url(#clip02)\" style=\"stroke:#000000; stroke-width:0.5; stroke-opacity:0.1; fill:none\" points=\"\n",
       "  44.6753,354.842 44.6753,17.0348 \n",
       "  \"/>\n",
       "<polyline clip-path=\"url(#clip02)\" style=\"stroke:#000000; stroke-width:0.5; stroke-opacity:0.1; fill:none\" points=\"\n",
       "  151.803,354.842 151.803,17.0348 \n",
       "  \"/>\n",
       "<polyline clip-path=\"url(#clip02)\" style=\"stroke:#000000; stroke-width:0.5; stroke-opacity:0.1; fill:none\" points=\"\n",
       "  258.931,354.842 258.931,17.0348 \n",
       "  \"/>\n",
       "<polyline clip-path=\"url(#clip02)\" style=\"stroke:#000000; stroke-width:0.5; stroke-opacity:0.1; fill:none\" points=\"\n",
       "  366.059,354.842 366.059,17.0348 \n",
       "  \"/>\n",
       "<polyline clip-path=\"url(#clip02)\" style=\"stroke:#000000; stroke-width:0.5; stroke-opacity:0.1; fill:none\" points=\"\n",
       "  473.187,354.842 473.187,17.0348 \n",
       "  \"/>\n",
       "<polyline clip-path=\"url(#clip02)\" style=\"stroke:#000000; stroke-width:0.5; stroke-opacity:0.1; fill:none\" points=\"\n",
       "  580.315,354.842 580.315,17.0348 \n",
       "  \"/>\n",
       "<polyline clip-path=\"url(#clip02)\" style=\"stroke:#000000; stroke-width:0.5; stroke-opacity:0.1; fill:none\" points=\"\n",
       "  52.7099,360.065 572.28,360.065 \n",
       "  \"/>\n",
       "<polyline clip-path=\"url(#clip02)\" style=\"stroke:#000000; stroke-width:0.5; stroke-opacity:0.1; fill:none\" points=\"\n",
       "  52.7099,290.415 572.28,290.415 \n",
       "  \"/>\n",
       "<polyline clip-path=\"url(#clip02)\" style=\"stroke:#000000; stroke-width:0.5; stroke-opacity:0.1; fill:none\" points=\"\n",
       "  52.7099,220.764 572.28,220.764 \n",
       "  \"/>\n",
       "<polyline clip-path=\"url(#clip02)\" style=\"stroke:#000000; stroke-width:0.5; stroke-opacity:0.1; fill:none\" points=\"\n",
       "  52.7099,151.113 572.28,151.113 \n",
       "  \"/>\n",
       "<polyline clip-path=\"url(#clip02)\" style=\"stroke:#000000; stroke-width:0.5; stroke-opacity:0.1; fill:none\" points=\"\n",
       "  52.7099,81.4619 572.28,81.4619 \n",
       "  \"/>\n",
       "<polyline clip-path=\"url(#clip02)\" style=\"stroke:#000000; stroke-width:0.5; stroke-opacity:0.1; fill:none\" points=\"\n",
       "  52.7099,11.811 572.28,11.811 \n",
       "  \"/>\n",
       "<polyline clip-path=\"url(#clip00)\" style=\"stroke:#000000; stroke-width:1; stroke-opacity:1; fill:none\" points=\"\n",
       "  44.6753,360.065 580.315,360.065 \n",
       "  \"/>\n",
       "<polyline clip-path=\"url(#clip00)\" style=\"stroke:#000000; stroke-width:1; stroke-opacity:1; fill:none\" points=\"\n",
       "  44.6753,360.065 44.6753,354.842 \n",
       "  \"/>\n",
       "<polyline clip-path=\"url(#clip00)\" style=\"stroke:#000000; stroke-width:1; stroke-opacity:1; fill:none\" points=\"\n",
       "  151.803,360.065 151.803,354.842 \n",
       "  \"/>\n",
       "<polyline clip-path=\"url(#clip00)\" style=\"stroke:#000000; stroke-width:1; stroke-opacity:1; fill:none\" points=\"\n",
       "  258.931,360.065 258.931,354.842 \n",
       "  \"/>\n",
       "<polyline clip-path=\"url(#clip00)\" style=\"stroke:#000000; stroke-width:1; stroke-opacity:1; fill:none\" points=\"\n",
       "  366.059,360.065 366.059,354.842 \n",
       "  \"/>\n",
       "<polyline clip-path=\"url(#clip00)\" style=\"stroke:#000000; stroke-width:1; stroke-opacity:1; fill:none\" points=\"\n",
       "  473.187,360.065 473.187,354.842 \n",
       "  \"/>\n",
       "<polyline clip-path=\"url(#clip00)\" style=\"stroke:#000000; stroke-width:1; stroke-opacity:1; fill:none\" points=\"\n",
       "  580.315,360.065 580.315,354.842 \n",
       "  \"/>\n",
       "<polyline clip-path=\"url(#clip00)\" style=\"stroke:#000000; stroke-width:1; stroke-opacity:1; fill:none\" points=\"\n",
       "  44.6753,360.065 44.6753,11.811 \n",
       "  \"/>\n",
       "<polyline clip-path=\"url(#clip00)\" style=\"stroke:#000000; stroke-width:1; stroke-opacity:1; fill:none\" points=\"\n",
       "  44.6753,360.065 52.7099,360.065 \n",
       "  \"/>\n",
       "<polyline clip-path=\"url(#clip00)\" style=\"stroke:#000000; stroke-width:1; stroke-opacity:1; fill:none\" points=\"\n",
       "  44.6753,290.415 52.7099,290.415 \n",
       "  \"/>\n",
       "<polyline clip-path=\"url(#clip00)\" style=\"stroke:#000000; stroke-width:1; stroke-opacity:1; fill:none\" points=\"\n",
       "  44.6753,220.764 52.7099,220.764 \n",
       "  \"/>\n",
       "<polyline clip-path=\"url(#clip00)\" style=\"stroke:#000000; stroke-width:1; stroke-opacity:1; fill:none\" points=\"\n",
       "  44.6753,151.113 52.7099,151.113 \n",
       "  \"/>\n",
       "<polyline clip-path=\"url(#clip00)\" style=\"stroke:#000000; stroke-width:1; stroke-opacity:1; fill:none\" points=\"\n",
       "  44.6753,81.4619 52.7099,81.4619 \n",
       "  \"/>\n",
       "<polyline clip-path=\"url(#clip00)\" style=\"stroke:#000000; stroke-width:1; stroke-opacity:1; fill:none\" points=\"\n",
       "  44.6753,11.811 52.7099,11.811 \n",
       "  \"/>\n",
       "<g clip-path=\"url(#clip00)\">\n",
       "<text style=\"fill:#000000; fill-opacity:1; font-family:Arial,Helvetica Neue,Helvetica,sans-serif; font-size:12; text-anchor:middle;\" transform=\"rotate(0, 44.6753, 373.865)\" x=\"44.6753\" y=\"373.865\">0</text>\n",
       "</g>\n",
       "<g clip-path=\"url(#clip00)\">\n",
       "<text style=\"fill:#000000; fill-opacity:1; font-family:Arial,Helvetica Neue,Helvetica,sans-serif; font-size:12; text-anchor:middle;\" transform=\"rotate(0, 151.803, 373.865)\" x=\"151.803\" y=\"373.865\">2</text>\n",
       "</g>\n",
       "<g clip-path=\"url(#clip00)\">\n",
       "<text style=\"fill:#000000; fill-opacity:1; font-family:Arial,Helvetica Neue,Helvetica,sans-serif; font-size:12; text-anchor:middle;\" transform=\"rotate(0, 258.931, 373.865)\" x=\"258.931\" y=\"373.865\">4</text>\n",
       "</g>\n",
       "<g clip-path=\"url(#clip00)\">\n",
       "<text style=\"fill:#000000; fill-opacity:1; font-family:Arial,Helvetica Neue,Helvetica,sans-serif; font-size:12; text-anchor:middle;\" transform=\"rotate(0, 366.059, 373.865)\" x=\"366.059\" y=\"373.865\">6</text>\n",
       "</g>\n",
       "<g clip-path=\"url(#clip00)\">\n",
       "<text style=\"fill:#000000; fill-opacity:1; font-family:Arial,Helvetica Neue,Helvetica,sans-serif; font-size:12; text-anchor:middle;\" transform=\"rotate(0, 473.187, 373.865)\" x=\"473.187\" y=\"373.865\">8</text>\n",
       "</g>\n",
       "<g clip-path=\"url(#clip00)\">\n",
       "<text style=\"fill:#000000; fill-opacity:1; font-family:Arial,Helvetica Neue,Helvetica,sans-serif; font-size:12; text-anchor:middle;\" transform=\"rotate(0, 580.315, 373.865)\" x=\"580.315\" y=\"373.865\">10</text>\n",
       "</g>\n",
       "<g clip-path=\"url(#clip00)\">\n",
       "<text style=\"fill:#000000; fill-opacity:1; font-family:Arial,Helvetica Neue,Helvetica,sans-serif; font-size:12; text-anchor:end;\" transform=\"rotate(0, 38.6753, 364.565)\" x=\"38.6753\" y=\"364.565\">0</text>\n",
       "</g>\n",
       "<g clip-path=\"url(#clip00)\">\n",
       "<text style=\"fill:#000000; fill-opacity:1; font-family:Arial,Helvetica Neue,Helvetica,sans-serif; font-size:12; text-anchor:end;\" transform=\"rotate(0, 38.6753, 294.915)\" x=\"38.6753\" y=\"294.915\">10</text>\n",
       "</g>\n",
       "<g clip-path=\"url(#clip00)\">\n",
       "<text style=\"fill:#000000; fill-opacity:1; font-family:Arial,Helvetica Neue,Helvetica,sans-serif; font-size:12; text-anchor:end;\" transform=\"rotate(0, 38.6753, 225.264)\" x=\"38.6753\" y=\"225.264\">20</text>\n",
       "</g>\n",
       "<g clip-path=\"url(#clip00)\">\n",
       "<text style=\"fill:#000000; fill-opacity:1; font-family:Arial,Helvetica Neue,Helvetica,sans-serif; font-size:12; text-anchor:end;\" transform=\"rotate(0, 38.6753, 155.613)\" x=\"38.6753\" y=\"155.613\">30</text>\n",
       "</g>\n",
       "<g clip-path=\"url(#clip00)\">\n",
       "<text style=\"fill:#000000; fill-opacity:1; font-family:Arial,Helvetica Neue,Helvetica,sans-serif; font-size:12; text-anchor:end;\" transform=\"rotate(0, 38.6753, 85.9619)\" x=\"38.6753\" y=\"85.9619\">40</text>\n",
       "</g>\n",
       "<g clip-path=\"url(#clip00)\">\n",
       "<text style=\"fill:#000000; fill-opacity:1; font-family:Arial,Helvetica Neue,Helvetica,sans-serif; font-size:12; text-anchor:end;\" transform=\"rotate(0, 38.6753, 16.311)\" x=\"38.6753\" y=\"16.311\">50</text>\n",
       "</g>\n",
       "<g clip-path=\"url(#clip00)\">\n",
       "<text style=\"fill:#000000; fill-opacity:1; font-family:Arial,Helvetica Neue,Helvetica,sans-serif; font-size:16; text-anchor:middle;\" transform=\"rotate(0, 312.495, 397.6)\" x=\"312.495\" y=\"397.6\">X</text>\n",
       "</g>\n",
       "<g clip-path=\"url(#clip00)\">\n",
       "<text style=\"fill:#000000; fill-opacity:1; font-family:Arial,Helvetica Neue,Helvetica,sans-serif; font-size:16; text-anchor:middle;\" transform=\"rotate(-90, 14.4, 185.938)\" x=\"14.4\" y=\"185.938\">Y</text>\n",
       "</g>\n",
       "<polyline clip-path=\"url(#clip02)\" style=\"stroke:#008000; stroke-width:7; stroke-opacity:1; fill:none\" points=\"\n",
       "  151.803,289.718 392.841,221.46 419.623,150.416 151.803,79.3724 \n",
       "  \"/>\n",
       "<circle clip-path=\"url(#clip02)\" style=\"fill:#000000; stroke:none; fill-opacity:0.8\" cx=\"151.803\" cy=\"289.718\" r=\"9\"/>\n",
       "<circle clip-path=\"url(#clip02)\" style=\"fill:#ff0000; stroke:none; fill-opacity:0.8\" cx=\"151.803\" cy=\"289.718\" r=\"9\"/>\n",
       "<circle clip-path=\"url(#clip02)\" style=\"fill:#000000; stroke:none; fill-opacity:0.8\" cx=\"392.841\" cy=\"221.46\" r=\"9\"/>\n",
       "<circle clip-path=\"url(#clip02)\" style=\"fill:#ff0000; stroke:none; fill-opacity:0.8\" cx=\"392.841\" cy=\"221.46\" r=\"9\"/>\n",
       "<circle clip-path=\"url(#clip02)\" style=\"fill:#000000; stroke:none; fill-opacity:0.8\" cx=\"419.623\" cy=\"150.416\" r=\"9\"/>\n",
       "<circle clip-path=\"url(#clip02)\" style=\"fill:#ff0000; stroke:none; fill-opacity:0.8\" cx=\"419.623\" cy=\"150.416\" r=\"9\"/>\n",
       "<circle clip-path=\"url(#clip02)\" style=\"fill:#000000; stroke:none; fill-opacity:0.8\" cx=\"151.803\" cy=\"79.3724\" r=\"9\"/>\n",
       "<circle clip-path=\"url(#clip02)\" style=\"fill:#ff0000; stroke:none; fill-opacity:0.8\" cx=\"151.803\" cy=\"79.3724\" r=\"9\"/>\n",
       "<polyline clip-path=\"url(#clip02)\" style=\"stroke:#0000ff; stroke-width:7; stroke-opacity:1; fill:none\" points=\"\n",
       "  205.367,289.718 232.149,221.46 258.931,150.416 366.059,79.3724 \n",
       "  \"/>\n",
       "<circle clip-path=\"url(#clip02)\" style=\"fill:#000000; stroke:none; fill-opacity:0.8\" cx=\"205.367\" cy=\"289.718\" r=\"9\"/>\n",
       "<circle clip-path=\"url(#clip02)\" style=\"fill:#ff0000; stroke:none; fill-opacity:0.8\" cx=\"205.367\" cy=\"289.718\" r=\"9\"/>\n",
       "<circle clip-path=\"url(#clip02)\" style=\"fill:#000000; stroke:none; fill-opacity:0.8\" cx=\"232.149\" cy=\"221.46\" r=\"9\"/>\n",
       "<circle clip-path=\"url(#clip02)\" style=\"fill:#ff0000; stroke:none; fill-opacity:0.8\" cx=\"232.149\" cy=\"221.46\" r=\"9\"/>\n",
       "<circle clip-path=\"url(#clip02)\" style=\"fill:#000000; stroke:none; fill-opacity:0.8\" cx=\"258.931\" cy=\"150.416\" r=\"9\"/>\n",
       "<circle clip-path=\"url(#clip02)\" style=\"fill:#ff0000; stroke:none; fill-opacity:0.8\" cx=\"258.931\" cy=\"150.416\" r=\"9\"/>\n",
       "<circle clip-path=\"url(#clip02)\" style=\"fill:#000000; stroke:none; fill-opacity:0.8\" cx=\"366.059\" cy=\"79.3724\" r=\"9\"/>\n",
       "<circle clip-path=\"url(#clip02)\" style=\"fill:#ff0000; stroke:none; fill-opacity:0.8\" cx=\"366.059\" cy=\"79.3724\" r=\"9\"/>\n",
       "<polygon clip-path=\"url(#clip00)\" points=\"\n",
       "62.6753,78.051 171.434,78.051 171.434,32.691 62.6753,32.691 \n",
       "  \" fill=\"#ffffff\" fill-opacity=\"1\"/>\n",
       "<polyline clip-path=\"url(#clip00)\" style=\"stroke:#000000; stroke-width:1; stroke-opacity:1; fill:none\" points=\"\n",
       "  62.6753,78.051 171.434,78.051 171.434,32.691 62.6753,32.691 62.6753,78.051 \n",
       "  \"/>\n",
       "<polyline clip-path=\"url(#clip00)\" style=\"stroke:#008000; stroke-width:7; stroke-opacity:1; fill:none\" points=\"\n",
       "  68.6753,47.811 104.675,47.811 \n",
       "  \"/>\n",
       "<circle clip-path=\"url(#clip00)\" style=\"fill:#000000; stroke:none; fill-opacity:0.8\" cx=\"89.6753\" cy=\"47.811\" r=\"6\"/>\n",
       "<circle clip-path=\"url(#clip00)\" style=\"fill:#ff0000; stroke:none; fill-opacity:0.8\" cx=\"89.6753\" cy=\"47.811\" r=\"5\"/>\n",
       "<g clip-path=\"url(#clip00)\">\n",
       "<text style=\"fill:#000000; fill-opacity:1; font-family:Arial,Helvetica Neue,Helvetica,sans-serif; font-size:12; text-anchor:start;\" transform=\"rotate(0, 110.675, 52.311)\" x=\"110.675\" y=\"52.311\">X1 and Y</text>\n",
       "</g>\n",
       "<polyline clip-path=\"url(#clip00)\" style=\"stroke:#0000ff; stroke-width:7; stroke-opacity:1; fill:none\" points=\"\n",
       "  68.6753,62.931 104.675,62.931 \n",
       "  \"/>\n",
       "<circle clip-path=\"url(#clip00)\" style=\"fill:#000000; stroke:none; fill-opacity:0.8\" cx=\"89.6753\" cy=\"62.931\" r=\"6\"/>\n",
       "<circle clip-path=\"url(#clip00)\" style=\"fill:#ff0000; stroke:none; fill-opacity:0.8\" cx=\"89.6753\" cy=\"62.931\" r=\"5\"/>\n",
       "<g clip-path=\"url(#clip00)\">\n",
       "<text style=\"fill:#000000; fill-opacity:1; font-family:Arial,Helvetica Neue,Helvetica,sans-serif; font-size:12; text-anchor:start;\" transform=\"rotate(0, 110.675, 67.431)\" x=\"110.675\" y=\"67.431\">X2 and Y</text>\n",
       "</g>\n",
       "</svg>\n"
      ]
     },
     "execution_count": 4,
     "metadata": {},
     "output_type": "execute_result"
    }
   ],
   "source": [
    "# Some Data (try your own)\n",
    "x1 = [2,6.5,7,2]\n",
    "x2 = [3,3.5,4,6]\n",
    "y  = [10.1, 19.9, 30.1, 40.3]\n",
    "pets = [\"Cat\",\"Dog\",\"Bird\",\"Hamster\"]\n",
    "plot(x1,y,\n",
    "    label=\"X1 and Y\", line=(7,:green), marker=(10,0.8,:red), xlims=(0,10), ylims=(0,50),\n",
    "    xlabel=\"X\",ylabel=\"Y\")\n",
    "plot!(x2,y,\n",
    "    label=\"X2 and Y\", line=(7,:blue), marker=(10,0.8,:red))\n",
    "plot!(legend=:topleft)"
   ]
  },
  {
   "cell_type": "code",
   "execution_count": 5,
   "metadata": {},
   "outputs": [
    {
     "data": {
      "text/html": [
       "<?xml version=\"1.0\" encoding=\"utf-8\"?>\n",
       "<svg xmlns=\"http://www.w3.org/2000/svg\" xmlns:xlink=\"http://www.w3.org/1999/xlink\" width=\"600\" height=\"400\" viewBox=\"0 0 600 400\">\n",
       "<defs>\n",
       "  <clipPath id=\"clip00\">\n",
       "    <rect x=\"0\" y=\"0\" width=\"600\" height=\"400\"/>\n",
       "  </clipPath>\n",
       "</defs>\n",
       "<polygon clip-path=\"url(#clip00)\" points=\"\n",
       "0,400 600,400 600,0 0,0 \n",
       "  \" fill=\"#ffffff\" fill-opacity=\"1\"/>\n",
       "<defs>\n",
       "  <clipPath id=\"clip01\">\n",
       "    <rect x=\"120\" y=\"0\" width=\"421\" height=\"400\"/>\n",
       "  </clipPath>\n",
       "</defs>\n",
       "<polygon clip-path=\"url(#clip00)\" points=\"\n",
       "124.267,375.813 488.27,375.813 488.27,11.811 124.267,11.811 \n",
       "  \" fill=\"#ffffff\" fill-opacity=\"1\"/>\n",
       "<defs>\n",
       "  <clipPath id=\"clip02\">\n",
       "    <rect x=\"124\" y=\"11\" width=\"305\" height=\"365\"/>\n",
       "  </clipPath>\n",
       "</defs>\n",
       "<polyline clip-path=\"url(#clip00)\" style=\"stroke:#cccccc; stroke-width:1; stroke-opacity:1; fill:none\" points=\"\n",
       "  128.946,277.631 267.648,134.123 \n",
       "  \"/>\n",
       "<polyline clip-path=\"url(#clip00)\" style=\"stroke:#cccccc; stroke-width:1; stroke-opacity:1; fill:none\" points=\"\n",
       "  267.648,134.123 267.648,14.6707 \n",
       "  \"/>\n",
       "<polyline clip-path=\"url(#clip00)\" style=\"stroke:#ededed; stroke-width:1; stroke-opacity:1; fill:none\" points=\"\n",
       "  151.223,291.248 289.926,147.74 \n",
       "  \"/>\n",
       "<polyline clip-path=\"url(#clip00)\" style=\"stroke:#ededed; stroke-width:1; stroke-opacity:1; fill:none\" points=\"\n",
       "  289.926,147.74 289.926,28.2883 \n",
       "  \"/>\n",
       "<polyline clip-path=\"url(#clip00)\" style=\"stroke:#cccccc; stroke-width:1; stroke-opacity:1; fill:none\" points=\"\n",
       "  173.501,304.866 312.204,161.358 \n",
       "  \"/>\n",
       "<polyline clip-path=\"url(#clip00)\" style=\"stroke:#cccccc; stroke-width:1; stroke-opacity:1; fill:none\" points=\"\n",
       "  312.204,161.358 312.204,41.9058 \n",
       "  \"/>\n",
       "<polyline clip-path=\"url(#clip00)\" style=\"stroke:#ededed; stroke-width:1; stroke-opacity:1; fill:none\" points=\"\n",
       "  195.778,318.483 334.481,174.975 \n",
       "  \"/>\n",
       "<polyline clip-path=\"url(#clip00)\" style=\"stroke:#ededed; stroke-width:1; stroke-opacity:1; fill:none\" points=\"\n",
       "  334.481,174.975 334.481,55.5234 \n",
       "  \"/>\n",
       "<polyline clip-path=\"url(#clip00)\" style=\"stroke:#cccccc; stroke-width:1; stroke-opacity:1; fill:none\" points=\"\n",
       "  218.056,332.101 356.759,188.593 \n",
       "  \"/>\n",
       "<polyline clip-path=\"url(#clip00)\" style=\"stroke:#cccccc; stroke-width:1; stroke-opacity:1; fill:none\" points=\"\n",
       "  356.759,188.593 356.759,69.141 \n",
       "  \"/>\n",
       "<polyline clip-path=\"url(#clip00)\" style=\"stroke:#ededed; stroke-width:1; stroke-opacity:1; fill:none\" points=\"\n",
       "  240.333,345.719 379.036,202.211 \n",
       "  \"/>\n",
       "<polyline clip-path=\"url(#clip00)\" style=\"stroke:#ededed; stroke-width:1; stroke-opacity:1; fill:none\" points=\"\n",
       "  379.036,202.211 379.036,82.7586 \n",
       "  \"/>\n",
       "<polyline clip-path=\"url(#clip00)\" style=\"stroke:#cccccc; stroke-width:1; stroke-opacity:1; fill:none\" points=\"\n",
       "  262.611,359.336 401.314,215.828 \n",
       "  \"/>\n",
       "<polyline clip-path=\"url(#clip00)\" style=\"stroke:#cccccc; stroke-width:1; stroke-opacity:1; fill:none\" points=\"\n",
       "  401.314,215.828 401.314,96.3761 \n",
       "  \"/>\n",
       "<polyline clip-path=\"url(#clip00)\" style=\"stroke:#ededed; stroke-width:1; stroke-opacity:1; fill:none\" points=\"\n",
       "  284.889,372.954 423.591,229.446 \n",
       "  \"/>\n",
       "<polyline clip-path=\"url(#clip00)\" style=\"stroke:#ededed; stroke-width:1; stroke-opacity:1; fill:none\" points=\"\n",
       "  423.591,229.446 423.591,109.994 \n",
       "  \"/>\n",
       "<polyline clip-path=\"url(#clip00)\" style=\"stroke:#cccccc; stroke-width:1; stroke-opacity:1; fill:none\" points=\"\n",
       "  128.193,270.71 293.492,371.752 \n",
       "  \"/>\n",
       "<polyline clip-path=\"url(#clip00)\" style=\"stroke:#cccccc; stroke-width:1; stroke-opacity:1; fill:none\" points=\"\n",
       "  128.193,270.71 128.193,151.258 \n",
       "  \"/>\n",
       "<polyline clip-path=\"url(#clip00)\" style=\"stroke:#ededed; stroke-width:1; stroke-opacity:1; fill:none\" points=\"\n",
       "  150.001,248.145 315.301,349.188 \n",
       "  \"/>\n",
       "<polyline clip-path=\"url(#clip00)\" style=\"stroke:#ededed; stroke-width:1; stroke-opacity:1; fill:none\" points=\"\n",
       "  150.001,248.145 150.001,128.693 \n",
       "  \"/>\n",
       "<polyline clip-path=\"url(#clip00)\" style=\"stroke:#cccccc; stroke-width:1; stroke-opacity:1; fill:none\" points=\"\n",
       "  171.81,225.581 337.11,326.624 \n",
       "  \"/>\n",
       "<polyline clip-path=\"url(#clip00)\" style=\"stroke:#cccccc; stroke-width:1; stroke-opacity:1; fill:none\" points=\"\n",
       "  171.81,225.581 171.81,106.129 \n",
       "  \"/>\n",
       "<polyline clip-path=\"url(#clip00)\" style=\"stroke:#ededed; stroke-width:1; stroke-opacity:1; fill:none\" points=\"\n",
       "  193.619,203.017 358.918,304.059 \n",
       "  \"/>\n",
       "<polyline clip-path=\"url(#clip00)\" style=\"stroke:#ededed; stroke-width:1; stroke-opacity:1; fill:none\" points=\"\n",
       "  193.619,203.017 193.619,83.5651 \n",
       "  \"/>\n",
       "<polyline clip-path=\"url(#clip00)\" style=\"stroke:#cccccc; stroke-width:1; stroke-opacity:1; fill:none\" points=\"\n",
       "  215.427,180.453 380.727,281.495 \n",
       "  \"/>\n",
       "<polyline clip-path=\"url(#clip00)\" style=\"stroke:#cccccc; stroke-width:1; stroke-opacity:1; fill:none\" points=\"\n",
       "  215.427,180.453 215.427,61.0009 \n",
       "  \"/>\n",
       "<polyline clip-path=\"url(#clip00)\" style=\"stroke:#ededed; stroke-width:1; stroke-opacity:1; fill:none\" points=\"\n",
       "  237.236,157.889 402.536,258.931 \n",
       "  \"/>\n",
       "<polyline clip-path=\"url(#clip00)\" style=\"stroke:#ededed; stroke-width:1; stroke-opacity:1; fill:none\" points=\"\n",
       "  237.236,157.889 237.236,38.4367 \n",
       "  \"/>\n",
       "<polyline clip-path=\"url(#clip00)\" style=\"stroke:#cccccc; stroke-width:1; stroke-opacity:1; fill:none\" points=\"\n",
       "  259.045,135.325 424.344,236.367 \n",
       "  \"/>\n",
       "<polyline clip-path=\"url(#clip00)\" style=\"stroke:#cccccc; stroke-width:1; stroke-opacity:1; fill:none\" points=\"\n",
       "  259.045,135.325 259.045,15.8726 \n",
       "  \"/>\n",
       "<polyline clip-path=\"url(#clip00)\" style=\"stroke:#ededed; stroke-width:1; stroke-opacity:1; fill:none\" points=\"\n",
       "  124.267,262.826 262.97,119.318 \n",
       "  \"/>\n",
       "<polyline clip-path=\"url(#clip00)\" style=\"stroke:#ededed; stroke-width:1; stroke-opacity:1; fill:none\" points=\"\n",
       "  262.97,119.318 428.27,220.36 \n",
       "  \"/>\n",
       "<polyline clip-path=\"url(#clip00)\" style=\"stroke:#cccccc; stroke-width:1; stroke-opacity:1; fill:none\" points=\"\n",
       "  124.267,250.881 262.97,107.373 \n",
       "  \"/>\n",
       "<polyline clip-path=\"url(#clip00)\" style=\"stroke:#cccccc; stroke-width:1; stroke-opacity:1; fill:none\" points=\"\n",
       "  262.97,107.373 428.27,208.415 \n",
       "  \"/>\n",
       "<polyline clip-path=\"url(#clip00)\" style=\"stroke:#ededed; stroke-width:1; stroke-opacity:1; fill:none\" points=\"\n",
       "  124.267,238.936 262.97,95.4274 \n",
       "  \"/>\n",
       "<polyline clip-path=\"url(#clip00)\" style=\"stroke:#ededed; stroke-width:1; stroke-opacity:1; fill:none\" points=\"\n",
       "  262.97,95.4274 428.27,196.47 \n",
       "  \"/>\n",
       "<polyline clip-path=\"url(#clip00)\" style=\"stroke:#cccccc; stroke-width:1; stroke-opacity:1; fill:none\" points=\"\n",
       "  124.267,226.99 262.97,83.4822 \n",
       "  \"/>\n",
       "<polyline clip-path=\"url(#clip00)\" style=\"stroke:#cccccc; stroke-width:1; stroke-opacity:1; fill:none\" points=\"\n",
       "  262.97,83.4822 428.27,184.525 \n",
       "  \"/>\n",
       "<polyline clip-path=\"url(#clip00)\" style=\"stroke:#ededed; stroke-width:1; stroke-opacity:1; fill:none\" points=\"\n",
       "  124.267,215.045 262.97,71.537 \n",
       "  \"/>\n",
       "<polyline clip-path=\"url(#clip00)\" style=\"stroke:#ededed; stroke-width:1; stroke-opacity:1; fill:none\" points=\"\n",
       "  262.97,71.537 428.27,172.579 \n",
       "  \"/>\n",
       "<polyline clip-path=\"url(#clip00)\" style=\"stroke:#cccccc; stroke-width:1; stroke-opacity:1; fill:none\" points=\"\n",
       "  124.267,203.1 262.97,59.5918 \n",
       "  \"/>\n",
       "<polyline clip-path=\"url(#clip00)\" style=\"stroke:#cccccc; stroke-width:1; stroke-opacity:1; fill:none\" points=\"\n",
       "  262.97,59.5918 428.27,160.634 \n",
       "  \"/>\n",
       "<polyline clip-path=\"url(#clip00)\" style=\"stroke:#ededed; stroke-width:1; stroke-opacity:1; fill:none\" points=\"\n",
       "  124.267,191.155 262.97,47.6466 \n",
       "  \"/>\n",
       "<polyline clip-path=\"url(#clip00)\" style=\"stroke:#ededed; stroke-width:1; stroke-opacity:1; fill:none\" points=\"\n",
       "  262.97,47.6466 428.27,148.689 \n",
       "  \"/>\n",
       "<polyline clip-path=\"url(#clip00)\" style=\"stroke:#cccccc; stroke-width:1; stroke-opacity:1; fill:none\" points=\"\n",
       "  124.267,179.21 262.97,35.7014 \n",
       "  \"/>\n",
       "<polyline clip-path=\"url(#clip00)\" style=\"stroke:#cccccc; stroke-width:1; stroke-opacity:1; fill:none\" points=\"\n",
       "  262.97,35.7014 428.27,136.744 \n",
       "  \"/>\n",
       "<polyline clip-path=\"url(#clip00)\" style=\"stroke:#ededed; stroke-width:1; stroke-opacity:1; fill:none\" points=\"\n",
       "  124.267,167.264 262.97,23.7562 \n",
       "  \"/>\n",
       "<polyline clip-path=\"url(#clip00)\" style=\"stroke:#ededed; stroke-width:1; stroke-opacity:1; fill:none\" points=\"\n",
       "  262.97,23.7562 428.27,124.799 \n",
       "  \"/>\n",
       "<polyline clip-path=\"url(#clip00)\" style=\"stroke:#cccccc; stroke-width:1; stroke-opacity:1; fill:none\" points=\"\n",
       "  124.267,155.319 262.97,11.811 \n",
       "  \"/>\n",
       "<polyline clip-path=\"url(#clip00)\" style=\"stroke:#cccccc; stroke-width:1; stroke-opacity:1; fill:none\" points=\"\n",
       "  262.97,11.811 428.27,112.853 \n",
       "  \"/>\n",
       "<polyline clip-path=\"url(#clip00)\" style=\"stroke:#000000; stroke-width:1; stroke-opacity:1; fill:none\" points=\"\n",
       "  108.829,244.169 109.428,244.124 110.326,243.439 110.326,252.079 \n",
       "  \"/>\n",
       "<polyline clip-path=\"url(#clip00)\" style=\"stroke:#000000; stroke-width:1; stroke-opacity:1; fill:none\" points=\"\n",
       "  115.718,246.734 114.819,246.596 114.22,247.465 113.92,249.339 113.92,250.573 114.22,252.813 114.819,254.414 115.718,255.374 116.317,255.74 117.215,255.878 \n",
       "  117.814,255.01 118.114,253.136 118.114,251.902 117.814,249.662 117.215,248.061 116.317,247.1 115.718,246.734 \n",
       "  \"/>\n",
       "<polyline clip-path=\"url(#clip00)\" style=\"stroke:#000000; stroke-width:1; stroke-opacity:1; fill:none\" points=\"\n",
       "  108.23,220.324 108.23,219.912 108.529,219.273 108.829,219.044 109.428,218.999 110.626,219.731 111.225,220.509 111.524,221.104 111.824,222.109 111.824,222.932 \n",
       "  111.524,223.572 110.925,224.44 107.93,226.724 112.123,229.287 \n",
       "  \"/>\n",
       "<polyline clip-path=\"url(#clip00)\" style=\"stroke:#000000; stroke-width:1; stroke-opacity:1; fill:none\" points=\"\n",
       "  115.718,222.844 114.819,222.706 114.22,223.574 113.92,225.448 113.92,226.682 114.22,228.923 114.819,230.523 115.718,231.484 116.317,231.85 117.215,231.988 \n",
       "  117.814,231.12 118.114,229.246 118.114,228.011 117.814,225.771 117.215,224.171 116.317,223.21 115.718,222.844 \n",
       "  \"/>\n",
       "<polyline clip-path=\"url(#clip00)\" style=\"stroke:#000000; stroke-width:1; stroke-opacity:1; fill:none\" points=\"\n",
       "  108.529,194.559 111.824,196.573 110.027,198.766 110.925,199.316 111.524,200.093 111.824,200.688 112.123,202.105 112.123,202.928 111.824,203.979 111.225,204.436 \n",
       "  110.326,204.298 109.428,203.749 108.529,202.788 108.23,202.193 107.93,201.188 \n",
       "  \"/>\n",
       "<polyline clip-path=\"url(#clip00)\" style=\"stroke:#000000; stroke-width:1; stroke-opacity:1; fill:none\" points=\"\n",
       "  115.718,198.953 114.819,198.816 114.22,199.684 113.92,201.558 113.92,202.792 114.22,205.032 114.819,206.633 115.718,207.593 116.317,207.96 117.215,208.097 \n",
       "  117.814,207.229 118.114,205.355 118.114,204.121 117.814,201.881 117.215,200.28 116.317,199.32 115.718,198.953 \n",
       "  \"/>\n",
       "<polyline clip-path=\"url(#clip00)\" style=\"stroke:#000000; stroke-width:1; stroke-opacity:1; fill:none\" points=\"\n",
       "  110.925,172.134 107.93,176.063 112.423,178.809 \n",
       "  \"/>\n",
       "<polyline clip-path=\"url(#clip00)\" style=\"stroke:#000000; stroke-width:1; stroke-opacity:1; fill:none\" points=\"\n",
       "  110.925,172.134 110.925,180.774 \n",
       "  \"/>\n",
       "<polyline clip-path=\"url(#clip00)\" style=\"stroke:#000000; stroke-width:1; stroke-opacity:1; fill:none\" points=\"\n",
       "  115.718,175.063 114.819,174.925 114.22,175.793 113.92,177.667 113.92,178.902 114.22,181.142 114.819,182.742 115.718,183.703 116.317,184.069 117.215,184.207 \n",
       "  117.814,183.339 118.114,181.465 118.114,180.231 117.814,177.99 117.215,176.39 116.317,175.429 115.718,175.063 \n",
       "  \"/>\n",
       "<polyline clip-path=\"url(#clip00)\" style=\"stroke:#000000; stroke-width:1; stroke-opacity:1; fill:none\" points=\"\n",
       "  111.524,148.609 108.529,146.779 108.23,150.298 108.529,150.07 109.428,150.208 110.326,150.757 111.225,151.718 111.824,152.907 112.123,154.324 112.123,155.147 \n",
       "  111.824,156.198 111.225,156.655 110.326,156.517 109.428,155.968 108.529,155.007 108.23,154.413 107.93,153.407 \n",
       "  \"/>\n",
       "<polyline clip-path=\"url(#clip00)\" style=\"stroke:#000000; stroke-width:1; stroke-opacity:1; fill:none\" points=\"\n",
       "  115.718,151.173 114.819,151.035 114.22,151.903 113.92,153.777 113.92,155.011 114.22,157.252 114.819,158.852 115.718,159.813 116.317,160.179 117.215,160.317 \n",
       "  117.814,159.449 118.114,157.574 118.114,156.34 117.814,154.1 117.215,152.5 116.317,151.539 115.718,151.173 \n",
       "  \"/>\n",
       "<polyline clip-path=\"url(#clip00)\" style=\"stroke:#000000; stroke-width:1; stroke-opacity:1; fill:none\" points=\"\n",
       "  124.267,274.771 124.267,274.771 121.951,277.168 124.267,274.771 124.267,262.826 123.109,264.024 124.267,262.826 124.267,250.881 121.951,253.278 124.267,250.881 \n",
       "  124.267,238.936 123.109,240.134 124.267,238.936 124.267,226.99 121.951,229.387 124.267,226.99 124.267,215.045 123.109,216.244 124.267,215.045 124.267,203.1 \n",
       "  121.951,205.497 124.267,203.1 124.267,191.155 123.109,192.353 124.267,191.155 124.267,179.21 121.951,181.607 124.267,179.21 124.267,167.264 123.109,168.463 \n",
       "  124.267,167.264 124.267,155.319 121.951,157.716 124.267,155.319 \n",
       "  \"/>\n",
       "<polyline clip-path=\"url(#clip00)\" style=\"stroke:#000000; stroke-width:1; stroke-opacity:1; fill:none\" points=\"\n",
       "  117.483,282.268 116.997,283.349 117.492,284.57 118.968,285.931 120.021,286.575 122.055,287.359 123.667,287.426 124.855,286.774 125.413,286.197 125.899,285.116 \n",
       "  125.404,283.895 123.928,282.533 122.875,281.889 120.84,281.105 119.229,281.039 118.041,281.69 117.483,282.268 \n",
       "  \"/>\n",
       "<polyline clip-path=\"url(#clip00)\" style=\"stroke:#000000; stroke-width:1; stroke-opacity:1; fill:none\" points=\"\n",
       "  162.398,312.02 162.047,311.805 161.624,311.087 161.552,310.584 161.759,309.792 162.875,308.637 163.784,308.274 164.414,308.2 165.396,308.34 166.098,308.769 \n",
       "  166.521,309.487 167.016,310.709 167.736,315.742 171.642,311.699 \n",
       "  \"/>\n",
       "<polyline clip-path=\"url(#clip00)\" style=\"stroke:#000000; stroke-width:1; stroke-opacity:1; fill:none\" points=\"\n",
       "  207.709,335.583 209.833,341.475 214.019,337.144 \n",
       "  \"/>\n",
       "<polyline clip-path=\"url(#clip00)\" style=\"stroke:#000000; stroke-width:1; stroke-opacity:1; fill:none\" points=\"\n",
       "  207.709,335.583 215.081,340.089 \n",
       "  \"/>\n",
       "<polyline clip-path=\"url(#clip00)\" style=\"stroke:#000000; stroke-width:1; stroke-opacity:1; fill:none\" points=\"\n",
       "  254.155,362.596 253.174,362.456 251.986,363.107 251.427,363.685 250.941,364.765 251.436,365.987 252.912,367.348 254.668,368.421 256.351,368.991 257.611,368.842 \n",
       "  258.799,368.191 259.078,367.902 259.564,366.821 259.42,365.815 258.646,364.882 258.295,364.668 256.963,364.313 255.703,364.461 254.515,365.113 254.236,365.401 \n",
       "  253.75,366.482 253.894,367.489 254.668,368.421 \n",
       "  \"/>\n",
       "<polyline clip-path=\"url(#clip00)\" style=\"stroke:#000000; stroke-width:1; stroke-opacity:1; fill:none\" points=\"\n",
       "  124.267,274.771 128.946,277.631 126.629,280.028 128.946,277.631 151.223,291.248 150.065,292.447 151.223,291.248 173.501,304.866 171.184,307.263 173.501,304.866 \n",
       "  195.778,318.483 194.62,319.682 195.778,318.483 218.056,332.101 215.739,334.498 218.056,332.101 240.333,345.719 239.175,346.917 240.333,345.719 262.611,359.336 \n",
       "  260.294,361.733 262.611,359.336 284.889,372.954 283.73,374.152 284.889,372.954 289.567,375.813 \n",
       "  \"/>\n",
       "<polyline clip-path=\"url(#clip00)\" style=\"stroke:#000000; stroke-width:1; stroke-opacity:1; fill:none\" points=\"\n",
       "  305.759,373.367 304.446,373.035 302.903,373.504 301.13,374.773 300.273,375.661 299.186,377.349 299.013,378.656 299.755,379.58 300.44,379.999 301.754,380.331 \n",
       "  303.297,379.862 305.069,378.593 305.927,377.705 307.014,376.017 307.187,374.71 306.445,373.786 305.759,373.367 \n",
       "  \"/>\n",
       "<polyline clip-path=\"url(#clip00)\" style=\"stroke:#000000; stroke-width:1; stroke-opacity:1; fill:none\" points=\"\n",
       "  346.234,328.671 346.52,328.375 347.434,327.993 348.063,327.907 349.034,328.03 350.404,328.867 350.804,329.582 350.86,330.087 350.631,330.888 350.059,331.48 \n",
       "  349.145,331.862 347.602,332.331 341.317,333.195 346.113,336.127 \n",
       "  \"/>\n",
       "<polyline clip-path=\"url(#clip00)\" style=\"stroke:#000000; stroke-width:1; stroke-opacity:1; fill:none\" points=\"\n",
       "  394.364,283.948 386.935,285.996 392.074,289.137 \n",
       "  \"/>\n",
       "<polyline clip-path=\"url(#clip00)\" style=\"stroke:#000000; stroke-width:1; stroke-opacity:1; fill:none\" points=\"\n",
       "  394.364,283.948 388.36,290.161 \n",
       "  \"/>\n",
       "<polyline clip-path=\"url(#clip00)\" style=\"stroke:#000000; stroke-width:1; stroke-opacity:1; fill:none\" points=\"\n",
       "  438.152,240.336 438.381,239.535 437.639,238.611 436.954,238.192 435.64,237.859 434.097,238.328 432.325,239.598 430.895,241.077 430.094,242.47 430.207,243.48 \n",
       "  430.949,244.404 431.292,244.614 432.606,244.946 433.863,244.773 435.063,244.095 435.349,243.799 435.864,242.702 435.751,241.692 435.009,240.768 434.666,240.558 \n",
       "  433.353,240.226 432.096,240.399 430.895,241.077 \n",
       "  \"/>\n",
       "<polyline clip-path=\"url(#clip00)\" style=\"stroke:#000000; stroke-width:1; stroke-opacity:1; fill:none\" points=\"\n",
       "  289.567,375.813 293.492,371.752 296.798,373.773 293.492,371.752 315.301,349.188 316.954,350.198 315.301,349.188 337.11,326.624 340.416,328.644 337.11,326.624 \n",
       "  358.918,304.059 360.571,305.07 358.918,304.059 380.727,281.495 384.033,283.516 380.727,281.495 402.536,258.931 404.189,259.941 402.536,258.931 424.344,236.367 \n",
       "  427.65,238.388 424.344,236.367 428.27,232.305 \n",
       "  \"/>\n",
       "<polygon clip-path=\"url(#clip02)\" points=\"\n",
       "376.049,206.725 308.278,69.1411 354.006,235.567 \n",
       "  \" fill=\"#dd5138\" fill-opacity=\"1\"/>\n",
       "<polyline clip-path=\"url(#clip02)\" style=\"stroke:#000000; stroke-width:1; stroke-opacity:1; fill:none\" points=\"\n",
       "  376.049,206.725 308.278,69.1411 354.006,235.567 376.049,206.725 \n",
       "  \"/>\n",
       "<polygon clip-path=\"url(#clip02)\" points=\"\n",
       "354.006,235.567 308.278,69.1411 242.852,208.983 \n",
       "  \" fill=\"#af305b\" fill-opacity=\"1\"/>\n",
       "<polyline clip-path=\"url(#clip02)\" style=\"stroke:#000000; stroke-width:1; stroke-opacity:1; fill:none\" points=\"\n",
       "  354.006,235.567 308.278,69.1411 242.852,208.983 354.006,235.567 \n",
       "  \"/>\n",
       "<defs>\n",
       "  <clipPath id=\"clip03\">\n",
       "    <rect x=\"470\" y=\"11\" width=\"19\" height=\"365\"/>\n",
       "  </clipPath>\n",
       "</defs>\n",
       "<g clip-path=\"url(#clip03)\">\n",
       "<image width=\"18\" height=\"364\" xlink:href=\"data:;base64,\n",
       "iVBORw0KGgoAAAANSUhEUgAAABIAAAFsCAYAAADBkelSAAACHUlEQVR4nO2c223EMAwEqUD9V5Eu\n",
       "4yOvBPpjEAwIqoCF9kU5vljnyd8KYP0QIBERN+thgAoC4qhVzqVmcw0Te7BGHLWgkk0BgdQo1yZr\n",
       "lH8Q0Ca7Wxy1Ux8GKBICOhAQaT+lESQ2aD9Gbe1vgU4mAiSkRgEpk824NjnZRvsh1yj7la6N1Qi0\n",
       "35ZsnWtC+yORF1pxo3zUMNcYjZTUVqMeCMFBqUFAUGeN1HRA5Ds2CKjyIEBK+xlqt8qnEUSNAiLf\n",
       "+Y+lFslgTdaImkc3itmUkJpxZm+ym3XLppHwOKI0Eh5HXPt1gw2035Zs0P6x7QeT7aO2rrVAtooY\n",
       "2++z33aukf8PKSutUKNN9j8C5WrUraXWL18gZ2s09mlk8DzaZPdAQvtDRk1oP/TjupMaZT+Uo8Gl\n",
       "NdpPAQmpYa7pks2VFhtsOo249iMwS+3NMs5sBEbZ/qXWA/ke2AfPbIya8WEUAtJVZO3vF2g/g6Oc\n",
       "2XM1AqnZkg0eRxAQtSOlRmt/s4TUVqMXQAyOcmbr5pFu1N6CPqoRJntwaXU5MrZfl+zB1MCfM6Dv\n",
       "sn3n2s7sF0A6apTYGDWhRkmVVpjswa5R1Ar6etmo0cGo2a4JoXYE2n909nPJttkPltZ2/xGYbOge\n",
       "LZ/9Oo2WWr/A0kI34GA7Iv/KnksNm0eDNeKo6dq/rvVAVEWoHQmHf+kumcaoBfQmArwngnON0sjX\n",
       "fs7+udQgoC/rNOfnsknqIwAAAABJRU5ErkJggg==\n",
       "\" transform=\"translate(470, 12)\"/>\n",
       "</g>\n",
       "<g clip-path=\"url(#clip00)\">\n",
       "<text style=\"fill:#000000; fill-opacity:1; font-family:Arial,Helvetica Neue,Helvetica,sans-serif; font-size:12; text-anchor:start;\" transform=\"rotate(0, 494.27, 379.226)\" x=\"494.27\" y=\"379.226\">0</text>\n",
       "</g>\n",
       "<g clip-path=\"url(#clip00)\">\n",
       "<text style=\"fill:#000000; fill-opacity:1; font-family:Arial,Helvetica Neue,Helvetica,sans-serif; font-size:12; text-anchor:start;\" transform=\"rotate(0, 494.27, 342.826)\" x=\"494.27\" y=\"342.826\">5</text>\n",
       "</g>\n",
       "<g clip-path=\"url(#clip00)\">\n",
       "<text style=\"fill:#000000; fill-opacity:1; font-family:Arial,Helvetica Neue,Helvetica,sans-serif; font-size:12; text-anchor:start;\" transform=\"rotate(0, 494.27, 306.426)\" x=\"494.27\" y=\"306.426\">10</text>\n",
       "</g>\n",
       "<g clip-path=\"url(#clip00)\">\n",
       "<text style=\"fill:#000000; fill-opacity:1; font-family:Arial,Helvetica Neue,Helvetica,sans-serif; font-size:12; text-anchor:start;\" transform=\"rotate(0, 494.27, 270.026)\" x=\"494.27\" y=\"270.026\">15</text>\n",
       "</g>\n",
       "<g clip-path=\"url(#clip00)\">\n",
       "<text style=\"fill:#000000; fill-opacity:1; font-family:Arial,Helvetica Neue,Helvetica,sans-serif; font-size:12; text-anchor:start;\" transform=\"rotate(0, 494.27, 233.625)\" x=\"494.27\" y=\"233.625\">20</text>\n",
       "</g>\n",
       "<g clip-path=\"url(#clip00)\">\n",
       "<text style=\"fill:#000000; fill-opacity:1; font-family:Arial,Helvetica Neue,Helvetica,sans-serif; font-size:12; text-anchor:start;\" transform=\"rotate(0, 494.27, 197.225)\" x=\"494.27\" y=\"197.225\">25</text>\n",
       "</g>\n",
       "<g clip-path=\"url(#clip00)\">\n",
       "<text style=\"fill:#000000; fill-opacity:1; font-family:Arial,Helvetica Neue,Helvetica,sans-serif; font-size:12; text-anchor:start;\" transform=\"rotate(0, 494.27, 160.825)\" x=\"494.27\" y=\"160.825\">30</text>\n",
       "</g>\n",
       "<g clip-path=\"url(#clip00)\">\n",
       "<text style=\"fill:#000000; fill-opacity:1; font-family:Arial,Helvetica Neue,Helvetica,sans-serif; font-size:12; text-anchor:start;\" transform=\"rotate(0, 494.27, 124.425)\" x=\"494.27\" y=\"124.425\">35</text>\n",
       "</g>\n",
       "<g clip-path=\"url(#clip00)\">\n",
       "<text style=\"fill:#000000; fill-opacity:1; font-family:Arial,Helvetica Neue,Helvetica,sans-serif; font-size:12; text-anchor:start;\" transform=\"rotate(0, 494.27, 88.0243)\" x=\"494.27\" y=\"88.0243\">40</text>\n",
       "</g>\n",
       "<g clip-path=\"url(#clip00)\">\n",
       "<text style=\"fill:#000000; fill-opacity:1; font-family:Arial,Helvetica Neue,Helvetica,sans-serif; font-size:12; text-anchor:start;\" transform=\"rotate(0, 494.27, 51.6241)\" x=\"494.27\" y=\"51.6241\">45</text>\n",
       "</g>\n",
       "<g clip-path=\"url(#clip00)\">\n",
       "<text style=\"fill:#000000; fill-opacity:1; font-family:Arial,Helvetica Neue,Helvetica,sans-serif; font-size:12; text-anchor:start;\" transform=\"rotate(0, 494.27, 15.2238)\" x=\"494.27\" y=\"15.2238\">50</text>\n",
       "</g>\n",
       "<polyline clip-path=\"url(#clip02)\" style=\"stroke:#e26f46; stroke-width:1; stroke-opacity:1; fill:none\" points=\"\n",
       "  242.852,208.983 354.006,235.567 376.049,206.725 308.278,69.1411 \n",
       "  \"/>\n",
       "<circle clip-path=\"url(#clip02)\" style=\"fill:#000000; stroke:none; fill-opacity:0.8\" cx=\"242.852\" cy=\"208.983\" r=\"9\"/>\n",
       "<circle clip-path=\"url(#clip02)\" style=\"fill:#ff0000; stroke:none; fill-opacity:0.8\" cx=\"242.852\" cy=\"208.983\" r=\"9\"/>\n",
       "<circle clip-path=\"url(#clip02)\" style=\"fill:#000000; stroke:none; fill-opacity:0.8\" cx=\"354.006\" cy=\"235.567\" r=\"9\"/>\n",
       "<circle clip-path=\"url(#clip02)\" style=\"fill:#ff0000; stroke:none; fill-opacity:0.8\" cx=\"354.006\" cy=\"235.567\" r=\"9\"/>\n",
       "<circle clip-path=\"url(#clip02)\" style=\"fill:#000000; stroke:none; fill-opacity:0.8\" cx=\"376.049\" cy=\"206.725\" r=\"9\"/>\n",
       "<circle clip-path=\"url(#clip02)\" style=\"fill:#ff0000; stroke:none; fill-opacity:0.8\" cx=\"376.049\" cy=\"206.725\" r=\"9\"/>\n",
       "<circle clip-path=\"url(#clip02)\" style=\"fill:#000000; stroke:none; fill-opacity:0.8\" cx=\"308.278\" cy=\"69.1411\" r=\"9\"/>\n",
       "<circle clip-path=\"url(#clip02)\" style=\"fill:#ff0000; stroke:none; fill-opacity:0.8\" cx=\"308.278\" cy=\"69.1411\" r=\"9\"/>\n",
       "<polyline clip-path=\"url(#clip02)\" style=\"stroke:#008000; stroke-width:7; stroke-opacity:1; fill:none\" points=\"\n",
       "  177.426,276.675 277.675,314.542 288.814,296.982 177.426,204.526 \n",
       "  \"/>\n",
       "<circle clip-path=\"url(#clip02)\" style=\"fill:#000000; stroke:none; fill-opacity:0.8\" cx=\"177.426\" cy=\"276.675\" r=\"9\"/>\n",
       "<circle clip-path=\"url(#clip02)\" style=\"fill:#ff0000; stroke:none; fill-opacity:0.8\" cx=\"177.426\" cy=\"276.675\" r=\"9\"/>\n",
       "<circle clip-path=\"url(#clip02)\" style=\"fill:#000000; stroke:none; fill-opacity:0.8\" cx=\"277.675\" cy=\"314.542\" r=\"9\"/>\n",
       "<circle clip-path=\"url(#clip02)\" style=\"fill:#ff0000; stroke:none; fill-opacity:0.8\" cx=\"277.675\" cy=\"314.542\" r=\"9\"/>\n",
       "<circle clip-path=\"url(#clip02)\" style=\"fill:#000000; stroke:none; fill-opacity:0.8\" cx=\"288.814\" cy=\"296.982\" r=\"9\"/>\n",
       "<circle clip-path=\"url(#clip02)\" style=\"fill:#ff0000; stroke:none; fill-opacity:0.8\" cx=\"288.814\" cy=\"296.982\" r=\"9\"/>\n",
       "<circle clip-path=\"url(#clip02)\" style=\"fill:#000000; stroke:none; fill-opacity:0.8\" cx=\"177.426\" cy=\"204.526\" r=\"9\"/>\n",
       "<circle clip-path=\"url(#clip02)\" style=\"fill:#ff0000; stroke:none; fill-opacity:0.8\" cx=\"177.426\" cy=\"204.526\" r=\"9\"/>\n",
       "<polyline clip-path=\"url(#clip02)\" style=\"stroke:#0000ff; stroke-width:7; stroke-opacity:1; fill:none\" points=\"\n",
       "  198.297,181.747 209.201,147.053 220.106,111.402 263.723,41.9059 \n",
       "  \"/>\n",
       "<circle clip-path=\"url(#clip02)\" style=\"fill:#000000; stroke:none; fill-opacity:0.8\" cx=\"198.297\" cy=\"181.747\" r=\"9\"/>\n",
       "<circle clip-path=\"url(#clip02)\" style=\"fill:#ff0000; stroke:none; fill-opacity:0.8\" cx=\"198.297\" cy=\"181.747\" r=\"9\"/>\n",
       "<circle clip-path=\"url(#clip02)\" style=\"fill:#000000; stroke:none; fill-opacity:0.8\" cx=\"209.201\" cy=\"147.053\" r=\"9\"/>\n",
       "<circle clip-path=\"url(#clip02)\" style=\"fill:#ff0000; stroke:none; fill-opacity:0.8\" cx=\"209.201\" cy=\"147.053\" r=\"9\"/>\n",
       "<circle clip-path=\"url(#clip02)\" style=\"fill:#000000; stroke:none; fill-opacity:0.8\" cx=\"220.106\" cy=\"111.402\" r=\"9\"/>\n",
       "<circle clip-path=\"url(#clip02)\" style=\"fill:#ff0000; stroke:none; fill-opacity:0.8\" cx=\"220.106\" cy=\"111.402\" r=\"9\"/>\n",
       "<circle clip-path=\"url(#clip02)\" style=\"fill:#000000; stroke:none; fill-opacity:0.8\" cx=\"263.723\" cy=\"41.9059\" r=\"9\"/>\n",
       "<circle clip-path=\"url(#clip02)\" style=\"fill:#ff0000; stroke:none; fill-opacity:0.8\" cx=\"263.723\" cy=\"41.9059\" r=\"9\"/>\n",
       "<polygon clip-path=\"url(#clip00)\" points=\"\n",
       "337.754,93.171 410.27,93.171 410.27,32.691 337.754,32.691 \n",
       "  \" fill=\"#ffffff\" fill-opacity=\"1\"/>\n",
       "<polyline clip-path=\"url(#clip00)\" style=\"stroke:#000000; stroke-width:1; stroke-opacity:1; fill:none\" points=\"\n",
       "  337.754,93.171 410.27,93.171 410.27,32.691 337.754,32.691 337.754,93.171 \n",
       "  \"/>\n",
       "<circle clip-path=\"url(#clip00)\" style=\"fill:#000000; stroke:none; fill-opacity:0.8\" cx=\"364.754\" cy=\"47.811\" r=\"6\"/>\n",
       "<circle clip-path=\"url(#clip00)\" style=\"fill:#ff0000; stroke:none; fill-opacity:0.8\" cx=\"364.754\" cy=\"47.811\" r=\"5\"/>\n",
       "<g clip-path=\"url(#clip00)\">\n",
       "<text style=\"fill:#000000; fill-opacity:1; font-family:Arial,Helvetica Neue,Helvetica,sans-serif; font-size:12; text-anchor:start;\" transform=\"rotate(0, 385.754, 52.311)\" x=\"385.754\" y=\"52.311\">y2</text>\n",
       "</g>\n",
       "<circle clip-path=\"url(#clip00)\" style=\"fill:#000000; stroke:none; fill-opacity:0.8\" cx=\"364.754\" cy=\"62.931\" r=\"6\"/>\n",
       "<circle clip-path=\"url(#clip00)\" style=\"fill:#ff0000; stroke:none; fill-opacity:0.8\" cx=\"364.754\" cy=\"62.931\" r=\"5\"/>\n",
       "<g clip-path=\"url(#clip00)\">\n",
       "<text style=\"fill:#000000; fill-opacity:1; font-family:Arial,Helvetica Neue,Helvetica,sans-serif; font-size:12; text-anchor:start;\" transform=\"rotate(0, 385.754, 67.431)\" x=\"385.754\" y=\"67.431\">y3</text>\n",
       "</g>\n",
       "<circle clip-path=\"url(#clip00)\" style=\"fill:#000000; stroke:none; fill-opacity:0.8\" cx=\"364.754\" cy=\"78.051\" r=\"6\"/>\n",
       "<circle clip-path=\"url(#clip00)\" style=\"fill:#ff0000; stroke:none; fill-opacity:0.8\" cx=\"364.754\" cy=\"78.051\" r=\"5\"/>\n",
       "<g clip-path=\"url(#clip00)\">\n",
       "<text style=\"fill:#000000; fill-opacity:1; font-family:Arial,Helvetica Neue,Helvetica,sans-serif; font-size:12; text-anchor:start;\" transform=\"rotate(0, 385.754, 82.551)\" x=\"385.754\" y=\"82.551\">y4</text>\n",
       "</g>\n",
       "</svg>\n"
      ]
     },
     "execution_count": 5,
     "metadata": {},
     "output_type": "execute_result"
    }
   ],
   "source": [
    "plot(x1,x2,y,marker=(10,0.8,:red),st=:surface)\n",
    "plot!(x1,x2,y,marker=(10,0.8,:red))\n",
    "plot!(x1,zeros(x2),y,line=(7,:green),marker=(10,0.8,:red),zlim=(0,50))\n",
    "plot!(zeros(x1),x2,y,line=(7,:blue),marker=(10,0.8,:red))"
   ]
  },
  {
   "cell_type": "code",
   "execution_count": 7,
   "metadata": {},
   "outputs": [
    {
     "name": "stderr",
     "output_type": "stream",
     "text": [
      "\u001b[1m\u001b[36mINFO: \u001b[39m\u001b[22m\u001b[36mRecompiling stale cache file /Users/alanedelman/.julia/lib/v0.6/GLVisualize.ji for module GLVisualize.\n",
      "\u001b[39m"
     ]
    }
   ],
   "source": [
    "using GLVisualize`"
   ]
  },
  {
   "cell_type": "code",
   "execution_count": 19,
   "metadata": {},
   "outputs": [],
   "source": [
    "glvisualize()\n",
    "x1 = [2 6.5 7 2]\n",
    "x2 = [3 3.5 4 6]\n",
    "y  = [10.1 19.9 30.1  40.3]\n",
    "b = -24.70401416765054\n",
    "w = [1.63684, 10.3377]\n",
    "plot(x1,x2,y,marker=(10,:red),st=:surface)\n",
    "\n",
    "plot!(0:.1:10, 0:.1:10, (x,y)->b+w[1]*x+w[2]*y, st=:surface)\n",
    "\n",
    "\n",
    " plot!(x1,x2,y,marker=(10,0.8,:red))\n",
    " plot!(x1,zeros(x2),y,line=(7,:green),marker=(10,0.8,:red),zlim=(0,50))\n",
    " plot!(zeros(x1),x2,y,line=(7,:blue),marker=(10,0.8,:red))\n",
    "gui()"
   ]
  },
  {
   "cell_type": "markdown",
   "metadata": {},
   "source": [
    "### A.1. Just a matrix please. (No labels, no extras, simple.)"
   ]
  },
  {
   "cell_type": "code",
   "execution_count": 20,
   "metadata": {},
   "outputs": [
    {
     "name": "stderr",
     "output_type": "stream",
     "text": [
      "\u001b[1m\u001b[36mINFO: \u001b[39m\u001b[22m\u001b[36mComputing test dependencies for GLVisualize...\n",
      "\u001b[39m\u001b[1m\u001b[36mINFO: \u001b[39m\u001b[22m\u001b[36mInstalling Highlights v0.2.1\n",
      "\u001b[39m\u001b[1m\u001b[36mINFO: \u001b[39m\u001b[22m\u001b[36mTesting GLVisualize\n",
      "\u001b[39m\n",
      "WARNING: deprecated syntax \"abstract AbstractLexer\" at /Users/alanedelman/.julia/v0.6/Highlights/src/Highlights.jl:29.\n",
      "Use \"abstract type AbstractLexer end\" instead.\n",
      "\n",
      "WARNING: deprecated syntax \"abstract AbstractTheme\" at /Users/alanedelman/.julia/v0.6/Highlights/src/Highlights.jl:36.\n",
      "Use \"abstract type AbstractTheme end\" instead.\n",
      "\n",
      "WARNING: deprecated syntax \"abstract AbstractLexer\" at /Users/alanedelman/.julia/v0.6/Highlights/src/Highlights.jl:29.\n",
      "Use \"abstract type AbstractLexer end\" instead.\n",
      "\n",
      "WARNING: deprecated syntax \"abstract AbstractTheme\" at /Users/alanedelman/.julia/v0.6/Highlights/src/Highlights.jl:36.\n",
      "Use \"abstract type AbstractTheme end\" instead.\n",
      "\n",
      "WARNING: deprecated syntax \"abstract DefaultTheme<:AbstractTheme\" at /Users/alanedelman/.julia/v0.6/Highlights/src/Themes.jl:176.\n",
      "Use \"abstract type DefaultTheme<:AbstractTheme end\" instead.\n",
      "\n",
      "WARNING: deprecated syntax \"abstract EmacsTheme<:AbstractTheme\" at /Users/alanedelman/.julia/v0.6/Highlights/src/Themes.jl:179.\n",
      "Use \"abstract type EmacsTheme<:AbstractTheme end\" instead.\n",
      "\n",
      "WARNING: deprecated syntax \"abstract GitHubTheme<:AbstractTheme\" at /Users/alanedelman/.julia/v0.6/Highlights/src/Themes.jl:181.\n",
      "Use \"abstract type GitHubTheme<:AbstractTheme end\" instead.\n",
      "\n",
      "WARNING: deprecated syntax \"abstract MonokaiTheme<:AbstractTheme\" at /Users/alanedelman/.julia/v0.6/Highlights/src/Themes.jl:183.\n",
      "Use \"abstract type MonokaiTheme<:AbstractTheme end\" instead.\n",
      "\n",
      "WARNING: deprecated syntax \"abstract PygmentsTheme<:AbstractTheme\" at /Users/alanedelman/.julia/v0.6/Highlights/src/Themes.jl:185.\n",
      "Use \"abstract type PygmentsTheme<:AbstractTheme end\" instead.\n",
      "\n",
      "WARNING: deprecated syntax \"abstract TangoTheme<:AbstractTheme\" at /Users/alanedelman/.julia/v0.6/Highlights/src/Themes.jl:187.\n",
      "Use \"abstract type TangoTheme<:AbstractTheme end\" instead.\n",
      "\n",
      "WARNING: deprecated syntax \"abstract TracTheme<:AbstractTheme\" at /Users/alanedelman/.julia/v0.6/Highlights/src/Themes.jl:189.\n",
      "Use \"abstract type TracTheme<:AbstractTheme end\" instead.\n",
      "\n",
      "WARNING: deprecated syntax \"abstract VimTheme<:AbstractTheme\" at /Users/alanedelman/.julia/v0.6/Highlights/src/Themes.jl:191.\n",
      "Use \"abstract type VimTheme<:AbstractTheme end\" instead.\n",
      "\n",
      "WARNING: deprecated syntax \"abstract VisualStudioTheme<:AbstractTheme\" at /Users/alanedelman/.julia/v0.6/Highlights/src/Themes.jl:193.\n",
      "Use \"abstract type VisualStudioTheme<:AbstractTheme end\" instead.\n",
      "\n",
      "WARNING: deprecated syntax \"abstract XcodeTheme<:AbstractTheme\" at /Users/alanedelman/.julia/v0.6/Highlights/src/Themes.jl:195.\n",
      "Use \"abstract type XcodeTheme<:AbstractTheme end\" instead.\n",
      "\n",
      "WARNING: deprecated syntax \"abstract FortranLexer<:AbstractLexer\" at /Users/alanedelman/.julia/v0.6/Highlights/src/Lexers.jl:99.\n",
      "Use \"abstract type FortranLexer<:AbstractLexer end\" instead.\n",
      "\n",
      "WARNING: deprecated syntax \"abstract JuliaLexer<:AbstractLexer\" at /Users/alanedelman/.julia/v0.6/Highlights/src/Lexers.jl:101.\n",
      "Use \"abstract type JuliaLexer<:AbstractLexer end\" instead.\n",
      "\n",
      "WARNING: deprecated syntax \"abstract JuliaConsoleLexer<:AbstractLexer\" at /Users/alanedelman/.julia/v0.6/Highlights/src/Lexers.jl:103.\n",
      "Use \"abstract type JuliaConsoleLexer<:AbstractLexer end\" instead.\n",
      "\n",
      "WARNING: deprecated syntax \"abstract MatlabLexer<:AbstractLexer\" at /Users/alanedelman/.julia/v0.6/Highlights/src/Lexers.jl:105.\n",
      "Use \"abstract type MatlabLexer<:AbstractLexer end\" instead.\n",
      "\n",
      "WARNING: deprecated syntax \"abstract RLexer<:AbstractLexer\" at /Users/alanedelman/.julia/v0.6/Highlights/src/Lexers.jl:107.\n",
      "Use \"abstract type RLexer<:AbstractLexer end\" instead.\n",
      "\n",
      "WARNING: deprecated syntax \"abstract TOMLLexer<:AbstractLexer\" at /Users/alanedelman/.julia/v0.6/Highlights/src/Lexers.jl:109.\n",
      "Use \"abstract type TOMLLexer<:AbstractLexer end\" instead.\n"
     ]
    },
    {
     "name": "stdout",
     "output_type": "stream",
     "text": [
      "Now showing rotate_robj.jl:\n",
      "\n",
      "Now showing screens.jl:\n",
      "\n"
     ]
    },
    {
     "name": "stderr",
     "output_type": "stream",
     "text": [
      "\u001b[1m\u001b[33mWARNING: \u001b[39m\u001b[22m\u001b[33mcos{T <: Number}(x::AbstractArray{T}) is deprecated, use cos.(x) instead.\u001b[39m\n",
      "Stacktrace:\n",
      " [1] \u001b[1mdepwarn\u001b[22m\u001b[22m\u001b[1m(\u001b[22m\u001b[22m::String, ::Symbol\u001b[1m)\u001b[22m\u001b[22m at \u001b[1m./deprecated.jl:70\u001b[22m\u001b[22m\n",
      " [2] \u001b[1mcos\u001b[22m\u001b[22m\u001b[1m(\u001b[22m\u001b[22m::Array{Float32,2}\u001b[1m)\u001b[22m\u001b[22m at \u001b[1m./deprecated.jl:57\u001b[22m\u001b[22m\n",
      " [3] \u001b[1minclude_from_node1\u001b[22m\u001b[22m\u001b[1m(\u001b[22m\u001b[22m::String\u001b[1m)\u001b[22m\u001b[22m at \u001b[1m./loading.jl:569\u001b[22m\u001b[22m\n",
      " [4] \u001b[1minclude\u001b[22m\u001b[22m\u001b[1m(\u001b[22m\u001b[22m::String\u001b[1m)\u001b[22m\u001b[22m at \u001b[1m./sysimg.jl:14\u001b[22m\u001b[22m\n",
      " [5] \u001b[1m_test_include\u001b[22m\u001b[22m\u001b[1m(\u001b[22m\u001b[22m::String, ::ExampleRunner.RunnerConfig\u001b[1m)\u001b[22m\u001b[22m at \u001b[1m/Users/alanedelman/.julia/v0.6/GLVisualize/src/../examples/ExampleRunner.jl:323\u001b[22m\u001b[22m\n",
      " [6] \u001b[1minner_test\u001b[22m\u001b[22m\u001b[1m(\u001b[22m\u001b[22m::String, ::ExampleRunner.RunnerConfig, ::GLWindow.Screen, ::Base.RefValue{Bool}, ::Base.RefValue{Int64}, ::ExampleRunner.#increase#23{Base.RefValue{Int64}}\u001b[1m)\u001b[22m\u001b[22m at \u001b[1m/Users/alanedelman/.julia/v0.6/GLVisualize/src/../examples/ExampleRunner.jl:376\u001b[22m\u001b[22m\n",
      " [7] \u001b[1mmake_tests\u001b[22m\u001b[22m\u001b[1m(\u001b[22m\u001b[22m::ExampleRunner.RunnerConfig\u001b[1m)\u001b[22m\u001b[22m at \u001b[1m/Users/alanedelman/.julia/v0.6/GLVisualize/src/../examples/ExampleRunner.jl:456\u001b[22m\u001b[22m\n",
      " [8] \u001b[1mrun\u001b[22m\u001b[22m\u001b[1m(\u001b[22m\u001b[22m::ExampleRunner.RunnerConfig\u001b[1m)\u001b[22m\u001b[22m at \u001b[1m/Users/alanedelman/.julia/v0.6/GLVisualize/src/../examples/ExampleRunner.jl:482\u001b[22m\u001b[22m\n",
      " [9] \u001b[1minclude_from_node1\u001b[22m\u001b[22m\u001b[1m(\u001b[22m\u001b[22m::String\u001b[1m)\u001b[22m\u001b[22m at \u001b[1m./loading.jl:569\u001b[22m\u001b[22m\n",
      " [10] \u001b[1minclude\u001b[22m\u001b[22m\u001b[1m(\u001b[22m\u001b[22m::String\u001b[1m)\u001b[22m\u001b[22m at \u001b[1m./sysimg.jl:14\u001b[22m\u001b[22m\n",
      " [11] \u001b[1minclude_from_node1\u001b[22m\u001b[22m\u001b[1m(\u001b[22m\u001b[22m::String\u001b[1m)\u001b[22m\u001b[22m at \u001b[1m./loading.jl:569\u001b[22m\u001b[22m\n",
      " [12] \u001b[1minclude\u001b[22m\u001b[22m\u001b[1m(\u001b[22m\u001b[22m::String\u001b[1m)\u001b[22m\u001b[22m at \u001b[1m./sysimg.jl:14\u001b[22m\u001b[22m\n",
      " [13] \u001b[1mprocess_options\u001b[22m\u001b[22m\u001b[1m(\u001b[22m\u001b[22m::Base.JLOptions\u001b[1m)\u001b[22m\u001b[22m at \u001b[1m./client.jl:305\u001b[22m\u001b[22m\n",
      " [14] \u001b[1m_start\u001b[22m\u001b[22m\u001b[1m(\u001b[22m\u001b[22m\u001b[1m)\u001b[22m\u001b[22m at \u001b[1m./client.jl:371\u001b[22m\u001b[22m\n",
      "while loading /Users/alanedelman/.julia/v0.6/GLVisualize/examples/plots/3dplots.jl, in expression starting on line 56\n"
     ]
    },
    {
     "name": "stdout",
     "output_type": "stream",
     "text": [
      "Now showing 3dplots.jl:\n",
      "\n"
     ]
    },
    {
     "name": "stderr",
     "output_type": "stream",
     "text": [
      "\u001b[1m\u001b[33mWARNING: \u001b[39m\u001b[22m\u001b[33mmap!{F}(f::F, A::AbstractArray) is deprecated, use map!(f, A, A) instead.\u001b[39m\n",
      "Stacktrace:\n",
      " [1] \u001b[1mdepwarn\u001b[22m\u001b[22m\u001b[1m(\u001b[22m\u001b[22m::String, ::Symbol\u001b[1m)\u001b[22m\u001b[22m at \u001b[1m./deprecated.jl:70\u001b[22m\u001b[22m\n",
      " [2] \u001b[1mmap!\u001b[22m\u001b[22m\u001b[1m(\u001b[22m\u001b[22m::GeometryTypes.MeshMulFunctor{Float64}, ::Array{GeometryTypes.Point{3,Float32},1}\u001b[1m)\u001b[22m\u001b[22m at \u001b[1m./deprecated.jl:57\u001b[22m\u001b[22m\n",
      " [3] \u001b[1m*\u001b[22m\u001b[22m\u001b[1m(\u001b[22m\u001b[22m::StaticArrays.SArray{Tuple{4,4},Float64,2,16}, ::GeometryTypes.HomogenousMesh{GeometryTypes.Point{3,Float32},GeometryTypes.Face{3,GeometryTypes.OffsetInteger{-1,UInt32}},GeometryTypes.Normal{3,Float32},Void,Void,Void,Void}\u001b[1m)\u001b[22m\u001b[22m at \u001b[1m/Users/alanedelman/.julia/v0.6/GeometryTypes/src/meshes.jl:223\u001b[22m\u001b[22m\n",
      " [4] \u001b[1minclude_from_node1\u001b[22m\u001b[22m\u001b[1m(\u001b[22m\u001b[22m::String\u001b[1m)\u001b[22m\u001b[22m at \u001b[1m./loading.jl:569\u001b[22m\u001b[22m\n",
      " [5] \u001b[1minclude\u001b[22m\u001b[22m\u001b[1m(\u001b[22m\u001b[22m::String\u001b[1m)\u001b[22m\u001b[22m at \u001b[1m./sysimg.jl:14\u001b[22m\u001b[22m\n",
      " [6] \u001b[1m_test_include\u001b[22m\u001b[22m\u001b[1m(\u001b[22m\u001b[22m::String, ::ExampleRunner.RunnerConfig\u001b[1m)\u001b[22m\u001b[22m at \u001b[1m/Users/alanedelman/.julia/v0.6/GLVisualize/src/../examples/ExampleRunner.jl:323\u001b[22m\u001b[22m\n",
      " [7] \u001b[1minner_test\u001b[22m\u001b[22m\u001b[1m(\u001b[22m\u001b[22m::String, ::ExampleRunner.RunnerConfig, ::GLWindow.Screen, ::Base.RefValue{Bool}, ::Base.RefValue{Int64}, ::ExampleRunner.#increase#23{Base.RefValue{Int64}}\u001b[1m)\u001b[22m\u001b[22m at \u001b[1m/Users/alanedelman/.julia/v0.6/GLVisualize/src/../examples/ExampleRunner.jl:376\u001b[22m\u001b[22m\n",
      " [8] \u001b[1mmake_tests\u001b[22m\u001b[22m\u001b[1m(\u001b[22m\u001b[22m::ExampleRunner.RunnerConfig\u001b[1m)\u001b[22m\u001b[22m at \u001b[1m/Users/alanedelman/.julia/v0.6/GLVisualize/src/../examples/ExampleRunner.jl:456\u001b[22m\u001b[22m\n",
      " [9] \u001b[1mrun\u001b[22m\u001b[22m\u001b[1m(\u001b[22m\u001b[22m::ExampleRunner.RunnerConfig\u001b[1m)\u001b[22m\u001b[22m at \u001b[1m/Users/alanedelman/.julia/v0.6/GLVisualize/src/../examples/ExampleRunner.jl:482\u001b[22m\u001b[22m\n",
      " [10] \u001b[1minclude_from_node1\u001b[22m\u001b[22m\u001b[1m(\u001b[22m\u001b[22m::String\u001b[1m)\u001b[22m\u001b[22m at \u001b[1m./loading.jl:569\u001b[22m\u001b[22m\n",
      " [11] \u001b[1minclude\u001b[22m\u001b[22m\u001b[1m(\u001b[22m\u001b[22m::String\u001b[1m)\u001b[22m\u001b[22m at \u001b[1m./sysimg.jl:14\u001b[22m\u001b[22m\n",
      " [12] \u001b[1minclude_from_node1\u001b[22m\u001b[22m\u001b[1m(\u001b[22m\u001b[22m::String\u001b[1m)\u001b[22m\u001b[22m at \u001b[1m./loading.jl:569\u001b[22m\u001b[22m\n",
      " [13] \u001b[1minclude\u001b[22m\u001b[22m\u001b[1m(\u001b[22m\u001b[22m::String\u001b[1m)\u001b[22m\u001b[22m at \u001b[1m./sysimg.jl:14\u001b[22m\u001b[22m\n",
      " [14] \u001b[1mprocess_options\u001b[22m\u001b[22m\u001b[1m(\u001b[22m\u001b[22m::Base.JLOptions\u001b[1m)\u001b[22m\u001b[22m at \u001b[1m./client.jl:305\u001b[22m\u001b[22m\n",
      " [15] \u001b[1m_start\u001b[22m\u001b[22m\u001b[1m(\u001b[22m\u001b[22m\u001b[1m)\u001b[22m\u001b[22m at \u001b[1m./client.jl:371\u001b[22m\u001b[22m\n",
      "while loading /Users/alanedelman/.julia/v0.6/GLVisualize/examples/plots/lines_scatter.jl, in expression starting on line 19\n",
      "LoadError: \u001b[91mMethodError: no method matching gl_color(::Array{ColorTypes.RGBA{Float64},2})\n",
      "\n",
      "You might have used a 2d row vector where a 1d column vector was required.\n",
      "Note the difference between 1d column vector [1,2,3] and 2d row vector [1 2 3].\n",
      "You can convert to a column vector with the vec() function.\u001b[0m\n",
      "Closest candidates are:\n",
      "  gl_color(::Any, \u001b[91m::Any\u001b[39m) at /Users/alanedelman/.julia/v0.6/Plots/src/backends/glvisualize.jl:350\n",
      "  gl_color(\u001b[91m::ColorTypes.RGBA{Float32}\u001b[39m) at /Users/alanedelman/.julia/v0.6/Plots/src/backends/glvisualize.jl:341\n",
      "  gl_color(\u001b[91m::PlotUtils.ColorGradient\u001b[39m) at /Users/alanedelman/.julia/v0.6/Plots/src/backends/glvisualize.jl:339\n",
      "  ...\u001b[39m\n",
      "extract_c(::Dict{Symbol,Any}, ::Dict{Symbol,Any}, ::Symbol) at /Users/alanedelman/.julia/v0.6/Plots/src/backends/glvisualize.jl:531\n",
      "extract_linestyle(::Dict{Symbol,Any}, ::Dict{Symbol,Any}) at /Users/alanedelman/.julia/v0.6/Plots/src/backends/glvisualize.jl:418\n",
      "_display(::Plots.Plot{Plots.GLVisualizeBackend}, ::Bool) at /Users/alanedelman/.julia/v0.6/Plots/src/backends/glvisualize.jl:1067\n",
      "gui(::Plots.Plot{Plots.GLVisualizeBackend}) at /Users/alanedelman/.julia/v0.6/Plots/src/output.jl:134 (repeats 2 times)\n",
      "include_from_node1(::String) at ./loading.jl:569\n",
      "include(::String) at ./sysimg.jl:14\n",
      "_test_include(::String, ::ExampleRunner.RunnerConfig) at /Users/alanedelman/.julia/v0.6/GLVisualize/src/../examples/ExampleRunner.jl:323\n",
      "inner_test(::String, ::ExampleRunner.RunnerConfig, ::GLWindow.Screen, ::Base.RefValue{Bool}, ::Base.RefValue{Int64}, ::ExampleRunner.#increase#23{Base.RefValue{Int64}}) at /Users/alanedelman/.julia/v0.6/GLVisualize/src/../examples/ExampleRunner.jl:376\n",
      "make_tests(::ExampleRunner.RunnerConfig) at /Users/alanedelman/.julia/v0.6/GLVisualize/src/../examples/ExampleRunner.jl:456\n",
      "run(::ExampleRunner.RunnerConfig) at /Users/alanedelman/.julia/v0.6/GLVisualize/src/../examples/ExampleRunner.jl:482\n",
      "include_from_node1(::String) at ./loading.jl:569\n",
      "include(::String) at ./sysimg.jl:14\n",
      "include_from_node1(::String) at ./loading.jl:569\n",
      "include(::String) at ./sysimg.jl:14\n",
      "process_options(::Base.JLOptions) at ./client.jl:305\n",
      "_start() at ./client.jl:371\n",
      "while loading /Users/alanedelman/.julia/v0.6/GLVisualize/examples/plots/lines_scatter.jl, in expression starting on line 35"
     ]
    },
    {
     "name": "stdout",
     "output_type": "stream",
     "text": [
      "Now showing hybrid.jl:\n",
      "\n",
      "Now showing camera.jl:\n",
      "\n"
     ]
    },
    {
     "name": "stderr",
     "output_type": "stream",
     "text": [
      "\u001b[1m\u001b[33mWARNING: \u001b[39m\u001b[22m\u001b[33mArray{T}(::Type{T}, m::Int) is deprecated, use Array{T}(m) instead.\u001b[39m\n",
      "Stacktrace:\n",
      " [1] \u001b[1mdepwarn\u001b[22m\u001b[22m\u001b[1m(\u001b[22m\u001b[22m::String, ::Symbol\u001b[1m)\u001b[22m\u001b[22m at \u001b[1m./deprecated.jl:70\u001b[22m\u001b[22m\n",
      " [2] \u001b[1mArray\u001b[22m\u001b[22m\u001b[1m(\u001b[22m\u001b[22m::Type{GeometryTypes.Point{3,Float32}}, ::Int64\u001b[1m)\u001b[22m\u001b[22m at \u001b[1m./deprecated.jl:57\u001b[22m\u001b[22m\n",
      " [3] \u001b[1mmultirandomwalk\u001b[22m\u001b[22m\u001b[1m(\u001b[22m\u001b[22m::Int64, ::Int64\u001b[1m)\u001b[22m\u001b[22m at \u001b[1m/Users/alanedelman/.julia/v0.6/GLVisualize/examples/gui/color_chooser.jl:32\u001b[22m\u001b[22m\n",
      " [4] \u001b[1minclude_from_node1\u001b[22m\u001b[22m\u001b[1m(\u001b[22m\u001b[22m::String\u001b[1m)\u001b[22m\u001b[22m at \u001b[1m./loading.jl:569\u001b[22m\u001b[22m\n",
      " [5] \u001b[1minclude\u001b[22m\u001b[22m\u001b[1m(\u001b[22m\u001b[22m::String\u001b[1m)\u001b[22m\u001b[22m at \u001b[1m./sysimg.jl:14\u001b[22m\u001b[22m\n",
      " [6] \u001b[1m_test_include\u001b[22m\u001b[22m\u001b[1m(\u001b[22m\u001b[22m::String, ::ExampleRunner.RunnerConfig\u001b[1m)\u001b[22m\u001b[22m at \u001b[1m/Users/alanedelman/.julia/v0.6/GLVisualize/src/../examples/ExampleRunner.jl:323\u001b[22m\u001b[22m\n",
      " [7] \u001b[1minner_test\u001b[22m\u001b[22m\u001b[1m(\u001b[22m\u001b[22m::String, ::ExampleRunner.RunnerConfig, ::GLWindow.Screen, ::Base.RefValue{Bool}, ::Base.RefValue{Int64}, ::ExampleRunner.#increase#23{Base.RefValue{Int64}}\u001b[1m)\u001b[22m\u001b[22m at \u001b[1m/Users/alanedelman/.julia/v0.6/GLVisualize/src/../examples/ExampleRunner.jl:376\u001b[22m\u001b[22m\n",
      " [8] \u001b[1mmake_tests\u001b[22m\u001b[22m\u001b[1m(\u001b[22m\u001b[22m::ExampleRunner.RunnerConfig\u001b[1m)\u001b[22m\u001b[22m at \u001b[1m/Users/alanedelman/.julia/v0.6/GLVisualize/src/../examples/ExampleRunner.jl:456\u001b[22m\u001b[22m\n",
      " [9] \u001b[1mrun\u001b[22m\u001b[22m\u001b[1m(\u001b[22m\u001b[22m::ExampleRunner.RunnerConfig\u001b[1m)\u001b[22m\u001b[22m at \u001b[1m/Users/alanedelman/.julia/v0.6/GLVisualize/src/../examples/ExampleRunner.jl:482\u001b[22m\u001b[22m\n",
      " [10] \u001b[1minclude_from_node1\u001b[22m\u001b[22m\u001b[1m(\u001b[22m\u001b[22m::String\u001b[1m)\u001b[22m\u001b[22m at \u001b[1m./loading.jl:569\u001b[22m\u001b[22m\n",
      " [11] \u001b[1minclude\u001b[22m\u001b[22m\u001b[1m(\u001b[22m\u001b[22m::String\u001b[1m)\u001b[22m\u001b[22m at \u001b[1m./sysimg.jl:14\u001b[22m\u001b[22m\n",
      " [12] \u001b[1minclude_from_node1\u001b[22m\u001b[22m\u001b[1m(\u001b[22m\u001b[22m::String\u001b[1m)\u001b[22m\u001b[22m at \u001b[1m./loading.jl:569\u001b[22m\u001b[22m\n",
      " [13] \u001b[1minclude\u001b[22m\u001b[22m\u001b[1m(\u001b[22m\u001b[22m::String\u001b[1m)\u001b[22m\u001b[22m at \u001b[1m./sysimg.jl:14\u001b[22m\u001b[22m\n",
      " [14] \u001b[1mprocess_options\u001b[22m\u001b[22m\u001b[1m(\u001b[22m\u001b[22m::Base.JLOptions\u001b[1m)\u001b[22m\u001b[22m at \u001b[1m./client.jl:305\u001b[22m\u001b[22m\n",
      " [15] \u001b[1m_start\u001b[22m\u001b[22m\u001b[1m(\u001b[22m\u001b[22m\u001b[1m)\u001b[22m\u001b[22m at \u001b[1m./client.jl:371\u001b[22m\u001b[22m\n",
      "while loading /Users/alanedelman/.julia/v0.6/GLVisualize/examples/gui/color_chooser.jl, in expression starting on line 45\n",
      "\u001b[1m\u001b[33mWARNING: \u001b[39m\u001b[22m\u001b[33mArray{T}(::Type{T}, m::Int) is deprecated, use Array{T}(m) instead.\u001b[39m\n",
      "Stacktrace:\n",
      " [1] \u001b[1mdepwarn\u001b[22m\u001b[22m\u001b[1m(\u001b[22m\u001b[22m::String, ::Symbol\u001b[1m)\u001b[22m\u001b[22m at \u001b[1m./deprecated.jl:70\u001b[22m\u001b[22m\n",
      " [2] \u001b[1mArray\u001b[22m\u001b[22m\u001b[1m(\u001b[22m\u001b[22m::Type{GeometryTypes.Point{3,Float32}}, ::Int64\u001b[1m)\u001b[22m\u001b[22m at \u001b[1m./deprecated.jl:57\u001b[22m\u001b[22m\n",
      " [3] \u001b[1mmultirandomwalk\u001b[22m\u001b[22m\u001b[1m(\u001b[22m\u001b[22m::Int64, ::Int64\u001b[1m)\u001b[22m\u001b[22m at \u001b[1m/Users/alanedelman/.julia/v0.6/GLVisualize/examples/gui/color_chooser.jl:32\u001b[22m\u001b[22m\n",
      " [4] \u001b[1minclude_from_node1\u001b[22m\u001b[22m\u001b[1m(\u001b[22m\u001b[22m::String\u001b[1m)\u001b[22m\u001b[22m at \u001b[1m./loading.jl:569\u001b[22m\u001b[22m\n",
      " [5] \u001b[1minclude\u001b[22m\u001b[22m\u001b[1m(\u001b[22m\u001b[22m::String\u001b[1m)\u001b[22m\u001b[22m at \u001b[1m./sysimg.jl:14\u001b[22m\u001b[22m\n",
      " [6] \u001b[1m_test_include\u001b[22m\u001b[22m\u001b[1m(\u001b[22m\u001b[22m::String, ::ExampleRunner.RunnerConfig\u001b[1m)\u001b[22m\u001b[22m at \u001b[1m/Users/alanedelman/.julia/v0.6/GLVisualize/src/../examples/ExampleRunner.jl:323\u001b[22m\u001b[22m\n",
      " [7] \u001b[1minner_test\u001b[22m\u001b[22m\u001b[1m(\u001b[22m\u001b[22m::String, ::ExampleRunner.RunnerConfig, ::GLWindow.Screen, ::Base.RefValue{Bool}, ::Base.RefValue{Int64}, ::ExampleRunner.#increase#23{Base.RefValue{Int64}}\u001b[1m)\u001b[22m\u001b[22m at \u001b[1m/Users/alanedelman/.julia/v0.6/GLVisualize/src/../examples/ExampleRunner.jl:376\u001b[22m\u001b[22m\n",
      " [8] \u001b[1mmake_tests\u001b[22m\u001b[22m\u001b[1m(\u001b[22m\u001b[22m::ExampleRunner.RunnerConfig\u001b[1m)\u001b[22m\u001b[22m at \u001b[1m/Users/alanedelman/.julia/v0.6/GLVisualize/src/../examples/ExampleRunner.jl:456\u001b[22m\u001b[22m\n",
      " [9] \u001b[1mrun\u001b[22m\u001b[22m\u001b[1m(\u001b[22m\u001b[22m::ExampleRunner.RunnerConfig\u001b[1m)\u001b[22m\u001b[22m at \u001b[1m/Users/alanedelman/.julia/v0.6/GLVisualize/src/../examples/ExampleRunner.jl:482\u001b[22m\u001b[22m\n",
      " [10] \u001b[1minclude_from_node1\u001b[22m\u001b[22m\u001b[1m(\u001b[22m\u001b[22m::String\u001b[1m)\u001b[22m\u001b[22m at \u001b[1m./loading.jl:569\u001b[22m\u001b[22m\n",
      " [11] \u001b[1minclude\u001b[22m\u001b[22m\u001b[1m(\u001b[22m\u001b[22m::String\u001b[1m)\u001b[22m\u001b[22m at \u001b[1m./sysimg.jl:14\u001b[22m\u001b[22m\n",
      " [12] \u001b[1minclude_from_node1\u001b[22m\u001b[22m\u001b[1m(\u001b[22m\u001b[22m::String\u001b[1m)\u001b[22m\u001b[22m at \u001b[1m./loading.jl:569\u001b[22m\u001b[22m\n",
      " [13] \u001b[1minclude\u001b[22m\u001b[22m\u001b[1m(\u001b[22m\u001b[22m::String\u001b[1m)\u001b[22m\u001b[22m at \u001b[1m./sysimg.jl:14\u001b[22m\u001b[22m\n",
      " [14] \u001b[1mprocess_options\u001b[22m\u001b[22m\u001b[1m(\u001b[22m\u001b[22m::Base.JLOptions\u001b[1m)\u001b[22m\u001b[22m at \u001b[1m./client.jl:305\u001b[22m\u001b[22m\n",
      " [15] \u001b[1m_start\u001b[22m\u001b[22m\u001b[1m(\u001b[22m\u001b[22m\u001b[1m)\u001b[22m\u001b[22m at \u001b[1m./client.jl:371\u001b[22m\u001b[22m\n",
      "while loading /Users/alanedelman/.julia/v0.6/GLVisualize/examples/gui/color_chooser.jl, in expression starting on line 46\n"
     ]
    },
    {
     "name": "stdout",
     "output_type": "stream",
     "text": [
      "Now showing color_chooser.jl:\n",
      "\n"
     ]
    },
    {
     "name": "stderr",
     "output_type": "stream",
     "text": [
      "\u001b[1m\u001b[33mWARNING: \u001b[39m\u001b[22m\u001b[33mArray{T}(::Type{T}, m::Int) is deprecated, use Array{T}(m) instead.\u001b[39m\n",
      "Stacktrace:\n",
      " [1] \u001b[1mdepwarn\u001b[22m\u001b[22m\u001b[1m(\u001b[22m\u001b[22m::String, ::Symbol\u001b[1m)\u001b[22m\u001b[22m at \u001b[1m./deprecated.jl:70\u001b[22m\u001b[22m\n",
      " [2] \u001b[1mArray\u001b[22m\u001b[22m\u001b[1m(\u001b[22m\u001b[22m::Type{GeometryTypes.Point{3,Float32}}, ::Int64\u001b[1m)\u001b[22m\u001b[22m at \u001b[1m./deprecated.jl:57\u001b[22m\u001b[22m\n",
      " [3] \u001b[1mmultirandomwalk\u001b[22m\u001b[22m\u001b[1m(\u001b[22m\u001b[22m::Int64, ::Int64\u001b[1m)\u001b[22m\u001b[22m at \u001b[1m/Users/alanedelman/.julia/v0.6/GLVisualize/examples/gui/color_chooser.jl:32\u001b[22m\u001b[22m\n",
      " [4] \u001b[1minclude_from_node1\u001b[22m\u001b[22m\u001b[1m(\u001b[22m\u001b[22m::String\u001b[1m)\u001b[22m\u001b[22m at \u001b[1m./loading.jl:569\u001b[22m\u001b[22m\n",
      " [5] \u001b[1minclude\u001b[22m\u001b[22m\u001b[1m(\u001b[22m\u001b[22m::String\u001b[1m)\u001b[22m\u001b[22m at \u001b[1m./sysimg.jl:14\u001b[22m\u001b[22m\n",
      " [6] \u001b[1m_test_include\u001b[22m\u001b[22m\u001b[1m(\u001b[22m\u001b[22m::String, ::ExampleRunner.RunnerConfig\u001b[1m)\u001b[22m\u001b[22m at \u001b[1m/Users/alanedelman/.julia/v0.6/GLVisualize/src/../examples/ExampleRunner.jl:323\u001b[22m\u001b[22m\n",
      " [7] \u001b[1minner_test\u001b[22m\u001b[22m\u001b[1m(\u001b[22m\u001b[22m::String, ::ExampleRunner.RunnerConfig, ::GLWindow.Screen, ::Base.RefValue{Bool}, ::Base.RefValue{Int64}, ::ExampleRunner.#increase#23{Base.RefValue{Int64}}\u001b[1m)\u001b[22m\u001b[22m at \u001b[1m/Users/alanedelman/.julia/v0.6/GLVisualize/src/../examples/ExampleRunner.jl:376\u001b[22m\u001b[22m\n",
      " [8] \u001b[1mmake_tests\u001b[22m\u001b[22m\u001b[1m(\u001b[22m\u001b[22m::ExampleRunner.RunnerConfig\u001b[1m)\u001b[22m\u001b[22m at \u001b[1m/Users/alanedelman/.julia/v0.6/GLVisualize/src/../examples/ExampleRunner.jl:456\u001b[22m\u001b[22m\n",
      " [9] \u001b[1mrun\u001b[22m\u001b[22m\u001b[1m(\u001b[22m\u001b[22m::ExampleRunner.RunnerConfig\u001b[1m)\u001b[22m\u001b[22m at \u001b[1m/Users/alanedelman/.julia/v0.6/GLVisualize/src/../examples/ExampleRunner.jl:482\u001b[22m\u001b[22m\n",
      " [10] \u001b[1minclude_from_node1\u001b[22m\u001b[22m\u001b[1m(\u001b[22m\u001b[22m::String\u001b[1m)\u001b[22m\u001b[22m at \u001b[1m./loading.jl:569\u001b[22m\u001b[22m\n",
      " [11] \u001b[1minclude\u001b[22m\u001b[22m\u001b[1m(\u001b[22m\u001b[22m::String\u001b[1m)\u001b[22m\u001b[22m at \u001b[1m./sysimg.jl:14\u001b[22m\u001b[22m\n",
      " [12] \u001b[1minclude_from_node1\u001b[22m\u001b[22m\u001b[1m(\u001b[22m\u001b[22m::String\u001b[1m)\u001b[22m\u001b[22m at \u001b[1m./loading.jl:569\u001b[22m\u001b[22m\n",
      " [13] \u001b[1minclude\u001b[22m\u001b[22m\u001b[1m(\u001b[22m\u001b[22m::String\u001b[1m)\u001b[22m\u001b[22m at \u001b[1m./sysimg.jl:14\u001b[22m\u001b[22m\n",
      " [14] \u001b[1mprocess_options\u001b[22m\u001b[22m\u001b[1m(\u001b[22m\u001b[22m::Base.JLOptions\u001b[1m)\u001b[22m\u001b[22m at \u001b[1m./client.jl:305\u001b[22m\u001b[22m\n",
      " [15] \u001b[1m_start\u001b[22m\u001b[22m\u001b[1m(\u001b[22m\u001b[22m\u001b[1m)\u001b[22m\u001b[22m at \u001b[1m./client.jl:371\u001b[22m\u001b[22m\n",
      "while loading /Users/alanedelman/.julia/v0.6/GLVisualize/examples/gui/color_chooser.jl, in expression starting on line 47\n"
     ]
    },
    {
     "name": "stdout",
     "output_type": "stream",
     "text": [
      "Now showing image_processing.jl:\n",
      "\n",
      "Now showing buttons.jl:\n",
      "\n"
     ]
    },
    {
     "name": "stderr",
     "output_type": "stream",
     "text": [
      "\u001b[1m\u001b[33mWARNING: \u001b[39m\u001b[22m\u001b[33mArray{T}(::Type{T}, m::Int) is deprecated, use Array{T}(m) instead.\u001b[39m\n",
      "Stacktrace:\n",
      " [1] \u001b[1mdepwarn\u001b[22m\u001b[22m\u001b[1m(\u001b[22m\u001b[22m::String, ::Symbol\u001b[1m)\u001b[22m\u001b[22m at \u001b[1m./deprecated.jl:70\u001b[22m\u001b[22m\n",
      " [2] \u001b[1mArray\u001b[22m\u001b[22m\u001b[1m(\u001b[22m\u001b[22m::Type{Tuple{Float32,Float32}}, ::Int64\u001b[1m)\u001b[22m\u001b[22m at \u001b[1m./deprecated.jl:57\u001b[22m\u001b[22m\n",
      " [3] \u001b[1minclude_from_node1\u001b[22m\u001b[22m\u001b[1m(\u001b[22m\u001b[22m::String\u001b[1m)\u001b[22m\u001b[22m at \u001b[1m./loading.jl:569\u001b[22m\u001b[22m\n",
      " [4] \u001b[1minclude\u001b[22m\u001b[22m\u001b[1m(\u001b[22m\u001b[22m::String\u001b[1m)\u001b[22m\u001b[22m at \u001b[1m./sysimg.jl:14\u001b[22m\u001b[22m\n",
      " [5] \u001b[1m_test_include\u001b[22m\u001b[22m\u001b[1m(\u001b[22m\u001b[22m::String, ::ExampleRunner.RunnerConfig\u001b[1m)\u001b[22m\u001b[22m at \u001b[1m/Users/alanedelman/.julia/v0.6/GLVisualize/src/../examples/ExampleRunner.jl:323\u001b[22m\u001b[22m\n",
      " [6] \u001b[1minner_test\u001b[22m\u001b[22m\u001b[1m(\u001b[22m\u001b[22m::String, ::ExampleRunner.RunnerConfig, ::GLWindow.Screen, ::Base.RefValue{Bool}, ::Base.RefValue{Int64}, ::ExampleRunner.#increase#23{Base.RefValue{Int64}}\u001b[1m)\u001b[22m\u001b[22m at \u001b[1m/Users/alanedelman/.julia/v0.6/GLVisualize/src/../examples/ExampleRunner.jl:376\u001b[22m\u001b[22m\n",
      " [7] \u001b[1mmake_tests\u001b[22m\u001b[22m\u001b[1m(\u001b[22m\u001b[22m::ExampleRunner.RunnerConfig\u001b[1m)\u001b[22m\u001b[22m at \u001b[1m/Users/alanedelman/.julia/v0.6/GLVisualize/src/../examples/ExampleRunner.jl:456\u001b[22m\u001b[22m\n",
      " [8] \u001b[1mrun\u001b[22m\u001b[22m\u001b[1m(\u001b[22m\u001b[22m::ExampleRunner.RunnerConfig\u001b[1m)\u001b[22m\u001b[22m at \u001b[1m/Users/alanedelman/.julia/v0.6/GLVisualize/src/../examples/ExampleRunner.jl:482\u001b[22m\u001b[22m\n",
      " [9] \u001b[1minclude_from_node1\u001b[22m\u001b[22m\u001b[1m(\u001b[22m\u001b[22m::String\u001b[1m)\u001b[22m\u001b[22m at \u001b[1m./loading.jl:569\u001b[22m\u001b[22m\n",
      " [10] \u001b[1minclude\u001b[22m\u001b[22m\u001b[1m(\u001b[22m\u001b[22m::String\u001b[1m)\u001b[22m\u001b[22m at \u001b[1m./sysimg.jl:14\u001b[22m\u001b[22m\n",
      " [11] \u001b[1minclude_from_node1\u001b[22m\u001b[22m\u001b[1m(\u001b[22m\u001b[22m::String\u001b[1m)\u001b[22m\u001b[22m at \u001b[1m./loading.jl:569\u001b[22m\u001b[22m\n",
      " [12] \u001b[1minclude\u001b[22m\u001b[22m\u001b[1m(\u001b[22m\u001b[22m::String\u001b[1m)\u001b[22m\u001b[22m at \u001b[1m./sysimg.jl:14\u001b[22m\u001b[22m\n",
      " [13] \u001b[1mprocess_options\u001b[22m\u001b[22m\u001b[1m(\u001b[22m\u001b[22m::Base.JLOptions\u001b[1m)\u001b[22m\u001b[22m at \u001b[1m./client.jl:305\u001b[22m\u001b[22m\n",
      " [14] \u001b[1m_start\u001b[22m\u001b[22m\u001b[1m(\u001b[22m\u001b[22m\u001b[1m)\u001b[22m\u001b[22m at \u001b[1m./client.jl:371\u001b[22m\u001b[22m\n",
      "while loading /Users/alanedelman/.julia/v0.6/GLVisualize/examples/gui/fractal_lines.jl, in expression starting on line 147\n",
      "\u001b[1m\u001b[33mWARNING: \u001b[39m\u001b[22m\u001b[33mArray{T}(::Type{T}, m::Int) is deprecated, use Array{T}(m) instead.\u001b[39m\n",
      "Stacktrace:\n",
      " [1] \u001b[1mdepwarn\u001b[22m\u001b[22m\u001b[1m(\u001b[22m\u001b[22m::String, ::Symbol\u001b[1m)\u001b[22m\u001b[22m at \u001b[1m./deprecated.jl:70\u001b[22m\u001b[22m\n",
      " [2] \u001b[1mArray\u001b[22m\u001b[22m\u001b[1m(\u001b[22m\u001b[22m::Type{Tuple{Float32,Float32}}, ::Int64\u001b[1m)\u001b[22m\u001b[22m at \u001b[1m./deprecated.jl:57\u001b[22m\u001b[22m\n",
      " [3] \u001b[1minclude_from_node1\u001b[22m\u001b[22m\u001b[1m(\u001b[22m\u001b[22m::String\u001b[1m)\u001b[22m\u001b[22m at \u001b[1m./loading.jl:569\u001b[22m\u001b[22m\n",
      " [4] \u001b[1minclude\u001b[22m\u001b[22m\u001b[1m(\u001b[22m\u001b[22m::String\u001b[1m)\u001b[22m\u001b[22m at \u001b[1m./sysimg.jl:14\u001b[22m\u001b[22m\n",
      " [5] \u001b[1m_test_include\u001b[22m\u001b[22m\u001b[1m(\u001b[22m\u001b[22m::String, ::ExampleRunner.RunnerConfig\u001b[1m)\u001b[22m\u001b[22m at \u001b[1m/Users/alanedelman/.julia/v0.6/GLVisualize/src/../examples/ExampleRunner.jl:323\u001b[22m\u001b[22m\n",
      " [6] \u001b[1minner_test\u001b[22m\u001b[22m\u001b[1m(\u001b[22m\u001b[22m::String, ::ExampleRunner.RunnerConfig, ::GLWindow.Screen, ::Base.RefValue{Bool}, ::Base.RefValue{Int64}, ::ExampleRunner.#increase#23{Base.RefValue{Int64}}\u001b[1m)\u001b[22m\u001b[22m at \u001b[1m/Users/alanedelman/.julia/v0.6/GLVisualize/src/../examples/ExampleRunner.jl:376\u001b[22m\u001b[22m\n",
      " [7] \u001b[1mmake_tests\u001b[22m\u001b[22m\u001b[1m(\u001b[22m\u001b[22m::ExampleRunner.RunnerConfig\u001b[1m)\u001b[22m\u001b[22m at \u001b[1m/Users/alanedelman/.julia/v0.6/GLVisualize/src/../examples/ExampleRunner.jl:456\u001b[22m\u001b[22m\n",
      " [8] \u001b[1mrun\u001b[22m\u001b[22m\u001b[1m(\u001b[22m\u001b[22m::ExampleRunner.RunnerConfig\u001b[1m)\u001b[22m\u001b[22m at \u001b[1m/Users/alanedelman/.julia/v0.6/GLVisualize/src/../examples/ExampleRunner.jl:482\u001b[22m\u001b[22m\n",
      " [9] \u001b[1minclude_from_node1\u001b[22m\u001b[22m\u001b[1m(\u001b[22m\u001b[22m::String\u001b[1m)\u001b[22m\u001b[22m at \u001b[1m./loading.jl:569\u001b[22m\u001b[22m\n",
      " [10] \u001b[1minclude\u001b[22m\u001b[22m\u001b[1m(\u001b[22m\u001b[22m::String\u001b[1m)\u001b[22m\u001b[22m at \u001b[1m./sysimg.jl:14\u001b[22m\u001b[22m\n",
      " [11] \u001b[1minclude_from_node1\u001b[22m\u001b[22m\u001b[1m(\u001b[22m\u001b[22m::String\u001b[1m)\u001b[22m\u001b[22m at \u001b[1m./loading.jl:569\u001b[22m\u001b[22m\n",
      " [12] \u001b[1minclude\u001b[22m\u001b[22m\u001b[1m(\u001b[22m\u001b[22m::String\u001b[1m)\u001b[22m\u001b[22m at \u001b[1m./sysimg.jl:14\u001b[22m\u001b[22m\n",
      " [13] \u001b[1mprocess_options\u001b[22m\u001b[22m\u001b[1m(\u001b[22m\u001b[22m::Base.JLOptions\u001b[1m)\u001b[22m\u001b[22m at \u001b[1m./client.jl:305\u001b[22m\u001b[22m\n",
      " [14] \u001b[1m_start\u001b[22m\u001b[22m\u001b[1m(\u001b[22m\u001b[22m\u001b[1m)\u001b[22m\u001b[22m at \u001b[1m./client.jl:371\u001b[22m\u001b[22m\n",
      "while loading /Users/alanedelman/.julia/v0.6/GLVisualize/examples/gui/fractal_lines.jl, in expression starting on line 152\n"
     ]
    },
    {
     "name": "stdout",
     "output_type": "stream",
     "text": [
      "Now showing fractal_lines.jl:\n",
      "\n",
      "Now showing mandalas.jl:\n",
      "\n",
      "Now showing drawing.jl:\n",
      "\n",
      "Now showing graph_editing.jl:\n",
      "\n",
      "Now showing mario_game.jl:\n",
      "\n",
      "Now showing text_particle.jl:\n",
      "\n",
      "Now showing playslider.jl:\n",
      "\n",
      "Now showing contourf.jl:\n",
      "\n",
      "Now showing imageio.jl:\n",
      "\n",
      "Now showing parametric_fun.jl:\n",
      "\n",
      "Now showing documentation.jl:\n",
      "\n",
      "Now showing simulation.jl:\n",
      "\n"
     ]
    },
    {
     "name": "stderr",
     "output_type": "stream",
     "text": [
      "ffmpeg version 3.1.3 Copyright (c) 2000-2016 the FFmpeg developers\n",
      "  built with Apple LLVM version 7.0.2 (clang-700.1.81)\n",
      "  configuration: --prefix=/usr/local/Cellar/ffmpeg/3.1.3 --enable-shared --enable-pthreads --enable-gpl --enable-version3 --enable-hardcoded-tables --enable-avresample --cc=clang --host-cflags= --host-ldflags= --enable-opencl --enable-libx264 --enable-libmp3lame --enable-libxvid --disable-lzma --enable-vda\n",
      "  libavutil      55. 28.100 / 55. 28.100\n",
      "  libavcodec     57. 48.101 / 57. 48.101\n",
      "  libavformat    57. 41.100 / 57. 41.100\n",
      "  libavdevice    57.  0.101 / 57.  0.101\n",
      "  libavfilter     6. 47.100 /  6. 47.100\n",
      "  libavresample   3.  0.  0 /  3.  0.  0\n",
      "  libswscale      4.  1.100 /  4.  1.100\n",
      "  libswresample   2.  1.100 /  2.  1.100\n",
      "  libpostproc    54.  0.100 / 54.  0.100\n",
      "Input #0, rawvideo, from 'pipe:0':\n",
      "  Duration: N/A, start: 0.000000, bitrate: 1002105 kb/s\n",
      "    Stream #0:0: Video: rawvideo (RGB[24] / 0x18424752), rgb24, 1713x975, 1002105 kb/s, 25 tbr, 25 tbn, 25 tbc\n",
      "No pixel format specified, yuv444p for H.264 encoding chosen.\n",
      "Use -pix_fmt yuv420p for compatibility with outdated media players.\n",
      "[libx264 @ 0x7f9a7c008600] using cpu capabilities: MMX2 SSE2Fast SSSE3 SSE4.2 AVX FMA3 AVX2 LZCNT BMI2\n",
      "[libx264 @ 0x7f9a7c008600] profile High 4:4:4 Predictive, level 4.0, 4:4:4 8-bit\n",
      "[libx264 @ 0x7f9a7c008600] 264 - core 148 r2668 fd2c324 - H.264/MPEG-4 AVC codec - Copyleft 2003-2016 - http://www.videolan.org/x264.html - options: cabac=1 ref=3 deblock=1:0:0 analyse=0x3:0x113 me=hex subme=7 psy=1 psy_rd=1.00:0.00 mixed_ref=1 me_range=16 chroma_me=1 trellis=1 8x8dct=1 cqm=0 deadzone=21,11 fast_pskip=1 chroma_qp_offset=4 threads=12 lookahead_threads=2 sliced_threads=0 nr=0 decimate=1 interlaced=0 bluray_compat=0 constrained_intra=0 bframes=3 b_pyramid=2 b_adapt=1 b_bias=0 direct=1 weightb=1 open_gop=0 weightp=2 keyint=250 keyint_min=25 scenecut=40 intra_refresh=0 rc_lookahead=40 rc=crf mbtree=1 crf=23.0 qcomp=0.60 qpmin=0 qpmax=69 qpstep=4 ip_ratio=1.40 aq=1:1.00\n",
      "[matroska @ 0x7f9a7c003200] Using AVStream.codec to pass codec parameters to muxers is deprecated, use AVStream.codecpar instead.\n",
      "Output #0, matroska, to '/Users/alanedelman/fxdkBHdE.mkv':\n",
      "  Metadata:\n",
      "    encoder         : Lavf57.41.100\n",
      "    Stream #0:0: Video: h264 (libx264) (H264 / 0x34363248), yuv444p, 1713x975, q=-1--1, 25 fps, 1k tbn, 25 tbc\n",
      "    Metadata:\n",
      "      encoder         : Lavc57.48.101 libx264\n",
      "    Side data:\n",
      "      cpb: bitrate max/min/avg: 0/0/0 buffer size: 0 vbv_delay: -1\n",
      "Stream mapping:\n",
      "  Stream #0:0 -> #0:0 (rawvideo (native) -> h264 (libx264))\n",
      "[swscaler @ 0x7f9a7d000600] Warning: data is not aligned! This can lead to a speedloss\n"
     ]
    },
    {
     "name": "stdout",
     "output_type": "stream",
     "text": [
      "Now showing video_recording.jl:\n",
      "\n"
     ]
    },
    {
     "name": "stderr",
     "output_type": "stream",
     "text": [
      "[rawvideo @ 0x7f9a7d000000] Invalid buffer size, packet size 3622995 < expected frame_size 5010525\n",
      "Error while decoding stream #0:0: Invalid argument\n",
      "frame=    7 fps=0.0 q=-1.0 Lsize=       2kB time=00:00:00.16 bitrate= 111.2kbits/s speed=0.532x    \n",
      "video:1kB audio:0kB subtitle:0kB other streams:0kB global headers:0kB muxing overhead: 54.382332%\n",
      "[libx264 @ 0x7f9a7c008600] frame I:1     Avg QP:10.00  size:   403\n",
      "[libx264 @ 0x7f9a7c008600] frame P:2     Avg QP:12.00  size:    62\n",
      "[libx264 @ 0x7f9a7c008600] frame B:4     Avg QP:12.75  size:    58\n",
      "[libx264 @ 0x7f9a7c008600] consecutive B-frames: 14.3% 28.6%  0.0% 57.1%\n",
      "[libx264 @ 0x7f9a7c008600] mb I  I16..4:  0.0% 100.0%  0.0%\n",
      "[libx264 @ 0x7f9a7c008600] mb P  I16..4:  0.0%  0.0%  0.0%  P16..4:  0.0%  0.0%  0.0%  0.0%  0.0%    skip:100.0%\n",
      "[libx264 @ 0x7f9a7c008600] mb B  I16..4:  0.0%  0.0%  0.0%  B16..8:  0.0%  0.0%  0.0%  direct: 0.0%  skip:100.0%\n",
      "[libx264 @ 0x7f9a7c008600] 8x8 transform intra:100.0%\n",
      "[libx264 @ 0x7f9a7c008600] coded y,u,v intra: 0.0% 0.0% 0.0% inter: 0.0% 0.0% 0.0%\n",
      "[libx264 @ 0x7f9a7c008600] i16 v,h,dc,p:  0%  0% 100%  0%\n",
      "[libx264 @ 0x7f9a7c008600] i8 v,h,dc,ddl,ddr,vr,hd,vl,hu:  0%  0% 100%  0%  0%  0%  0%  0%  0%\n",
      "[libx264 @ 0x7f9a7c008600] Weighted P-Frames: Y:0.0% UV:0.0%\n",
      "[libx264 @ 0x7f9a7c008600] kb/s:21.71\n"
     ]
    },
    {
     "name": "stdout",
     "output_type": "stream",
     "text": [
      "Now showing contourlines.jl:\n",
      "\n",
      "Now showing lines2D.jl:\n",
      "\n",
      "Now showing lines3D.jl:\n",
      "\n",
      "Now showing linesegments3d.jl:\n",
      "\n",
      "Now showing multilines.jl:\n",
      "\n",
      "Now showing meshcreation.jl:\n",
      "\n",
      "Now showing vertexcolor.jl:\n",
      "\n",
      "Now showing wireframe.jl:\n",
      "\n",
      "Now showing bars.jl:\n",
      "\n",
      "Now showing cubicles.jl:\n",
      "\n",
      "Now showing flow3D.jl:\n",
      "\n",
      "Now showing particles.jl:\n",
      "\n",
      "Now showing sphere1Drange.jl:\n",
      "\n",
      "Now showing arrows.jl:\n",
      "\n",
      "Now showing arrows3d.jl:\n",
      "\n",
      "Now showing billboard.jl:\n",
      "\n",
      "Now showing bouncy.jl:\n",
      "\n",
      "Now showing distancefield.jl:\n",
      "\n",
      "Now showing image_texture_atlas.jl:\n",
      "\n",
      "Now showing letitsnow.jl:\n",
      "\n",
      "Now showing mesmerizing.jl:\n",
      "\n",
      "Now showing moving_bars.jl:\n",
      "\n",
      "Now showing moving_circles.jl:\n",
      "\n",
      "Now showing juliaset.jl:\n",
      "\n",
      "Now showing mesh.jl:\n",
      "\n",
      "Now showing surface.jl:\n",
      "\n"
     ]
    },
    {
     "name": "stderr",
     "output_type": "stream",
     "text": [
      "\u001b[1m\u001b[33mWARNING: \u001b[39m\u001b[22m\u001b[33mmap!{F}(f::F, A::AbstractArray) is deprecated, use map!(f, A, A) instead.\u001b[39m\n",
      "Stacktrace:\n",
      " [1] \u001b[1mdepwarn\u001b[22m\u001b[22m\u001b[1m(\u001b[22m\u001b[22m::String, ::Symbol\u001b[1m)\u001b[22m\u001b[22m at \u001b[1m./deprecated.jl:70\u001b[22m\u001b[22m\n",
      " [2] \u001b[1mmap!\u001b[22m\u001b[22m\u001b[1m(\u001b[22m\u001b[22m::ExampleRunner.annotations.##2#7, ::Array{GeometryTypes.Point{2,Float32},1}\u001b[1m)\u001b[22m\u001b[22m at \u001b[1m./deprecated.jl:57\u001b[22m\u001b[22m\n",
      " [3] \u001b[1m(::Reactive.##45#46{ExampleRunner.annotations.##1#6,Reactive.Signal{Array{GeometryTypes.Point{2,Float32},1}},Tuple{Reactive.Signal{Float32}}})\u001b[22m\u001b[22m\u001b[1m(\u001b[22m\u001b[22m\u001b[1m)\u001b[22m\u001b[22m at \u001b[1m/Users/alanedelman/.julia/v0.6/Reactive/src/operators.jl:120\u001b[22m\u001b[22m\n",
      " [4] \u001b[1mforeach\u001b[22m\u001b[22m\u001b[1m(\u001b[22m\u001b[22m::Reactive.#runaction, ::Array{Function,1}\u001b[1m)\u001b[22m\u001b[22m at \u001b[1m./abstractarray.jl:1731\u001b[22m\u001b[22m\n",
      " [5] \u001b[1mrun_node\u001b[22m\u001b[22m\u001b[1m(\u001b[22m\u001b[22m::Reactive.Signal{Array{GeometryTypes.Point{2,Float32},1}}\u001b[1m)\u001b[22m\u001b[22m at \u001b[1m/Users/alanedelman/.julia/v0.6/Reactive/src/core.jl:312\u001b[22m\u001b[22m\n",
      " [6] \u001b[1mrun_push\u001b[22m\u001b[22m\u001b[1m(\u001b[22m\u001b[22m::Reactive.Signal{Int64}, ::Int64, ::Reactive.#print_error, ::Bool\u001b[1m)\u001b[22m\u001b[22m at \u001b[1m/Users/alanedelman/.julia/v0.6/Reactive/src/core.jl:330\u001b[22m\u001b[22m\n",
      " [7] \u001b[1mrun_push\u001b[22m\u001b[22m\u001b[1m(\u001b[22m\u001b[22m::Reactive.Signal{Int64}, ::Int64, ::Function\u001b[1m)\u001b[22m\u001b[22m at \u001b[1m/Users/alanedelman/.julia/v0.6/Reactive/src/core.jl:317\u001b[22m\u001b[22m\n",
      " [8] \u001b[1mrun\u001b[22m\u001b[22m\u001b[1m(\u001b[22m\u001b[22m::Int64\u001b[1m)\u001b[22m\u001b[22m at \u001b[1m/Users/alanedelman/.julia/v0.6/Reactive/src/core.jl:277\u001b[22m\u001b[22m\n",
      " [9] \u001b[1m(::Reactive.##27#29)\u001b[22m\u001b[22m\u001b[1m(\u001b[22m\u001b[22m\u001b[1m)\u001b[22m\u001b[22m at \u001b[1m./task.jl:335\u001b[22m\u001b[22m\n",
      "while loading /Users/alanedelman/.julia/v0.6/GLVisualize/examples/text/annotations.jl, in expression starting on line 28\n",
      "\u001b[1m\u001b[33mWARNING: \u001b[39m\u001b[22m\u001b[33mmap!{F}(f::F, A::AbstractArray) is deprecated, use map!(f, A, A) instead.\u001b[39m\n",
      "Stacktrace:\n",
      " [1] \u001b[1mdepwarn\u001b[22m\u001b[22m\u001b[1m(\u001b[22m\u001b[22m::String, ::Symbol\u001b[1m)\u001b[22m\u001b[22m at \u001b[1m./deprecated.jl:70\u001b[22m\u001b[22m\n",
      " [2] \u001b[1mmap!\u001b[22m\u001b[22m\u001b[1m(\u001b[22m\u001b[22m::ExampleRunner.annotations.##2#7, ::Array{GeometryTypes.Point{2,Float32},1}\u001b[1m)\u001b[22m\u001b[22m at \u001b[1m./deprecated.jl:57\u001b[22m\u001b[22m\n",
      " [3] \u001b[1m(::Reactive.##45#46{ExampleRunner.annotations.##1#6,Reactive.Signal{Array{GeometryTypes.Point{2,Float32},1}},Tuple{Reactive.Signal{Float32}}})\u001b[22m\u001b[22m\u001b[1m(\u001b[22m\u001b[22m\u001b[1m)\u001b[22m\u001b[22m at \u001b[1m/Users/alanedelman/.julia/v0.6/Reactive/src/operators.jl:120\u001b[22m\u001b[22m\n",
      " [4] \u001b[1mforeach\u001b[22m\u001b[22m\u001b[1m(\u001b[22m\u001b[22m::Reactive.#runaction, ::Array{Function,1}\u001b[1m)\u001b[22m\u001b[22m at \u001b[1m./abstractarray.jl:1731\u001b[22m\u001b[22m\n",
      " [5] \u001b[1mrun_node\u001b[22m\u001b[22m\u001b[1m(\u001b[22m\u001b[22m::Reactive.Signal{Array{GeometryTypes.Point{2,Float32},1}}\u001b[1m)\u001b[22m\u001b[22m at \u001b[1m/Users/alanedelman/.julia/v0.6/Reactive/src/core.jl:312\u001b[22m\u001b[22m\n",
      " [6] \u001b[1mrun_push\u001b[22m\u001b[22m\u001b[1m(\u001b[22m\u001b[22m::Reactive.Signal{Int64}, ::Int64, ::Reactive.#print_error, ::Bool\u001b[1m)\u001b[22m\u001b[22m at \u001b[1m/Users/alanedelman/.julia/v0.6/Reactive/src/core.jl:330\u001b[22m\u001b[22m\n",
      " [7] \u001b[1mrun_push\u001b[22m\u001b[22m\u001b[1m(\u001b[22m\u001b[22m::Reactive.Signal{Int64}, ::Int64, ::Function\u001b[1m)\u001b[22m\u001b[22m at \u001b[1m/Users/alanedelman/.julia/v0.6/Reactive/src/core.jl:317\u001b[22m\u001b[22m\n",
      " [8] \u001b[1mrun\u001b[22m\u001b[22m\u001b[1m(\u001b[22m\u001b[22m::Int64\u001b[1m)\u001b[22m\u001b[22m at \u001b[1m/Users/alanedelman/.julia/v0.6/Reactive/src/core.jl:277\u001b[22m\u001b[22m\n",
      " [9] \u001b[1m(::Reactive.##27#29)\u001b[22m\u001b[22m\u001b[1m(\u001b[22m\u001b[22m\u001b[1m)\u001b[22m\u001b[22m at \u001b[1m./task.jl:335\u001b[22m\u001b[22m\n",
      "while loading /Users/alanedelman/.julia/v0.6/GLVisualize/examples/text/annotations.jl, in expression starting on line 29\n",
      "\u001b[1m\u001b[33mWARNING: \u001b[39m\u001b[22m\u001b[33mmap!{F}(f::F, A::AbstractArray) is deprecated, use map!(f, A, A) instead.\u001b[39m\n",
      "Stacktrace:\n",
      " [1] \u001b[1mdepwarn\u001b[22m\u001b[22m\u001b[1m(\u001b[22m\u001b[22m::String, ::Symbol\u001b[1m)\u001b[22m\u001b[22m at \u001b[1m./deprecated.jl:70\u001b[22m\u001b[22m\n",
      " [2] \u001b[1mmap!\u001b[22m\u001b[22m\u001b[1m(\u001b[22m\u001b[22m::ExampleRunner.annotations.##2#7, ::Array{GeometryTypes.Point{2,Float32},1}\u001b[1m)\u001b[22m\u001b[22m at \u001b[1m./deprecated.jl:57\u001b[22m\u001b[22m\n",
      " [3] \u001b[1m(::Reactive.##45#46{ExampleRunner.annotations.##1#6,Reactive.Signal{Array{GeometryTypes.Point{2,Float32},1}},Tuple{Reactive.Signal{Float32}}})\u001b[22m\u001b[22m\u001b[1m(\u001b[22m\u001b[22m\u001b[1m)\u001b[22m\u001b[22m at \u001b[1m/Users/alanedelman/.julia/v0.6/Reactive/src/operators.jl:120\u001b[22m\u001b[22m\n",
      " [4] \u001b[1mforeach\u001b[22m\u001b[22m\u001b[1m(\u001b[22m\u001b[22m::Reactive.#runaction, ::Array{Function,1}\u001b[1m)\u001b[22m\u001b[22m at \u001b[1m./abstractarray.jl:1731\u001b[22m\u001b[22m\n",
      " [5] \u001b[1mrun_node\u001b[22m\u001b[22m\u001b[1m(\u001b[22m\u001b[22m::Reactive.Signal{Array{GeometryTypes.Point{2,Float32},1}}\u001b[1m)\u001b[22m\u001b[22m at \u001b[1m/Users/alanedelman/.julia/v0.6/Reactive/src/core.jl:312\u001b[22m\u001b[22m\n",
      " [6] \u001b[1mrun_push\u001b[22m\u001b[22m\u001b[1m(\u001b[22m\u001b[22m::Reactive.Signal{Int64}, ::Int64, ::Reactive.#print_error, ::Bool\u001b[1m)\u001b[22m\u001b[22m at \u001b[1m/Users/alanedelman/.julia/v0.6/Reactive/src/core.jl:330\u001b[22m\u001b[22m\n",
      " [7] \u001b[1mrun_push\u001b[22m\u001b[22m\u001b[1m(\u001b[22m\u001b[22m::Reactive.Signal{Int64}, ::Int64, ::Function\u001b[1m)\u001b[22m\u001b[22m at \u001b[1m/Users/alanedelman/.julia/v0.6/Reactive/src/core.jl:317\u001b[22m\u001b[22m\n",
      " [8] \u001b[1mrun\u001b[22m\u001b[22m\u001b[1m(\u001b[22m\u001b[22m::Int64\u001b[1m)\u001b[22m\u001b[22m at \u001b[1m/Users/alanedelman/.julia/v0.6/Reactive/src/core.jl:277\u001b[22m\u001b[22m\n",
      " [9] \u001b[1m(::Reactive.##27#29)\u001b[22m\u001b[22m\u001b[1m(\u001b[22m\u001b[22m\u001b[1m)\u001b[22m\u001b[22m at \u001b[1m./task.jl:335\u001b[22m\u001b[22m\n",
      "while loading /Users/alanedelman/.julia/v0.6/GLVisualize/examples/text/annotations.jl, in expression starting on line 34\n",
      "\u001b[1m\u001b[33mWARNING: \u001b[39m\u001b[22m\u001b[33mmap!{F}(f::F, A::AbstractArray) is deprecated, use map!(f, A, A) instead.\u001b[39m\n",
      "Stacktrace:\n",
      " [1] \u001b[1mdepwarn\u001b[22m\u001b[22m\u001b[1m(\u001b[22m\u001b[22m::String, ::Symbol\u001b[1m)\u001b[22m\u001b[22m at \u001b[1m./deprecated.jl:70\u001b[22m\u001b[22m\n",
      " [2] \u001b[1mmap!\u001b[22m\u001b[22m\u001b[1m(\u001b[22m\u001b[22m::ExampleRunner.annotations.##2#7, ::Array{GeometryTypes.Point{2,Float32},1}\u001b[1m)\u001b[22m\u001b[22m at \u001b[1m./deprecated.jl:57\u001b[22m\u001b[22m\n",
      " [3] \u001b[1m(::Reactive.##45#46{ExampleRunner.annotations.##1#6,Reactive.Signal{Array{GeometryTypes.Point{2,Float32},1}},Tuple{Reactive.Signal{Float32}}})\u001b[22m\u001b[22m\u001b[1m(\u001b[22m\u001b[22m\u001b[1m)\u001b[22m\u001b[22m at \u001b[1m/Users/alanedelman/.julia/v0.6/Reactive/src/operators.jl:120\u001b[22m\u001b[22m\n",
      " [4] \u001b[1mforeach\u001b[22m\u001b[22m\u001b[1m(\u001b[22m\u001b[22m::Reactive.#runaction, ::Array{Function,1}\u001b[1m)\u001b[22m\u001b[22m at \u001b[1m./abstractarray.jl:1731\u001b[22m\u001b[22m\n",
      " [5] \u001b[1mrun_node\u001b[22m\u001b[22m\u001b[1m(\u001b[22m\u001b[22m::Reactive.Signal{Array{GeometryTypes.Point{2,Float32},1}}\u001b[1m)\u001b[22m\u001b[22m at \u001b[1m/Users/alanedelman/.julia/v0.6/Reactive/src/core.jl:312\u001b[22m\u001b[22m\n",
      " [6] \u001b[1mrun_push\u001b[22m\u001b[22m\u001b[1m(\u001b[22m\u001b[22m::Reactive.Signal{Int64}, ::Int64, ::Reactive.#print_error, ::Bool\u001b[1m)\u001b[22m\u001b[22m at \u001b[1m/Users/alanedelman/.julia/v0.6/Reactive/src/core.jl:330\u001b[22m\u001b[22m\n",
      " [7] \u001b[1mrun_push\u001b[22m\u001b[22m\u001b[1m(\u001b[22m\u001b[22m::Reactive.Signal{Int64}, ::Int64, ::Function\u001b[1m)\u001b[22m\u001b[22m at \u001b[1m/Users/alanedelman/.julia/v0.6/Reactive/src/core.jl:317\u001b[22m\u001b[22m\n",
      " [8] \u001b[1mrun\u001b[22m\u001b[22m\u001b[1m(\u001b[22m\u001b[22m::Int64\u001b[1m)\u001b[22m\u001b[22m at \u001b[1m/Users/alanedelman/.julia/v0.6/Reactive/src/core.jl:277\u001b[22m\u001b[22m\n",
      " [9] \u001b[1m(::Reactive.##27#29)\u001b[22m\u001b[22m\u001b[1m(\u001b[22m\u001b[22m\u001b[1m)\u001b[22m\u001b[22m at \u001b[1m./task.jl:335\u001b[22m\u001b[22m\n",
      "while loading /Users/alanedelman/.julia/v0.6/GLVisualize/examples/text/annotations.jl, in expression starting on line 42\n"
     ]
    },
    {
     "name": "stdout",
     "output_type": "stream",
     "text": [
      "Now showing annotations.jl:\n",
      "\n"
     ]
    },
    {
     "name": "stderr",
     "output_type": "stream",
     "text": [
      "\u001b[1m\u001b[33mWARNING: \u001b[39m\u001b[22m\u001b[33mmap!{F}(f::F, A::AbstractArray) is deprecated, use map!(f, A, A) instead.\u001b[39m\n",
      "Stacktrace:\n",
      " [1] \u001b[1mdepwarn\u001b[22m\u001b[22m\u001b[1m(\u001b[22m\u001b[22m::String, ::Symbol\u001b[1m)\u001b[22m\u001b[22m at \u001b[1m./deprecated.jl:70\u001b[22m\u001b[22m\n",
      " [2] \u001b[1mmap!\u001b[22m\u001b[22m\u001b[1m(\u001b[22m\u001b[22m::ExampleRunner.annotations.##2#7, ::Array{GeometryTypes.Point{2,Float32},1}\u001b[1m)\u001b[22m\u001b[22m at \u001b[1m./deprecated.jl:57\u001b[22m\u001b[22m\n",
      " [3] \u001b[1m(::Reactive.##45#46{ExampleRunner.annotations.##1#6,Reactive.Signal{Array{GeometryTypes.Point{2,Float32},1}},Tuple{Reactive.Signal{Float32}}})\u001b[22m\u001b[22m\u001b[1m(\u001b[22m\u001b[22m\u001b[1m)\u001b[22m\u001b[22m at \u001b[1m/Users/alanedelman/.julia/v0.6/Reactive/src/operators.jl:120\u001b[22m\u001b[22m\n",
      " [4] \u001b[1mforeach\u001b[22m\u001b[22m\u001b[1m(\u001b[22m\u001b[22m::Reactive.#runaction, ::Array{Function,1}\u001b[1m)\u001b[22m\u001b[22m at \u001b[1m./abstractarray.jl:1731\u001b[22m\u001b[22m\n",
      " [5] \u001b[1mrun_node\u001b[22m\u001b[22m\u001b[1m(\u001b[22m\u001b[22m::Reactive.Signal{Array{GeometryTypes.Point{2,Float32},1}}\u001b[1m)\u001b[22m\u001b[22m at \u001b[1m/Users/alanedelman/.julia/v0.6/Reactive/src/core.jl:312\u001b[22m\u001b[22m\n",
      " [6] \u001b[1mrun_push\u001b[22m\u001b[22m\u001b[1m(\u001b[22m\u001b[22m::Reactive.Signal{Int64}, ::Int64, ::Reactive.#print_error, ::Bool\u001b[1m)\u001b[22m\u001b[22m at \u001b[1m/Users/alanedelman/.julia/v0.6/Reactive/src/core.jl:330\u001b[22m\u001b[22m\n",
      " [7] \u001b[1mrun_push\u001b[22m\u001b[22m\u001b[1m(\u001b[22m\u001b[22m::Reactive.Signal{Int64}, ::Int64, ::Function\u001b[1m)\u001b[22m\u001b[22m at \u001b[1m/Users/alanedelman/.julia/v0.6/Reactive/src/core.jl:317\u001b[22m\u001b[22m\n",
      " [8] \u001b[1mrun\u001b[22m\u001b[22m\u001b[1m(\u001b[22m\u001b[22m::Int64\u001b[1m)\u001b[22m\u001b[22m at \u001b[1m/Users/alanedelman/.julia/v0.6/Reactive/src/core.jl:277\u001b[22m\u001b[22m\n",
      " [9] \u001b[1m(::Reactive.##27#29)\u001b[22m\u001b[22m\u001b[1m(\u001b[22m\u001b[22m\u001b[1m)\u001b[22m\u001b[22m at \u001b[1m./task.jl:335\u001b[22m\u001b[22m\n",
      "while loading /Users/alanedelman/.julia/v0.6/GLVisualize/test/test_interactive.jl, in expression starting on line 36\n"
     ]
    },
    {
     "name": "stdout",
     "output_type": "stream",
     "text": [
      "Now showing text.jl:\n",
      "\n",
      "Now showing maximum_intensity_projection.jl:\n",
      "\n",
      "Now showing volume.jl:\n",
      "\n"
     ]
    },
    {
     "name": "stderr",
     "output_type": "stream",
     "text": [
      "\u001b[1m\u001b[91mERROR: \u001b[39m\u001b[22mLoadError: LoadError: \u001b[91mBoundsError: attempt to access 52-element Array{Bool,1} at index [53]\u001b[39m\n",
      "Stacktrace:\n",
      " [1] \u001b[1msetindex!\u001b[22m\u001b[22m\u001b[1m(\u001b[22m\u001b[22m::Array{Bool,1}, ::Bool, ::Int64\u001b[1m)\u001b[22m\u001b[22m at \u001b[1m./array.jl:549\u001b[22m\u001b[22m\n",
      " [2] \u001b[1mmake_tests\u001b[22m\u001b[22m\u001b[1m(\u001b[22m\u001b[22m::ExampleRunner.RunnerConfig\u001b[1m)\u001b[22m\u001b[22m at \u001b[1m/Users/alanedelman/.julia/v0.6/GLVisualize/src/../examples/ExampleRunner.jl:456\u001b[22m\u001b[22m\n",
      " [3] \u001b[1mrun\u001b[22m\u001b[22m\u001b[1m(\u001b[22m\u001b[22m::ExampleRunner.RunnerConfig\u001b[1m)\u001b[22m\u001b[22m at \u001b[1m/Users/alanedelman/.julia/v0.6/GLVisualize/src/../examples/ExampleRunner.jl:482\u001b[22m\u001b[22m\n",
      " [4] \u001b[1minclude_from_node1\u001b[22m\u001b[22m\u001b[1m(\u001b[22m\u001b[22m::String\u001b[1m)\u001b[22m\u001b[22m at \u001b[1m./loading.jl:569\u001b[22m\u001b[22m\n",
      " [5] \u001b[1minclude\u001b[22m\u001b[22m\u001b[1m(\u001b[22m\u001b[22m::String\u001b[1m)\u001b[22m\u001b[22m at \u001b[1m./sysimg.jl:14\u001b[22m\u001b[22m\n",
      " [6] \u001b[1minclude_from_node1\u001b[22m\u001b[22m\u001b[1m(\u001b[22m\u001b[22m::String\u001b[1m)\u001b[22m\u001b[22m at \u001b[1m./loading.jl:569\u001b[22m\u001b[22m\n",
      " [7] \u001b[1minclude\u001b[22m\u001b[22m\u001b[1m(\u001b[22m\u001b[22m::String\u001b[1m)\u001b[22m\u001b[22m at \u001b[1m./sysimg.jl:14\u001b[22m\u001b[22m\n",
      " [8] \u001b[1mprocess_options\u001b[22m\u001b[22m\u001b[1m(\u001b[22m\u001b[22m::Base.JLOptions\u001b[1m)\u001b[22m\u001b[22m at \u001b[1m./client.jl:305\u001b[22m\u001b[22m\n",
      " [9] \u001b[1m_start\u001b[22m\u001b[22m\u001b[1m(\u001b[22m\u001b[22m\u001b[1m)\u001b[22m\u001b[22m at \u001b[1m./client.jl:371\u001b[22m\u001b[22m\n",
      "while loading /Users/alanedelman/.julia/v0.6/GLVisualize/test/test_interactive.jl, in expression starting on line 36\n",
      "while loading /Users/alanedelman/.julia/v0.6/GLVisualize/test/runtests.jl, in expression starting on line 12\n",
      "\u001b[1m\u001b[33m\u001b[39m\u001b[22m\u001b[33m=============================[ ERROR: GLVisualize ]=============================\u001b[39m\n",
      "\n",
      "\u001b[1m\u001b[33m\u001b[39m\u001b[22m\u001b[33mfailed process: Process(`/Applications/Julia-0.6.app/Contents/Resources/julia/bin/julia -Ccore2 -J/Applications/Julia-0.6.app/Contents/Resources/julia/lib/julia/sys.dylib --compile=yes --depwarn=yes --check-bounds=yes --code-coverage=none --color=yes --compilecache=yes /Users/alanedelman/.julia/v0.6/GLVisualize/test/runtests.jl`, ProcessExited(1)) [1]\u001b[39m\n",
      "\n",
      "\u001b[1m\u001b[33m\u001b[39m\u001b[22m\u001b[33m================================================================================\u001b[39m\n",
      "\u001b[1m\u001b[36mINFO: \u001b[39m\u001b[22m\u001b[36mRemoving Highlights v0.2.1\n",
      "\u001b[39m"
     ]
    },
    {
     "ename": "LoadError",
     "evalue": "\u001b[91mGLVisualize had test errors\u001b[39m",
     "output_type": "error",
     "traceback": [
      "\u001b[91mGLVisualize had test errors\u001b[39m",
      "",
      "Stacktrace:",
      " [1] \u001b[1m#test#62\u001b[22m\u001b[22m\u001b[1m(\u001b[22m\u001b[22m::Bool, ::Function, ::Array{AbstractString,1}\u001b[1m)\u001b[22m\u001b[22m at \u001b[1m./pkg/entry.jl:757\u001b[22m\u001b[22m",
      " [2] \u001b[1m(::Base.Pkg.Entry.#kw##test)\u001b[22m\u001b[22m\u001b[1m(\u001b[22m\u001b[22m::Array{Any,1}, ::Base.Pkg.Entry.#test, ::Array{AbstractString,1}\u001b[1m)\u001b[22m\u001b[22m at \u001b[1m./<missing>:0\u001b[22m\u001b[22m",
      " [3] \u001b[1m(::Base.Pkg.Dir.##4#7{Array{Any,1},Base.Pkg.Entry.#test,Tuple{Array{AbstractString,1}}})\u001b[22m\u001b[22m\u001b[1m(\u001b[22m\u001b[22m\u001b[1m)\u001b[22m\u001b[22m at \u001b[1m./pkg/dir.jl:36\u001b[22m\u001b[22m",
      " [4] \u001b[1mcd\u001b[22m\u001b[22m\u001b[1m(\u001b[22m\u001b[22m::Base.Pkg.Dir.##4#7{Array{Any,1},Base.Pkg.Entry.#test,Tuple{Array{AbstractString,1}}}, ::String\u001b[1m)\u001b[22m\u001b[22m at \u001b[1m./file.jl:70\u001b[22m\u001b[22m",
      " [5] \u001b[1m#cd#1\u001b[22m\u001b[22m\u001b[1m(\u001b[22m\u001b[22m::Array{Any,1}, ::Function, ::Function, ::Array{AbstractString,1}, ::Vararg{Array{AbstractString,1},N} where N\u001b[1m)\u001b[22m\u001b[22m at \u001b[1m./pkg/dir.jl:36\u001b[22m\u001b[22m",
      " [6] \u001b[1m(::Base.Pkg.Dir.#kw##cd)\u001b[22m\u001b[22m\u001b[1m(\u001b[22m\u001b[22m::Array{Any,1}, ::Base.Pkg.Dir.#cd, ::Function, ::Array{AbstractString,1}, ::Vararg{Array{AbstractString,1},N} where N\u001b[1m)\u001b[22m\u001b[22m at \u001b[1m./<missing>:0\u001b[22m\u001b[22m",
      " [7] \u001b[1m#test#3\u001b[22m\u001b[22m\u001b[1m(\u001b[22m\u001b[22m::Bool, ::Function, ::String, ::Vararg{String,N} where N\u001b[1m)\u001b[22m\u001b[22m at \u001b[1m./pkg/pkg.jl:276\u001b[22m\u001b[22m",
      " [8] \u001b[1mtest\u001b[22m\u001b[22m\u001b[1m(\u001b[22m\u001b[22m::String, ::Vararg{String,N} where N\u001b[1m)\u001b[22m\u001b[22m at \u001b[1m./pkg/pkg.jl:276\u001b[22m\u001b[22m",
      " [9] \u001b[1minclude_string\u001b[22m\u001b[22m\u001b[1m(\u001b[22m\u001b[22m::String, ::String\u001b[1m)\u001b[22m\u001b[22m at \u001b[1m./loading.jl:515\u001b[22m\u001b[22m"
     ]
    }
   ],
   "source": [
    "Pkg.test(\"GLVisualize\")"
   ]
  },
  {
   "cell_type": "code",
   "execution_count": 6,
   "metadata": {},
   "outputs": [
    {
     "data": {
      "text/plain": [
       "4×4 Array{Any,2}:\n",
       " 2.0  3.0  10.1  \"Cat\"    \n",
       " 6.5  3.5  19.9  \"Dog\"    \n",
       " 7.0  4.0  30.1  \"Bird\"   \n",
       " 2.0  6.0  40.3  \"Hamster\""
      ]
     },
     "execution_count": 6,
     "metadata": {},
     "output_type": "execute_result"
    }
   ],
   "source": [
    "data1 = [x1 x2 y pets]"
   ]
  },
  {
   "cell_type": "markdown",
   "metadata": {},
   "source": [
    "### A.2. Data Frames: Inspired by the R universe."
   ]
  },
  {
   "cell_type": "code",
   "execution_count": 5,
   "metadata": {},
   "outputs": [
    {
     "data": {
      "text/html": [
       "<table class=\"data-frame\"><thead><tr><th></th><th>X1</th><th>X2</th><th>Y</th><th>Pets</th></tr></thead><tbody><tr><th>1</th><td>2.0</td><td>3.0</td><td>10.1</td><td>Cat</td></tr><tr><th>2</th><td>6.5</td><td>3.5</td><td>19.9</td><td>Dog</td></tr><tr><th>3</th><td>7.0</td><td>4.0</td><td>30.1</td><td>Bird</td></tr><tr><th>4</th><td>2.0</td><td>6.0</td><td>40.3</td><td>Hamster</td></tr></tbody></table>"
      ],
      "text/plain": [
       "4×4 DataFrames.DataFrame\n",
       "│ Row │ X1  │ X2  │ Y    │ Pets      │\n",
       "├─────┼─────┼─────┼──────┼───────────┤\n",
       "│ 1   │ 2.0 │ 3.0 │ 10.1 │ \"Cat\"     │\n",
       "│ 2   │ 6.5 │ 3.5 │ 19.9 │ \"Dog\"     │\n",
       "│ 3   │ 7.0 │ 4.0 │ 30.1 │ \"Bird\"    │\n",
       "│ 4   │ 2.0 │ 6.0 │ 40.3 │ \"Hamster\" │"
      ]
     },
     "execution_count": 5,
     "metadata": {},
     "output_type": "execute_result"
    }
   ],
   "source": [
    "using DataFrames\n",
    "data2 = DataFrame(X1=x1,X2=x2,Y=y,Pets=pets) #  X1,X2,Y,Pets are labels (not data)"
   ]
  },
  {
   "cell_type": "code",
   "execution_count": 6,
   "metadata": {},
   "outputs": [
    {
     "data": {
      "text/html": [
       "<table class=\"data-frame\"><thead><tr><th></th><th>X2</th><th>Pets</th></tr></thead><tbody><tr><th>1</th><td>3.0</td><td>Cat</td></tr><tr><th>2</th><td>3.5</td><td>Dog</td></tr><tr><th>3</th><td>4.0</td><td>Bird</td></tr><tr><th>4</th><td>6.0</td><td>Hamster</td></tr></tbody></table>"
      ],
      "text/plain": [
       "4×2 DataFrames.DataFrame\n",
       "│ Row │ X2  │ Pets      │\n",
       "├─────┼─────┼───────────┤\n",
       "│ 1   │ 3.0 │ \"Cat\"     │\n",
       "│ 2   │ 3.5 │ \"Dog\"     │\n",
       "│ 3   │ 4.0 │ \"Bird\"    │\n",
       "│ 4   │ 6.0 │ \"Hamster\" │"
      ]
     },
     "execution_count": 6,
     "metadata": {},
     "output_type": "execute_result"
    }
   ],
   "source": [
    "data2[[2,4]]"
   ]
  },
  {
   "cell_type": "code",
   "execution_count": null,
   "metadata": {
    "collapsed": true
   },
   "outputs": [],
   "source": [
    "#Pkg.add(\"CSV\")\n",
    "using CSV\n",
    "CSV.write(\"data.csv\", data2)"
   ]
  },
  {
   "cell_type": "code",
   "execution_count": null,
   "metadata": {
    "collapsed": true
   },
   "outputs": [],
   "source": [
    ";cat data.csv"
   ]
  },
  {
   "cell_type": "markdown",
   "metadata": {},
   "source": [
    "### A.3. Indexed Tables (Treat data like array indices, knows type information)"
   ]
  },
  {
   "cell_type": "code",
   "execution_count": null,
   "metadata": {
    "collapsed": true
   },
   "outputs": [],
   "source": [
    "# Pkg.add(\"IndexedTables\")\n",
    "using  IndexedTables.Table\n",
    "using IndexedTables\n",
    "data3 = Table(Columns(X1=x1,X2=x2),Columns(Y=y,Pets=pets))"
   ]
  },
  {
   "cell_type": "code",
   "execution_count": null,
   "metadata": {
    "collapsed": true
   },
   "outputs": [],
   "source": [
    "data3[6.5,3.5]"
   ]
  },
  {
   "cell_type": "code",
   "execution_count": null,
   "metadata": {
    "collapsed": true
   },
   "outputs": [],
   "source": [
    "typeof.([data1,data2,data3])"
   ]
  },
  {
   "cell_type": "markdown",
   "metadata": {},
   "source": [
    "### A.4. JuliaDB (Lots of bells and whistles, many files, parallelism, ...)"
   ]
  },
  {
   "cell_type": "code",
   "execution_count": null,
   "metadata": {
    "collapsed": true
   },
   "outputs": [],
   "source": [
    "#Pkg.add(\"JuliaDB\")\n",
    "using JuliaDB:DTable\n",
    "using JuliaDB"
   ]
  },
  {
   "cell_type": "code",
   "execution_count": null,
   "metadata": {
    "collapsed": true
   },
   "outputs": [],
   "source": [
    "data4 = distribute(data3, 1) "
   ]
  },
  {
   "cell_type": "code",
   "execution_count": null,
   "metadata": {
    "collapsed": true
   },
   "outputs": [],
   "source": [
    "data5 = loadfiles([\"data.csv\"]) "
   ]
  },
  {
   "cell_type": "code",
   "execution_count": null,
   "metadata": {
    "collapsed": true
   },
   "outputs": [],
   "source": [
    "typeof(data4)"
   ]
  },
  {
   "cell_type": "code",
   "execution_count": null,
   "metadata": {
    "collapsed": true
   },
   "outputs": [],
   "source": [
    "data4[1:2]"
   ]
  },
  {
   "cell_type": "code",
   "execution_count": null,
   "metadata": {
    "collapsed": true
   },
   "outputs": [],
   "source": [
    "select(data4,1=>i->i≥7) "
   ]
  },
  {
   "cell_type": "code",
   "execution_count": null,
   "metadata": {
    "collapsed": true
   },
   "outputs": [],
   "source": [
    "filter(t->(t[1]>30),data4) "
   ]
  },
  {
   "cell_type": "markdown",
   "metadata": {},
   "source": [
    "### A.5 IterableTables"
   ]
  },
  {
   "cell_type": "code",
   "execution_count": null,
   "metadata": {
    "collapsed": true
   },
   "outputs": [],
   "source": [
    "\n",
    "#using IterableTables, DataTables, TypedTables # haven't investigated  much but looks very nice"
   ]
  },
  {
   "cell_type": "markdown",
   "metadata": {},
   "source": [
    "## B. Simple Plane Fitting"
   ]
  },
  {
   "cell_type": "markdown",
   "metadata": {},
   "source": [
    "[So why is it called \"Regression\" anyway?](http://blog.minitab.com/blog/statistics-and-quality-data-analysis/so-why-is-it-called-regression-anyway) Dalton's original meaning not quite what it means today."
   ]
  },
  {
   "cell_type": "markdown",
   "metadata": {},
   "source": [
    "B.1 Linear Regression function"
   ]
  },
  {
   "cell_type": "code",
   "execution_count": null,
   "metadata": {
    "collapsed": true
   },
   "outputs": [],
   "source": [
    "x1 = [2, 6.5, 7, 2]\n",
    "x2 = [3, 3.5, 4, 6]\n",
    "y  = [10.1,  19.9,  30.1 , 40.3]\n",
    "# b, w =  linreg(x,y)\n",
    "# no simple function?\n",
    "A = [ones(x1) x1 x2]\n",
    "b = (A\\y)[1]\n",
    "w = (A\\y)[2:3]\n",
    "b,w"
   ]
  },
  {
   "cell_type": "code",
   "execution_count": null,
   "metadata": {
    "collapsed": true
   },
   "outputs": [],
   "source": [
    "@which linreg(x1[:],y[:])"
   ]
  },
  {
   "cell_type": "code",
   "execution_count": null,
   "metadata": {
    "collapsed": true
   },
   "outputs": [],
   "source": [
    "#Pkg.add(\"PlotUtils\") \n",
    "using PlotUtils"
   ]
  },
  {
   "cell_type": "code",
   "execution_count": null,
   "metadata": {
    "collapsed": true
   },
   "outputs": [],
   "source": [
    "#gr()\n",
    "glvisualize()\n",
    "x1 = [2 6.5 7 2]\n",
    "x2 = [3 3.5 4 6]\n",
    "y  = [10.1  19.9  30.1  40.3]\n",
    "b = -24.70401416765054\n",
    "w = [1.63684, 10.3377]\n",
    "plot(x1,x2,y,marker=(10,.8,:red))\n",
    "plot!(0:.1:10, 0:.1:10, (x,y)->b+w[1]*x+w[2]*y,color=:bone,st=:surface)\n",
    "gui()"
   ]
  },
  {
   "cell_type": "markdown",
   "metadata": {},
   "source": [
    "Mathematically equivalent Approaches <br>\n",
    "B.2 Linear Algebra Least Squares"
   ]
  },
  {
   "cell_type": "code",
   "execution_count": null,
   "metadata": {
    "collapsed": true
   },
   "outputs": [],
   "source": [
    "q,r = qr(A)\n",
    "r\\(q'y)"
   ]
  },
  {
   "cell_type": "markdown",
   "metadata": {},
   "source": [
    "B.3 Basic Formula"
   ]
  },
  {
   "cell_type": "markdown",
   "metadata": {},
   "source": [
    "B.4 optimization  (think machine learning) via the package optim.jl"
   ]
  },
  {
   "cell_type": "code",
   "execution_count": null,
   "metadata": {
    "collapsed": true
   },
   "outputs": [],
   "source": [
    "using Optim   # Julia all the way down\n",
    "loss(bw) = sum(abs2,bw[1]+x1*bw[2]+x2*bw[3]-y) \n",
    "optimize(loss,[0.0,0.0,0.0]).minimizer"
   ]
  },
  {
   "cell_type": "markdown",
   "metadata": {},
   "source": [
    "B.5 optimization with the package JuMP <br>\n",
    "Note not every julia function can be in @objective or @NLobjective\n",
    "but that would be the goal. See  [linear and quadratic objective Jump Notes](http://www.juliaopt.org/JuMP.jl/0.18/refexpr.html)  and [Nonlinear Jump Notes](http://www.juliaopt.org/JuMP.jl/0.18/nlp.html#syntax-notes)."
   ]
  },
  {
   "cell_type": "code",
   "execution_count": null,
   "metadata": {
    "collapsed": true
   },
   "outputs": [],
   "source": [
    "Pkg.add(\"Ipopt\")"
   ]
  },
  {
   "cell_type": "code",
   "execution_count": 11,
   "metadata": {},
   "outputs": [
    {
     "name": "stdout",
     "output_type": "stream",
     "text": [
      "\n",
      "******************************************************************************\n",
      "This program contains Ipopt, a library for large-scale nonlinear optimization.\n",
      " Ipopt is released as open source code under the Eclipse Public License (EPL).\n",
      "         For more information visit http://projects.coin-or.org/Ipopt\n",
      "******************************************************************************\n",
      "\n",
      "w=[-24.704, 1.63684, 10.3377]\n"
     ]
    }
   ],
   "source": [
    "using JuMP, Ipopt\n",
    "n = length(x1)\n",
    "m = Model(solver=IpoptSolver(print_level=1))\n",
    "@variable(m,w[1:3])\n",
    "@objective(m, Min, sum((w[1] + w[2]*x1[i]+ w[3]*x2[i]-y[i])^2 for i in 1:n))\n",
    "solve(m)\n",
    "println( \"w=\",getvalue(w))"
   ]
  },
  {
   "cell_type": "markdown",
   "metadata": {},
   "source": [
    "B.6 Generalized Linear Models <br>\n",
    "the very fancy statistical thing"
   ]
  },
  {
   "cell_type": "code",
   "execution_count": 8,
   "metadata": {
    "collapsed": true
   },
   "outputs": [],
   "source": [
    "#Pkg.add(\"GLM\")\n",
    "using GLM # Generalized Linear Models"
   ]
  },
  {
   "cell_type": "code",
   "execution_count": 10,
   "metadata": {},
   "outputs": [
    {
     "data": {
      "text/plain": [
       "DataFrames.DataFrameRegressionModel{GLM.LinearModel{GLM.LmResp{Array{Float64,1}},GLM.DensePredChol{Float64,Base.LinAlg.Cholesky{Float64,Array{Float64,2}}}},Array{Float64,2}}\n",
       "\n",
       "Formula: Y ~ 1 + X1 + X2\n",
       "\n",
       "Coefficients:\n",
       "             Estimate Std.Error  t value Pr(>|t|)\n",
       "(Intercept)   -24.704   7.45481 -3.31383   0.1866\n",
       "X1            1.63684  0.673333  2.43095   0.2484\n",
       "X2            10.3377   1.40813  7.34139   0.0862\n"
      ]
     },
     "execution_count": 10,
     "metadata": {},
     "output_type": "execute_result"
    }
   ],
   "source": [
    "lm(@formula(Y~X1+X2), data2)"
   ]
  },
  {
   "cell_type": "markdown",
   "metadata": {},
   "source": [
    "The lines above are obviously b and w\n",
    "We assume at the start X is known without error, b,w,σ are unknown and\n",
    "the real Y is distributed like  b+w*X+$\\sigma *$randn(),\n",
    "and the Y we have are samples from this distribution."
   ]
  },
  {
   "cell_type": "markdown",
   "metadata": {},
   "source": [
    "Under these assumptions, if we fit many times, the b and w would be normal, with these predicted standard deviations.\n",
    "\n",
    "The third column is just the ratio of column 1 to column 2 , thus normalizing the situation to a standard normal."
   ]
  },
  {
   "cell_type": "markdown",
   "metadata": {},
   "source": [
    "When the probability column is less than .05, we can reject the hypothesis that the intercept/slope is 0 at the 5 percent signficance level. What does this mean? It means we feel pretty good about our intercept and slope. If the probability is higher than .05 we can not reject the null hypothesis, meaning that we feel 0 for the intercept/slope could have been possible. In particular a 0 slope says that the dependent variable is not really statistically dependent after all."
   ]
  },
  {
   "cell_type": "markdown",
   "metadata": {},
   "source": [
    "### C. Stochastic Gradient Descent"
   ]
  },
  {
   "cell_type": "code",
   "execution_count": null,
   "metadata": {
    "collapsed": true
   },
   "outputs": [],
   "source": [
    "loss(w,b,i) =(w*x[i]+b-y[i])^2  # loss due to point i\n",
    "Dloss(w,b,i) = 2*(w*x[i]+b-y[i])*[x[i];1]"
   ]
  },
  {
   "cell_type": "code",
   "execution_count": null,
   "metadata": {
    "collapsed": true
   },
   "outputs": [],
   "source": [
    "w,b = 0.0, 0.0\n",
    "for t=1:100000\n",
    "    η = .002  # there seems to be an art to picking these steplengths\n",
    "    i = rand(1:4)\n",
    "    d = Dloss(w,b,i)\n",
    "    w -= η * d[1]\n",
    "    b -= η * d[2]  \n",
    "end\n",
    " println(b,\" \",w)   "
   ]
  },
  {
   "cell_type": "markdown",
   "metadata": {},
   "source": [
    "###  D. KNET"
   ]
  },
  {
   "cell_type": "code",
   "execution_count": null,
   "metadata": {
    "collapsed": true
   },
   "outputs": [],
   "source": [
    "#Pkg.add(\"Knet\")\n",
    "using Knet"
   ]
  },
  {
   "cell_type": "code",
   "execution_count": null,
   "metadata": {
    "collapsed": true
   },
   "outputs": [],
   "source": [
    "predict(w,x) = w[2]*x .+ w[1]\n",
    "loss(w,x,y) = sum(abs2, y - predict(w,x)) "
   ]
  },
  {
   "cell_type": "code",
   "execution_count": null,
   "metadata": {
    "collapsed": true
   },
   "outputs": [],
   "source": [
    "lossgradient = grad(loss)"
   ]
  },
  {
   "cell_type": "code",
   "execution_count": null,
   "metadata": {
    "collapsed": true
   },
   "outputs": [],
   "source": [
    "function train(w, data; lr=.1)\n",
    "    p=1\n",
    "    for (x,y) in data\n",
    "        println(\"This is pass $p\")\n",
    "        p+=1\n",
    "        dw = lossgradient(w, x, y)\n",
    "        for i in 1:length(w)\n",
    "            w[i] -= lr * dw[i]\n",
    "        end\n",
    "    end\n",
    "    return w\n",
    "end"
   ]
  },
  {
   "cell_type": "code",
   "execution_count": null,
   "metadata": {
    "collapsed": true
   },
   "outputs": [],
   "source": [
    "train([0.0,0.0],zip(x,y),lr=.01) # not enough data"
   ]
  },
  {
   "cell_type": "code",
   "execution_count": null,
   "metadata": {
    "collapsed": true
   },
   "outputs": [],
   "source": [
    "data = [(x[i],y[i]) for i=1:4]"
   ]
  },
  {
   "cell_type": "code",
   "execution_count": null,
   "metadata": {
    "collapsed": true
   },
   "outputs": [],
   "source": [
    "function train2(w, data; lr=.1)\n",
    "       for t in 1:10000\n",
    "          \n",
    "        (x,y) = data[rand(1:4)]\n",
    "        dw = lossgradient(w, x, y)\n",
    "            for i=1:length(w)\n",
    "            w[i] -= lr * dw[i]\n",
    "        end\n",
    "    end\n",
    "    return w\n",
    "end"
   ]
  },
  {
   "cell_type": "code",
   "execution_count": null,
   "metadata": {
    "collapsed": true
   },
   "outputs": [],
   "source": [
    "train2([0.0;0.0],data,lr=.01) "
   ]
  },
  {
   "cell_type": "markdown",
   "metadata": {},
   "source": [
    "### E. TensorFlow"
   ]
  },
  {
   "cell_type": "code",
   "execution_count": null,
   "metadata": {
    "collapsed": true
   },
   "outputs": [],
   "source": [
    "#Pkg.add(\"TensorFlow\")\n",
    "using TensorFlow\n",
    "session = Session()"
   ]
  },
  {
   "cell_type": "code",
   "execution_count": null,
   "metadata": {
    "collapsed": true
   },
   "outputs": [],
   "source": [
    "W = TensorFlow.Variable(randn())\n",
    "b = TensorFlow.Variable(randn())"
   ]
  },
  {
   "cell_type": "code",
   "execution_count": null,
   "metadata": {
    "collapsed": true
   },
   "outputs": [],
   "source": [
    "X = placeholder(Float32)\n",
    "Y = multiply(X,W).+b\n",
    "Y_obs = placeholder(Float32)"
   ]
  },
  {
   "cell_type": "code",
   "execution_count": null,
   "metadata": {
    "collapsed": true
   },
   "outputs": [],
   "source": [
    "Loss=sum( (Y.-Y_obs).^2 )"
   ]
  },
  {
   "cell_type": "code",
   "execution_count": null,
   "metadata": {
    "collapsed": true
   },
   "outputs": [],
   "source": [
    "optimizer = TensorFlow.train.GradientDescentOptimizer(1e-3)\n",
    "minimizer = TensorFlow.train.minimize(optimizer, Loss)"
   ]
  },
  {
   "cell_type": "code",
   "execution_count": null,
   "metadata": {
    "collapsed": true
   },
   "outputs": [],
   "source": [
    "run(session, global_variables_initializer())\n",
    "for i in 1:20000\n",
    "    run(session, minimizer, Dict(X=>x, Y_obs=>y))\n",
    "end"
   ]
  },
  {
   "cell_type": "code",
   "execution_count": null,
   "metadata": {
    "collapsed": true
   },
   "outputs": [],
   "source": [
    "run(session, [b, W])"
   ]
  }
 ],
 "metadata": {
  "kernelspec": {
   "display_name": "Julia 0.6.0",
   "language": "julia",
   "name": "julia-0.6"
  },
  "language_info": {
   "file_extension": ".jl",
   "mimetype": "application/julia",
   "name": "julia",
   "version": "0.6.0"
  }
 },
 "nbformat": 4,
 "nbformat_minor": 2
}
