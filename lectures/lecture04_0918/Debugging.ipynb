{
 "cells": [
  {
   "cell_type": "code",
   "execution_count": 1,
   "metadata": {},
   "outputs": [
    {
     "name": "stderr",
     "output_type": "stream",
     "text": [
      "WARNING: Method definition ==(Base.Nullable{S}, Base.Nullable{T}) in module Base at nullable.jl:238 overwritten in module NullableArrays at /Users/edelman/.julia/v0.6/NullableArrays/src/operators.jl:99.\n"
     ]
    }
   ],
   "source": [
    "using DataFrames,CSV"
   ]
  },
  {
   "cell_type": "code",
   "execution_count": 2,
   "metadata": {},
   "outputs": [
    {
     "name": "stderr",
     "output_type": "stream",
     "text": [
      "WARNING: Compat.AsyncCondition is deprecated, use Base.AsyncCondition instead.\n",
      "  likely near /Users/edelman/.julia/v0.6/IJulia/src/kernel.jl:31\n",
      "WARNING: Compat.AsyncCondition is deprecated, use Base.AsyncCondition instead.\n",
      "  likely near /Users/edelman/.julia/v0.6/IJulia/src/kernel.jl:31\n"
     ]
    },
    {
     "data": {
      "text/plain": [
       "CSV.Sink(    CSV.Options:\n",
       "        delim: ','\n",
       "        quotechar: '\"'\n",
       "        escapechar: '\\\\'\n",
       "        null: \"\"\n",
       "        dateformat: dateformat\"yyyy-mm-dd\", IOBuffer(data=UInt8[...], readable=true, writable=true, seekable=true, append=false, size=0, maxsize=Inf, ptr=1, mark=-1), \"data.csv\", 8, true, String[\"X\", \"Y\"], false)"
      ]
     },
     "execution_count": 2,
     "metadata": {},
     "output_type": "execute_result"
    }
   ],
   "source": [
    "x = [5,6.5,7,8]\n",
    "y = [10.1, 19.9, 30.1, 40.3]\n",
    "data = DataFrame(X=x,Y=y)\n",
    "CSV.write(\"data.csv\", data)"
   ]
  },
  {
   "cell_type": "code",
   "execution_count": 3,
   "metadata": {},
   "outputs": [
    {
     "name": "stdout",
     "output_type": "stream",
     "text": [
      "\"X\",\"Y\"\n",
      "5.0,10.1\n",
      "6.5,19.9\n",
      "7.0,30.1\n",
      "8.0,40.3\n"
     ]
    }
   ],
   "source": [
    ";cat data.csv"
   ]
  },
  {
   "cell_type": "code",
   "execution_count": 4,
   "metadata": {
    "collapsed": true
   },
   "outputs": [],
   "source": [
    "using JuliaDB:DTable\n",
    "using JuliaDB\n",
    "using IndexedTables.Table\n",
    "using IndexedTables"
   ]
  },
  {
   "cell_type": "code",
   "execution_count": 5,
   "metadata": {},
   "outputs": [
    {
     "name": "stdout",
     "output_type": "stream",
     "text": [
      "Metadata for 0 / 1 files can be loaded from cache.\n",
      "Reading 1 csv files totalling 44 bytes in 1 batches...\n"
     ]
    },
    {
     "ename": "LoadError",
     "evalue": "\u001b[91mMethodError: no method matching merge(::IndexedTables.Columns{NamedTuples._NT_files_mtime_metadata{Array{String,1},Array{Float64,1},Dagger.Chunk},NamedTuples._NT_files_mtime_metadata{Array{Array{String,1},1},Array{Array{Float64,1},1},Array{Dagger.Chunk,1}}}, ::IndexedTables.Columns{NamedTuples._NT_files_mtime_metadata{Array{String,1},Array{Float64,1},Dagger.Chunk},NamedTuples._NT_files_mtime_metadata{Array{Array{String,1},1},Array{Array{Float64,1},1},Array{Dagger.Chunk,1}}})\u001b[39m",
     "output_type": "error",
     "traceback": [
      "\u001b[91mMethodError: no method matching merge(::IndexedTables.Columns{NamedTuples._NT_files_mtime_metadata{Array{String,1},Array{Float64,1},Dagger.Chunk},NamedTuples._NT_files_mtime_metadata{Array{Array{String,1},1},Array{Array{Float64,1},1},Array{Dagger.Chunk,1}}}, ::IndexedTables.Columns{NamedTuples._NT_files_mtime_metadata{Array{String,1},Array{Float64,1},Dagger.Chunk},NamedTuples._NT_files_mtime_metadata{Array{Array{String,1},1},Array{Array{Float64,1},1},Array{Dagger.Chunk,1}}})\u001b[39m",
      "",
      "Stacktrace:",
      " [1] \u001b[1m#loadfiles#129\u001b[22m\u001b[22m\u001b[1m(\u001b[22m\u001b[22m::Bool, ::Int64, ::Array{Any,1}, ::Function, ::Array{String,1}, ::Char\u001b[1m)\u001b[22m\u001b[22m at \u001b[1m/Users/edelman/.julia/v0.6/JuliaDB/src/loadfiles.jl:132\u001b[22m\u001b[22m",
      " [2] \u001b[1mloadfiles\u001b[22m\u001b[22m\u001b[1m(\u001b[22m\u001b[22m::Array{String,1}, ::Char\u001b[1m)\u001b[22m\u001b[22m at \u001b[1m/Users/edelman/.julia/v0.6/JuliaDB/src/loadfiles.jl:47\u001b[22m\u001b[22m (repeats 2 times)",
      " [3] \u001b[1minclude_string\u001b[22m\u001b[22m\u001b[1m(\u001b[22m\u001b[22m::String, ::String\u001b[1m)\u001b[22m\u001b[22m at \u001b[1m./loading.jl:515\u001b[22m\u001b[22m"
     ]
    }
   ],
   "source": [
    "loadfiles([\"data.csv\"]) "
   ]
  },
  {
   "cell_type": "code",
   "execution_count": null,
   "metadata": {
    "collapsed": true
   },
   "outputs": [],
   "source": []
  }
 ],
 "metadata": {
  "kernelspec": {
   "display_name": "Julia 0.6.0",
   "language": "julia",
   "name": "julia-0.6"
  },
  "language_info": {
   "file_extension": ".jl",
   "mimetype": "application/julia",
   "name": "julia",
   "version": "0.6.0"
  }
 },
 "nbformat": 4,
 "nbformat_minor": 2
}
